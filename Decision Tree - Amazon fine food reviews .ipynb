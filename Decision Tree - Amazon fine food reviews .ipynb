{
 "cells": [
  {
   "cell_type": "markdown",
   "metadata": {},
   "source": [
    "# Objective\n",
    "#### Determine whether the given reviews are positive or negative using all features except SCORE and then check the accuracy using the Score feature using KNN classifier"
   ]
  },
  {
   "cell_type": "markdown",
   "metadata": {},
   "source": [
    "# 1. Loading data from dataset"
   ]
  },
  {
   "cell_type": "code",
   "execution_count": 1,
   "metadata": {},
   "outputs": [],
   "source": [
    "%matplotlib inline\n",
    "\n",
    "import numpy as np\n",
    "import pandas as pd\n",
    "import matplotlib.pyplot as plt\n",
    "import sqlite3\n",
    "import nltk\n",
    "import seaborn as sns\n",
    "from tqdm import tqdm"
   ]
  },
  {
   "cell_type": "code",
   "execution_count": 2,
   "metadata": {},
   "outputs": [],
   "source": [
    "# Loading data from sqlite3 database ignoring those having rewiew score = 3\n",
    "\n",
    "connection = sqlite3.connect('./database.sqlite')\n",
    "dataset = pd.read_sql_query(\"SELECT * FROM Reviews WHERE Score != 3\", connection)"
   ]
  },
  {
   "cell_type": "code",
   "execution_count": 3,
   "metadata": {},
   "outputs": [
    {
     "name": "stdout",
     "output_type": "stream",
     "text": [
      "The shape of the data in dataset is: (525814, 10)\n",
      "========================================================================================================================\n"
     ]
    },
    {
     "data": {
      "text/plain": [
       "Index(['Id', 'ProductId', 'UserId', 'ProfileName', 'HelpfulnessNumerator',\n",
       "       'HelpfulnessDenominator', 'Score', 'Time', 'Summary', 'Text'],\n",
       "      dtype='object')"
      ]
     },
     "execution_count": 3,
     "metadata": {},
     "output_type": "execute_result"
    }
   ],
   "source": [
    "print(\"The shape of the data in dataset is:\", dataset.shape)\n",
    "print('==' * 60)\n",
    "dataset.columns                # This will list all the features name in dataset column-wise"
   ]
  },
  {
   "cell_type": "code",
   "execution_count": 4,
   "metadata": {},
   "outputs": [],
   "source": [
    "# Assigning Positive value to reviews with score>3 and Negative value to reviews with score<3\n",
    "\n",
    "def assign_pn(score):\n",
    "    if (score > 3):\n",
    "        score = 'Positive'\n",
    "    elif (score < 3):\n",
    "        score = 'Negative'\n",
    "    return score\n",
    "\n",
    "pn = dataset['Score']\n",
    "pn_assign = pn.map(assign_pn)\n",
    "dataset['Score'] = pn_assign"
   ]
  },
  {
   "cell_type": "code",
   "execution_count": 5,
   "metadata": {},
   "outputs": [
    {
     "name": "stdout",
     "output_type": "stream",
     "text": [
      "Positive    443777\n",
      "Negative     82037\n",
      "Name: Score, dtype: int64\n",
      "========================================================================================================================\n",
      "The shape of the data in dataset is: (525814, 10)\n"
     ]
    }
   ],
   "source": [
    "print(dataset['Score'].value_counts() )                       # Printing the number of each classes (positive and negative reviews)\n",
    "print('==' * 60)\n",
    "print(\"The shape of the data in dataset is:\", dataset.shape)"
   ]
  },
  {
   "cell_type": "code",
   "execution_count": 6,
   "metadata": {},
   "outputs": [
    {
     "data": {
      "text/html": [
       "<div>\n",
       "<style scoped>\n",
       "    .dataframe tbody tr th:only-of-type {\n",
       "        vertical-align: middle;\n",
       "    }\n",
       "\n",
       "    .dataframe tbody tr th {\n",
       "        vertical-align: top;\n",
       "    }\n",
       "\n",
       "    .dataframe thead th {\n",
       "        text-align: right;\n",
       "    }\n",
       "</style>\n",
       "<table border=\"1\" class=\"dataframe\">\n",
       "  <thead>\n",
       "    <tr style=\"text-align: right;\">\n",
       "      <th></th>\n",
       "      <th>Id</th>\n",
       "      <th>ProductId</th>\n",
       "      <th>UserId</th>\n",
       "      <th>ProfileName</th>\n",
       "      <th>HelpfulnessNumerator</th>\n",
       "      <th>HelpfulnessDenominator</th>\n",
       "      <th>Score</th>\n",
       "      <th>Time</th>\n",
       "      <th>Summary</th>\n",
       "      <th>Text</th>\n",
       "    </tr>\n",
       "  </thead>\n",
       "  <tbody>\n",
       "    <tr>\n",
       "      <th>0</th>\n",
       "      <td>1</td>\n",
       "      <td>B001E4KFG0</td>\n",
       "      <td>A3SGXH7AUHU8GW</td>\n",
       "      <td>delmartian</td>\n",
       "      <td>1</td>\n",
       "      <td>1</td>\n",
       "      <td>Positive</td>\n",
       "      <td>1303862400</td>\n",
       "      <td>Good Quality Dog Food</td>\n",
       "      <td>I have bought several of the Vitality canned d...</td>\n",
       "    </tr>\n",
       "    <tr>\n",
       "      <th>1</th>\n",
       "      <td>2</td>\n",
       "      <td>B00813GRG4</td>\n",
       "      <td>A1D87F6ZCVE5NK</td>\n",
       "      <td>dll pa</td>\n",
       "      <td>0</td>\n",
       "      <td>0</td>\n",
       "      <td>Negative</td>\n",
       "      <td>1346976000</td>\n",
       "      <td>Not as Advertised</td>\n",
       "      <td>Product arrived labeled as Jumbo Salted Peanut...</td>\n",
       "    </tr>\n",
       "    <tr>\n",
       "      <th>2</th>\n",
       "      <td>3</td>\n",
       "      <td>B000LQOCH0</td>\n",
       "      <td>ABXLMWJIXXAIN</td>\n",
       "      <td>Natalia Corres \"Natalia Corres\"</td>\n",
       "      <td>1</td>\n",
       "      <td>1</td>\n",
       "      <td>Positive</td>\n",
       "      <td>1219017600</td>\n",
       "      <td>\"Delight\" says it all</td>\n",
       "      <td>This is a confection that has been around a fe...</td>\n",
       "    </tr>\n",
       "    <tr>\n",
       "      <th>3</th>\n",
       "      <td>4</td>\n",
       "      <td>B000UA0QIQ</td>\n",
       "      <td>A395BORC6FGVXV</td>\n",
       "      <td>Karl</td>\n",
       "      <td>3</td>\n",
       "      <td>3</td>\n",
       "      <td>Negative</td>\n",
       "      <td>1307923200</td>\n",
       "      <td>Cough Medicine</td>\n",
       "      <td>If you are looking for the secret ingredient i...</td>\n",
       "    </tr>\n",
       "    <tr>\n",
       "      <th>4</th>\n",
       "      <td>5</td>\n",
       "      <td>B006K2ZZ7K</td>\n",
       "      <td>A1UQRSCLF8GW1T</td>\n",
       "      <td>Michael D. Bigham \"M. Wassir\"</td>\n",
       "      <td>0</td>\n",
       "      <td>0</td>\n",
       "      <td>Positive</td>\n",
       "      <td>1350777600</td>\n",
       "      <td>Great taffy</td>\n",
       "      <td>Great taffy at a great price.  There was a wid...</td>\n",
       "    </tr>\n",
       "  </tbody>\n",
       "</table>\n",
       "</div>"
      ],
      "text/plain": [
       "   Id   ProductId          UserId                      ProfileName  \\\n",
       "0   1  B001E4KFG0  A3SGXH7AUHU8GW                       delmartian   \n",
       "1   2  B00813GRG4  A1D87F6ZCVE5NK                           dll pa   \n",
       "2   3  B000LQOCH0   ABXLMWJIXXAIN  Natalia Corres \"Natalia Corres\"   \n",
       "3   4  B000UA0QIQ  A395BORC6FGVXV                             Karl   \n",
       "4   5  B006K2ZZ7K  A1UQRSCLF8GW1T    Michael D. Bigham \"M. Wassir\"   \n",
       "\n",
       "   HelpfulnessNumerator  HelpfulnessDenominator     Score        Time  \\\n",
       "0                     1                       1  Positive  1303862400   \n",
       "1                     0                       0  Negative  1346976000   \n",
       "2                     1                       1  Positive  1219017600   \n",
       "3                     3                       3  Negative  1307923200   \n",
       "4                     0                       0  Positive  1350777600   \n",
       "\n",
       "                 Summary                                               Text  \n",
       "0  Good Quality Dog Food  I have bought several of the Vitality canned d...  \n",
       "1      Not as Advertised  Product arrived labeled as Jumbo Salted Peanut...  \n",
       "2  \"Delight\" says it all  This is a confection that has been around a fe...  \n",
       "3         Cough Medicine  If you are looking for the secret ingredient i...  \n",
       "4            Great taffy  Great taffy at a great price.  There was a wid...  "
      ]
     },
     "execution_count": 6,
     "metadata": {},
     "output_type": "execute_result"
    }
   ],
   "source": [
    "# Printing first few rows as a sample of the dataset\n",
    "# You may pass the number of rows to be displayed as an argument to the head() method\n",
    "\n",
    "dataset.head()"
   ]
  },
  {
   "cell_type": "markdown",
   "metadata": {},
   "source": [
    "# 2. Pre-processing of data"
   ]
  },
  {
   "cell_type": "markdown",
   "metadata": {},
   "source": [
    "### 2.1 De-duplication of data"
   ]
  },
  {
   "cell_type": "code",
   "execution_count": 7,
   "metadata": {},
   "outputs": [
    {
     "data": {
      "text/html": [
       "<div>\n",
       "<style scoped>\n",
       "    .dataframe tbody tr th:only-of-type {\n",
       "        vertical-align: middle;\n",
       "    }\n",
       "\n",
       "    .dataframe tbody tr th {\n",
       "        vertical-align: top;\n",
       "    }\n",
       "\n",
       "    .dataframe thead th {\n",
       "        text-align: right;\n",
       "    }\n",
       "</style>\n",
       "<table border=\"1\" class=\"dataframe\">\n",
       "  <thead>\n",
       "    <tr style=\"text-align: right;\">\n",
       "      <th></th>\n",
       "      <th>Id</th>\n",
       "      <th>ProductId</th>\n",
       "      <th>UserId</th>\n",
       "      <th>ProfileName</th>\n",
       "      <th>HelpfulnessNumerator</th>\n",
       "      <th>HelpfulnessDenominator</th>\n",
       "      <th>Score</th>\n",
       "      <th>Time</th>\n",
       "      <th>Summary</th>\n",
       "      <th>Text</th>\n",
       "    </tr>\n",
       "  </thead>\n",
       "  <tbody>\n",
       "    <tr>\n",
       "      <th>138706</th>\n",
       "      <td>150524</td>\n",
       "      <td>0006641040</td>\n",
       "      <td>ACITT7DI6IDDL</td>\n",
       "      <td>shari zychinski</td>\n",
       "      <td>0</td>\n",
       "      <td>0</td>\n",
       "      <td>Positive</td>\n",
       "      <td>939340800</td>\n",
       "      <td>EVERY book is educational</td>\n",
       "      <td>this witty little book makes my son laugh at l...</td>\n",
       "    </tr>\n",
       "    <tr>\n",
       "      <th>138688</th>\n",
       "      <td>150506</td>\n",
       "      <td>0006641040</td>\n",
       "      <td>A2IW4PEEKO2R0U</td>\n",
       "      <td>Tracy</td>\n",
       "      <td>1</td>\n",
       "      <td>1</td>\n",
       "      <td>Positive</td>\n",
       "      <td>1194739200</td>\n",
       "      <td>Love the book, miss the hard cover version</td>\n",
       "      <td>I grew up reading these Sendak books, and watc...</td>\n",
       "    </tr>\n",
       "    <tr>\n",
       "      <th>138689</th>\n",
       "      <td>150507</td>\n",
       "      <td>0006641040</td>\n",
       "      <td>A1S4A3IQ2MU7V4</td>\n",
       "      <td>sally sue \"sally sue\"</td>\n",
       "      <td>1</td>\n",
       "      <td>1</td>\n",
       "      <td>Positive</td>\n",
       "      <td>1191456000</td>\n",
       "      <td>chicken soup with rice months</td>\n",
       "      <td>This is a fun way for children to learn their ...</td>\n",
       "    </tr>\n",
       "    <tr>\n",
       "      <th>138690</th>\n",
       "      <td>150508</td>\n",
       "      <td>0006641040</td>\n",
       "      <td>AZGXZ2UUK6X</td>\n",
       "      <td>Catherine Hallberg \"(Kate)\"</td>\n",
       "      <td>1</td>\n",
       "      <td>1</td>\n",
       "      <td>Positive</td>\n",
       "      <td>1076025600</td>\n",
       "      <td>a good swingy rhythm for reading aloud</td>\n",
       "      <td>This is a great little book to read aloud- it ...</td>\n",
       "    </tr>\n",
       "    <tr>\n",
       "      <th>138691</th>\n",
       "      <td>150509</td>\n",
       "      <td>0006641040</td>\n",
       "      <td>A3CMRKGE0P909G</td>\n",
       "      <td>Teresa</td>\n",
       "      <td>3</td>\n",
       "      <td>4</td>\n",
       "      <td>Positive</td>\n",
       "      <td>1018396800</td>\n",
       "      <td>A great way to learn the months</td>\n",
       "      <td>This is a book of poetry about the months of t...</td>\n",
       "    </tr>\n",
       "  </tbody>\n",
       "</table>\n",
       "</div>"
      ],
      "text/plain": [
       "            Id   ProductId          UserId                  ProfileName  \\\n",
       "138706  150524  0006641040   ACITT7DI6IDDL              shari zychinski   \n",
       "138688  150506  0006641040  A2IW4PEEKO2R0U                        Tracy   \n",
       "138689  150507  0006641040  A1S4A3IQ2MU7V4        sally sue \"sally sue\"   \n",
       "138690  150508  0006641040     AZGXZ2UUK6X  Catherine Hallberg \"(Kate)\"   \n",
       "138691  150509  0006641040  A3CMRKGE0P909G                       Teresa   \n",
       "\n",
       "        HelpfulnessNumerator  HelpfulnessDenominator     Score        Time  \\\n",
       "138706                     0                       0  Positive   939340800   \n",
       "138688                     1                       1  Positive  1194739200   \n",
       "138689                     1                       1  Positive  1191456000   \n",
       "138690                     1                       1  Positive  1076025600   \n",
       "138691                     3                       4  Positive  1018396800   \n",
       "\n",
       "                                           Summary  \\\n",
       "138706                   EVERY book is educational   \n",
       "138688  Love the book, miss the hard cover version   \n",
       "138689               chicken soup with rice months   \n",
       "138690      a good swingy rhythm for reading aloud   \n",
       "138691             A great way to learn the months   \n",
       "\n",
       "                                                     Text  \n",
       "138706  this witty little book makes my son laugh at l...  \n",
       "138688  I grew up reading these Sendak books, and watc...  \n",
       "138689  This is a fun way for children to learn their ...  \n",
       "138690  This is a great little book to read aloud- it ...  \n",
       "138691  This is a book of poetry about the months of t...  "
      ]
     },
     "execution_count": 7,
     "metadata": {},
     "output_type": "execute_result"
    }
   ],
   "source": [
    "# Sorting data based on ProductId\n",
    "\n",
    "sorted_data = dataset.sort_values('ProductId', ascending=True, axis=0)\n",
    "sorted_data.head()"
   ]
  },
  {
   "cell_type": "code",
   "execution_count": 8,
   "metadata": {},
   "outputs": [
    {
     "data": {
      "text/plain": [
       "(364133, 10)"
      ]
     },
     "execution_count": 8,
     "metadata": {},
     "output_type": "execute_result"
    }
   ],
   "source": [
    "# Remove all the data points that exactly match the field values mention below\n",
    "\n",
    "data = sorted_data.drop_duplicates(subset={'UserId', 'Time', 'Text'}, keep='first', inplace=False)\n",
    "data.shape"
   ]
  },
  {
   "cell_type": "code",
   "execution_count": 9,
   "metadata": {},
   "outputs": [
    {
     "name": "stdout",
     "output_type": "stream",
     "text": [
      "69.25129418387492\n"
     ]
    }
   ],
   "source": [
    "# Check what percentage of original data is remaining\n",
    "\n",
    "percentage = (data.shape[0] / dataset.shape[0]) * 100\n",
    "print(percentage)"
   ]
  },
  {
   "cell_type": "code",
   "execution_count": 10,
   "metadata": {},
   "outputs": [
    {
     "data": {
      "text/plain": [
       "(364131, 10)"
      ]
     },
     "execution_count": 10,
     "metadata": {},
     "output_type": "execute_result"
    }
   ],
   "source": [
    "# Removing the reviews having HelpfulnessNumerator greater than HelpfulnessDenominator\n",
    "\n",
    "data = data[data.HelpfulnessDenominator >= data.HelpfulnessNumerator]\n",
    "data.shape"
   ]
  },
  {
   "cell_type": "code",
   "execution_count": 11,
   "metadata": {},
   "outputs": [
    {
     "data": {
      "text/plain": [
       "Positive    307026\n",
       "Negative     57105\n",
       "Name: Score, dtype: int64"
      ]
     },
     "execution_count": 11,
     "metadata": {},
     "output_type": "execute_result"
    },
    {
     "data": {
      "image/png": "[encoded data removed]",
      "text/plain": [
       "<Figure size 432x288 with 1 Axes>"
      ]
     },
     "metadata": {
      "needs_background": "light"
     },
     "output_type": "display_data"
    }
   ],
   "source": [
    "# Getting the number of positive and negative reviews\n",
    "\n",
    "data['Score'].value_counts().plot(kind='bar')\n",
    "data['Score'].value_counts()"
   ]
  },
  {
   "cell_type": "markdown",
   "metadata": {},
   "source": [
    "### 2.2 Data Cleaning"
   ]
  },
  {
   "cell_type": "code",
   "execution_count": 12,
   "metadata": {},
   "outputs": [],
   "source": [
    "import re\n",
    "import string\n",
    "from nltk.corpus import stopwords\n",
    "from nltk.stem import SnowballStemmer\n",
    "from nltk.stem.wordnet import WordNetLemmatizer"
   ]
  },
  {
   "cell_type": "code",
   "execution_count": 13,
   "metadata": {},
   "outputs": [
    {
     "name": "stdout",
     "output_type": "stream",
     "text": [
      "Total number of html tags present: 6\n",
      "========================================================================================================================\n",
      "I set aside at least an hour each day to read to my son (3 y/o). At this point, I consider myself a connoisseur of children's books and this is one of the best. Santa Clause put this under the tree. Since then, we've read it perpetually and he loves it.<br /><br />First, this book taught him the months of the year.<br /><br />Second, it's a pleasure to read. Well suited to 1.5 y/o old to 4+.<br /><br />Very few children's books are worth owning. Most should be borrowed from the library. This book, however, deserves a permanent spot on your shelf. Sendak's best.\n"
     ]
    }
   ],
   "source": [
    "# Find sentences containing html tags\n",
    "\n",
    "i = 0\n",
    "for sentence in data['Text'].values:\n",
    "    if (len(re.findall('<.*?>', sentence))):\n",
    "        print(\"Total number of html tags present:\", i)\n",
    "        print(\"==\"*60)\n",
    "        print(sentence)\n",
    "        break\n",
    "    i += 1"
   ]
  },
  {
   "cell_type": "code",
   "execution_count": 14,
   "metadata": {},
   "outputs": [],
   "source": [
    "# Function to remove texts with html tags(<...>)\n",
    "\n",
    "def cleanHtml(sentence):\n",
    "    cleanr = re.compile('<.*?>')                  # Select ANY text with < > tags\n",
    "    cleanText = re.sub(cleanr, ' ', sentence)     # Replace texts enclosed in < > with white space\n",
    "    return cleanText"
   ]
  },
  {
   "cell_type": "code",
   "execution_count": 15,
   "metadata": {},
   "outputs": [],
   "source": [
    "# Function to remove punctuation marks(.,?/:;)\n",
    "\n",
    "def cleanPunctuation(sentence):\n",
    "    cleanp = re.sub(r'[?|$|.|!]',r'', sentence)\n",
    "    cleanp = re.sub(r'[.|,|)|(|\\|/]',r' ', cleanp)\n",
    "    return cleanp"
   ]
  },
  {
   "cell_type": "code",
   "execution_count": 16,
   "metadata": {},
   "outputs": [
    {
     "name": "stdout",
     "output_type": "stream",
     "text": [
      "{'them', 'wasn', 'up', 'hers', 'down', 'are', 'y', 'ma', 'o', 'at', 'until', 'be', 'as', \"you'd\", 'too', 've', 'above', 'through', \"it's\", 'who', 'for', \"aren't\", 'of', 'both', 'won', 'each', 'some', 'll', 'own', 'so', 'will', 'further', \"shan't\", 'am', 'been', 'hasn', 'haven', \"don't\", 'no', 'on', 'now', 'just', 'do', 'me', 'if', 'her', 'in', 'here', \"mustn't\", 'him', \"hadn't\", 'before', 'isn', \"doesn't\", 'between', 'below', 'not', 'because', 'you', 'ain', \"you'll\", 'very', 'herself', 'but', 'yourselves', 'theirs', \"didn't\", 'aren', \"should've\", \"wasn't\", 'these', 'having', 'weren', 'has', 's', 'hadn', 'its', 'under', 'was', 'this', 'all', 'such', 'there', 'don', 'other', 'any', \"haven't\", \"you've\", 'we', 'a', 'my', 'that', 'which', 'when', 'how', 'by', 'ours', \"needn't\", \"weren't\", \"wouldn't\", 're', 'nor', 'with', 'from', 'or', \"you're\", 't', 'have', \"couldn't\", 'after', 'against', 'should', 'again', 'during', 'i', 'their', 'off', \"isn't\", 'wouldn', 'he', 'his', 'can', 'yourself', 'our', \"hasn't\", 'once', 'the', 'same', 'your', 'over', 'doesn', 'few', 'myself', 'they', 'to', 'is', 'while', 'couldn', \"she's\", 'it', 'about', 'yours', 'm', 'where', 'out', 'does', 'and', 'an', 'being', 'itself', \"that'll\", 'doing', 'didn', 'mustn', 'shan', \"mightn't\", 'then', 'whom', 'were', 'those', 'mightn', 'what', 'needn', 'himself', 'into', 'had', 'more', \"shouldn't\", 'she', 'themselves', 'than', 'most', 'shouldn', 'ourselves', 'only', \"won't\", 'why', 'd', 'did'}\n"
     ]
    }
   ],
   "source": [
    "# Printing the set of stop words present in english language\n",
    "# You need to download stopword first before using it(import nltk; nltk.download(\"stopwords\");)\n",
    "\n",
    "stopWords = set(stopwords.words('english'))\n",
    "print(stopWords)"
   ]
  },
  {
   "cell_type": "code",
   "execution_count": 17,
   "metadata": {},
   "outputs": [],
   "source": [
    "# Initializing SnowBall Stemmer\n",
    "\n",
    "snowball = SnowballStemmer('english')"
   ]
  },
  {
   "cell_type": "code",
   "execution_count": 18,
   "metadata": {},
   "outputs": [
    {
     "name": "stdout",
     "output_type": "stream",
     "text": [
      "tasti\n",
      "delici\n",
      "littl\n"
     ]
    }
   ],
   "source": [
    "# Printing a base-word using snowball stemmer\n",
    "\n",
    "print(snowball.stem('tasty'))\n",
    "print(snowball.stem('delicious'))\n",
    "print(snowball.stem('little'))"
   ]
  },
  {
   "cell_type": "code",
   "execution_count": 19,
   "metadata": {},
   "outputs": [
    {
     "name": "stderr",
     "output_type": "stream",
     "text": [
      "100%|██████████| 364131/364131 [05:08<00:00, 1180.77it/s]\n"
     ]
    }
   ],
   "source": [
    "# Core Pre-processing code step-by-step(removing html tags, punctuations, stopwords, etc)\n",
    "# This may take a few minutes to execute as it needs to execute all the sentences present in data['Text']\n",
    "\n",
    "i = 0\n",
    "initial_str = ''\n",
    "final_str = []          # Store final string of clean words\n",
    "positive_words = []     # Store words from positive reviews here\n",
    "negative_words = []     # Store words from negative reviews here\n",
    "s = ''\n",
    "\n",
    "for sentence in tqdm(data['Text'].values):\n",
    "    filtered_sentence = []\n",
    "    sentence = cleanHtml(sentence)          # Remove html tags\n",
    "    for words in sentence.split():\n",
    "        for word in cleanPunctuation(words).split():\n",
    "            if ((word.isalpha()) & (len(word) > 2)):\n",
    "                if (word.lower() not in stopWords):\n",
    "                    s = (snowball.stem(word.lower()).encode('utf-8'))\n",
    "                    filtered_sentence.append(s)\n",
    "                    if ((data['Score'].values)[i] == 'Positive'):\n",
    "                        positive_words.append(s)\n",
    "                    if ((data['Score'].values)[i] == 'Negative'):\n",
    "                        negative_words.append(s)\n",
    "                else:\n",
    "                    continue\n",
    "            else:\n",
    "                continue\n",
    "    initial_str = b\" \".join(filtered_sentence)      # Final string of clean words\n",
    "    final_str.append(initial_str)\n",
    "    i += 1"
   ]
  },
  {
   "cell_type": "code",
   "execution_count": 20,
   "metadata": {},
   "outputs": [],
   "source": [
    "# Adding a column in dataset and storing cleaned text in it.\n",
    "\n",
    "data['CleanedText'] = final_str\n",
    "data['CleanedText'] = data['CleanedText'].str.decode(\"utf-8\")"
   ]
  },
  {
   "cell_type": "code",
   "execution_count": 21,
   "metadata": {},
   "outputs": [
    {
     "data": {
      "text/html": [
       "<div>\n",
       "<style scoped>\n",
       "    .dataframe tbody tr th:only-of-type {\n",
       "        vertical-align: middle;\n",
       "    }\n",
       "\n",
       "    .dataframe tbody tr th {\n",
       "        vertical-align: top;\n",
       "    }\n",
       "\n",
       "    .dataframe thead th {\n",
       "        text-align: right;\n",
       "    }\n",
       "</style>\n",
       "<table border=\"1\" class=\"dataframe\">\n",
       "  <thead>\n",
       "    <tr style=\"text-align: right;\">\n",
       "      <th></th>\n",
       "      <th>Id</th>\n",
       "      <th>ProductId</th>\n",
       "      <th>UserId</th>\n",
       "      <th>ProfileName</th>\n",
       "      <th>HelpfulnessNumerator</th>\n",
       "      <th>HelpfulnessDenominator</th>\n",
       "      <th>Score</th>\n",
       "      <th>Time</th>\n",
       "      <th>Summary</th>\n",
       "      <th>Text</th>\n",
       "      <th>CleanedText</th>\n",
       "    </tr>\n",
       "  </thead>\n",
       "  <tbody>\n",
       "    <tr>\n",
       "      <th>138706</th>\n",
       "      <td>150524</td>\n",
       "      <td>0006641040</td>\n",
       "      <td>ACITT7DI6IDDL</td>\n",
       "      <td>shari zychinski</td>\n",
       "      <td>0</td>\n",
       "      <td>0</td>\n",
       "      <td>Positive</td>\n",
       "      <td>939340800</td>\n",
       "      <td>EVERY book is educational</td>\n",
       "      <td>this witty little book makes my son laugh at l...</td>\n",
       "      <td>witti littl book make son laugh loud recit car...</td>\n",
       "    </tr>\n",
       "    <tr>\n",
       "      <th>138688</th>\n",
       "      <td>150506</td>\n",
       "      <td>0006641040</td>\n",
       "      <td>A2IW4PEEKO2R0U</td>\n",
       "      <td>Tracy</td>\n",
       "      <td>1</td>\n",
       "      <td>1</td>\n",
       "      <td>Positive</td>\n",
       "      <td>1194739200</td>\n",
       "      <td>Love the book, miss the hard cover version</td>\n",
       "      <td>I grew up reading these Sendak books, and watc...</td>\n",
       "      <td>grew read sendak book watch realli rosi movi i...</td>\n",
       "    </tr>\n",
       "    <tr>\n",
       "      <th>138689</th>\n",
       "      <td>150507</td>\n",
       "      <td>0006641040</td>\n",
       "      <td>A1S4A3IQ2MU7V4</td>\n",
       "      <td>sally sue \"sally sue\"</td>\n",
       "      <td>1</td>\n",
       "      <td>1</td>\n",
       "      <td>Positive</td>\n",
       "      <td>1191456000</td>\n",
       "      <td>chicken soup with rice months</td>\n",
       "      <td>This is a fun way for children to learn their ...</td>\n",
       "      <td>fun way children learn month year learn poem t...</td>\n",
       "    </tr>\n",
       "    <tr>\n",
       "      <th>138690</th>\n",
       "      <td>150508</td>\n",
       "      <td>0006641040</td>\n",
       "      <td>AZGXZ2UUK6X</td>\n",
       "      <td>Catherine Hallberg \"(Kate)\"</td>\n",
       "      <td>1</td>\n",
       "      <td>1</td>\n",
       "      <td>Positive</td>\n",
       "      <td>1076025600</td>\n",
       "      <td>a good swingy rhythm for reading aloud</td>\n",
       "      <td>This is a great little book to read aloud- it ...</td>\n",
       "      <td>great littl book read nice rhythm well good re...</td>\n",
       "    </tr>\n",
       "    <tr>\n",
       "      <th>138691</th>\n",
       "      <td>150509</td>\n",
       "      <td>0006641040</td>\n",
       "      <td>A3CMRKGE0P909G</td>\n",
       "      <td>Teresa</td>\n",
       "      <td>3</td>\n",
       "      <td>4</td>\n",
       "      <td>Positive</td>\n",
       "      <td>1018396800</td>\n",
       "      <td>A great way to learn the months</td>\n",
       "      <td>This is a book of poetry about the months of t...</td>\n",
       "      <td>book poetri month year goe month cute littl po...</td>\n",
       "    </tr>\n",
       "  </tbody>\n",
       "</table>\n",
       "</div>"
      ],
      "text/plain": [
       "            Id   ProductId          UserId                  ProfileName  \\\n",
       "138706  150524  0006641040   ACITT7DI6IDDL              shari zychinski   \n",
       "138688  150506  0006641040  A2IW4PEEKO2R0U                        Tracy   \n",
       "138689  150507  0006641040  A1S4A3IQ2MU7V4        sally sue \"sally sue\"   \n",
       "138690  150508  0006641040     AZGXZ2UUK6X  Catherine Hallberg \"(Kate)\"   \n",
       "138691  150509  0006641040  A3CMRKGE0P909G                       Teresa   \n",
       "\n",
       "        HelpfulnessNumerator  HelpfulnessDenominator     Score        Time  \\\n",
       "138706                     0                       0  Positive   939340800   \n",
       "138688                     1                       1  Positive  1194739200   \n",
       "138689                     1                       1  Positive  1191456000   \n",
       "138690                     1                       1  Positive  1076025600   \n",
       "138691                     3                       4  Positive  1018396800   \n",
       "\n",
       "                                           Summary  \\\n",
       "138706                   EVERY book is educational   \n",
       "138688  Love the book, miss the hard cover version   \n",
       "138689               chicken soup with rice months   \n",
       "138690      a good swingy rhythm for reading aloud   \n",
       "138691             A great way to learn the months   \n",
       "\n",
       "                                                     Text  \\\n",
       "138706  this witty little book makes my son laugh at l...   \n",
       "138688  I grew up reading these Sendak books, and watc...   \n",
       "138689  This is a fun way for children to learn their ...   \n",
       "138690  This is a great little book to read aloud- it ...   \n",
       "138691  This is a book of poetry about the months of t...   \n",
       "\n",
       "                                              CleanedText  \n",
       "138706  witti littl book make son laugh loud recit car...  \n",
       "138688  grew read sendak book watch realli rosi movi i...  \n",
       "138689  fun way children learn month year learn poem t...  \n",
       "138690  great littl book read nice rhythm well good re...  \n",
       "138691  book poetri month year goe month cute littl po...  "
      ]
     },
     "execution_count": 21,
     "metadata": {},
     "output_type": "execute_result"
    }
   ],
   "source": [
    "data.head()"
   ]
  },
  {
   "cell_type": "markdown",
   "metadata": {},
   "source": [
    "# 3. Time-based splitting of data"
   ]
  },
  {
   "cell_type": "code",
   "execution_count": 22,
   "metadata": {},
   "outputs": [
    {
     "data": {
      "text/html": [
       "<div>\n",
       "<style scoped>\n",
       "    .dataframe tbody tr th:only-of-type {\n",
       "        vertical-align: middle;\n",
       "    }\n",
       "\n",
       "    .dataframe tbody tr th {\n",
       "        vertical-align: top;\n",
       "    }\n",
       "\n",
       "    .dataframe thead th {\n",
       "        text-align: right;\n",
       "    }\n",
       "</style>\n",
       "<table border=\"1\" class=\"dataframe\">\n",
       "  <thead>\n",
       "    <tr style=\"text-align: right;\">\n",
       "      <th></th>\n",
       "      <th>Id</th>\n",
       "      <th>ProductId</th>\n",
       "      <th>UserId</th>\n",
       "      <th>ProfileName</th>\n",
       "      <th>HelpfulnessNumerator</th>\n",
       "      <th>HelpfulnessDenominator</th>\n",
       "      <th>Score</th>\n",
       "      <th>Time</th>\n",
       "      <th>Summary</th>\n",
       "      <th>Text</th>\n",
       "      <th>CleanedText</th>\n",
       "    </tr>\n",
       "  </thead>\n",
       "  <tbody>\n",
       "    <tr>\n",
       "      <th>138706</th>\n",
       "      <td>150524</td>\n",
       "      <td>0006641040</td>\n",
       "      <td>ACITT7DI6IDDL</td>\n",
       "      <td>shari zychinski</td>\n",
       "      <td>0</td>\n",
       "      <td>0</td>\n",
       "      <td>Positive</td>\n",
       "      <td>939340800</td>\n",
       "      <td>EVERY book is educational</td>\n",
       "      <td>this witty little book makes my son laugh at l...</td>\n",
       "      <td>witti littl book make son laugh loud recit car...</td>\n",
       "    </tr>\n",
       "    <tr>\n",
       "      <th>138683</th>\n",
       "      <td>150501</td>\n",
       "      <td>0006641040</td>\n",
       "      <td>AJ46FKXOVC7NR</td>\n",
       "      <td>Nicholas A Mesiano</td>\n",
       "      <td>2</td>\n",
       "      <td>2</td>\n",
       "      <td>Positive</td>\n",
       "      <td>940809600</td>\n",
       "      <td>This whole series is great way to spend time w...</td>\n",
       "      <td>I can remember seeing the show when it aired o...</td>\n",
       "      <td>rememb see show air televis year ago child sis...</td>\n",
       "    </tr>\n",
       "    <tr>\n",
       "      <th>417839</th>\n",
       "      <td>451856</td>\n",
       "      <td>B00004CXX9</td>\n",
       "      <td>AIUWLEQ1ADEG5</td>\n",
       "      <td>Elizabeth Medina</td>\n",
       "      <td>0</td>\n",
       "      <td>0</td>\n",
       "      <td>Positive</td>\n",
       "      <td>944092800</td>\n",
       "      <td>Entertainingl Funny!</td>\n",
       "      <td>Beetlejuice is a well written movie ..... ever...</td>\n",
       "      <td>beetlejuic well written movi everyth excel act...</td>\n",
       "    </tr>\n",
       "    <tr>\n",
       "      <th>346055</th>\n",
       "      <td>374359</td>\n",
       "      <td>B00004CI84</td>\n",
       "      <td>A344SMIA5JECGM</td>\n",
       "      <td>Vincent P. Ross</td>\n",
       "      <td>1</td>\n",
       "      <td>2</td>\n",
       "      <td>Positive</td>\n",
       "      <td>944438400</td>\n",
       "      <td>A modern day fairy tale</td>\n",
       "      <td>A twist of rumplestiskin captured on film, sta...</td>\n",
       "      <td>twist rumplestiskin captur film star michael k...</td>\n",
       "    </tr>\n",
       "    <tr>\n",
       "      <th>417838</th>\n",
       "      <td>451855</td>\n",
       "      <td>B00004CXX9</td>\n",
       "      <td>AJH6LUC1UT1ON</td>\n",
       "      <td>The Phantom of the Opera</td>\n",
       "      <td>0</td>\n",
       "      <td>0</td>\n",
       "      <td>Positive</td>\n",
       "      <td>946857600</td>\n",
       "      <td>FANTASTIC!</td>\n",
       "      <td>Beetlejuice is an excellent and funny movie. K...</td>\n",
       "      <td>beetlejuic excel funni movi keaton hilari wack...</td>\n",
       "    </tr>\n",
       "  </tbody>\n",
       "</table>\n",
       "</div>"
      ],
      "text/plain": [
       "            Id   ProductId          UserId               ProfileName  \\\n",
       "138706  150524  0006641040   ACITT7DI6IDDL           shari zychinski   \n",
       "138683  150501  0006641040   AJ46FKXOVC7NR        Nicholas A Mesiano   \n",
       "417839  451856  B00004CXX9   AIUWLEQ1ADEG5          Elizabeth Medina   \n",
       "346055  374359  B00004CI84  A344SMIA5JECGM           Vincent P. Ross   \n",
       "417838  451855  B00004CXX9   AJH6LUC1UT1ON  The Phantom of the Opera   \n",
       "\n",
       "        HelpfulnessNumerator  HelpfulnessDenominator     Score       Time  \\\n",
       "138706                     0                       0  Positive  939340800   \n",
       "138683                     2                       2  Positive  940809600   \n",
       "417839                     0                       0  Positive  944092800   \n",
       "346055                     1                       2  Positive  944438400   \n",
       "417838                     0                       0  Positive  946857600   \n",
       "\n",
       "                                                  Summary  \\\n",
       "138706                          EVERY book is educational   \n",
       "138683  This whole series is great way to spend time w...   \n",
       "417839                               Entertainingl Funny!   \n",
       "346055                            A modern day fairy tale   \n",
       "417838                                         FANTASTIC!   \n",
       "\n",
       "                                                     Text  \\\n",
       "138706  this witty little book makes my son laugh at l...   \n",
       "138683  I can remember seeing the show when it aired o...   \n",
       "417839  Beetlejuice is a well written movie ..... ever...   \n",
       "346055  A twist of rumplestiskin captured on film, sta...   \n",
       "417838  Beetlejuice is an excellent and funny movie. K...   \n",
       "\n",
       "                                              CleanedText  \n",
       "138706  witti littl book make son laugh loud recit car...  \n",
       "138683  rememb see show air televis year ago child sis...  \n",
       "417839  beetlejuic well written movi everyth excel act...  \n",
       "346055  twist rumplestiskin captur film star michael k...  \n",
       "417838  beetlejuic excel funni movi keaton hilari wack...  "
      ]
     },
     "execution_count": 22,
     "metadata": {},
     "output_type": "execute_result"
    }
   ],
   "source": [
    "# Sorting data based on time\n",
    "\n",
    "time_sort = data.sort_values('Time', ascending=True, axis=0, na_position='last')       # na_postion='last' puts NaNs at the end\n",
    "time_sort.head()"
   ]
  },
  {
   "cell_type": "code",
   "execution_count": 23,
   "metadata": {},
   "outputs": [],
   "source": [
    "from sklearn.model_selection import train_test_split"
   ]
  },
  {
   "cell_type": "code",
   "execution_count": 24,
   "metadata": {},
   "outputs": [],
   "source": [
    "# Splitting data into Train, Test and Cross-validation\n",
    "\n",
    "X = time_sort['CleanedText']\n",
    "Y = time_sort['Score']\n",
    "\n",
    "x_training, x_test, y_training, y_test= train_test_split(X, Y, test_size=0.25)\n",
    "x_train, x_cv, y_train, y_cv = train_test_split(x_training, y_training, test_size=0.3)"
   ]
  },
  {
   "cell_type": "code",
   "execution_count": 25,
   "metadata": {},
   "outputs": [
    {
     "name": "stdout",
     "output_type": "stream",
     "text": [
      "The shape of the training data is: (191168,) (191168,)\n",
      "The shape of the CV data is: (81930,) (81930,)\n",
      "The shape of the test data is: (91033,) (91033,)\n"
     ]
    }
   ],
   "source": [
    "print(\"The shape of the training data is:\", x_train.shape, y_train.shape)\n",
    "print(\"The shape of the CV data is:\", x_cv.shape, y_cv.shape)\n",
    "print(\"The shape of the test data is:\", x_test.shape, y_test.shape)"
   ]
  },
  {
   "cell_type": "markdown",
   "metadata": {},
   "source": [
    "# 4. Function to Train and Test Decision Tree models"
   ]
  },
  {
   "cell_type": "code",
   "execution_count": 26,
   "metadata": {},
   "outputs": [],
   "source": [
    "import warnings\n",
    "warnings.filterwarnings(\"ignore\")\n",
    "from sklearn.tree import DecisionTreeClassifier\n",
    "from sklearn.metrics import accuracy_score, f1_score, precision_score, recall_score"
   ]
  },
  {
   "cell_type": "markdown",
   "metadata": {},
   "source": [
    "### 4.1 Train function for Decision Tree models"
   ]
  },
  {
   "cell_type": "code",
   "execution_count": 27,
   "metadata": {},
   "outputs": [],
   "source": [
    "def dt_train(x_train, x_cv, y_train, y_cv):\n",
    "    samples = [5, 10, 50, 100, 500]\n",
    "    depth = [5, 10, 50, 100]\n",
    "    accuracy_cv = []\n",
    "\n",
    "    for i in samples:\n",
    "        for j in depth:\n",
    "            dt = DecisionTreeClassifier(min_samples_split=i, max_depth=j)\n",
    "            dt.fit(x_train, y_train)\n",
    "\n",
    "            prediction = dt.predict(x_cv)\n",
    "\n",
    "            acc_cv = accuracy_score(y_cv, prediction)\n",
    "            f1_cv = f1_score(y_cv, prediction, average='macro')\n",
    "            precision_cv = precision_score(y_cv, prediction, average='macro')\n",
    "            recall_cv = recall_score(y_cv, prediction, average='macro')\n",
    "\n",
    "            print(\"FOR samples =\", i, \"and depth =\", j)\n",
    "            print(\"The accuracy of the model is:\", acc_cv*100)\n",
    "            print(\"The f1_score of the model is:\", f1_cv*100)\n",
    "            print(\"The precision_score of the model is:\", precision_cv*100)\n",
    "            print(\"The recall_score of the model is:\", recall_cv*100)\n",
    "            print(\"==\"*60)\n",
    "\n",
    "            accuracy_cv.append(acc_cv)\n",
    "\n",
    "    # Plot Hyperparameters(samples/depth) vs auc_score graph\n",
    "#     plt.plot(samples, accuracy_cv, 'b-', label=\"Samples\")\n",
    "#     plt.plot(depth, accuracy_cv, 'r-', label=\"Depth\")\n",
    "#     plt.legend(loc='lower right')\n",
    "#     plt.title(\"Hyperparameters(Samples/Depth) v/s Auc Score\")\n",
    "#     plt.ylabel('Auc Score')\n",
    "#     plt.xlabel('Samples/Depth')\n",
    "#     plt.show()\n",
    "    \n",
    "    # Plot Heatmap for accuracy score\n",
    "    cmap=sns.color_palette()\n",
    "    print(\"---------- Representation of CV Accuracy Score in Heatmap ----------\")\n",
    "    accuracy_cv = np.array(accuracy_cv)\n",
    "    accuracy_cv = accuracy_cv.reshape(len(depth), len(samples))\n",
    "    plt.figure(figsize=(10, 5))\n",
    "    sns.heatmap(accuracy_cv, annot=True, cmap=cmap, fmt=\".4f\", xticklabels=samples, yticklabels=depth)\n",
    "    plt.xlabel('Samples')\n",
    "    plt.ylabel('Depth')\n",
    "    plt.show()"
   ]
  },
  {
   "cell_type": "markdown",
   "metadata": {},
   "source": [
    "### 4.2 Test function for Decision Tree models"
   ]
  },
  {
   "cell_type": "code",
   "execution_count": 28,
   "metadata": {},
   "outputs": [],
   "source": [
    "from sklearn.metrics import classification_report\n",
    "from scikitplot.metrics import plot_confusion_matrix"
   ]
  },
  {
   "cell_type": "code",
   "execution_count": 29,
   "metadata": {},
   "outputs": [],
   "source": [
    "def dt_test(x_train, y_train, x_test, y_test, optimal_samples, optimal_depth):\n",
    "    dt = DecisionTreeClassifier(min_samples_split=optimal_samples, max_depth=optimal_depth)\n",
    "    dt.fit(x_train, y_train)\n",
    "    \n",
    "    prediction = dt.predict(x_test)\n",
    "\n",
    "    print(\"The accuracy of the model is:\", accuracy_score(y_test, prediction)*100)\n",
    "    print(\"The macro f1_score of the model is:\", f1_score(y_test, prediction, average = 'macro')*100)\n",
    "    print(\"The micro f1_score of the model is:\", f1_score(y_test, prediction, average = 'micro')*100)\n",
    "    print(\"The precision_score of the model is:\", precision_score(y_test, prediction, average='macro')*100)\n",
    "    print(\"The recall_score of the model is:\", recall_score(y_test, prediction, average='macro')*100)\n",
    "    print(\"The precision recall report for data:\\n\", classification_report(y_test, prediction))\n",
    "    \n",
    "    plot_confusion_matrix(y_test, prediction)\n",
    "    plt.show()"
   ]
  },
  {
   "cell_type": "markdown",
   "metadata": {},
   "source": [
    "### 4.3 Top 20 Features of Decision Tree models"
   ]
  },
  {
   "cell_type": "code",
   "execution_count": 30,
   "metadata": {},
   "outputs": [],
   "source": [
    "def top_features(x_train, y_train, vectorizer, optimal_samples, optimal_depth):\n",
    "    n = 20\n",
    "    all_features = vectorizer.get_feature_names()\n",
    "    model = DecisionTreeClassifier(min_samples_split=optimal_samples, max_depth=optimal_depth)\n",
    "    model.fit(x_train, y_train)\n",
    "    coefs = sorted(zip(model.feature_importances_, all_features))\n",
    "    top = coefs[:-(n + 1):-1]\n",
    "    \n",
    "    print('\\033[1m' + \"Feature Importance \\t Features\" + '\\033[0m')\n",
    "    print(\"=\"*35)\n",
    "    for (coef1, feat1) in top:\n",
    "        print(\"%.4f\\t\\t\\t%-2s\" % (coef1, feat1))"
   ]
  },
  {
   "cell_type": "markdown",
   "metadata": {},
   "source": [
    "### 4.4 Graphical Visualization of Decision Tree models"
   ]
  },
  {
   "cell_type": "code",
   "execution_count": 31,
   "metadata": {},
   "outputs": [],
   "source": [
    "from sklearn import tree\n",
    "from graphviz import Source"
   ]
  },
  {
   "cell_type": "code",
   "execution_count": 32,
   "metadata": {},
   "outputs": [],
   "source": [
    "def construct_tree(x_train, y_train, vectorizer, optimal_samples, optimal_depth):\n",
    "    all_features = vectorizer.get_feature_names()\n",
    "    model = tree.DecisionTreeClassifier(max_depth=optimal_depth, min_samples_split=optimal_samples, random_state=0)\n",
    "    model.fit(x_train, y_train)\n",
    "    plt.figure(figsize=(12,12))\n",
    "    tree.plot_tree(model, feature_names=all_features, max_depth=2, fontsize=10)\n",
    "    plt.title(\"Decision Tree on Amazon Fine Food Reviews (Gini)\")\n",
    "    # Here we set the depth to 2 and not optimal_depth because the tree with large depth becomes mess to display"
   ]
  },
  {
   "cell_type": "markdown",
   "metadata": {},
   "source": [
    "# 5. Vectorization of splitted of data"
   ]
  },
  {
   "cell_type": "markdown",
   "metadata": {},
   "source": [
    "### 5.1 Bag of Words (BoW)"
   ]
  },
  {
   "cell_type": "code",
   "execution_count": 33,
   "metadata": {},
   "outputs": [],
   "source": [
    "from sklearn.feature_extraction.text import CountVectorizer"
   ]
  },
  {
   "cell_type": "code",
   "execution_count": 34,
   "metadata": {},
   "outputs": [],
   "source": [
    "count_vect = CountVectorizer(ngram_range=(1,2))\n",
    "count_vect.fit(x_train)\n",
    "# Fit should be done only to train data\n",
    "# After fitting count_vect only learns the vocabulary of x_train i.e unique words(unique n-grams)\n",
    "\n",
    "# To convert the SENTENCE into numerical vectors, we call transform()\n",
    "x_train_bow = count_vect.transform(x_train)\n",
    "x_cv_bow = count_vect.transform(x_cv)\n",
    "x_test_bow = count_vect.transform(x_test)"
   ]
  },
  {
   "cell_type": "code",
   "execution_count": 35,
   "metadata": {},
   "outputs": [
    {
     "name": "stdout",
     "output_type": "stream",
     "text": [
      "The shape of the training data is: (191168, 1927607) (191168,)\n",
      "The shape of the CV data is: (81930, 1927607) (81930,)\n",
      "The shape of the test data is: (91033, 1927607) (91033,)\n"
     ]
    }
   ],
   "source": [
    "print(\"The shape of the training data is:\", x_train_bow.shape, y_train.shape)\n",
    "print(\"The shape of the CV data is:\", x_cv_bow.shape, y_cv.shape)\n",
    "print(\"The shape of the test data is:\", x_test_bow.shape, y_test.shape)"
   ]
  },
  {
   "cell_type": "markdown",
   "metadata": {},
   "source": [
    "### 5.2 Term Frequency - Inverse Document Frequency (tf-idf)"
   ]
  },
  {
   "cell_type": "code",
   "execution_count": 36,
   "metadata": {},
   "outputs": [],
   "source": [
    "from sklearn.feature_extraction.text import TfidfVectorizer"
   ]
  },
  {
   "cell_type": "code",
   "execution_count": 37,
   "metadata": {},
   "outputs": [],
   "source": [
    "tfidf_vect = TfidfVectorizer(stop_words=None, ngram_range=(1,2))\n",
    "tfidf_vect.fit(x_train)\n",
    "# Fit should be done only to train data\n",
    "# After fitting tfidf_vect only learnss the vocabulary of x_train i.e unique words(unique n-grams)\n",
    "\n",
    "# To convert the SENTENCE into numerical vectors, we call transform()\n",
    "x_train_tfidf = tfidf_vect.transform(x_train)\n",
    "x_cv_tfidf = tfidf_vect.transform(x_cv)\n",
    "x_test_tfidf = tfidf_vect.transform(x_test)"
   ]
  },
  {
   "cell_type": "code",
   "execution_count": 38,
   "metadata": {},
   "outputs": [
    {
     "name": "stdout",
     "output_type": "stream",
     "text": [
      "The shape of the training data is: (191168, 1927607) (191168,)\n",
      "The shape of the CV data is: (81930, 1927607) (81930,)\n",
      "The shape of the test data is: (91033, 1927607) (91033,)\n"
     ]
    }
   ],
   "source": [
    "print(\"The shape of the training data is:\", x_train_tfidf.shape, y_train.shape)\n",
    "print(\"The shape of the CV data is:\", x_cv_tfidf.shape, y_cv.shape)\n",
    "print(\"The shape of the test data is:\", x_test_tfidf.shape, y_test.shape)"
   ]
  },
  {
   "cell_type": "markdown",
   "metadata": {},
   "source": [
    "### 5.3 Word2Vec"
   ]
  },
  {
   "cell_type": "code",
   "execution_count": 39,
   "metadata": {},
   "outputs": [],
   "source": [
    "from gensim.models import Word2Vec\n",
    "from gensim.models import KeyedVectors"
   ]
  },
  {
   "cell_type": "code",
   "execution_count": 40,
   "metadata": {},
   "outputs": [],
   "source": [
    "sentence_list = []\n",
    "for sentence in x_train:\n",
    "    sentence_list.append(sentence.split())"
   ]
  },
  {
   "cell_type": "code",
   "execution_count": 41,
   "metadata": {},
   "outputs": [],
   "source": [
    "sentence_list_cv = []\n",
    "for sentence in x_cv:\n",
    "    sentence_list_cv.append(sentence.split())"
   ]
  },
  {
   "cell_type": "code",
   "execution_count": 42,
   "metadata": {},
   "outputs": [],
   "source": [
    "sentence_list_test = []\n",
    "for sentence in x_test:\n",
    "    sentence_list_test.append(sentence.split())"
   ]
  },
  {
   "cell_type": "code",
   "execution_count": 43,
   "metadata": {},
   "outputs": [
    {
     "name": "stdout",
     "output_type": "stream",
     "text": [
      "<class 'gensim.models.word2vec.Word2Vec'>\n"
     ]
    }
   ],
   "source": [
    "# Train your own Word2Vec model using your own train text corpus \n",
    "\n",
    "w2v_train_model = Word2Vec(sentence_list, min_count=5, size=50, workers=4)          # Considers only those words that occured atleast 5 times\n",
    "print(type(w2v_train_model))"
   ]
  },
  {
   "cell_type": "code",
   "execution_count": 44,
   "metadata": {},
   "outputs": [
    {
     "name": "stdout",
     "output_type": "stream",
     "text": [
      "The number of words that occured minimum 5 times: 16400\n",
      "These are the sample words from index 0 to 50:/n ['intrigu', 'particular', 'blend', 'got', 'exot', 'name', 'disappoint', 'ever', 'slight', 'coconut', 'aftertast', 'make', 'delici', 'like', 'strong', 'coffe', 'perfect', 'husband', 'get', 'send', 'regular', 'one', 'favorit', 'second', 'jamaica', 'crazi', 'wolfgang', 'puck', 'much', 'tastier', 'brand', 'syrup', 'cassi', 'hard', 'find', 'peopl', 'settl', 'creme', 'alcohol', 'base', 'overwhelm', 'wine', 'black', 'tiger', 'far', 'best', 'tast', 'keurig', 'machin', 'work']\n"
     ]
    }
   ],
   "source": [
    "w2v_words = list(w2v_train_model.wv.vocab)\n",
    "print(\"The number of words that occured minimum 5 times:\", len(w2v_words))\n",
    "print(\"These are the sample words from index 0 to 50:/n\", w2v_words[0:50])"
   ]
  },
  {
   "cell_type": "markdown",
   "metadata": {},
   "source": [
    "### 5.4 Average Word2Vec"
   ]
  },
  {
   "cell_type": "code",
   "execution_count": 45,
   "metadata": {},
   "outputs": [
    {
     "name": "stderr",
     "output_type": "stream",
     "text": [
      "100%|██████████| 191168/191168 [00:20<00:00, 9296.44it/s]\n"
     ]
    }
   ],
   "source": [
    "avg_train_vector = []                         # Average w2v for each review/sentence is stored in this array\n",
    "for sentence in tqdm(sentence_list):          # For each sentence/review\n",
    "    sentence_vector = np.zeros(50)            # As word vectors are of zero length\n",
    "    count_words = 0                           # Num of words with a valid vector in a sentence/review\n",
    "    for word in sentence:\n",
    "        try:\n",
    "            vect = w2v_train_model.wv[word]\n",
    "            sentence_vector += vect\n",
    "            count_words += 1\n",
    "        except:\n",
    "            pass\n",
    "    if count_words != 0:\n",
    "        sentence_vector /= count_words\n",
    "    avg_train_vector.append(sentence_vector)\n",
    "avg_train_vector = np.array(avg_train_vector)"
   ]
  },
  {
   "cell_type": "code",
   "execution_count": 46,
   "metadata": {},
   "outputs": [
    {
     "name": "stdout",
     "output_type": "stream",
     "text": [
      "(191168, 50)\n",
      "[ 1.20688062  0.64512726 -0.07627227  0.54305566 -0.06266509 -0.95355429\n",
      "  0.52486759 -0.18705197  0.6154496  -0.68326797 -0.49055745 -0.6883293\n",
      "  0.75140465 -0.4618942  -0.12482487 -1.00005163  0.12876358  0.39240057\n",
      " -0.39915657  0.22415694  0.56359041 -0.08267223 -1.30383755  0.94316357\n",
      " -0.32308726 -0.66932689 -0.22714038  0.39176974  0.33780735 -0.4725275\n",
      " -0.23307023 -0.30592994  0.24653264 -0.65664214 -0.1076602  -0.40868391\n",
      "  0.02556841 -0.56600711  0.05828619  0.02430611 -0.24775038 -0.02985628\n",
      " -0.00557915  0.42976616  0.42091353  0.58154343  0.5215433  -0.85581296\n",
      " -0.02849669  0.17748459]\n"
     ]
    }
   ],
   "source": [
    "print(avg_train_vector.shape)\n",
    "print(avg_train_vector[0])"
   ]
  },
  {
   "cell_type": "code",
   "execution_count": 47,
   "metadata": {},
   "outputs": [
    {
     "name": "stderr",
     "output_type": "stream",
     "text": [
      "100%|██████████| 81930/81930 [00:08<00:00, 9375.00it/s]\n"
     ]
    }
   ],
   "source": [
    "avg_cv_vector = []                            # Average w2v for each review/sentence is stored in this array\n",
    "for sentence in tqdm(sentence_list_cv):       # For each sentence/review\n",
    "    sentence_vector = np.zeros(50)            # As word vectors are of zero length\n",
    "    count_words = 0                           # Num of words with a valid vector in a sentence/review\n",
    "    for word in sentence:\n",
    "        try:\n",
    "            vect = w2v_train_model.wv[word]\n",
    "            sentence_vector += vect\n",
    "            count_words += 1\n",
    "        except:\n",
    "            pass\n",
    "    if count_words != 0:\n",
    "        sentence_vector /= count_words\n",
    "    avg_cv_vector.append(sentence_vector)\n",
    "avg_cv_vector = np.array(avg_cv_vector)"
   ]
  },
  {
   "cell_type": "code",
   "execution_count": 48,
   "metadata": {},
   "outputs": [
    {
     "name": "stdout",
     "output_type": "stream",
     "text": [
      "(81930, 50)\n",
      "[-1.07014144 -0.60420689 -0.09898658  0.00707368  0.49949079  0.01844266\n",
      " -0.68224208 -0.94087752 -0.06488223  0.16716007 -0.33641971 -0.95426559\n",
      "  0.53942252  0.22819879 -0.96261076  0.6562062   0.31336302  0.75887537\n",
      "  0.55612116 -0.40010706 -0.98429573  0.31323204 -1.00188352  1.35669088\n",
      " -0.56998782  0.46741759 -0.19807443 -0.04187166  0.29205991  0.3121441\n",
      " -1.11556307 -0.04105221  0.73350935  0.25754156  1.4575714   0.59123325\n",
      "  0.03841986  0.55323701  0.14590691 -0.87116603  0.57736328 -0.0722774\n",
      " -1.28329428 -0.42202457  0.2017079  -0.68241609 -0.60190972 -1.11527879\n",
      " -0.1795318   0.66240393]\n"
     ]
    }
   ],
   "source": [
    "print(avg_cv_vector.shape)\n",
    "print(avg_cv_vector[0])"
   ]
  },
  {
   "cell_type": "code",
   "execution_count": 49,
   "metadata": {},
   "outputs": [
    {
     "name": "stderr",
     "output_type": "stream",
     "text": [
      "100%|██████████| 91033/91033 [00:09<00:00, 9359.23it/s]\n"
     ]
    }
   ],
   "source": [
    "avg_test_vector = []                          # Average w2v for each review/sentence is stored in this array\n",
    "for sentence in tqdm(sentence_list_test):     # For each sentence/review\n",
    "    sentence_vector = np.zeros(50)            # As word vectors are of zero length\n",
    "    count_words = 0                           # Num of words with a valid vector in a sentence/review\n",
    "    for word in sentence:\n",
    "        try:\n",
    "            vect = w2v_train_model.wv[word]\n",
    "            sentence_vector += vect\n",
    "            count_words += 1\n",
    "        except:\n",
    "            pass\n",
    "    if count_words != 0:\n",
    "        sentence_vector /= count_words\n",
    "    avg_test_vector.append(sentence_vector)\n",
    "avg_test_vector = np.array(avg_test_vector)"
   ]
  },
  {
   "cell_type": "code",
   "execution_count": 50,
   "metadata": {},
   "outputs": [
    {
     "name": "stdout",
     "output_type": "stream",
     "text": [
      "(91033, 50)\n",
      "[-0.7167391   0.87562239 -0.34311903 -0.1617036   0.4592588  -0.30645571\n",
      " -0.45302801 -0.59576892 -0.46624317  0.0823977  -0.3301962  -0.33746818\n",
      "  0.85932501  0.38371382 -0.56504968 -0.02045168  0.03848641  1.06481777\n",
      "  0.20846857 -0.59835168  0.48060843 -0.03811347 -0.86595227 -0.49420151\n",
      "  0.14614368  0.29358101 -0.6806834  -0.98879931  0.54319518  0.57356671\n",
      "  0.17689546 -0.050268    0.38213103  0.24470349  0.71615364 -0.27025153\n",
      "  0.32277353  0.16433381  0.36548321 -0.06482996  0.05625233 -0.14378445\n",
      " -0.71853736 -0.34677643  0.62325162 -0.27158201 -0.08275143 -0.13566357\n",
      " -0.8028135   0.55897338]\n"
     ]
    }
   ],
   "source": [
    "print(avg_test_vector.shape)\n",
    "print(avg_test_vector[0])"
   ]
  },
  {
   "cell_type": "code",
   "execution_count": 51,
   "metadata": {},
   "outputs": [],
   "source": [
    "x_train_avgw2v = avg_train_vector\n",
    "x_cv_avgw2v = avg_cv_vector\n",
    "x_test_avgw2v = avg_test_vector"
   ]
  },
  {
   "cell_type": "code",
   "execution_count": 52,
   "metadata": {},
   "outputs": [
    {
     "name": "stdout",
     "output_type": "stream",
     "text": [
      "The shape of the training data is: (191168, 50) (191168,)\n",
      "The shape of the CV data is: (81930, 50) (81930,)\n",
      "The shape of the test data is: (91033, 50) (91033,)\n"
     ]
    }
   ],
   "source": [
    "print(\"The shape of the training data is:\", x_train_avgw2v.shape, y_train.shape)\n",
    "print(\"The shape of the CV data is:\", x_cv_avgw2v.shape, y_cv.shape)\n",
    "print(\"The shape of the test data is:\", x_test_avgw2v.shape, y_test.shape)"
   ]
  },
  {
   "cell_type": "markdown",
   "metadata": {},
   "source": [
    "### 5.5 TF-IDF Weighed Word2Vec"
   ]
  },
  {
   "cell_type": "code",
   "execution_count": 53,
   "metadata": {},
   "outputs": [],
   "source": [
    "from sklearn.feature_extraction.text import TfidfVectorizer"
   ]
  },
  {
   "cell_type": "code",
   "execution_count": 54,
   "metadata": {},
   "outputs": [],
   "source": [
    "tfidf_vect = TfidfVectorizer(ngram_range=(1,2), min_df=10, max_features=500)\n",
    "tfidf_vect.fit_transform(x_train)\n",
    "tfidf_feat = tfidf_vect.get_feature_names()\n",
    "dictionary = dict(zip(tfidf_feat, list(tfidf_vect.idf_)))"
   ]
  },
  {
   "cell_type": "code",
   "execution_count": 55,
   "metadata": {},
   "outputs": [
    {
     "name": "stderr",
     "output_type": "stream",
     "text": [
      "100%|██████████| 191168/191168 [00:44<00:00, 4323.62it/s]\n"
     ]
    }
   ],
   "source": [
    "tfidf_train_vector = []                         # Average w2v for each review/sentence is stored in this array\n",
    "for sentence in tqdm(sentence_list):            # For each sentence/review\n",
    "    sentence_vector = np.zeros(50)              # As word vectors are of zero length\n",
    "    weight_sum = 0                              # Num of words with a valid vector in a sentence/review\n",
    "    for word in sentence:\n",
    "        try:\n",
    "            vect = w2v_train_model.wv[word]\n",
    "            tfidf_weight = dictionary[word]*(sentence.count(word)/len(sentence))\n",
    "            sentence_vector += (vect*tfidf_weight)\n",
    "            weight_sum += tfidf_weight\n",
    "        except:\n",
    "            pass\n",
    "    if weight_sum != 0:\n",
    "        sentence_vector /= weight_sum\n",
    "    tfidf_train_vector.append(sentence_vector)\n",
    "tfidf_train_vector = np.array(tfidf_train_vector)"
   ]
  },
  {
   "cell_type": "code",
   "execution_count": 56,
   "metadata": {},
   "outputs": [
    {
     "name": "stdout",
     "output_type": "stream",
     "text": [
      "(191168, 50)\n",
      "[ 1.57729647  0.42511625 -0.18760935  0.47813032 -0.04950523 -1.00938163\n",
      "  0.59054142 -0.15644262  0.55549119 -0.75898192 -0.5755441  -1.22877252\n",
      "  0.91790945 -0.81422871 -0.34674206 -1.18877619  0.01939398  0.62652999\n",
      " -0.54225852  0.3733967   0.43578146 -0.61624616 -1.90820692  0.63102521\n",
      " -0.46299216 -0.8688338  -0.34597475  0.43166698  0.38910194 -0.92720339\n",
      " -0.28617419 -0.39917132  0.552134   -0.60643748 -0.30092149 -0.55391397\n",
      "  0.35973382 -0.65515215  0.50610728  0.06663784 -0.17344023  0.34301212\n",
      " -0.28965553  0.41370428  0.88600557  0.54407414  0.62318347 -0.72716341\n",
      " -0.19495673 -0.00928915]\n"
     ]
    }
   ],
   "source": [
    "print(tfidf_train_vector.shape)\n",
    "print(tfidf_train_vector[0])"
   ]
  },
  {
   "cell_type": "code",
   "execution_count": 57,
   "metadata": {},
   "outputs": [
    {
     "name": "stderr",
     "output_type": "stream",
     "text": [
      "100%|██████████| 81930/81930 [00:18<00:00, 4312.51it/s]\n"
     ]
    }
   ],
   "source": [
    "tfidf_cv_vector = []                            # Average w2v for each review/sentence is stored in this array\n",
    "for sentence in tqdm(sentence_list_cv):         # For each sentence/review\n",
    "    sentence_vector = np.zeros(50)              # As word vectors are of zero length\n",
    "    weight_sum = 0                              # Num of words with a valid vector in a sentence/review\n",
    "    for word in sentence:\n",
    "        try:\n",
    "            vect = w2v_train_model.wv[word]\n",
    "            tfidf_weight = dictionary[word]*(sentence.count(word)/len(sentence))\n",
    "            sentence_vector += (vect*tfidf_weight)\n",
    "            weight_sum += tfidf_weight\n",
    "        except:\n",
    "            pass\n",
    "    if weight_sum != 0:\n",
    "        sentence_vector /= weight_sum\n",
    "    tfidf_cv_vector.append(sentence_vector)\n",
    "tfidf_cv_vector = np.array(tfidf_cv_vector)"
   ]
  },
  {
   "cell_type": "code",
   "execution_count": 58,
   "metadata": {},
   "outputs": [
    {
     "name": "stdout",
     "output_type": "stream",
     "text": [
      "(81930, 50)\n",
      "[-1.08976884 -0.6877602  -0.52792819  0.38964099  0.17008886  0.10844552\n",
      " -0.95533034 -0.88527834 -0.17113004 -0.13263469 -0.2509237  -1.32522221\n",
      "  1.07512288  0.46363374 -0.82930363  0.82834878  0.05259164  1.04269753\n",
      "  0.41073894  0.0257041  -1.15902485  0.33091412 -1.79780102  1.08079183\n",
      " -0.06795321  0.15251154  0.26121169  0.11334476  0.6748527   0.00436513\n",
      " -1.97030533  0.2849968   1.06167378  0.08964328  1.7264726   0.7403756\n",
      "  0.26837644  0.27482426  0.42219237 -1.02160702  0.41646367  0.75943139\n",
      " -1.29252287  0.00723927  0.42599771 -0.46383576 -0.66457877 -1.44884766\n",
      " -0.23648445  0.57638617]\n"
     ]
    }
   ],
   "source": [
    "print(tfidf_cv_vector.shape)\n",
    "print(tfidf_cv_vector[0])"
   ]
  },
  {
   "cell_type": "code",
   "execution_count": 59,
   "metadata": {},
   "outputs": [
    {
     "name": "stderr",
     "output_type": "stream",
     "text": [
      "100%|██████████| 91033/91033 [00:21<00:00, 4321.59it/s]\n"
     ]
    }
   ],
   "source": [
    "tfidf_test_vector = []                          # Average w2v for each review/sentence is stored in this array\n",
    "for sentence in tqdm(sentence_list_test):       # For each sentence/review\n",
    "    sentence_vector = np.zeros(50)              # As word vectors are of zero length\n",
    "    weight_sum = 0                              # Num of words with a valid vector in a sentence/review\n",
    "    for word in sentence:\n",
    "        try:\n",
    "            vect = w2v_train_model.wv[word]\n",
    "            tfidf_weight = dictionary[word]*(sentence.count(word)/len(sentence))\n",
    "            sentence_vector += (vect*tfidf_weight)\n",
    "            weight_sum += tfidf_weight\n",
    "        except:\n",
    "            pass\n",
    "    if weight_sum != 0:\n",
    "        sentence_vector /= weight_sum\n",
    "    tfidf_test_vector.append(sentence_vector)\n",
    "tfidf_test_vector = np.array(tfidf_test_vector)"
   ]
  },
  {
   "cell_type": "code",
   "execution_count": 60,
   "metadata": {},
   "outputs": [
    {
     "name": "stdout",
     "output_type": "stream",
     "text": [
      "(91033, 50)\n",
      "[-0.46945613  1.16459163 -0.19755934  0.22990033  0.47887047 -0.33464072\n",
      " -0.29059388 -0.38487398 -0.64157895  0.27070888 -0.73190287 -0.74747327\n",
      "  0.79757943  0.15500646 -0.47384996  0.10378377  0.32479474  1.49056977\n",
      "  0.22865869 -1.27428875  0.37530486  0.00286199 -1.04389724 -0.7881582\n",
      "  0.58514632  0.03964756 -0.15419494 -0.85955158  0.41298593  1.03272056\n",
      " -0.25257451  0.07632891  0.3125724   0.02725759  1.16361631 -0.74786727\n",
      "  0.33783359  0.53481511  0.65160738 -0.31275959  0.19870941 -0.36875986\n",
      " -1.50633763 -0.70871183  0.81522191  0.1979025  -0.05657389 -0.18652247\n",
      " -0.8906658   0.85392477]\n"
     ]
    }
   ],
   "source": [
    "print(tfidf_test_vector.shape)\n",
    "print(tfidf_test_vector[0])"
   ]
  },
  {
   "cell_type": "code",
   "execution_count": 61,
   "metadata": {},
   "outputs": [],
   "source": [
    "x_train_tfidfw2v = tfidf_train_vector\n",
    "x_cv_tfidfw2v = tfidf_cv_vector\n",
    "x_test_tfidfw2v = tfidf_test_vector"
   ]
  },
  {
   "cell_type": "code",
   "execution_count": 62,
   "metadata": {},
   "outputs": [
    {
     "name": "stdout",
     "output_type": "stream",
     "text": [
      "The shape of the training data is: (191168, 50) (191168,)\n",
      "The shape of the CV data is: (81930, 50) (81930,)\n",
      "The shape of the test data is: (91033, 50) (91033,)\n"
     ]
    }
   ],
   "source": [
    "print(\"The shape of the training data is:\", x_train_tfidfw2v.shape, y_train.shape)\n",
    "print(\"The shape of the CV data is:\", x_cv_tfidfw2v.shape, y_cv.shape)\n",
    "print(\"The shape of the test data is:\", x_test_tfidfw2v.shape, y_test.shape)"
   ]
  },
  {
   "cell_type": "markdown",
   "metadata": {},
   "source": [
    "# 6. Applying Decision Tree Classifier on Our Model"
   ]
  },
  {
   "cell_type": "markdown",
   "metadata": {},
   "source": [
    "### 6.1 Bag of Words (BoW)"
   ]
  },
  {
   "cell_type": "markdown",
   "metadata": {},
   "source": [
    "##### 6.1.1 BoW Decision Tree on Train Data"
   ]
  },
  {
   "cell_type": "code",
   "execution_count": 63,
   "metadata": {},
   "outputs": [
    {
     "name": "stdout",
     "output_type": "stream",
     "text": [
      "FOR samples = 5 and depth = 5\n",
      "The accuracy of the model is: 86.0563896008788\n",
      "The f1_score of the model is: 61.64999908014246\n",
      "The precision_score of the model is: 78.00446284530041\n",
      "The recall_score of the model is: 59.18154368744419\n",
      "========================================================================================================================\n",
      "FOR samples = 5 and depth = 10\n",
      "The accuracy of the model is: 86.62638838032467\n",
      "The f1_score of the model is: 64.15677847368224\n",
      "The precision_score of the model is: 79.92690389368123\n",
      "The recall_score of the model is: 61.036816515932024\n",
      "========================================================================================================================\n",
      "FOR samples = 5 and depth = 50\n",
      "The accuracy of the model is: 87.23056267545466\n",
      "The f1_score of the model is: 71.99528022635049\n",
      "The precision_score of the model is: 76.89661358880085\n",
      "The recall_score of the model is: 69.20947541564857\n",
      "========================================================================================================================\n",
      "FOR samples = 5 and depth = 100\n",
      "The accuracy of the model is: 86.87294031490296\n",
      "The f1_score of the model is: 72.9561999316966\n",
      "The precision_score of the model is: 75.43754765877473\n",
      "The recall_score of the model is: 71.15768512658008\n",
      "========================================================================================================================\n",
      "FOR samples = 10 and depth = 5\n",
      "The accuracy of the model is: 86.0563896008788\n",
      "The f1_score of the model is: 61.64999908014246\n",
      "The precision_score of the model is: 78.00446284530041\n",
      "The recall_score of the model is: 59.18154368744419\n",
      "========================================================================================================================\n",
      "FOR samples = 10 and depth = 10\n",
      "The accuracy of the model is: 86.6349322592457\n",
      "The f1_score of the model is: 64.19636818423939\n",
      "The precision_score of the model is: 79.94883651135073\n",
      "The recall_score of the model is: 61.0672235552168\n",
      "========================================================================================================================\n",
      "FOR samples = 10 and depth = 50\n",
      "The accuracy of the model is: 87.29525204442817\n",
      "The f1_score of the model is: 72.2018816981677\n",
      "The precision_score of the model is: 77.0362222464046\n",
      "The recall_score of the model is: 69.42521984270982\n",
      "========================================================================================================================\n",
      "FOR samples = 10 and depth = 100\n",
      "The accuracy of the model is: 86.76309044306116\n",
      "The f1_score of the model is: 72.88424560475481\n",
      "The precision_score of the model is: 75.15942434612435\n",
      "The recall_score of the model is: 71.20024142850873\n",
      "========================================================================================================================\n",
      "FOR samples = 50 and depth = 5\n",
      "The accuracy of the model is: 86.04784572195777\n",
      "The f1_score of the model is: 61.591523612039225\n",
      "The precision_score of the model is: 77.9949155597734\n",
      "The recall_score of the model is: 59.13846638657642\n",
      "========================================================================================================================\n",
      "FOR samples = 50 and depth = 10\n",
      "The accuracy of the model is: 86.6093006224826\n",
      "The f1_score of the model is: 64.1481184673708\n",
      "The precision_score of the model is: 79.79143783689464\n",
      "The recall_score of the model is: 61.03618617988176\n",
      "========================================================================================================================\n",
      "FOR samples = 50 and depth = 50\n",
      "The accuracy of the model is: 87.17929940192847\n",
      "The f1_score of the model is: 72.03506785623081\n",
      "The precision_score of the model is: 76.69221357179563\n",
      "The recall_score of the model is: 69.33111945793209\n",
      "========================================================================================================================\n",
      "FOR samples = 50 and depth = 100\n",
      "The accuracy of the model is: 86.79848651287685\n",
      "The f1_score of the model is: 72.86250271969112\n",
      "The precision_score of the model is: 75.25664166633904\n",
      "The recall_score of the model is: 71.11353405754518\n",
      "========================================================================================================================\n",
      "FOR samples = 100 and depth = 5\n",
      "The accuracy of the model is: 86.05516904674722\n",
      "The f1_score of the model is: 61.63636780375089\n",
      "The precision_score of the model is: 78.00911952449303\n",
      "The recall_score of the model is: 59.17131720323998\n",
      "========================================================================================================================\n",
      "FOR samples = 100 and depth = 10\n",
      "The accuracy of the model is: 86.61174173074576\n",
      "The f1_score of the model is: 64.16577628160107\n",
      "The precision_score of the model is: 79.7896168549486\n",
      "The recall_score of the model is: 61.0503040174987\n",
      "========================================================================================================================\n",
      "FOR samples = 100 and depth = 50\n",
      "The accuracy of the model is: 87.22201879653363\n",
      "The f1_score of the model is: 72.0636327839441\n",
      "The precision_score of the model is: 76.83333802790453\n",
      "The recall_score of the model is: 69.31844125377687\n",
      "========================================================================================================================\n",
      "FOR samples = 100 and depth = 100\n",
      "The accuracy of the model is: 86.83876479921885\n",
      "The f1_score of the model is: 72.99286768626729\n",
      "The precision_score of the model is: 75.33826098718923\n",
      "The recall_score of the model is: 71.26728924333085\n",
      "========================================================================================================================\n",
      "FOR samples = 500 and depth = 5\n",
      "The accuracy of the model is: 86.0515073843525\n",
      "The f1_score of the model is: 61.61601090154176\n",
      "The precision_score of the model is: 77.99968029154468\n",
      "The recall_score of the model is: 59.156475577606074\n",
      "========================================================================================================================\n",
      "FOR samples = 500 and depth = 10\n",
      "The accuracy of the model is: 86.61296228487734\n",
      "The f1_score of the model is: 63.7122064925121\n",
      "The precision_score of the model is: 80.41245982319113\n",
      "The recall_score of the model is: 60.66775239262975\n",
      "========================================================================================================================\n",
      "FOR samples = 500 and depth = 50\n",
      "The accuracy of the model is: 87.37092640058587\n",
      "The f1_score of the model is: 72.02078907603413\n",
      "The precision_score of the model is: 77.41829015634075\n",
      "The recall_score of the model is: 69.07098145989703\n",
      "========================================================================================================================\n",
      "FOR samples = 500 and depth = 100\n",
      "The accuracy of the model is: 87.00353960698158\n",
      "The f1_score of the model is: 72.92857098517827\n",
      "The precision_score of the model is: 75.81014289518431\n",
      "The recall_score of the model is: 70.92470903561177\n",
      "========================================================================================================================\n",
      "---------- Representation of CV Accuracy Score in Heatmap ----------\n"
     ]
    },
    {
     "data": {
      "image/png": "[encoded data removed]",
      "text/plain": [
       "<Figure size 720x360 with 2 Axes>"
      ]
     },
     "metadata": {
      "needs_background": "light"
     },
     "output_type": "display_data"
    }
   ],
   "source": [
    "# Find the optimal value of depth and samples\n",
    "# This may take several minutes(even hour/s) to run\n",
    "\n",
    "dt_train(x_train_bow, x_cv_bow, y_train, y_cv)"
   ]
  },
  {
   "cell_type": "markdown",
   "metadata": {},
   "source": [
    "##### 6.1.2 BoW Decision Tree on Test Data"
   ]
  },
  {
   "cell_type": "code",
   "execution_count": 64,
   "metadata": {},
   "outputs": [
    {
     "name": "stdout",
     "output_type": "stream",
     "text": [
      "The accuracy of the model is: 87.39358254698845\n",
      "The macro f1_score of the model is: 71.97242305114386\n",
      "The micro f1_score of the model is: 87.39358254698845\n",
      "The precision_score of the model is: 77.4977831183944\n",
      "The recall_score of the model is: 68.98564271234723\n",
      "The precision recall report for data:\n",
      "               precision    recall  f1-score   support\n",
      "\n",
      "    Negative       0.65      0.42      0.51     14264\n",
      "    Positive       0.90      0.96      0.93     76769\n",
      "\n",
      "    accuracy                           0.87     91033\n",
      "   macro avg       0.77      0.69      0.72     91033\n",
      "weighted avg       0.86      0.87      0.86     91033\n",
      "\n"
     ]
    },
    {
     "data": {
      "image/png": "[encoded data removed]",
      "text/plain": [
       "<Figure size 432x288 with 2 Axes>"
      ]
     },
     "metadata": {
      "needs_background": "light"
     },
     "output_type": "display_data"
    }
   ],
   "source": [
    "# Testing the final model\n",
    "\n",
    "dt_test(x_train_bow, y_train, x_test_bow, y_test, optimal_samples=500, optimal_depth=50)"
   ]
  },
  {
   "cell_type": "code",
   "execution_count": 65,
   "metadata": {},
   "outputs": [
    {
     "name": "stdout",
     "output_type": "stream",
     "text": [
      "\u001b[1mFeature Importance \t Features\u001b[0m\n",
      "===================================\n",
      "0.0955\t\t\tdisappoint\n",
      "0.0490\t\t\twast money\n",
      "0.0478\t\t\tgreat\n",
      "0.0451\t\t\treturn\n",
      "0.0360\t\t\tworst\n",
      "0.0353\t\t\tbest\n",
      "0.0336\t\t\tlove\n",
      "0.0252\t\t\thorribl\n",
      "0.0243\t\t\taw\n",
      "0.0236\t\t\tdelici\n",
      "0.0217\t\t\tbad\n",
      "0.0208\t\t\tgood\n",
      "0.0176\t\t\tperfect\n",
      "0.0170\t\t\tterribl\n",
      "0.0168\t\t\tthrew\n",
      "0.0140\t\t\tfavorit\n",
      "0.0122\t\t\texcel\n",
      "0.0109\t\t\tnice\n",
      "0.0108\t\t\trefund\n",
      "0.0105\t\t\tdescript\n"
     ]
    }
   ],
   "source": [
    "top_features(x_train_bow, y_train, count_vect, optimal_samples=500, optimal_depth=50)"
   ]
  },
  {
   "cell_type": "code",
   "execution_count": 66,
   "metadata": {},
   "outputs": [
    {
     "data": {
      "image/png": "[encoded data removed]",
      "text/plain": [
       "<Figure size 864x864 with 1 Axes>"
      ]
     },
     "metadata": {
      "needs_background": "light"
     },
     "output_type": "display_data"
    }
   ],
   "source": [
    "construct_tree(x_train_bow, y_train, count_vect, optimal_samples=500, optimal_depth=50)"
   ]
  },
  {
   "cell_type": "markdown",
   "metadata": {},
   "source": [
    "### 6.2 Term Frequency - Inverse Document Frequency (tf-idf)"
   ]
  },
  {
   "cell_type": "markdown",
   "metadata": {},
   "source": [
    "##### 6.2.1 TF-IDF Decision Tree on Train Data"
   ]
  },
  {
   "cell_type": "code",
   "execution_count": 67,
   "metadata": {},
   "outputs": [
    {
     "name": "stdout",
     "output_type": "stream",
     "text": [
      "FOR samples = 5 and depth = 5\n",
      "The accuracy of the model is: 86.03441962651044\n",
      "The f1_score of the model is: 61.40339203064003\n",
      "The precision_score of the model is: 78.05495264313107\n",
      "The recall_score of the model is: 58.997671081367685\n",
      "========================================================================================================================\n",
      "FOR samples = 5 and depth = 10\n",
      "The accuracy of the model is: 86.43598193579885\n",
      "The f1_score of the model is: 62.8075137505821\n",
      "The precision_score of the model is: 79.9945489807716\n",
      "The recall_score of the model is: 59.98996249507654\n",
      "========================================================================================================================\n",
      "FOR samples = 5 and depth = 50\n",
      "The accuracy of the model is: 86.74722323935067\n",
      "The f1_score of the model is: 71.30812240250805\n",
      "The precision_score of the model is: 75.48444748375952\n",
      "The recall_score of the model is: 68.82222505134611\n",
      "========================================================================================================================\n",
      "FOR samples = 5 and depth = 100\n",
      "The accuracy of the model is: 86.12352007811546\n",
      "The f1_score of the model is: 71.97770929892027\n",
      "The precision_score of the model is: 73.69993428855312\n",
      "The recall_score of the model is: 70.63570714263035\n",
      "========================================================================================================================\n",
      "FOR samples = 10 and depth = 5\n",
      "The accuracy of the model is: 86.03564018064202\n",
      "The f1_score of the model is: 61.408845102706934\n",
      "The precision_score of the model is: 78.05972891717863\n",
      "The recall_score of the model is: 59.001563646568144\n",
      "========================================================================================================================\n",
      "FOR samples = 10 and depth = 10\n",
      "The accuracy of the model is: 86.41279140729891\n",
      "The f1_score of the model is: 62.781647142112504\n",
      "The precision_score of the model is: 79.81078244879103\n",
      "The recall_score of the model is: 59.976211318989115\n",
      "========================================================================================================================\n",
      "FOR samples = 10 and depth = 50\n",
      "The accuracy of the model is: 86.68863664103503\n",
      "The f1_score of the model is: 71.2636725356169\n",
      "The precision_score of the model is: 75.31061824068527\n",
      "The recall_score of the model is: 68.82867988625044\n",
      "========================================================================================================================\n",
      "FOR samples = 10 and depth = 100\n",
      "The accuracy of the model is: 86.12107896985232\n",
      "The f1_score of the model is: 72.11906884317614\n",
      "The precision_score of the model is: 73.691478434602\n",
      "The recall_score of the model is: 70.86875226311521\n",
      "========================================================================================================================\n",
      "FOR samples = 50 and depth = 5\n",
      "The accuracy of the model is: 86.02587574758941\n",
      "The f1_score of the model is: 61.352699298640644\n",
      "The precision_score of the model is: 78.03597932269713\n",
      "The recall_score of the model is: 58.96091666769261\n",
      "========================================================================================================================\n",
      "FOR samples = 50 and depth = 10\n",
      "The accuracy of the model is: 86.3932625411937\n",
      "The f1_score of the model is: 62.759896824426775\n",
      "The precision_score of the model is: 79.65743796041151\n",
      "The recall_score of the model is: 59.96463138123127\n",
      "========================================================================================================================\n",
      "FOR samples = 50 and depth = 50\n",
      "The accuracy of the model is: 86.58733064811425\n",
      "The f1_score of the model is: 71.1839014762198\n",
      "The precision_score of the model is: 75.01762372844046\n",
      "The recall_score of the model is: 68.83515416003432\n",
      "========================================================================================================================\n",
      "FOR samples = 50 and depth = 100\n",
      "The accuracy of the model is: 86.01244965214208\n",
      "The f1_score of the model is: 71.89205484373129\n",
      "The precision_score of the model is: 73.45825427172711\n",
      "The recall_score of the model is: 70.64906672389773\n",
      "========================================================================================================================\n",
      "FOR samples = 100 and depth = 5\n",
      "The accuracy of the model is: 86.02343463932625\n",
      "The f1_score of the model is: 61.35011780111468\n",
      "The precision_score of the model is: 78.0166962162195\n",
      "The recall_score of the model is: 58.959469175472876\n",
      "========================================================================================================================\n",
      "FOR samples = 100 and depth = 10\n",
      "The accuracy of the model is: 86.3786158916148\n",
      "The f1_score of the model is: 62.858113188308785\n",
      "The precision_score of the model is: 79.39288256784525\n",
      "The recall_score of the model is: 60.047842181540375\n",
      "========================================================================================================================\n",
      "FOR samples = 100 and depth = 50\n",
      "The accuracy of the model is: 86.73257658977175\n",
      "The f1_score of the model is: 71.36737259445948\n",
      "The precision_score of the model is: 75.41970138473917\n",
      "The recall_score of the model is: 68.92444876619882\n",
      "========================================================================================================================\n",
      "FOR samples = 100 and depth = 100\n",
      "The accuracy of the model is: 86.08568290003662\n",
      "The f1_score of the model is: 72.0819099083464\n",
      "The precision_score of the model is: 73.61516131644844\n",
      "The recall_score of the model is: 70.85727008320094\n",
      "========================================================================================================================\n",
      "FOR samples = 500 and depth = 5\n",
      "The accuracy of the model is: 86.02099353106311\n",
      "The f1_score of the model is: 61.289071347495806\n",
      "The precision_score of the model is: 78.06554459252513\n",
      "The recall_score of the model is: 58.91365821598471\n",
      "========================================================================================================================\n",
      "FOR samples = 500 and depth = 10\n",
      "The accuracy of the model is: 86.38715977053583\n",
      "The f1_score of the model is: 62.74121118217675\n",
      "The precision_score of the model is: 79.62575621213504\n",
      "The recall_score of the model is: 59.951506193410154\n",
      "========================================================================================================================\n",
      "FOR samples = 500 and depth = 50\n",
      "The accuracy of the model is: 86.77041376785061\n",
      "The f1_score of the model is: 71.32831098434886\n",
      "The precision_score of the model is: 75.55326205917223\n",
      "The recall_score of the model is: 68.82330095107113\n",
      "========================================================================================================================\n",
      "FOR samples = 500 and depth = 100\n",
      "The accuracy of the model is: 86.28341266935189\n",
      "The f1_score of the model is: 72.32095260266745\n",
      "The precision_score of the model is: 74.04609734654007\n",
      "The recall_score of the model is: 70.97134813390842\n",
      "========================================================================================================================\n",
      "---------- Representation of CV Accuracy Score in Heatmap ----------\n"
     ]
    },
    {
     "data": {
      "image/png": "[encoded data removed]",
      "text/plain": [
       "<Figure size 720x360 with 2 Axes>"
      ]
     },
     "metadata": {
      "needs_background": "light"
     },
     "output_type": "display_data"
    }
   ],
   "source": [
    "# Find the optimal value of depth and samples\n",
    "# This may take several minutes to run\n",
    "\n",
    "dt_train(x_train_tfidf, x_cv_tfidf, y_train, y_cv)"
   ]
  },
  {
   "cell_type": "markdown",
   "metadata": {},
   "source": [
    "##### 6.2.2 TF-IDF Decision Tree on Test Data"
   ]
  },
  {
   "cell_type": "code",
   "execution_count": 68,
   "metadata": {},
   "outputs": [
    {
     "name": "stdout",
     "output_type": "stream",
     "text": [
      "The accuracy of the model is: 86.71690485867762\n",
      "The macro f1_score of the model is: 71.16247912211247\n",
      "The micro f1_score of the model is: 86.71690485867762\n",
      "The precision_score of the model is: 75.6090508092033\n",
      "The recall_score of the model is: 68.59174900441751\n",
      "The precision recall report for data:\n",
      "               precision    recall  f1-score   support\n",
      "\n",
      "    Negative       0.61      0.42      0.50     14342\n",
      "    Positive       0.90      0.95      0.92     76691\n",
      "\n",
      "    accuracy                           0.87     91033\n",
      "   macro avg       0.76      0.69      0.71     91033\n",
      "weighted avg       0.85      0.87      0.86     91033\n",
      "\n"
     ]
    },
    {
     "data": {
      "image/png": "[encoded data removed]",
      "text/plain": [
       "<Figure size 432x288 with 2 Axes>"
      ]
     },
     "metadata": {
      "needs_background": "light"
     },
     "output_type": "display_data"
    }
   ],
   "source": [
    "# Testing the final model\n",
    "\n",
    "dt_test(x_train_tfidf, y_train, x_test_tfidf, y_test, optimal_samples=500, optimal_depth=50)"
   ]
  },
  {
   "cell_type": "code",
   "execution_count": 69,
   "metadata": {},
   "outputs": [
    {
     "name": "stdout",
     "output_type": "stream",
     "text": [
      "\u001b[1mFeature Importance \t Features\u001b[0m\n",
      "===================================\n",
      "0.0000\t\t\tyummi\n",
      "0.0000\t\t\tyet\n",
      "0.0000\t\t\tyear old\n",
      "0.0000\t\t\tyear\n",
      "0.0000\t\t\twould\n",
      "0.0000\t\t\tworth\n",
      "0.0000\t\t\twork\n",
      "0.0000\t\t\twonder\n",
      "0.0000\t\t\twithout\n",
      "0.0000\t\t\twish\n",
      "0.0000\t\t\twife\n",
      "0.0000\t\t\twhole\n",
      "0.0000\t\t\twhite\n",
      "0.0000\t\t\twheat\n",
      "0.0000\t\t\twent\n",
      "0.0000\t\t\twell\n",
      "0.0000\t\t\tweight\n",
      "0.0000\t\t\tweek\n",
      "0.0000\t\t\tway\n",
      "0.0000\t\t\twater\n"
     ]
    }
   ],
   "source": [
    "top_features(x_train_tfidf, y_train, tfidf_vect, optimal_samples=500, optimal_depth=50)"
   ]
  },
  {
   "cell_type": "markdown",
   "metadata": {},
   "source": [
    "### 6.3 Average word2Vec"
   ]
  },
  {
   "cell_type": "markdown",
   "metadata": {},
   "source": [
    "##### 6.3.1 Avg W2V Decision Tree on Train Data"
   ]
  },
  {
   "cell_type": "code",
   "execution_count": 72,
   "metadata": {},
   "outputs": [
    {
     "name": "stdout",
     "output_type": "stream",
     "text": [
      "FOR samples = 5 and depth = 5\n",
      "The accuracy of the model is: 86.3883803246674\n",
      "The f1_score of the model is: 64.93609116475932\n",
      "The precision_score of the model is: 77.29008267683125\n",
      "The recall_score of the model is: 61.83133966024727\n",
      "========================================================================================================================\n",
      "FOR samples = 5 and depth = 10\n",
      "The accuracy of the model is: 86.67032832906139\n",
      "The f1_score of the model is: 70.43784605078217\n",
      "The precision_score of the model is: 75.51258109920569\n",
      "The recall_score of the model is: 67.70873701289162\n",
      "========================================================================================================================\n",
      "FOR samples = 5 and depth = 50\n",
      "The accuracy of the model is: 82.58147198828269\n",
      "The f1_score of the model is: 67.97919512242724\n",
      "The precision_score of the model is: 67.51014160866902\n",
      "The recall_score of the model is: 68.50687655998769\n",
      "========================================================================================================================\n",
      "FOR samples = 5 and depth = 100\n",
      "The accuracy of the model is: 82.65958745270353\n",
      "The f1_score of the model is: 68.01217493662745\n",
      "The precision_score of the model is: 67.59563146527059\n",
      "The recall_score of the model is: 68.47397583375397\n",
      "========================================================================================================================\n",
      "FOR samples = 10 and depth = 5\n",
      "The accuracy of the model is: 86.3883803246674\n",
      "The f1_score of the model is: 64.93609116475932\n",
      "The precision_score of the model is: 77.29008267683125\n",
      "The recall_score of the model is: 61.83133966024727\n",
      "========================================================================================================================\n",
      "FOR samples = 10 and depth = 10\n",
      "The accuracy of the model is: 86.67154888319297\n",
      "The f1_score of the model is: 70.43699493762341\n",
      "The precision_score of the model is: 75.51715975299686\n",
      "The recall_score of the model is: 67.70629193991088\n",
      "========================================================================================================================\n",
      "FOR samples = 10 and depth = 50\n",
      "The accuracy of the model is: 82.75357012083487\n",
      "The f1_score of the model is: 68.2290923859754\n",
      "The precision_score of the model is: 67.78591670778073\n",
      "The recall_score of the model is: 68.7230022487403\n",
      "========================================================================================================================\n",
      "FOR samples = 10 and depth = 100\n",
      "The accuracy of the model is: 82.71817405101916\n",
      "The f1_score of the model is: 68.12996007063202\n",
      "The precision_score of the model is: 67.70586391513407\n",
      "The recall_score of the model is: 68.60061140065494\n",
      "========================================================================================================================\n",
      "FOR samples = 50 and depth = 5\n",
      "The accuracy of the model is: 86.3883803246674\n",
      "The f1_score of the model is: 64.93609116475932\n",
      "The precision_score of the model is: 77.29008267683125\n",
      "The recall_score of the model is: 61.83133966024727\n",
      "========================================================================================================================\n",
      "FOR samples = 50 and depth = 10\n",
      "The accuracy of the model is: 86.67887220798242\n",
      "The f1_score of the model is: 70.42712896009434\n",
      "The precision_score of the model is: 75.54640298215138\n",
      "The recall_score of the model is: 67.68528386384524\n",
      "========================================================================================================================\n",
      "FOR samples = 50 and depth = 50\n",
      "The accuracy of the model is: 84.16453069693641\n",
      "The f1_score of the model is: 68.82563456748991\n",
      "The precision_score of the model is: 69.67221024851914\n",
      "The recall_score of the model is: 68.10516478915731\n",
      "========================================================================================================================\n",
      "FOR samples = 50 and depth = 100\n",
      "The accuracy of the model is: 84.1950445502258\n",
      "The f1_score of the model is: 68.90771158854238\n",
      "The precision_score of the model is: 69.7412751235852\n",
      "The recall_score of the model is: 68.19614128098779\n",
      "========================================================================================================================\n",
      "FOR samples = 100 and depth = 5\n",
      "The accuracy of the model is: 86.3883803246674\n",
      "The f1_score of the model is: 64.93609116475932\n",
      "The precision_score of the model is: 77.29008267683125\n",
      "The recall_score of the model is: 61.83133966024727\n",
      "========================================================================================================================\n",
      "FOR samples = 100 and depth = 10\n",
      "The accuracy of the model is: 86.71426827779813\n",
      "The f1_score of the model is: 70.39262293422522\n",
      "The precision_score of the model is: 75.68514476174657\n",
      "The recall_score of the model is: 67.60170147104144\n",
      "========================================================================================================================\n",
      "FOR samples = 100 and depth = 50\n",
      "The accuracy of the model is: 85.21542780422313\n",
      "The f1_score of the model is: 69.39333619603225\n",
      "The precision_score of the model is: 71.64831343812767\n",
      "The recall_score of the model is: 67.81569029165728\n",
      "========================================================================================================================\n",
      "FOR samples = 100 and depth = 100\n",
      "The accuracy of the model is: 85.23251556206517\n",
      "The f1_score of the model is: 69.42426690217103\n",
      "The precision_score of the model is: 71.68719284724516\n",
      "The recall_score of the model is: 67.8416668326484\n",
      "========================================================================================================================\n",
      "FOR samples = 500 and depth = 5\n",
      "The accuracy of the model is: 86.38227755400952\n",
      "The f1_score of the model is: 65.12771821372158\n",
      "The precision_score of the model is: 77.09377594363401\n",
      "The recall_score of the model is: 62.011512436952884\n",
      "========================================================================================================================\n",
      "FOR samples = 500 and depth = 10\n",
      "The accuracy of the model is: 86.77529598437691\n",
      "The f1_score of the model is: 69.29591022753692\n",
      "The precision_score of the model is: 76.41843626459848\n",
      "The recall_score of the model is: 66.15488144213273\n",
      "========================================================================================================================\n",
      "FOR samples = 500 and depth = 50\n",
      "The accuracy of the model is: 86.4835835469303\n",
      "The f1_score of the model is: 69.31754735108584\n",
      "The precision_score of the model is: 75.23883320315731\n",
      "The recall_score of the model is: 66.45089134728424\n",
      "========================================================================================================================\n",
      "FOR samples = 500 and depth = 100\n",
      "The accuracy of the model is: 86.47137800561455\n",
      "The f1_score of the model is: 69.28729458978576\n",
      "The precision_score of the model is: 75.20434038488624\n",
      "The recall_score of the model is: 66.42464097164196\n",
      "========================================================================================================================\n",
      "---------- Representation of CV Accuracy Score in Heatmap ----------\n"
     ]
    },
    {
     "data": {
      "image/png": "[encoded data removed]",
      "text/plain": [
       "<Figure size 720x360 with 2 Axes>"
      ]
     },
     "metadata": {
      "needs_background": "light"
     },
     "output_type": "display_data"
    }
   ],
   "source": [
    "# Find the optimal value of depth and samples\n",
    "# This may take several minutes to run\n",
    "\n",
    "dt_train(x_train_avgw2v, x_cv_avgw2v, y_train, y_cv)"
   ]
  },
  {
   "cell_type": "markdown",
   "metadata": {},
   "source": [
    "##### 6.3.2 Avg W2V Decision Tree on Test Data"
   ]
  },
  {
   "cell_type": "code",
   "execution_count": 74,
   "metadata": {},
   "outputs": [
    {
     "name": "stdout",
     "output_type": "stream",
     "text": [
      "The accuracy of the model is: 86.93221139586743\n",
      "The macro f1_score of the model is: 69.6442219054877\n",
      "The micro f1_score of the model is: 86.93221139586743\n",
      "The precision_score of the model is: 77.15833171293426\n",
      "The recall_score of the model is: 66.38690799127161\n",
      "The precision recall report for data:\n",
      "               precision    recall  f1-score   support\n",
      "\n",
      "    Negative       0.65      0.36      0.47     14342\n",
      "    Positive       0.89      0.96      0.93     76691\n",
      "\n",
      "    accuracy                           0.87     91033\n",
      "   macro avg       0.77      0.66      0.70     91033\n",
      "weighted avg       0.85      0.87      0.85     91033\n",
      "\n"
     ]
    },
    {
     "data": {
      "image/png": "[encoded data removed]",
      "text/plain": [
       "<Figure size 432x288 with 2 Axes>"
      ]
     },
     "metadata": {
      "needs_background": "light"
     },
     "output_type": "display_data"
    }
   ],
   "source": [
    "# Testing the final model\n",
    "\n",
    "dt_test(x_train_avgw2v, y_train, x_test_avgw2v, y_test, optimal_samples=500, optimal_depth=10)"
   ]
  },
  {
   "cell_type": "markdown",
   "metadata": {},
   "source": [
    "### 6.4 TF-IDF Weighed Word2Vec"
   ]
  },
  {
   "cell_type": "markdown",
   "metadata": {},
   "source": [
    "##### 6.4.1 TF-IDF W2V Decision Tree on Train Data"
   ]
  },
  {
   "cell_type": "code",
   "execution_count": 75,
   "metadata": {},
   "outputs": [
    {
     "name": "stdout",
     "output_type": "stream",
     "text": [
      "FOR samples = 5 and depth = 5\n",
      "The accuracy of the model is: 84.71744171854021\n",
      "The f1_score of the model is: 54.06045788936691\n",
      "The precision_score of the model is: 71.4832842018033\n",
      "The recall_score of the model is: 54.16382941194319\n",
      "========================================================================================================================\n",
      "FOR samples = 5 and depth = 10\n",
      "The accuracy of the model is: 84.36958379104114\n",
      "The f1_score of the model is: 61.84147511882979\n",
      "The precision_score of the model is: 68.72138615307868\n",
      "The recall_score of the model is: 59.80720181188388\n",
      "========================================================================================================================\n",
      "FOR samples = 5 and depth = 50\n",
      "The accuracy of the model is: 78.91614793116075\n",
      "The f1_score of the model is: 61.592856232086156\n",
      "The precision_score of the model is: 61.210310580785624\n",
      "The recall_score of the model is: 62.05556121975082\n",
      "========================================================================================================================\n",
      "FOR samples = 5 and depth = 100\n",
      "The accuracy of the model is: 78.99182228731844\n",
      "The f1_score of the model is: 61.7991216736825\n",
      "The precision_score of the model is: 61.39328075503996\n",
      "The recall_score of the model is: 62.29373144308917\n",
      "========================================================================================================================\n",
      "FOR samples = 10 and depth = 5\n",
      "The accuracy of the model is: 84.71744171854021\n",
      "The f1_score of the model is: 54.06045788936691\n",
      "The precision_score of the model is: 71.4832842018033\n",
      "The recall_score of the model is: 54.16382941194319\n",
      "========================================================================================================================\n",
      "FOR samples = 10 and depth = 10\n",
      "The accuracy of the model is: 84.38789210301478\n",
      "The f1_score of the model is: 61.85647484130441\n",
      "The precision_score of the model is: 68.7839266379149\n",
      "The recall_score of the model is: 59.81488918444124\n",
      "========================================================================================================================\n",
      "FOR samples = 10 and depth = 50\n",
      "The accuracy of the model is: 78.92591236421336\n",
      "The f1_score of the model is: 61.64728540118419\n",
      "The precision_score of the model is: 61.25433333937117\n",
      "The recall_score of the model is: 62.124727570441785\n",
      "========================================================================================================================\n",
      "FOR samples = 10 and depth = 100\n",
      "The accuracy of the model is: 79.09923105089712\n",
      "The f1_score of the model is: 62.01026779583032\n",
      "The precision_score of the model is: 61.592980440289345\n",
      "The recall_score of the model is: 62.51903087437799\n",
      "========================================================================================================================\n",
      "FOR samples = 50 and depth = 5\n",
      "The accuracy of the model is: 84.71744171854021\n",
      "The f1_score of the model is: 54.06045788936691\n",
      "The precision_score of the model is: 71.4832842018033\n",
      "The recall_score of the model is: 54.16382941194319\n",
      "========================================================================================================================\n",
      "FOR samples = 50 and depth = 10\n",
      "The accuracy of the model is: 84.34761381667278\n",
      "The f1_score of the model is: 61.798334956937225\n",
      "The precision_score of the model is: 68.64346105002464\n",
      "The recall_score of the model is: 59.7751614673627\n",
      "========================================================================================================================\n",
      "FOR samples = 50 and depth = 50\n",
      "The accuracy of the model is: 80.87879897473454\n",
      "The f1_score of the model is: 62.52628009099126\n",
      "The precision_score of the model is: 63.02637217847451\n",
      "The recall_score of the model is: 62.103920644521125\n",
      "========================================================================================================================\n",
      "FOR samples = 50 and depth = 100\n",
      "The accuracy of the model is: 80.84706456731357\n",
      "The f1_score of the model is: 62.50424703974375\n",
      "The precision_score of the model is: 62.986917697101816\n",
      "The recall_score of the model is: 62.09460970293645\n",
      "========================================================================================================================\n",
      "FOR samples = 100 and depth = 5\n",
      "The accuracy of the model is: 84.71744171854021\n",
      "The f1_score of the model is: 54.06045788936691\n",
      "The precision_score of the model is: 71.4832842018033\n",
      "The recall_score of the model is: 54.16382941194319\n",
      "========================================================================================================================\n",
      "FOR samples = 100 and depth = 10\n",
      "The accuracy of the model is: 84.40375930672526\n",
      "The f1_score of the model is: 61.6115730541434\n",
      "The precision_score of the model is: 68.80941049314413\n",
      "The recall_score of the model is: 59.589805271164906\n",
      "========================================================================================================================\n",
      "FOR samples = 100 and depth = 50\n",
      "The accuracy of the model is: 82.28731844257294\n",
      "The f1_score of the model is: 62.14428658613027\n",
      "The precision_score of the model is: 64.31893923656848\n",
      "The recall_score of the model is: 60.920585894591184\n",
      "========================================================================================================================\n",
      "FOR samples = 100 and depth = 100\n",
      "The accuracy of the model is: 82.2738923471256\n",
      "The f1_score of the model is: 62.11415038418519\n",
      "The precision_score of the model is: 64.2849069312034\n",
      "The recall_score of the model is: 60.89361177283905\n",
      "========================================================================================================================\n",
      "FOR samples = 500 and depth = 5\n",
      "The accuracy of the model is: 84.71744171854021\n",
      "The f1_score of the model is: 54.06045788936691\n",
      "The precision_score of the model is: 71.4832842018033\n",
      "The recall_score of the model is: 54.16382941194319\n",
      "========================================================================================================================\n",
      "FOR samples = 500 and depth = 10\n",
      "The accuracy of the model is: 84.98108141096058\n",
      "The f1_score of the model is: 60.92002567403665\n",
      "The precision_score of the model is: 71.21718841389189\n",
      "The recall_score of the model is: 58.84840105214485\n",
      "========================================================================================================================\n",
      "FOR samples = 500 and depth = 50\n",
      "The accuracy of the model is: 84.54412303185647\n",
      "The f1_score of the model is: 60.79122875117401\n",
      "The precision_score of the model is: 69.26703260064629\n",
      "The recall_score of the model is: 58.8428054720615\n",
      "========================================================================================================================\n",
      "FOR samples = 500 and depth = 100\n",
      "The accuracy of the model is: 84.5429024777249\n",
      "The f1_score of the model is: 60.801357207080706\n",
      "The precision_score of the model is: 69.26256642687203\n",
      "The recall_score of the model is: 58.85158818322345\n",
      "========================================================================================================================\n",
      "---------- Representation of CV Accuracy Score in Heatmap ----------\n"
     ]
    },
    {
     "data": {
      "image/png": "[encoded data removed]",
      "text/plain": [
       "<Figure size 720x360 with 2 Axes>"
      ]
     },
     "metadata": {
      "needs_background": "light"
     },
     "output_type": "display_data"
    }
   ],
   "source": [
    "# Find the optimal value of depth and samples\n",
    "# This may take several minutes to run\n",
    "\n",
    "dt_train(x_train_tfidfw2v, x_cv_tfidfw2v, y_train, y_cv)"
   ]
  },
  {
   "cell_type": "markdown",
   "metadata": {},
   "source": [
    "##### 6.4.2 TF-IDF W2V Decision Tree on Test Data"
   ]
  },
  {
   "cell_type": "code",
   "execution_count": 76,
   "metadata": {},
   "outputs": [
    {
     "name": "stdout",
     "output_type": "stream",
     "text": [
      "The accuracy of the model is: 84.94282293234322\n",
      "The macro f1_score of the model is: 60.87966570913861\n",
      "The micro f1_score of the model is: 84.9428229323432\n",
      "The precision_score of the model is: 71.36336370607594\n",
      "The recall_score of the model is: 58.817690040297954\n",
      "The precision recall report for data:\n",
      "               precision    recall  f1-score   support\n",
      "\n",
      "    Negative       0.56      0.21      0.30     14342\n",
      "    Positive       0.87      0.97      0.92     76691\n",
      "\n",
      "    accuracy                           0.85     91033\n",
      "   macro avg       0.71      0.59      0.61     91033\n",
      "weighted avg       0.82      0.85      0.82     91033\n",
      "\n"
     ]
    },
    {
     "data": {
      "image/png": "[encoded data removed]",
      "text/plain": [
       "<Figure size 432x288 with 2 Axes>"
      ]
     },
     "metadata": {
      "needs_background": "light"
     },
     "output_type": "display_data"
    }
   ],
   "source": [
    "# Testing the final model\n",
    "\n",
    "dt_test(x_train_tfidfw2v, y_train, x_test_tfidfw2v, y_test, optimal_samples=500, optimal_depth=10)"
   ]
  },
  {
   "cell_type": "code",
   "execution_count": null,
   "metadata": {},
   "outputs": [],
   "source": []
  }
 ],
 "metadata": {
  "kernelspec": {
   "display_name": "Python 3.7 (Intel® oneAPI)",
   "language": "python",
   "name": "c009-intel_distribution_of_python_3_oneapi-beta05-python"
  },
  "language_info": {
   "codemirror_mode": {
    "name": "ipython",
    "version": 3
   },
   "file_extension": ".py",
   "mimetype": "text/x-python",
   "name": "python",
   "nbconvert_exporter": "python",
   "pygments_lexer": "ipython3",
   "version": "3.7.7"
  }
 },
 "nbformat": 4,
 "nbformat_minor": 4
}
