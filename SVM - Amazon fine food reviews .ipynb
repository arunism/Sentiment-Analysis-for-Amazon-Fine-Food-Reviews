{
 "cells": [
  {
   "cell_type": "markdown",
   "metadata": {},
   "source": [
    "# Objective\n",
    "#### Determine whether the given reviews are positive or negative using all features except SCORE and then check the accuracy using the Score feature using KNN classifier"
   ]
  },
  {
   "cell_type": "markdown",
   "metadata": {},
   "source": [
    "# 1. Loading data from dataset"
   ]
  },
  {
   "cell_type": "code",
   "execution_count": 1,
   "metadata": {},
   "outputs": [],
   "source": [
    "%matplotlib inline\n",
    "\n",
    "import numpy as np\n",
    "import pandas as pd\n",
    "import matplotlib.pyplot as plt\n",
    "import sqlite3\n",
    "import nltk\n",
    "import seaborn as sns\n",
    "from tqdm import tqdm"
   ]
  },
  {
   "cell_type": "code",
   "execution_count": 2,
   "metadata": {},
   "outputs": [],
   "source": [
    "# Loading data from sqlite3 database ignoring those having rewiew score = 3\n",
    "\n",
    "connection = sqlite3.connect('./database.sqlite')\n",
    "dataset = pd.read_sql_query(\"SELECT * FROM Reviews WHERE Score != 3\", connection)"
   ]
  },
  {
   "cell_type": "code",
   "execution_count": 3,
   "metadata": {},
   "outputs": [
    {
     "name": "stdout",
     "output_type": "stream",
     "text": [
      "The shape of the data in dataset is: (525814, 10)\n",
      "========================================================================================================================\n"
     ]
    },
    {
     "data": {
      "text/plain": [
       "Index(['Id', 'ProductId', 'UserId', 'ProfileName', 'HelpfulnessNumerator',\n",
       "       'HelpfulnessDenominator', 'Score', 'Time', 'Summary', 'Text'],\n",
       "      dtype='object')"
      ]
     },
     "execution_count": 3,
     "metadata": {},
     "output_type": "execute_result"
    }
   ],
   "source": [
    "print(\"The shape of the data in dataset is:\", dataset.shape)\n",
    "print('==' * 60)\n",
    "dataset.columns                # This will list all the features name in dataset column-wise"
   ]
  },
  {
   "cell_type": "code",
   "execution_count": 4,
   "metadata": {},
   "outputs": [],
   "source": [
    "# Assigning Positive value to reviews with score>3 and Negative value to reviews with score<3\n",
    "\n",
    "def assign_pn(score):\n",
    "    if (score > 3):\n",
    "        score = 'Positive'\n",
    "    elif (score < 3):\n",
    "        score = 'Negative'\n",
    "    return score\n",
    "\n",
    "pn = dataset['Score']\n",
    "pn_assign = pn.map(assign_pn)\n",
    "dataset['Score'] = pn_assign"
   ]
  },
  {
   "cell_type": "code",
   "execution_count": 5,
   "metadata": {},
   "outputs": [
    {
     "name": "stdout",
     "output_type": "stream",
     "text": [
      "Positive    443777\n",
      "Negative     82037\n",
      "Name: Score, dtype: int64\n",
      "========================================================================================================================\n",
      "The shape of the data in dataset is: (525814, 10)\n"
     ]
    }
   ],
   "source": [
    "print(dataset['Score'].value_counts() )                       # Printing the number of each classes (positive and negative reviews)\n",
    "print('==' * 60)\n",
    "print(\"The shape of the data in dataset is:\", dataset.shape)"
   ]
  },
  {
   "cell_type": "code",
   "execution_count": 6,
   "metadata": {},
   "outputs": [
    {
     "data": {
      "text/html": [
       "<div>\n",
       "<style scoped>\n",
       "    .dataframe tbody tr th:only-of-type {\n",
       "        vertical-align: middle;\n",
       "    }\n",
       "\n",
       "    .dataframe tbody tr th {\n",
       "        vertical-align: top;\n",
       "    }\n",
       "\n",
       "    .dataframe thead th {\n",
       "        text-align: right;\n",
       "    }\n",
       "</style>\n",
       "<table border=\"1\" class=\"dataframe\">\n",
       "  <thead>\n",
       "    <tr style=\"text-align: right;\">\n",
       "      <th></th>\n",
       "      <th>Id</th>\n",
       "      <th>ProductId</th>\n",
       "      <th>UserId</th>\n",
       "      <th>ProfileName</th>\n",
       "      <th>HelpfulnessNumerator</th>\n",
       "      <th>HelpfulnessDenominator</th>\n",
       "      <th>Score</th>\n",
       "      <th>Time</th>\n",
       "      <th>Summary</th>\n",
       "      <th>Text</th>\n",
       "    </tr>\n",
       "  </thead>\n",
       "  <tbody>\n",
       "    <tr>\n",
       "      <th>0</th>\n",
       "      <td>1</td>\n",
       "      <td>B001E4KFG0</td>\n",
       "      <td>A3SGXH7AUHU8GW</td>\n",
       "      <td>delmartian</td>\n",
       "      <td>1</td>\n",
       "      <td>1</td>\n",
       "      <td>Positive</td>\n",
       "      <td>1303862400</td>\n",
       "      <td>Good Quality Dog Food</td>\n",
       "      <td>I have bought several of the Vitality canned d...</td>\n",
       "    </tr>\n",
       "    <tr>\n",
       "      <th>1</th>\n",
       "      <td>2</td>\n",
       "      <td>B00813GRG4</td>\n",
       "      <td>A1D87F6ZCVE5NK</td>\n",
       "      <td>dll pa</td>\n",
       "      <td>0</td>\n",
       "      <td>0</td>\n",
       "      <td>Negative</td>\n",
       "      <td>1346976000</td>\n",
       "      <td>Not as Advertised</td>\n",
       "      <td>Product arrived labeled as Jumbo Salted Peanut...</td>\n",
       "    </tr>\n",
       "    <tr>\n",
       "      <th>2</th>\n",
       "      <td>3</td>\n",
       "      <td>B000LQOCH0</td>\n",
       "      <td>ABXLMWJIXXAIN</td>\n",
       "      <td>Natalia Corres \"Natalia Corres\"</td>\n",
       "      <td>1</td>\n",
       "      <td>1</td>\n",
       "      <td>Positive</td>\n",
       "      <td>1219017600</td>\n",
       "      <td>\"Delight\" says it all</td>\n",
       "      <td>This is a confection that has been around a fe...</td>\n",
       "    </tr>\n",
       "    <tr>\n",
       "      <th>3</th>\n",
       "      <td>4</td>\n",
       "      <td>B000UA0QIQ</td>\n",
       "      <td>A395BORC6FGVXV</td>\n",
       "      <td>Karl</td>\n",
       "      <td>3</td>\n",
       "      <td>3</td>\n",
       "      <td>Negative</td>\n",
       "      <td>1307923200</td>\n",
       "      <td>Cough Medicine</td>\n",
       "      <td>If you are looking for the secret ingredient i...</td>\n",
       "    </tr>\n",
       "    <tr>\n",
       "      <th>4</th>\n",
       "      <td>5</td>\n",
       "      <td>B006K2ZZ7K</td>\n",
       "      <td>A1UQRSCLF8GW1T</td>\n",
       "      <td>Michael D. Bigham \"M. Wassir\"</td>\n",
       "      <td>0</td>\n",
       "      <td>0</td>\n",
       "      <td>Positive</td>\n",
       "      <td>1350777600</td>\n",
       "      <td>Great taffy</td>\n",
       "      <td>Great taffy at a great price.  There was a wid...</td>\n",
       "    </tr>\n",
       "  </tbody>\n",
       "</table>\n",
       "</div>"
      ],
      "text/plain": [
       "   Id   ProductId          UserId                      ProfileName  \\\n",
       "0   1  B001E4KFG0  A3SGXH7AUHU8GW                       delmartian   \n",
       "1   2  B00813GRG4  A1D87F6ZCVE5NK                           dll pa   \n",
       "2   3  B000LQOCH0   ABXLMWJIXXAIN  Natalia Corres \"Natalia Corres\"   \n",
       "3   4  B000UA0QIQ  A395BORC6FGVXV                             Karl   \n",
       "4   5  B006K2ZZ7K  A1UQRSCLF8GW1T    Michael D. Bigham \"M. Wassir\"   \n",
       "\n",
       "   HelpfulnessNumerator  HelpfulnessDenominator     Score        Time  \\\n",
       "0                     1                       1  Positive  1303862400   \n",
       "1                     0                       0  Negative  1346976000   \n",
       "2                     1                       1  Positive  1219017600   \n",
       "3                     3                       3  Negative  1307923200   \n",
       "4                     0                       0  Positive  1350777600   \n",
       "\n",
       "                 Summary                                               Text  \n",
       "0  Good Quality Dog Food  I have bought several of the Vitality canned d...  \n",
       "1      Not as Advertised  Product arrived labeled as Jumbo Salted Peanut...  \n",
       "2  \"Delight\" says it all  This is a confection that has been around a fe...  \n",
       "3         Cough Medicine  If you are looking for the secret ingredient i...  \n",
       "4            Great taffy  Great taffy at a great price.  There was a wid...  "
      ]
     },
     "execution_count": 6,
     "metadata": {},
     "output_type": "execute_result"
    }
   ],
   "source": [
    "# Printing first few rows as a sample of the dataset\n",
    "# You may pass the number of rows to be displayed as an argument to the head() method\n",
    "\n",
    "dataset.head()"
   ]
  },
  {
   "cell_type": "markdown",
   "metadata": {},
   "source": [
    "# 2. Pre-processing of data"
   ]
  },
  {
   "cell_type": "markdown",
   "metadata": {},
   "source": [
    "### 2.1 De-duplication of data"
   ]
  },
  {
   "cell_type": "code",
   "execution_count": 7,
   "metadata": {},
   "outputs": [
    {
     "data": {
      "text/html": [
       "<div>\n",
       "<style scoped>\n",
       "    .dataframe tbody tr th:only-of-type {\n",
       "        vertical-align: middle;\n",
       "    }\n",
       "\n",
       "    .dataframe tbody tr th {\n",
       "        vertical-align: top;\n",
       "    }\n",
       "\n",
       "    .dataframe thead th {\n",
       "        text-align: right;\n",
       "    }\n",
       "</style>\n",
       "<table border=\"1\" class=\"dataframe\">\n",
       "  <thead>\n",
       "    <tr style=\"text-align: right;\">\n",
       "      <th></th>\n",
       "      <th>Id</th>\n",
       "      <th>ProductId</th>\n",
       "      <th>UserId</th>\n",
       "      <th>ProfileName</th>\n",
       "      <th>HelpfulnessNumerator</th>\n",
       "      <th>HelpfulnessDenominator</th>\n",
       "      <th>Score</th>\n",
       "      <th>Time</th>\n",
       "      <th>Summary</th>\n",
       "      <th>Text</th>\n",
       "    </tr>\n",
       "  </thead>\n",
       "  <tbody>\n",
       "    <tr>\n",
       "      <th>138706</th>\n",
       "      <td>150524</td>\n",
       "      <td>0006641040</td>\n",
       "      <td>ACITT7DI6IDDL</td>\n",
       "      <td>shari zychinski</td>\n",
       "      <td>0</td>\n",
       "      <td>0</td>\n",
       "      <td>Positive</td>\n",
       "      <td>939340800</td>\n",
       "      <td>EVERY book is educational</td>\n",
       "      <td>this witty little book makes my son laugh at l...</td>\n",
       "    </tr>\n",
       "    <tr>\n",
       "      <th>138688</th>\n",
       "      <td>150506</td>\n",
       "      <td>0006641040</td>\n",
       "      <td>A2IW4PEEKO2R0U</td>\n",
       "      <td>Tracy</td>\n",
       "      <td>1</td>\n",
       "      <td>1</td>\n",
       "      <td>Positive</td>\n",
       "      <td>1194739200</td>\n",
       "      <td>Love the book, miss the hard cover version</td>\n",
       "      <td>I grew up reading these Sendak books, and watc...</td>\n",
       "    </tr>\n",
       "    <tr>\n",
       "      <th>138689</th>\n",
       "      <td>150507</td>\n",
       "      <td>0006641040</td>\n",
       "      <td>A1S4A3IQ2MU7V4</td>\n",
       "      <td>sally sue \"sally sue\"</td>\n",
       "      <td>1</td>\n",
       "      <td>1</td>\n",
       "      <td>Positive</td>\n",
       "      <td>1191456000</td>\n",
       "      <td>chicken soup with rice months</td>\n",
       "      <td>This is a fun way for children to learn their ...</td>\n",
       "    </tr>\n",
       "    <tr>\n",
       "      <th>138690</th>\n",
       "      <td>150508</td>\n",
       "      <td>0006641040</td>\n",
       "      <td>AZGXZ2UUK6X</td>\n",
       "      <td>Catherine Hallberg \"(Kate)\"</td>\n",
       "      <td>1</td>\n",
       "      <td>1</td>\n",
       "      <td>Positive</td>\n",
       "      <td>1076025600</td>\n",
       "      <td>a good swingy rhythm for reading aloud</td>\n",
       "      <td>This is a great little book to read aloud- it ...</td>\n",
       "    </tr>\n",
       "    <tr>\n",
       "      <th>138691</th>\n",
       "      <td>150509</td>\n",
       "      <td>0006641040</td>\n",
       "      <td>A3CMRKGE0P909G</td>\n",
       "      <td>Teresa</td>\n",
       "      <td>3</td>\n",
       "      <td>4</td>\n",
       "      <td>Positive</td>\n",
       "      <td>1018396800</td>\n",
       "      <td>A great way to learn the months</td>\n",
       "      <td>This is a book of poetry about the months of t...</td>\n",
       "    </tr>\n",
       "  </tbody>\n",
       "</table>\n",
       "</div>"
      ],
      "text/plain": [
       "            Id   ProductId          UserId                  ProfileName  \\\n",
       "138706  150524  0006641040   ACITT7DI6IDDL              shari zychinski   \n",
       "138688  150506  0006641040  A2IW4PEEKO2R0U                        Tracy   \n",
       "138689  150507  0006641040  A1S4A3IQ2MU7V4        sally sue \"sally sue\"   \n",
       "138690  150508  0006641040     AZGXZ2UUK6X  Catherine Hallberg \"(Kate)\"   \n",
       "138691  150509  0006641040  A3CMRKGE0P909G                       Teresa   \n",
       "\n",
       "        HelpfulnessNumerator  HelpfulnessDenominator     Score        Time  \\\n",
       "138706                     0                       0  Positive   939340800   \n",
       "138688                     1                       1  Positive  1194739200   \n",
       "138689                     1                       1  Positive  1191456000   \n",
       "138690                     1                       1  Positive  1076025600   \n",
       "138691                     3                       4  Positive  1018396800   \n",
       "\n",
       "                                           Summary  \\\n",
       "138706                   EVERY book is educational   \n",
       "138688  Love the book, miss the hard cover version   \n",
       "138689               chicken soup with rice months   \n",
       "138690      a good swingy rhythm for reading aloud   \n",
       "138691             A great way to learn the months   \n",
       "\n",
       "                                                     Text  \n",
       "138706  this witty little book makes my son laugh at l...  \n",
       "138688  I grew up reading these Sendak books, and watc...  \n",
       "138689  This is a fun way for children to learn their ...  \n",
       "138690  This is a great little book to read aloud- it ...  \n",
       "138691  This is a book of poetry about the months of t...  "
      ]
     },
     "execution_count": 7,
     "metadata": {},
     "output_type": "execute_result"
    }
   ],
   "source": [
    "# Sorting data based on ProductId\n",
    "\n",
    "sorted_data = dataset.sort_values('ProductId', ascending=True, axis=0)\n",
    "sorted_data.head()"
   ]
  },
  {
   "cell_type": "code",
   "execution_count": 8,
   "metadata": {},
   "outputs": [
    {
     "data": {
      "text/plain": [
       "(364133, 10)"
      ]
     },
     "execution_count": 8,
     "metadata": {},
     "output_type": "execute_result"
    }
   ],
   "source": [
    "# Remove all the data points that exactly match the field values mention below\n",
    "\n",
    "data = sorted_data.drop_duplicates(subset={'UserId', 'Time', 'Text'}, keep='first', inplace=False)\n",
    "data.shape"
   ]
  },
  {
   "cell_type": "code",
   "execution_count": 9,
   "metadata": {},
   "outputs": [
    {
     "name": "stdout",
     "output_type": "stream",
     "text": [
      "69.25129418387492\n"
     ]
    }
   ],
   "source": [
    "# Check what percentage of original data is remaining\n",
    "\n",
    "percentage = (data.shape[0] / dataset.shape[0]) * 100\n",
    "print(percentage)"
   ]
  },
  {
   "cell_type": "code",
   "execution_count": 10,
   "metadata": {},
   "outputs": [
    {
     "data": {
      "text/plain": [
       "(364131, 10)"
      ]
     },
     "execution_count": 10,
     "metadata": {},
     "output_type": "execute_result"
    }
   ],
   "source": [
    "# Removing the reviews having HelpfulnessNumerator greater than HelpfulnessDenominator\n",
    "\n",
    "data = data[data.HelpfulnessDenominator >= data.HelpfulnessNumerator]\n",
    "data.shape"
   ]
  },
  {
   "cell_type": "code",
   "execution_count": 11,
   "metadata": {},
   "outputs": [
    {
     "data": {
      "text/plain": [
       "Positive    307026\n",
       "Negative     57105\n",
       "Name: Score, dtype: int64"
      ]
     },
     "execution_count": 11,
     "metadata": {},
     "output_type": "execute_result"
    },
    {
     "data": {
      "image/png": "[encoded data removed]",
      "text/plain": [
       "<Figure size 432x288 with 1 Axes>"
      ]
     },
     "metadata": {
      "needs_background": "light"
     },
     "output_type": "display_data"
    }
   ],
   "source": [
    "# Getting the number of positive and negative reviews\n",
    "\n",
    "data['Score'].value_counts().plot(kind='bar')\n",
    "data['Score'].value_counts()"
   ]
  },
  {
   "cell_type": "markdown",
   "metadata": {},
   "source": [
    "### 2.2 Data Cleaning"
   ]
  },
  {
   "cell_type": "code",
   "execution_count": 12,
   "metadata": {},
   "outputs": [],
   "source": [
    "import re\n",
    "import string\n",
    "from nltk.corpus import stopwords\n",
    "from nltk.stem import SnowballStemmer\n",
    "from nltk.stem.wordnet import WordNetLemmatizer"
   ]
  },
  {
   "cell_type": "code",
   "execution_count": 13,
   "metadata": {},
   "outputs": [
    {
     "name": "stdout",
     "output_type": "stream",
     "text": [
      "Total number of html tags present: 6\n",
      "========================================================================================================================\n",
      "I set aside at least an hour each day to read to my son (3 y/o). At this point, I consider myself a connoisseur of children's books and this is one of the best. Santa Clause put this under the tree. Since then, we've read it perpetually and he loves it.<br /><br />First, this book taught him the months of the year.<br /><br />Second, it's a pleasure to read. Well suited to 1.5 y/o old to 4+.<br /><br />Very few children's books are worth owning. Most should be borrowed from the library. This book, however, deserves a permanent spot on your shelf. Sendak's best.\n"
     ]
    }
   ],
   "source": [
    "# Find sentences containing html tags\n",
    "\n",
    "i = 0\n",
    "for sentence in data['Text'].values:\n",
    "    if (len(re.findall('<.*?>', sentence))):\n",
    "        print(\"Total number of html tags present:\", i)\n",
    "        print(\"==\"*60)\n",
    "        print(sentence)\n",
    "        break\n",
    "    i += 1"
   ]
  },
  {
   "cell_type": "code",
   "execution_count": 14,
   "metadata": {},
   "outputs": [],
   "source": [
    "# Function to remove texts with html tags(<...>)\n",
    "\n",
    "def cleanHtml(sentence):\n",
    "    cleanr = re.compile('<.*?>')                  # Select ANY text with < > tags\n",
    "    cleanText = re.sub(cleanr, ' ', sentence)     # Replace texts enclosed in < > with white space\n",
    "    return cleanText"
   ]
  },
  {
   "cell_type": "code",
   "execution_count": 15,
   "metadata": {},
   "outputs": [],
   "source": [
    "# Function to remove punctuation marks(.,?/:;)\n",
    "\n",
    "def cleanPunctuation(sentence):\n",
    "    cleanp = re.sub(r'[?|$|.|!]',r'', sentence)\n",
    "    cleanp = re.sub(r'[.|,|)|(|\\|/]',r' ', cleanp)\n",
    "    return cleanp"
   ]
  },
  {
   "cell_type": "code",
   "execution_count": 16,
   "metadata": {},
   "outputs": [
    {
     "name": "stdout",
     "output_type": "stream",
     "text": [
      "{'hadn', 'itself', 'doing', 'how', \"wasn't\", 'there', 'down', 'at', 'll', 're', \"mustn't\", 'haven', \"needn't\", 'in', 'have', 'we', 'very', 'hasn', 'i', 'them', 'these', 'an', 'do', 'too', 'myself', \"it's\", 'being', 'her', 'off', \"doesn't\", 'shouldn', 'or', 'most', 'himself', \"you'll\", 'yourselves', 'o', \"you've\", 'below', \"aren't\", \"isn't\", 'above', 'doesn', 'wasn', 'after', 'she', 'when', 'has', 'it', 'here', 'yours', 'over', 'once', \"shouldn't\", 'other', 'again', 'ours', \"she's\", 'aren', 'ourselves', 'having', 'weren', 'into', 't', 'wouldn', 'up', 'what', 'its', 'am', 'our', 'few', 'why', \"hasn't\", 'such', \"haven't\", 'more', \"shan't\", 'don', 'who', 'mightn', \"won't\", 'd', 'did', 'yourself', 'same', 'shan', 'but', 'm', 'by', 'while', 'won', 'between', 'own', 'from', 'are', 'the', \"didn't\", 'during', 'both', 'was', 'me', 'now', \"you'd\", 'so', 'as', 'their', 'out', 'couldn', 'were', 'whom', 'hers', 'he', 'isn', 'nor', 'a', 'not', 'needn', 'ma', 'they', 'you', 'his', 'to', 'some', \"mightn't\", 'themselves', 's', 'theirs', \"weren't\", 'this', 'which', 'be', 'mustn', 'for', 'that', \"should've\", 'than', 've', 'because', \"wouldn't\", 'does', 'all', 'should', 'didn', \"you're\", 'herself', 'against', 'will', 'then', 'any', 'been', 'can', 'just', \"don't\", 'ain', 'if', 'before', 'with', 'only', 'had', 'further', 'is', 'your', 'under', 'until', 'through', 'him', 'and', 'no', 'about', \"hadn't\", 'on', 'each', \"that'll\", 'where', 'those', \"couldn't\", 'of', 'y', 'my'}\n"
     ]
    }
   ],
   "source": [
    "# Printing the set of stop words present in english language\n",
    "# You need to download stopword first before using it(import nltk; nltk.download(\"stopwords\");)\n",
    "\n",
    "stopWords = set(stopwords.words('english'))\n",
    "print(stopWords)"
   ]
  },
  {
   "cell_type": "code",
   "execution_count": 17,
   "metadata": {},
   "outputs": [],
   "source": [
    "# Initializing SnowBall Stemmer\n",
    "\n",
    "snowball = SnowballStemmer('english')"
   ]
  },
  {
   "cell_type": "code",
   "execution_count": 18,
   "metadata": {},
   "outputs": [
    {
     "name": "stdout",
     "output_type": "stream",
     "text": [
      "tasti\n",
      "delici\n",
      "littl\n"
     ]
    }
   ],
   "source": [
    "# Printing a base-word using snowball stemmer\n",
    "\n",
    "print(snowball.stem('tasty'))\n",
    "print(snowball.stem('delicious'))\n",
    "print(snowball.stem('little'))"
   ]
  },
  {
   "cell_type": "code",
   "execution_count": 19,
   "metadata": {},
   "outputs": [
    {
     "name": "stderr",
     "output_type": "stream",
     "text": [
      "100%|██████████| 364131/364131 [05:11<00:00, 1170.49it/s]\n"
     ]
    }
   ],
   "source": [
    "# Core Pre-processing code step-by-step(removing html tags, punctuations, stopwords, etc)\n",
    "# This may take a few minutes to execute as it needs to execute all the sentences present in data['Text']\n",
    "\n",
    "i = 0\n",
    "initial_str = ''\n",
    "final_str = []          # Store final string of clean words\n",
    "positive_words = []     # Store words from positive reviews here\n",
    "negative_words = []     # Store words from negative reviews here\n",
    "s = ''\n",
    "\n",
    "for sentence in tqdm(data['Text'].values):\n",
    "    filtered_sentence = []\n",
    "    sentence = cleanHtml(sentence)          # Remove html tags\n",
    "    for words in sentence.split():\n",
    "        for word in cleanPunctuation(words).split():\n",
    "            if ((word.isalpha()) & (len(word) > 2)):\n",
    "                if (word.lower() not in stopWords):\n",
    "                    s = (snowball.stem(word.lower()).encode('utf-8'))\n",
    "                    filtered_sentence.append(s)\n",
    "                    if ((data['Score'].values)[i] == 'Positive'):\n",
    "                        positive_words.append(s)\n",
    "                    if ((data['Score'].values)[i] == 'Negative'):\n",
    "                        negative_words.append(s)\n",
    "                else:\n",
    "                    continue\n",
    "            else:\n",
    "                continue\n",
    "    initial_str = b\" \".join(filtered_sentence)      # Final string of clean words\n",
    "    final_str.append(initial_str)\n",
    "    i += 1"
   ]
  },
  {
   "cell_type": "code",
   "execution_count": 20,
   "metadata": {},
   "outputs": [],
   "source": [
    "# Adding a column in dataset and storing cleaned text in it.\n",
    "\n",
    "data['CleanedText'] = final_str\n",
    "data['CleanedText'] = data['CleanedText'].str.decode(\"utf-8\")"
   ]
  },
  {
   "cell_type": "code",
   "execution_count": 21,
   "metadata": {},
   "outputs": [
    {
     "data": {
      "text/html": [
       "<div>\n",
       "<style scoped>\n",
       "    .dataframe tbody tr th:only-of-type {\n",
       "        vertical-align: middle;\n",
       "    }\n",
       "\n",
       "    .dataframe tbody tr th {\n",
       "        vertical-align: top;\n",
       "    }\n",
       "\n",
       "    .dataframe thead th {\n",
       "        text-align: right;\n",
       "    }\n",
       "</style>\n",
       "<table border=\"1\" class=\"dataframe\">\n",
       "  <thead>\n",
       "    <tr style=\"text-align: right;\">\n",
       "      <th></th>\n",
       "      <th>Id</th>\n",
       "      <th>ProductId</th>\n",
       "      <th>UserId</th>\n",
       "      <th>ProfileName</th>\n",
       "      <th>HelpfulnessNumerator</th>\n",
       "      <th>HelpfulnessDenominator</th>\n",
       "      <th>Score</th>\n",
       "      <th>Time</th>\n",
       "      <th>Summary</th>\n",
       "      <th>Text</th>\n",
       "      <th>CleanedText</th>\n",
       "    </tr>\n",
       "  </thead>\n",
       "  <tbody>\n",
       "    <tr>\n",
       "      <th>138706</th>\n",
       "      <td>150524</td>\n",
       "      <td>0006641040</td>\n",
       "      <td>ACITT7DI6IDDL</td>\n",
       "      <td>shari zychinski</td>\n",
       "      <td>0</td>\n",
       "      <td>0</td>\n",
       "      <td>Positive</td>\n",
       "      <td>939340800</td>\n",
       "      <td>EVERY book is educational</td>\n",
       "      <td>this witty little book makes my son laugh at l...</td>\n",
       "      <td>witti littl book make son laugh loud recit car...</td>\n",
       "    </tr>\n",
       "    <tr>\n",
       "      <th>138688</th>\n",
       "      <td>150506</td>\n",
       "      <td>0006641040</td>\n",
       "      <td>A2IW4PEEKO2R0U</td>\n",
       "      <td>Tracy</td>\n",
       "      <td>1</td>\n",
       "      <td>1</td>\n",
       "      <td>Positive</td>\n",
       "      <td>1194739200</td>\n",
       "      <td>Love the book, miss the hard cover version</td>\n",
       "      <td>I grew up reading these Sendak books, and watc...</td>\n",
       "      <td>grew read sendak book watch realli rosi movi i...</td>\n",
       "    </tr>\n",
       "    <tr>\n",
       "      <th>138689</th>\n",
       "      <td>150507</td>\n",
       "      <td>0006641040</td>\n",
       "      <td>A1S4A3IQ2MU7V4</td>\n",
       "      <td>sally sue \"sally sue\"</td>\n",
       "      <td>1</td>\n",
       "      <td>1</td>\n",
       "      <td>Positive</td>\n",
       "      <td>1191456000</td>\n",
       "      <td>chicken soup with rice months</td>\n",
       "      <td>This is a fun way for children to learn their ...</td>\n",
       "      <td>fun way children learn month year learn poem t...</td>\n",
       "    </tr>\n",
       "    <tr>\n",
       "      <th>138690</th>\n",
       "      <td>150508</td>\n",
       "      <td>0006641040</td>\n",
       "      <td>AZGXZ2UUK6X</td>\n",
       "      <td>Catherine Hallberg \"(Kate)\"</td>\n",
       "      <td>1</td>\n",
       "      <td>1</td>\n",
       "      <td>Positive</td>\n",
       "      <td>1076025600</td>\n",
       "      <td>a good swingy rhythm for reading aloud</td>\n",
       "      <td>This is a great little book to read aloud- it ...</td>\n",
       "      <td>great littl book read nice rhythm well good re...</td>\n",
       "    </tr>\n",
       "    <tr>\n",
       "      <th>138691</th>\n",
       "      <td>150509</td>\n",
       "      <td>0006641040</td>\n",
       "      <td>A3CMRKGE0P909G</td>\n",
       "      <td>Teresa</td>\n",
       "      <td>3</td>\n",
       "      <td>4</td>\n",
       "      <td>Positive</td>\n",
       "      <td>1018396800</td>\n",
       "      <td>A great way to learn the months</td>\n",
       "      <td>This is a book of poetry about the months of t...</td>\n",
       "      <td>book poetri month year goe month cute littl po...</td>\n",
       "    </tr>\n",
       "  </tbody>\n",
       "</table>\n",
       "</div>"
      ],
      "text/plain": [
       "            Id   ProductId          UserId                  ProfileName  \\\n",
       "138706  150524  0006641040   ACITT7DI6IDDL              shari zychinski   \n",
       "138688  150506  0006641040  A2IW4PEEKO2R0U                        Tracy   \n",
       "138689  150507  0006641040  A1S4A3IQ2MU7V4        sally sue \"sally sue\"   \n",
       "138690  150508  0006641040     AZGXZ2UUK6X  Catherine Hallberg \"(Kate)\"   \n",
       "138691  150509  0006641040  A3CMRKGE0P909G                       Teresa   \n",
       "\n",
       "        HelpfulnessNumerator  HelpfulnessDenominator     Score        Time  \\\n",
       "138706                     0                       0  Positive   939340800   \n",
       "138688                     1                       1  Positive  1194739200   \n",
       "138689                     1                       1  Positive  1191456000   \n",
       "138690                     1                       1  Positive  1076025600   \n",
       "138691                     3                       4  Positive  1018396800   \n",
       "\n",
       "                                           Summary  \\\n",
       "138706                   EVERY book is educational   \n",
       "138688  Love the book, miss the hard cover version   \n",
       "138689               chicken soup with rice months   \n",
       "138690      a good swingy rhythm for reading aloud   \n",
       "138691             A great way to learn the months   \n",
       "\n",
       "                                                     Text  \\\n",
       "138706  this witty little book makes my son laugh at l...   \n",
       "138688  I grew up reading these Sendak books, and watc...   \n",
       "138689  This is a fun way for children to learn their ...   \n",
       "138690  This is a great little book to read aloud- it ...   \n",
       "138691  This is a book of poetry about the months of t...   \n",
       "\n",
       "                                              CleanedText  \n",
       "138706  witti littl book make son laugh loud recit car...  \n",
       "138688  grew read sendak book watch realli rosi movi i...  \n",
       "138689  fun way children learn month year learn poem t...  \n",
       "138690  great littl book read nice rhythm well good re...  \n",
       "138691  book poetri month year goe month cute littl po...  "
      ]
     },
     "execution_count": 21,
     "metadata": {},
     "output_type": "execute_result"
    }
   ],
   "source": [
    "data.head()"
   ]
  },
  {
   "cell_type": "markdown",
   "metadata": {},
   "source": [
    "# 3. Time-based splitting of data"
   ]
  },
  {
   "cell_type": "code",
   "execution_count": 22,
   "metadata": {},
   "outputs": [
    {
     "data": {
      "text/html": [
       "<div>\n",
       "<style scoped>\n",
       "    .dataframe tbody tr th:only-of-type {\n",
       "        vertical-align: middle;\n",
       "    }\n",
       "\n",
       "    .dataframe tbody tr th {\n",
       "        vertical-align: top;\n",
       "    }\n",
       "\n",
       "    .dataframe thead th {\n",
       "        text-align: right;\n",
       "    }\n",
       "</style>\n",
       "<table border=\"1\" class=\"dataframe\">\n",
       "  <thead>\n",
       "    <tr style=\"text-align: right;\">\n",
       "      <th></th>\n",
       "      <th>Id</th>\n",
       "      <th>ProductId</th>\n",
       "      <th>UserId</th>\n",
       "      <th>ProfileName</th>\n",
       "      <th>HelpfulnessNumerator</th>\n",
       "      <th>HelpfulnessDenominator</th>\n",
       "      <th>Score</th>\n",
       "      <th>Time</th>\n",
       "      <th>Summary</th>\n",
       "      <th>Text</th>\n",
       "      <th>CleanedText</th>\n",
       "    </tr>\n",
       "  </thead>\n",
       "  <tbody>\n",
       "    <tr>\n",
       "      <th>138706</th>\n",
       "      <td>150524</td>\n",
       "      <td>0006641040</td>\n",
       "      <td>ACITT7DI6IDDL</td>\n",
       "      <td>shari zychinski</td>\n",
       "      <td>0</td>\n",
       "      <td>0</td>\n",
       "      <td>Positive</td>\n",
       "      <td>939340800</td>\n",
       "      <td>EVERY book is educational</td>\n",
       "      <td>this witty little book makes my son laugh at l...</td>\n",
       "      <td>witti littl book make son laugh loud recit car...</td>\n",
       "    </tr>\n",
       "    <tr>\n",
       "      <th>138683</th>\n",
       "      <td>150501</td>\n",
       "      <td>0006641040</td>\n",
       "      <td>AJ46FKXOVC7NR</td>\n",
       "      <td>Nicholas A Mesiano</td>\n",
       "      <td>2</td>\n",
       "      <td>2</td>\n",
       "      <td>Positive</td>\n",
       "      <td>940809600</td>\n",
       "      <td>This whole series is great way to spend time w...</td>\n",
       "      <td>I can remember seeing the show when it aired o...</td>\n",
       "      <td>rememb see show air televis year ago child sis...</td>\n",
       "    </tr>\n",
       "    <tr>\n",
       "      <th>417839</th>\n",
       "      <td>451856</td>\n",
       "      <td>B00004CXX9</td>\n",
       "      <td>AIUWLEQ1ADEG5</td>\n",
       "      <td>Elizabeth Medina</td>\n",
       "      <td>0</td>\n",
       "      <td>0</td>\n",
       "      <td>Positive</td>\n",
       "      <td>944092800</td>\n",
       "      <td>Entertainingl Funny!</td>\n",
       "      <td>Beetlejuice is a well written movie ..... ever...</td>\n",
       "      <td>beetlejuic well written movi everyth excel act...</td>\n",
       "    </tr>\n",
       "    <tr>\n",
       "      <th>346055</th>\n",
       "      <td>374359</td>\n",
       "      <td>B00004CI84</td>\n",
       "      <td>A344SMIA5JECGM</td>\n",
       "      <td>Vincent P. Ross</td>\n",
       "      <td>1</td>\n",
       "      <td>2</td>\n",
       "      <td>Positive</td>\n",
       "      <td>944438400</td>\n",
       "      <td>A modern day fairy tale</td>\n",
       "      <td>A twist of rumplestiskin captured on film, sta...</td>\n",
       "      <td>twist rumplestiskin captur film star michael k...</td>\n",
       "    </tr>\n",
       "    <tr>\n",
       "      <th>417838</th>\n",
       "      <td>451855</td>\n",
       "      <td>B00004CXX9</td>\n",
       "      <td>AJH6LUC1UT1ON</td>\n",
       "      <td>The Phantom of the Opera</td>\n",
       "      <td>0</td>\n",
       "      <td>0</td>\n",
       "      <td>Positive</td>\n",
       "      <td>946857600</td>\n",
       "      <td>FANTASTIC!</td>\n",
       "      <td>Beetlejuice is an excellent and funny movie. K...</td>\n",
       "      <td>beetlejuic excel funni movi keaton hilari wack...</td>\n",
       "    </tr>\n",
       "  </tbody>\n",
       "</table>\n",
       "</div>"
      ],
      "text/plain": [
       "            Id   ProductId          UserId               ProfileName  \\\n",
       "138706  150524  0006641040   ACITT7DI6IDDL           shari zychinski   \n",
       "138683  150501  0006641040   AJ46FKXOVC7NR        Nicholas A Mesiano   \n",
       "417839  451856  B00004CXX9   AIUWLEQ1ADEG5          Elizabeth Medina   \n",
       "346055  374359  B00004CI84  A344SMIA5JECGM           Vincent P. Ross   \n",
       "417838  451855  B00004CXX9   AJH6LUC1UT1ON  The Phantom of the Opera   \n",
       "\n",
       "        HelpfulnessNumerator  HelpfulnessDenominator     Score       Time  \\\n",
       "138706                     0                       0  Positive  939340800   \n",
       "138683                     2                       2  Positive  940809600   \n",
       "417839                     0                       0  Positive  944092800   \n",
       "346055                     1                       2  Positive  944438400   \n",
       "417838                     0                       0  Positive  946857600   \n",
       "\n",
       "                                                  Summary  \\\n",
       "138706                          EVERY book is educational   \n",
       "138683  This whole series is great way to spend time w...   \n",
       "417839                               Entertainingl Funny!   \n",
       "346055                            A modern day fairy tale   \n",
       "417838                                         FANTASTIC!   \n",
       "\n",
       "                                                     Text  \\\n",
       "138706  this witty little book makes my son laugh at l...   \n",
       "138683  I can remember seeing the show when it aired o...   \n",
       "417839  Beetlejuice is a well written movie ..... ever...   \n",
       "346055  A twist of rumplestiskin captured on film, sta...   \n",
       "417838  Beetlejuice is an excellent and funny movie. K...   \n",
       "\n",
       "                                              CleanedText  \n",
       "138706  witti littl book make son laugh loud recit car...  \n",
       "138683  rememb see show air televis year ago child sis...  \n",
       "417839  beetlejuic well written movi everyth excel act...  \n",
       "346055  twist rumplestiskin captur film star michael k...  \n",
       "417838  beetlejuic excel funni movi keaton hilari wack...  "
      ]
     },
     "execution_count": 22,
     "metadata": {},
     "output_type": "execute_result"
    }
   ],
   "source": [
    "# Sorting data based on time\n",
    "\n",
    "time_sort = data.sort_values('Time', ascending=True, axis=0, na_position='last')       # na_postion='last' puts NaNs at the end\n",
    "time_sort.head()"
   ]
  },
  {
   "cell_type": "code",
   "execution_count": 23,
   "metadata": {},
   "outputs": [],
   "source": [
    "from sklearn.model_selection import train_test_split"
   ]
  },
  {
   "cell_type": "code",
   "execution_count": 24,
   "metadata": {},
   "outputs": [],
   "source": [
    "# Splitting data into Train, Test and Cross-validation\n",
    "\n",
    "X = time_sort['CleanedText']\n",
    "Y = time_sort['Score']\n",
    "\n",
    "x_training, x_test, y_training, y_test= train_test_split(X, Y, test_size=0.25)\n",
    "x_train, x_cv, y_train, y_cv = train_test_split(x_training, y_training, test_size=0.3)"
   ]
  },
  {
   "cell_type": "code",
   "execution_count": 25,
   "metadata": {},
   "outputs": [
    {
     "name": "stdout",
     "output_type": "stream",
     "text": [
      "The shape of the training data is: (191168,) (191168,)\n",
      "The shape of the CV data is: (81930,) (81930,)\n",
      "The shape of the test data is: (91033,) (91033,)\n"
     ]
    }
   ],
   "source": [
    "print(\"The shape of the training data is:\", x_train.shape, y_train.shape)\n",
    "print(\"The shape of the CV data is:\", x_cv.shape, y_cv.shape)\n",
    "print(\"The shape of the test data is:\", x_test.shape, y_test.shape)"
   ]
  },
  {
   "cell_type": "markdown",
   "metadata": {},
   "source": [
    "# 4. Function to Train and Test Support Vector Machine models"
   ]
  },
  {
   "cell_type": "code",
   "execution_count": 26,
   "metadata": {},
   "outputs": [],
   "source": [
    "import warnings\n",
    "warnings.filterwarnings(\"ignore\")\n",
    "from sklearn.linear_model import SGDClassifier\n",
    "from sklearn.calibration import CalibratedClassifierCV\n",
    "from sklearn.svm import SVC\n",
    "from sklearn.metrics import accuracy_score, f1_score, precision_score, recall_score"
   ]
  },
  {
   "cell_type": "markdown",
   "metadata": {},
   "source": [
    "### 4.1 Train function for Support Vector Machine models"
   ]
  },
  {
   "cell_type": "code",
   "execution_count": 27,
   "metadata": {},
   "outputs": [],
   "source": [
    "def svm_train(x_train, x_cv, y_train, y_cv, algo):\n",
    "    alpha = [10**x for x in range(-5, 4)]     # Here alpha serves both for itself and c as well\n",
    "    accuracy_cv = []\n",
    "\n",
    "    for i in alpha[0:]:\n",
    "        if (algo == 'Linear'):\n",
    "            model=SGDClassifier(alpha=i)\n",
    "            svm = CalibratedClassifierCV(base_estimator=model)\n",
    "        elif (algo == 'RBF'):\n",
    "            svm = SVC(C=i, probability=True)\n",
    "        svm.fit(x_train, y_train)\n",
    "        \n",
    "        prediction = svm.predict(x_cv)\n",
    "        \n",
    "        acc_cv = accuracy_score(y_cv, prediction)\n",
    "        f1_cv = f1_score(y_cv, prediction, average='macro')\n",
    "        precision_cv = precision_score(y_cv, prediction, average='macro')\n",
    "        recall_cv = recall_score(y_cv, prediction, average='macro')\n",
    "        \n",
    "        print(\"FOR α =\", i)\n",
    "        print(\"The accuracy of the model is:\", acc_cv*100)\n",
    "        print(\"The f1_score of the model is:\", f1_cv*100)\n",
    "        print(\"The precision_score of the model is:\", precision_cv*100)\n",
    "        print(\"The recall_score of the model is:\", recall_cv*100)\n",
    "        print(\"==\"*60)\n",
    "        \n",
    "        accuracy_cv.append(acc_cv)\n",
    "        \n",
    "    # Plot α vs auc_score graph\n",
    "    plt.plot(alpha, accuracy_cv, 'b-', label=\"Cross Validation Data\")\n",
    "    plt.legend(loc='lower right')\n",
    "    plt.title(\"α v/s Auc Score\")\n",
    "    plt.ylabel('Auc Score')\n",
    "    plt.xlabel('alpha (α)')\n",
    "    plt.show()"
   ]
  },
  {
   "cell_type": "markdown",
   "metadata": {},
   "source": [
    "### 4.2 Test function for Support Vector Machine models"
   ]
  },
  {
   "cell_type": "code",
   "execution_count": 28,
   "metadata": {},
   "outputs": [],
   "source": [
    "from sklearn.metrics import classification_report\n",
    "from scikitplot.metrics import plot_confusion_matrix"
   ]
  },
  {
   "cell_type": "code",
   "execution_count": 29,
   "metadata": {},
   "outputs": [],
   "source": [
    "def svm_test(x_train, y_train, x_test, y_test, optimal_alpha, algo):\n",
    "    if (algo == 'Linear'):\n",
    "        model=SGDClassifier(alpha=optimal_alpha)            # Here optimum_alpha serves both for itself and optimal_c as well\n",
    "        svm = CalibratedClassifierCV(base_estimator=model)\n",
    "    elif (algo == 'RBF'):\n",
    "        svm = SVC(C=optimal_alpha, probability=True)        # Here optimum_alpha serves both for itself and optimal_c as well\n",
    "    svm.fit(x_train, y_train)\n",
    "    \n",
    "    prediction = svm.predict(x_test)\n",
    "\n",
    "    print(\"The accuracy of the model is:\", accuracy_score(y_test, prediction)*100)\n",
    "    print(\"The macro f1_score of the model is:\", f1_score(y_test, prediction, average = 'macro')*100)\n",
    "    print(\"The micro f1_score of the model is:\", f1_score(y_test, prediction, average = 'micro')*100)\n",
    "    print(\"The precision_score of the model is:\", precision_score(y_test, prediction, average='macro')*100)\n",
    "    print(\"The recall_score of the model is:\", recall_score(y_test, prediction, average='macro')*100)\n",
    "    print(\"The precision recall report for data:\\n\", classification_report(y_test, prediction))\n",
    "    \n",
    "    plot_confusion_matrix(y_test, prediction)\n",
    "    plt.show()"
   ]
  },
  {
   "cell_type": "markdown",
   "metadata": {},
   "source": [
    "### 4.3 Top 10 Features of Support Vector Machine models"
   ]
  },
  {
   "cell_type": "code",
   "execution_count": 31,
   "metadata": {},
   "outputs": [],
   "source": [
    "def top_features(x_train, y_train, vectorizer, optimal_alpha, algo):\n",
    "    all_features = vectorizer.get_feature_names()\n",
    "    if (algo == 'Linear'):\n",
    "        model = SGDClassifier(alpha=optimal_alpha)            # Here optimum_alpha serves both for itself and optimal_c as well\n",
    "    elif (algo == 'RBF'):\n",
    "        model = SVC(C=optimal_alpha, probability=True)        # Here optimum_alpha serves both for itself and optimal_c as well\n",
    "    model.fit(x_train, y_train)\n",
    "    weight = model.coef_\n",
    "    top_positive = np.argsort(weight)[:,::-1]\n",
    "    top_negative = np.argsort(weight)\n",
    "    \n",
    "    print('These are the Top 10 Positive Features:')\n",
    "    for i in list(top_positive[0][0:10]):\n",
    "        print(\"\\t\", all_features[i])\n",
    "        \n",
    "    print('These are the Top 10 Negative Features:')\n",
    "    for i in list(top_negative[0][0:10]):\n",
    "        print(\"\\t\", all_features[i])"
   ]
  },
  {
   "cell_type": "markdown",
   "metadata": {},
   "source": [
    "# 5. Vectorization of splitted of data"
   ]
  },
  {
   "cell_type": "markdown",
   "metadata": {},
   "source": [
    "### 5.1 Bag of Words (BoW)"
   ]
  },
  {
   "cell_type": "code",
   "execution_count": 32,
   "metadata": {},
   "outputs": [],
   "source": [
    "from sklearn.feature_extraction.text import CountVectorizer"
   ]
  },
  {
   "cell_type": "code",
   "execution_count": 33,
   "metadata": {},
   "outputs": [],
   "source": [
    "count_vect = CountVectorizer(ngram_range=(1,2))\n",
    "count_vect.fit(x_train)\n",
    "# Fit should be done only to train data\n",
    "# After fitting count_vect only learns the vocabulary of x_train i.e unique words(unique n-grams)\n",
    "\n",
    "# To convert the SENTENCE into numerical vectors, we call transform()\n",
    "x_train_bow = count_vect.transform(x_train)\n",
    "x_cv_bow = count_vect.transform(x_cv)\n",
    "x_test_bow = count_vect.transform(x_test)"
   ]
  },
  {
   "cell_type": "code",
   "execution_count": 34,
   "metadata": {},
   "outputs": [
    {
     "name": "stdout",
     "output_type": "stream",
     "text": [
      "The shape of the training data is: (191168, 1931880) (191168,)\n",
      "The shape of the CV data is: (81930, 1931880) (81930,)\n",
      "The shape of the test data is: (91033, 1931880) (91033,)\n"
     ]
    }
   ],
   "source": [
    "print(\"The shape of the training data is:\", x_train_bow.shape, y_train.shape)\n",
    "print(\"The shape of the CV data is:\", x_cv_bow.shape, y_cv.shape)\n",
    "print(\"The shape of the test data is:\", x_test_bow.shape, y_test.shape)"
   ]
  },
  {
   "cell_type": "markdown",
   "metadata": {},
   "source": [
    "### 5.2 Term Frequency - Inverse Document Frequency (tf-idf)"
   ]
  },
  {
   "cell_type": "code",
   "execution_count": 35,
   "metadata": {},
   "outputs": [],
   "source": [
    "from sklearn.feature_extraction.text import TfidfVectorizer"
   ]
  },
  {
   "cell_type": "code",
   "execution_count": 36,
   "metadata": {},
   "outputs": [],
   "source": [
    "tfidf_vect = TfidfVectorizer(stop_words=None, ngram_range=(1,2))\n",
    "tfidf_vect.fit(x_train)\n",
    "# Fit should be done only to train data\n",
    "# After fitting tfidf_vect only learnss the vocabulary of x_train i.e unique words(unique n-grams)\n",
    "\n",
    "# To convert the SENTENCE into numerical vectors, we call transform()\n",
    "x_train_tfidf = tfidf_vect.transform(x_train)\n",
    "x_cv_tfidf = tfidf_vect.transform(x_cv)\n",
    "x_test_tfidf = tfidf_vect.transform(x_test)"
   ]
  },
  {
   "cell_type": "code",
   "execution_count": 37,
   "metadata": {},
   "outputs": [
    {
     "name": "stdout",
     "output_type": "stream",
     "text": [
      "The shape of the training data is: (191168, 1931880) (191168,)\n",
      "The shape of the CV data is: (81930, 1931880) (81930,)\n",
      "The shape of the test data is: (91033, 1931880) (91033,)\n"
     ]
    }
   ],
   "source": [
    "print(\"The shape of the training data is:\", x_train_tfidf.shape, y_train.shape)\n",
    "print(\"The shape of the CV data is:\", x_cv_tfidf.shape, y_cv.shape)\n",
    "print(\"The shape of the test data is:\", x_test_tfidf.shape, y_test.shape)"
   ]
  },
  {
   "cell_type": "markdown",
   "metadata": {},
   "source": [
    "### 5.3 Word2Vec"
   ]
  },
  {
   "cell_type": "code",
   "execution_count": 38,
   "metadata": {},
   "outputs": [],
   "source": [
    "from gensim.models import Word2Vec\n",
    "from gensim.models import KeyedVectors"
   ]
  },
  {
   "cell_type": "code",
   "execution_count": 39,
   "metadata": {},
   "outputs": [],
   "source": [
    "sentence_list = []\n",
    "for sentence in x_train:\n",
    "    sentence_list.append(sentence.split())"
   ]
  },
  {
   "cell_type": "code",
   "execution_count": 40,
   "metadata": {},
   "outputs": [],
   "source": [
    "sentence_list_cv = []\n",
    "for sentence in x_cv:\n",
    "    sentence_list_cv.append(sentence.split())"
   ]
  },
  {
   "cell_type": "code",
   "execution_count": 41,
   "metadata": {},
   "outputs": [],
   "source": [
    "sentence_list_test = []\n",
    "for sentence in x_test:\n",
    "    sentence_list_test.append(sentence.split())"
   ]
  },
  {
   "cell_type": "code",
   "execution_count": 42,
   "metadata": {},
   "outputs": [
    {
     "name": "stdout",
     "output_type": "stream",
     "text": [
      "<class 'gensim.models.word2vec.Word2Vec'>\n"
     ]
    }
   ],
   "source": [
    "# Train your own Word2Vec model using your own train text corpus \n",
    "\n",
    "w2v_train_model = Word2Vec(sentence_list, min_count=5, size=50, workers=4)          # Considers only those words that occured atleast 5 times\n",
    "print(type(w2v_train_model))"
   ]
  },
  {
   "cell_type": "code",
   "execution_count": 43,
   "metadata": {},
   "outputs": [
    {
     "name": "stdout",
     "output_type": "stream",
     "text": [
      "The number of words that occured minimum 5 times: 16456\n",
      "These are the sample words from index 0 to 50:/n ['aroma', 'greatest', 'aspect', 'coffe', 'liter', 'open', 'entir', 'room', 'smell', 'rich', 'vanilla', 'tast', 'bold', 'smooth', 'work', 'well', 'breakfast', 'anytim', 'day', 'would', 'compar', 'dunkin', 'donut', 'howev', 'less', 'complaint', 'bag', 'tri', 'basic', 'cut', 'whole', 'thing', 'fair', 'may', 'got', 'abnorm', 'seal', 'absolut', 'favorit', 'marinad', 'chicken', 'beef', 'venison', 'use', 'grill', 'meat', 'also', 'saut', 'onion', 'mushroom']\n"
     ]
    }
   ],
   "source": [
    "w2v_words = list(w2v_train_model.wv.vocab)\n",
    "print(\"The number of words that occured minimum 5 times:\", len(w2v_words))\n",
    "print(\"These are the sample words from index 0 to 50:/n\", w2v_words[0:50])"
   ]
  },
  {
   "cell_type": "markdown",
   "metadata": {},
   "source": [
    "### 5.4 Average Word2Vec"
   ]
  },
  {
   "cell_type": "code",
   "execution_count": 44,
   "metadata": {},
   "outputs": [
    {
     "name": "stderr",
     "output_type": "stream",
     "text": [
      "100%|██████████| 191168/191168 [00:21<00:00, 9082.91it/s]\n"
     ]
    }
   ],
   "source": [
    "avg_train_vector = []                         # Average w2v for each review/sentence is stored in this array\n",
    "for sentence in tqdm(sentence_list):          # For each sentence/review\n",
    "    sentence_vector = np.zeros(50)            # As word vectors are of zero length\n",
    "    count_words = 0                           # Num of words with a valid vector in a sentence/review\n",
    "    for word in sentence:\n",
    "        try:\n",
    "            vect = w2v_train_model.wv[word]\n",
    "            sentence_vector += vect\n",
    "            count_words += 1\n",
    "        except:\n",
    "            pass\n",
    "    if count_words != 0:\n",
    "        sentence_vector /= count_words\n",
    "    avg_train_vector.append(sentence_vector)\n",
    "avg_train_vector = np.array(avg_train_vector)"
   ]
  },
  {
   "cell_type": "code",
   "execution_count": 45,
   "metadata": {},
   "outputs": [
    {
     "name": "stdout",
     "output_type": "stream",
     "text": [
      "(191168, 50)\n",
      "[-0.06350373  1.5137884  -0.9430755   1.12278681 -0.13760446 -0.76098048\n",
      "  0.08197785  0.35025594 -1.11403085  0.57274527  0.11419332 -0.32974786\n",
      " -1.2585566  -0.04771347  0.73677397 -0.99433791  0.51274831 -0.51546284\n",
      "  0.29796698  0.05987203 -0.71322644 -0.0227671  -0.13451419 -0.83898607\n",
      "  0.11192682 -0.47378385  0.69713531  0.47718148 -0.58468431  0.53226705\n",
      "  0.3942625   0.44121555 -0.14767597  0.14474413  0.15120894  1.10574399\n",
      "  1.12273795 -0.36850406 -0.43410518 -0.04269999  0.6901423   0.45516318\n",
      "  0.26693645 -0.53579564  0.40502283  1.68304621 -0.07352724  0.39589029\n",
      "  0.20794846 -0.09448708]\n"
     ]
    }
   ],
   "source": [
    "print(avg_train_vector.shape)\n",
    "print(avg_train_vector[0])"
   ]
  },
  {
   "cell_type": "code",
   "execution_count": 46,
   "metadata": {},
   "outputs": [
    {
     "name": "stderr",
     "output_type": "stream",
     "text": [
      "100%|██████████| 81930/81930 [00:09<00:00, 9095.19it/s]\n"
     ]
    }
   ],
   "source": [
    "avg_cv_vector = []                            # Average w2v for each review/sentence is stored in this array\n",
    "for sentence in tqdm(sentence_list_cv):       # For each sentence/review\n",
    "    sentence_vector = np.zeros(50)            # As word vectors are of zero length\n",
    "    count_words = 0                           # Num of words with a valid vector in a sentence/review\n",
    "    for word in sentence:\n",
    "        try:\n",
    "            vect = w2v_train_model.wv[word]\n",
    "            sentence_vector += vect\n",
    "            count_words += 1\n",
    "        except:\n",
    "            pass\n",
    "    if count_words != 0:\n",
    "        sentence_vector /= count_words\n",
    "    avg_cv_vector.append(sentence_vector)\n",
    "avg_cv_vector = np.array(avg_cv_vector)"
   ]
  },
  {
   "cell_type": "code",
   "execution_count": 47,
   "metadata": {},
   "outputs": [
    {
     "name": "stdout",
     "output_type": "stream",
     "text": [
      "(81930, 50)\n",
      "[ 0.31747478  0.75099173 -0.30000654  0.93157064  0.10747908  0.13705613\n",
      "  0.37819605  0.13774024 -1.355894    0.40810279 -0.35282248  0.53928066\n",
      " -0.26747118 -0.06787945 -0.308134   -0.12939394  0.63218093  0.63570925\n",
      "  0.05658553  0.07223037  0.13247127  0.02812386 -0.50268894 -0.2207473\n",
      " -0.17014461  0.50157521 -0.44754249 -0.43912923 -0.39683063  0.8752054\n",
      "  0.37310731 -0.3259411  -0.51061278 -0.30475404  0.79628942  0.30067887\n",
      " -0.04448922 -0.75837115  0.65302731  0.48940734  0.17789104 -0.26929269\n",
      " -0.60144313  0.1171654   0.17903162  1.04515519  0.1458677  -1.03972113\n",
      " -1.23744916  0.41272254]\n"
     ]
    }
   ],
   "source": [
    "print(avg_cv_vector.shape)\n",
    "print(avg_cv_vector[0])"
   ]
  },
  {
   "cell_type": "code",
   "execution_count": 48,
   "metadata": {},
   "outputs": [
    {
     "name": "stderr",
     "output_type": "stream",
     "text": [
      "100%|██████████| 91033/91033 [00:09<00:00, 9163.74it/s]\n"
     ]
    }
   ],
   "source": [
    "avg_test_vector = []                          # Average w2v for each review/sentence is stored in this array\n",
    "for sentence in tqdm(sentence_list_test):     # For each sentence/review\n",
    "    sentence_vector = np.zeros(50)            # As word vectors are of zero length\n",
    "    count_words = 0                           # Num of words with a valid vector in a sentence/review\n",
    "    for word in sentence:\n",
    "        try:\n",
    "            vect = w2v_train_model.wv[word]\n",
    "            sentence_vector += vect\n",
    "            count_words += 1\n",
    "        except:\n",
    "            pass\n",
    "    if count_words != 0:\n",
    "        sentence_vector /= count_words\n",
    "    avg_test_vector.append(sentence_vector)\n",
    "avg_test_vector = np.array(avg_test_vector)"
   ]
  },
  {
   "cell_type": "code",
   "execution_count": 49,
   "metadata": {},
   "outputs": [
    {
     "name": "stdout",
     "output_type": "stream",
     "text": [
      "(91033, 50)\n",
      "[-0.09768148  0.41877554 -0.87718358  0.30577701 -0.01712659 -0.16750296\n",
      "  0.09557414 -0.1959483  -0.59078463  0.93309552 -0.46290252 -0.67552689\n",
      " -0.51698352  0.35768515 -0.03511771 -0.67955586 -0.14324086 -0.01833543\n",
      "  0.20274868  0.52726822 -0.11447823  0.13928192  0.02465419 -0.17365359\n",
      "  0.21538604 -0.18823635  0.24600279  0.78752885 -0.26346159  0.37207237\n",
      " -0.34623763 -0.32666688 -0.43070353  0.09174812  0.08444377  0.73419502\n",
      "  0.77011738  0.20171509 -0.2672882  -0.23390421  0.62298034  0.75212719\n",
      "  0.64710116 -0.47846581  0.37345036  1.25556061  0.06388412 -0.01146499\n",
      "  0.54814563 -0.10936842]\n"
     ]
    }
   ],
   "source": [
    "print(avg_test_vector.shape)\n",
    "print(avg_test_vector[0])"
   ]
  },
  {
   "cell_type": "code",
   "execution_count": 50,
   "metadata": {},
   "outputs": [],
   "source": [
    "x_train_avgw2v = avg_train_vector\n",
    "x_cv_avgw2v = avg_cv_vector\n",
    "x_test_avgw2v = avg_test_vector"
   ]
  },
  {
   "cell_type": "code",
   "execution_count": 51,
   "metadata": {},
   "outputs": [
    {
     "name": "stdout",
     "output_type": "stream",
     "text": [
      "The shape of the training data is: (191168, 50) (191168,)\n",
      "The shape of the CV data is: (81930, 50) (81930,)\n",
      "The shape of the test data is: (91033, 50) (91033,)\n"
     ]
    }
   ],
   "source": [
    "print(\"The shape of the training data is:\", x_train_avgw2v.shape, y_train.shape)\n",
    "print(\"The shape of the CV data is:\", x_cv_avgw2v.shape, y_cv.shape)\n",
    "print(\"The shape of the test data is:\", x_test_avgw2v.shape, y_test.shape)"
   ]
  },
  {
   "cell_type": "markdown",
   "metadata": {},
   "source": [
    "### 5.5 TF-IDF Weighed Word2Vec"
   ]
  },
  {
   "cell_type": "code",
   "execution_count": 52,
   "metadata": {},
   "outputs": [],
   "source": [
    "from sklearn.feature_extraction.text import TfidfVectorizer"
   ]
  },
  {
   "cell_type": "code",
   "execution_count": 53,
   "metadata": {},
   "outputs": [],
   "source": [
    "tfidf_vect = TfidfVectorizer(ngram_range=(1,2), min_df=10, max_features=500)\n",
    "tfidf_vect.fit_transform(x_train)\n",
    "tfidf_feat = tfidf_vect.get_feature_names()\n",
    "dictionary = dict(zip(tfidf_feat, list(tfidf_vect.idf_)))"
   ]
  },
  {
   "cell_type": "code",
   "execution_count": 54,
   "metadata": {},
   "outputs": [
    {
     "name": "stderr",
     "output_type": "stream",
     "text": [
      "100%|██████████| 191168/191168 [00:46<00:00, 4153.18it/s]\n"
     ]
    }
   ],
   "source": [
    "tfidf_train_vector = []                         # Average w2v for each review/sentence is stored in this array\n",
    "for sentence in tqdm(sentence_list):            # For each sentence/review\n",
    "    sentence_vector = np.zeros(50)              # As word vectors are of zero length\n",
    "    weight_sum = 0                              # Num of words with a valid vector in a sentence/review\n",
    "    for word in sentence:\n",
    "        try:\n",
    "            vect = w2v_train_model.wv[word]\n",
    "            tfidf_weight = dictionary[word]*(sentence.count(word)/len(sentence))\n",
    "            sentence_vector += (vect*tfidf_weight)\n",
    "            weight_sum += tfidf_weight\n",
    "        except:\n",
    "            pass\n",
    "    if weight_sum != 0:\n",
    "        sentence_vector /= weight_sum\n",
    "    tfidf_train_vector.append(sentence_vector)\n",
    "tfidf_train_vector = np.array(tfidf_train_vector)"
   ]
  },
  {
   "cell_type": "code",
   "execution_count": 55,
   "metadata": {},
   "outputs": [
    {
     "name": "stdout",
     "output_type": "stream",
     "text": [
      "(191168, 50)\n",
      "[-0.10221206  1.89875616 -1.34618624  1.61504948 -0.40774847 -1.14750711\n",
      " -0.03059044 -0.00968472 -1.58352375  0.38335024  0.26177424 -0.37932498\n",
      " -1.72336409  0.05982293  1.44069778 -1.67285568  0.45792977 -0.98029553\n",
      "  0.7580675  -0.15252868 -0.53851882 -0.56527109  0.20874981 -1.08687511\n",
      " -0.07732165 -1.04343701  0.85936904  0.3527204  -0.62703732  0.81826822\n",
      "  0.6705326   0.72108277 -0.30554008  0.22976733  0.32249883  1.45065035\n",
      "  1.47566067 -0.24516644 -0.89181557  0.27589916  1.1453558   0.61594279\n",
      "  0.39225229 -0.91507241  0.68360356  2.60445994 -0.33613593  0.84959375\n",
      "  0.15220152  0.02337466]\n"
     ]
    }
   ],
   "source": [
    "print(tfidf_train_vector.shape)\n",
    "print(tfidf_train_vector[0])"
   ]
  },
  {
   "cell_type": "code",
   "execution_count": 56,
   "metadata": {},
   "outputs": [
    {
     "name": "stderr",
     "output_type": "stream",
     "text": [
      "100%|██████████| 81930/81930 [00:19<00:00, 4173.97it/s]\n"
     ]
    }
   ],
   "source": [
    "tfidf_cv_vector = []                            # Average w2v for each review/sentence is stored in this array\n",
    "for sentence in tqdm(sentence_list_cv):         # For each sentence/review\n",
    "    sentence_vector = np.zeros(50)              # As word vectors are of zero length\n",
    "    weight_sum = 0                              # Num of words with a valid vector in a sentence/review\n",
    "    for word in sentence:\n",
    "        try:\n",
    "            vect = w2v_train_model.wv[word]\n",
    "            tfidf_weight = dictionary[word]*(sentence.count(word)/len(sentence))\n",
    "            sentence_vector += (vect*tfidf_weight)\n",
    "            weight_sum += tfidf_weight\n",
    "        except:\n",
    "            pass\n",
    "    if weight_sum != 0:\n",
    "        sentence_vector /= weight_sum\n",
    "    tfidf_cv_vector.append(sentence_vector)\n",
    "tfidf_cv_vector = np.array(tfidf_cv_vector)"
   ]
  },
  {
   "cell_type": "code",
   "execution_count": 57,
   "metadata": {},
   "outputs": [
    {
     "name": "stdout",
     "output_type": "stream",
     "text": [
      "(81930, 50)\n",
      "[ 0.1862532   0.55192983 -0.59367273  0.98062658  0.46088697  0.56314323\n",
      "  0.77048212 -0.1336849  -2.0235008  -0.01753642 -0.17830739  0.94127205\n",
      " -0.51004073 -0.11132502 -0.84838913 -0.39072961  1.05499152  0.21514063\n",
      " -0.28984197 -0.28879724  0.20487413 -0.44668246 -0.78226178 -0.48685385\n",
      " -0.06184399  0.17929386 -1.12743945 -0.62039114 -0.94044245  1.03751419\n",
      "  0.61298206 -0.76357863 -1.23507774 -0.51747388  0.70657388  0.1889574\n",
      " -0.28788272 -1.48949386  0.69745614  0.33616389  0.79899085 -0.23204091\n",
      " -0.53296719  0.07696604  0.39047687  1.32768101  0.07568768 -1.29203221\n",
      " -2.07334741  0.80813926]\n"
     ]
    }
   ],
   "source": [
    "print(tfidf_cv_vector.shape)\n",
    "print(tfidf_cv_vector[0])"
   ]
  },
  {
   "cell_type": "code",
   "execution_count": 58,
   "metadata": {},
   "outputs": [
    {
     "name": "stderr",
     "output_type": "stream",
     "text": [
      "100%|██████████| 91033/91033 [00:21<00:00, 4241.22it/s]\n"
     ]
    }
   ],
   "source": [
    "tfidf_test_vector = []                          # Average w2v for each review/sentence is stored in this array\n",
    "for sentence in tqdm(sentence_list_test):       # For each sentence/review\n",
    "    sentence_vector = np.zeros(50)              # As word vectors are of zero length\n",
    "    weight_sum = 0                              # Num of words with a valid vector in a sentence/review\n",
    "    for word in sentence:\n",
    "        try:\n",
    "            vect = w2v_train_model.wv[word]\n",
    "            tfidf_weight = dictionary[word]*(sentence.count(word)/len(sentence))\n",
    "            sentence_vector += (vect*tfidf_weight)\n",
    "            weight_sum += tfidf_weight\n",
    "        except:\n",
    "            pass\n",
    "    if weight_sum != 0:\n",
    "        sentence_vector /= weight_sum\n",
    "    tfidf_test_vector.append(sentence_vector)\n",
    "tfidf_test_vector = np.array(tfidf_test_vector)"
   ]
  },
  {
   "cell_type": "code",
   "execution_count": 59,
   "metadata": {},
   "outputs": [
    {
     "name": "stdout",
     "output_type": "stream",
     "text": [
      "(91033, 50)\n",
      "[ 0.19970935  0.44366907 -1.19113693  1.44822652  0.16591349 -0.6258427\n",
      "  0.05563547 -0.02622105 -0.66846583  1.16069952 -0.79721209 -1.25607693\n",
      " -1.11866036  1.34971929  0.48558985 -1.29925577  0.40440455  0.22994964\n",
      "  0.45240032  0.70200286 -0.19565016  0.15971934 -0.09646519 -0.63961756\n",
      "  0.00805794 -0.37879431  0.65911762  1.24479933 -0.72312796  0.58241287\n",
      " -1.06448064 -0.32219166 -1.01862994 -0.28054498  0.45782589  1.01482741\n",
      "  1.26631521  0.13142558 -1.19252764 -0.43688573  0.62140099  1.14938113\n",
      "  1.10251452 -0.85437465  0.29255095  2.02731193 -0.44716662 -0.26698394\n",
      "  0.90901445 -0.41409005]\n"
     ]
    }
   ],
   "source": [
    "print(tfidf_test_vector.shape)\n",
    "print(tfidf_test_vector[0])"
   ]
  },
  {
   "cell_type": "code",
   "execution_count": 60,
   "metadata": {},
   "outputs": [],
   "source": [
    "x_train_tfidfw2v = tfidf_train_vector\n",
    "x_cv_tfidfw2v = tfidf_cv_vector\n",
    "x_test_tfidfw2v = tfidf_test_vector"
   ]
  },
  {
   "cell_type": "code",
   "execution_count": 61,
   "metadata": {},
   "outputs": [
    {
     "name": "stdout",
     "output_type": "stream",
     "text": [
      "The shape of the training data is: (191168, 50) (191168,)\n",
      "The shape of the CV data is: (81930, 50) (81930,)\n",
      "The shape of the test data is: (91033, 50) (91033,)\n"
     ]
    }
   ],
   "source": [
    "print(\"The shape of the training data is:\", x_train_tfidfw2v.shape, y_train.shape)\n",
    "print(\"The shape of the CV data is:\", x_cv_tfidfw2v.shape, y_cv.shape)\n",
    "print(\"The shape of the test data is:\", x_test_tfidfw2v.shape, y_test.shape)"
   ]
  },
  {
   "cell_type": "markdown",
   "metadata": {},
   "source": [
    "# 6. Applying Linear Support Vector Machine on Our Model"
   ]
  },
  {
   "cell_type": "markdown",
   "metadata": {},
   "source": [
    "### 6.1 Bag of Words (BoW)"
   ]
  },
  {
   "cell_type": "markdown",
   "metadata": {},
   "source": [
    "##### 6.1.1 BoW Linear SVM on Train Data"
   ]
  },
  {
   "cell_type": "code",
   "execution_count": 62,
   "metadata": {},
   "outputs": [
    {
     "name": "stdout",
     "output_type": "stream",
     "text": [
      "FOR α = 1e-05\n",
      "The accuracy of the model is: 92.55584035151959\n",
      "The f1_score of the model is: 83.8138933953972\n",
      "The precision_score of the model is: 90.82910918331392\n",
      "The recall_score of the model is: 79.52905543343515\n",
      "========================================================================================================================\n",
      "FOR α = 0.0001\n",
      "The accuracy of the model is: 92.8927132918345\n",
      "The f1_score of the model is: 85.19942838143074\n",
      "The precision_score of the model is: 89.74360417373066\n",
      "The recall_score of the model is: 81.96196349981247\n",
      "========================================================================================================================\n",
      "FOR α = 0.001\n",
      "The accuracy of the model is: 92.43500549249359\n",
      "The f1_score of the model is: 84.16551247209847\n",
      "The precision_score of the model is: 88.8680893273815\n",
      "The recall_score of the model is: 80.88090095461256\n",
      "========================================================================================================================\n",
      "FOR α = 0.01\n",
      "The accuracy of the model is: 91.41950445502258\n",
      "The f1_score of the model is: 81.42059460014634\n",
      "The precision_score of the model is: 87.7005401547043\n",
      "The recall_score of the model is: 77.55706063715813\n",
      "========================================================================================================================\n",
      "FOR α = 0.1\n",
      "The accuracy of the model is: 85.76101550103748\n",
      "The f1_score of the model is: 55.63487903412073\n",
      "The precision_score of the model is: 88.39020440221603\n",
      "The recall_score of the model is: 55.229497886247536\n",
      "========================================================================================================================\n",
      "FOR α = 1\n",
      "The accuracy of the model is: 84.24630782375199\n",
      "The f1_score of the model is: 45.724828257802095\n",
      "The precision_score of the model is: 42.123153911875995\n",
      "The recall_score of the model is: 50.0\n",
      "========================================================================================================================\n",
      "FOR α = 10\n",
      "The accuracy of the model is: 84.24630782375199\n",
      "The f1_score of the model is: 45.724828257802095\n",
      "The precision_score of the model is: 42.123153911875995\n",
      "The recall_score of the model is: 50.0\n",
      "========================================================================================================================\n",
      "FOR α = 100\n",
      "The accuracy of the model is: 84.24630782375199\n",
      "The f1_score of the model is: 45.724828257802095\n",
      "The precision_score of the model is: 42.123153911875995\n",
      "The recall_score of the model is: 50.0\n",
      "========================================================================================================================\n",
      "FOR α = 1000\n",
      "The accuracy of the model is: 84.24630782375199\n",
      "The f1_score of the model is: 45.724828257802095\n",
      "The precision_score of the model is: 42.123153911875995\n",
      "The recall_score of the model is: 50.0\n",
      "========================================================================================================================\n"
     ]
    },
    {
     "data": {
      "image/png": "[encoded data removed]",
      "text/plain": [
       "<Figure size 432x288 with 1 Axes>"
      ]
     },
     "metadata": {
      "needs_background": "light"
     },
     "output_type": "display_data"
    }
   ],
   "source": [
    "# Find the optimal value of alpha\n",
    "# This may take several minutes(even hour/s) to run\n",
    "\n",
    "svm_train(x_train_bow, x_cv_bow, y_train, y_cv, algo='Linear')"
   ]
  },
  {
   "cell_type": "markdown",
   "metadata": {},
   "source": [
    "##### 6.1.2 BoW Linear SVM on Test Data"
   ]
  },
  {
   "cell_type": "code",
   "execution_count": 63,
   "metadata": {},
   "outputs": [
    {
     "name": "stdout",
     "output_type": "stream",
     "text": [
      "The accuracy of the model is: 92.91685432755155\n",
      "The macro f1_score of the model is: 85.31116636664564\n",
      "The micro f1_score of the model is: 92.91685432755155\n",
      "The precision_score of the model is: 89.81720693483706\n",
      "The recall_score of the model is: 82.0922163266679\n",
      "The precision recall report for data:\n",
      "               precision    recall  f1-score   support\n",
      "\n",
      "    Negative       0.86      0.66      0.75     14398\n",
      "    Positive       0.94      0.98      0.96     76635\n",
      "\n",
      "    accuracy                           0.93     91033\n",
      "   macro avg       0.90      0.82      0.85     91033\n",
      "weighted avg       0.93      0.93      0.93     91033\n",
      "\n"
     ]
    },
    {
     "data": {
      "image/png": "[encoded data removed]",
      "text/plain": [
       "<Figure size 432x288 with 2 Axes>"
      ]
     },
     "metadata": {
      "needs_background": "light"
     },
     "output_type": "display_data"
    }
   ],
   "source": [
    "# Testing the final model\n",
    "\n",
    "svm_test(x_train_bow, y_train, x_test_bow, y_test, optimal_alpha=0.0001, algo='Linear')"
   ]
  },
  {
   "cell_type": "markdown",
   "metadata": {},
   "source": [
    "##### 6.1.3 Top Ten Features"
   ]
  },
  {
   "cell_type": "code",
   "execution_count": 65,
   "metadata": {},
   "outputs": [
    {
     "name": "stdout",
     "output_type": "stream",
     "text": [
      "These are the Top 10 Positive Features:\n",
      "\t high recommend\n",
      "\t never disappoint\n",
      "\t awesom\n",
      "\t delici\n",
      "\t perfect\n",
      "\t well worth\n",
      "\t four star\n",
      "\t excel\n",
      "\t pleasant surpris\n",
      "\t addict\n",
      "These are the Top 10 Negative Features:\n",
      "\t two star\n",
      "\t worst\n",
      "\t yuck\n",
      "\t tasteless\n",
      "\t aw\n",
      "\t terribl\n",
      "\t way sweet\n",
      "\t disappoint\n",
      "\t horribl\n",
      "\t usual love\n"
     ]
    }
   ],
   "source": [
    "top_features(x_train_bow, y_train, count_vect, optimal_alpha=0.0001, algo='Linear')"
   ]
  },
  {
   "cell_type": "markdown",
   "metadata": {},
   "source": [
    "### 6.2 Term Frequency - Inverse Document Frequency (tf-idf)"
   ]
  },
  {
   "cell_type": "markdown",
   "metadata": {},
   "source": [
    "##### 6.2.1 TF-IDF Linear SVM on Train Data"
   ]
  },
  {
   "cell_type": "code",
   "execution_count": 66,
   "metadata": {},
   "outputs": [
    {
     "name": "stdout",
     "output_type": "stream",
     "text": [
      "FOR α = 1e-05\n",
      "The accuracy of the model is: 93.29793726351764\n",
      "The f1_score of the model is: 86.57187793677824\n",
      "The precision_score of the model is: 89.20102373260585\n",
      "The recall_score of the model is: 84.43228828359383\n",
      "========================================================================================================================\n",
      "FOR α = 0.0001\n",
      "The accuracy of the model is: 92.07982424020506\n",
      "The f1_score of the model is: 83.77439178006874\n",
      "The precision_score of the model is: 87.2766871600998\n",
      "The recall_score of the model is: 81.142522257555\n",
      "========================================================================================================================\n",
      "FOR α = 0.001\n",
      "The accuracy of the model is: 91.9065055535213\n",
      "The f1_score of the model is: 83.35135023342843\n",
      "The precision_score of the model is: 87.01821087621231\n",
      "The recall_score of the model is: 80.63652574811096\n",
      "========================================================================================================================\n",
      "FOR α = 0.01\n",
      "The accuracy of the model is: 91.91016721591603\n",
      "The f1_score of the model is: 83.3582833824548\n",
      "The precision_score of the model is: 87.02772315878595\n",
      "The recall_score of the model is: 80.64184840743638\n",
      "========================================================================================================================\n",
      "FOR α = 0.1\n",
      "The accuracy of the model is: 84.24630782375199\n",
      "The f1_score of the model is: 45.724828257802095\n",
      "The precision_score of the model is: 42.123153911875995\n",
      "The recall_score of the model is: 50.0\n",
      "========================================================================================================================\n",
      "FOR α = 1\n",
      "The accuracy of the model is: 84.24630782375199\n",
      "The f1_score of the model is: 45.724828257802095\n",
      "The precision_score of the model is: 42.123153911875995\n",
      "The recall_score of the model is: 50.0\n",
      "========================================================================================================================\n",
      "FOR α = 10\n",
      "The accuracy of the model is: 84.24630782375199\n",
      "The f1_score of the model is: 45.724828257802095\n",
      "The precision_score of the model is: 42.123153911875995\n",
      "The recall_score of the model is: 50.0\n",
      "========================================================================================================================\n",
      "FOR α = 100\n",
      "The accuracy of the model is: 84.24630782375199\n",
      "The f1_score of the model is: 45.724828257802095\n",
      "The precision_score of the model is: 42.123153911875995\n",
      "The recall_score of the model is: 50.0\n",
      "========================================================================================================================\n",
      "FOR α = 1000\n",
      "The accuracy of the model is: 84.24630782375199\n",
      "The f1_score of the model is: 45.724828257802095\n",
      "The precision_score of the model is: 42.123153911875995\n",
      "The recall_score of the model is: 50.0\n",
      "========================================================================================================================\n"
     ]
    },
    {
     "data": {
      "image/png": "[encoded data removed]",
      "text/plain": [
       "<Figure size 432x288 with 1 Axes>"
      ]
     },
     "metadata": {
      "needs_background": "light"
     },
     "output_type": "display_data"
    }
   ],
   "source": [
    "# Find the optimal value of alpha\n",
    "# This may take several minutes to run\n",
    "\n",
    "svm_train(x_train_tfidf, x_cv_tfidf, y_train, y_cv, algo='Linear')"
   ]
  },
  {
   "cell_type": "markdown",
   "metadata": {},
   "source": [
    "##### 6.2.2 TF-IDF Linear SVM on Test Data"
   ]
  },
  {
   "cell_type": "code",
   "execution_count": 68,
   "metadata": {},
   "outputs": [
    {
     "name": "stdout",
     "output_type": "stream",
     "text": [
      "The accuracy of the model is: 93.28814825392989\n",
      "The macro f1_score of the model is: 86.60086934285886\n",
      "The micro f1_score of the model is: 93.28814825392989\n",
      "The precision_score of the model is: 89.21327454002532\n",
      "The recall_score of the model is: 84.47306223063882\n",
      "The precision recall report for data:\n",
      "               precision    recall  f1-score   support\n",
      "\n",
      "    Negative       0.84      0.72      0.77     14398\n",
      "    Positive       0.95      0.97      0.96     76635\n",
      "\n",
      "    accuracy                           0.93     91033\n",
      "   macro avg       0.89      0.84      0.87     91033\n",
      "weighted avg       0.93      0.93      0.93     91033\n",
      "\n"
     ]
    },
    {
     "data": {
      "image/png": "[encoded data removed]",
      "text/plain": [
       "<Figure size 432x288 with 2 Axes>"
      ]
     },
     "metadata": {
      "needs_background": "light"
     },
     "output_type": "display_data"
    }
   ],
   "source": [
    "# Testing the final model\n",
    "\n",
    "svm_test(x_train_tfidf, y_train, x_test_tfidf, y_test, optimal_alpha=0.00001, algo='Linear')"
   ]
  },
  {
   "cell_type": "markdown",
   "metadata": {},
   "source": [
    "### 6.3 Average Word2vec"
   ]
  },
  {
   "cell_type": "markdown",
   "metadata": {},
   "source": [
    "##### 6.3.1 Avg W2V Linear SVM on Train Data"
   ]
  },
  {
   "cell_type": "code",
   "execution_count": 71,
   "metadata": {},
   "outputs": [
    {
     "name": "stdout",
     "output_type": "stream",
     "text": [
      "FOR α = 1e-05\n",
      "The accuracy of the model is: 89.56792383742219\n",
      "The f1_score of the model is: 76.67282104417848\n",
      "The precision_score of the model is: 83.92385719288482\n",
      "The recall_score of the model is: 72.79216770845828\n",
      "========================================================================================================================\n",
      "FOR α = 0.0001\n",
      "The accuracy of the model is: 89.68387647992189\n",
      "The f1_score of the model is: 77.20618036801007\n",
      "The precision_score of the model is: 83.84641676953919\n",
      "The recall_score of the model is: 73.47828160187808\n",
      "========================================================================================================================\n",
      "FOR α = 0.001\n",
      "The accuracy of the model is: 89.64603930184303\n",
      "The f1_score of the model is: 77.23601533386687\n",
      "The precision_score of the model is: 83.58589335284027\n",
      "The recall_score of the model is: 73.60385044106413\n",
      "========================================================================================================================\n",
      "FOR α = 0.01\n",
      "The accuracy of the model is: 89.57036494568534\n",
      "The f1_score of the model is: 77.06600405950343\n",
      "The precision_score of the model is: 83.38793988335442\n",
      "The recall_score of the model is: 73.45500534330746\n",
      "========================================================================================================================\n",
      "FOR α = 0.1\n",
      "The accuracy of the model is: 89.32747467350177\n",
      "The f1_score of the model is: 76.43186453170182\n",
      "The precision_score of the model is: 82.86191266616714\n",
      "The recall_score of the model is: 72.82898148261093\n",
      "========================================================================================================================\n",
      "FOR α = 1\n",
      "The accuracy of the model is: 89.34578298547541\n",
      "The f1_score of the model is: 76.39600539718778\n",
      "The precision_score of the model is: 83.00951016294881\n",
      "The recall_score of the model is: 72.73591489346732\n",
      "========================================================================================================================\n",
      "FOR α = 10\n",
      "The accuracy of the model is: 84.9652142072501\n",
      "The f1_score of the model is: 56.23445598445197\n",
      "The precision_score of the model is: 73.45475358289968\n",
      "The recall_score of the model is: 55.51306451633886\n",
      "========================================================================================================================\n",
      "FOR α = 100\n",
      "The accuracy of the model is: 84.24142560722568\n",
      "The f1_score of the model is: 45.82314024886563\n",
      "The precision_score of the model is: 63.794871794871796\n",
      "The recall_score of the model is: 50.038045533953316\n",
      "========================================================================================================================\n",
      "FOR α = 1000\n",
      "The accuracy of the model is: 84.24142560722568\n",
      "The f1_score of the model is: 45.82314024886563\n",
      "The precision_score of the model is: 63.794871794871796\n",
      "The recall_score of the model is: 50.038045533953316\n",
      "========================================================================================================================\n"
     ]
    },
    {
     "data": {
      "image/png": "[encoded data removed]",
      "text/plain": [
       "<Figure size 432x288 with 1 Axes>"
      ]
     },
     "metadata": {
      "needs_background": "light"
     },
     "output_type": "display_data"
    }
   ],
   "source": [
    "# Find the optimal value of alpha\n",
    "# This may take several minutes to run\n",
    "\n",
    "svm_train(x_train_avgw2v, x_cv_avgw2v, y_train, y_cv, algo='Linear')"
   ]
  },
  {
   "cell_type": "markdown",
   "metadata": {},
   "source": [
    "##### 6.3.2 Avg W2V Linear SVM on Test Data"
   ]
  },
  {
   "cell_type": "code",
   "execution_count": 72,
   "metadata": {},
   "outputs": [
    {
     "name": "stdout",
     "output_type": "stream",
     "text": [
      "The accuracy of the model is: 89.600474553184\n",
      "The macro f1_score of the model is: 77.17018530124842\n",
      "The micro f1_score of the model is: 89.600474553184\n",
      "The precision_score of the model is: 83.61305248650368\n",
      "The recall_score of the model is: 73.51461784530309\n",
      "The precision recall report for data:\n",
      "               precision    recall  f1-score   support\n",
      "\n",
      "    Negative       0.76      0.50      0.60     14398\n",
      "    Positive       0.91      0.97      0.94     76635\n",
      "\n",
      "    accuracy                           0.90     91033\n",
      "   macro avg       0.84      0.74      0.77     91033\n",
      "weighted avg       0.89      0.90      0.89     91033\n",
      "\n"
     ]
    },
    {
     "data": {
      "image/png": "[encoded data removed]",
      "text/plain": [
       "<Figure size 432x288 with 2 Axes>"
      ]
     },
     "metadata": {
      "needs_background": "light"
     },
     "output_type": "display_data"
    }
   ],
   "source": [
    "# Testing the final model\n",
    "\n",
    "svm_test(x_train_avgw2v, y_train, x_test_avgw2v, y_test, optimal_alpha=0.0001, algo='Linear')"
   ]
  },
  {
   "cell_type": "markdown",
   "metadata": {},
   "source": [
    "### 6.4 TF_IDF Weighed Word2vec"
   ]
  },
  {
   "cell_type": "markdown",
   "metadata": {},
   "source": [
    "##### 6.4.1 TF-IDF Linear SVM on Train Data"
   ]
  },
  {
   "cell_type": "code",
   "execution_count": 73,
   "metadata": {},
   "outputs": [
    {
     "name": "stdout",
     "output_type": "stream",
     "text": [
      "FOR α = 1e-05\n",
      "The accuracy of the model is: 86.28585377761505\n",
      "The f1_score of the model is: 63.14286506616283\n",
      "The precision_score of the model is: 78.74870821174436\n",
      "The recall_score of the model is: 60.29983845375083\n",
      "========================================================================================================================\n",
      "FOR α = 0.0001\n",
      "The accuracy of the model is: 86.67276943732455\n",
      "The f1_score of the model is: 65.84493682724957\n",
      "The precision_score of the model is: 78.74619741973363\n",
      "The recall_score of the model is: 62.5136385813979\n",
      "========================================================================================================================\n",
      "FOR α = 0.001\n",
      "The accuracy of the model is: 86.81191260832418\n",
      "The f1_score of the model is: 67.00748445052382\n",
      "The precision_score of the model is: 78.52968062860329\n",
      "The recall_score of the model is: 63.56625671887313\n",
      "========================================================================================================================\n",
      "FOR α = 0.01\n",
      "The accuracy of the model is: 86.75698767240327\n",
      "The f1_score of the model is: 66.97782811629747\n",
      "The precision_score of the model is: 78.21537356094674\n",
      "The recall_score of the model is: 63.57145253730234\n",
      "========================================================================================================================\n",
      "FOR α = 0.1\n",
      "The accuracy of the model is: 86.75576711827169\n",
      "The f1_score of the model is: 66.89521584593732\n",
      "The precision_score of the model is: 78.28177361385735\n",
      "The recall_score of the model is: 63.48884190345392\n",
      "========================================================================================================================\n",
      "FOR α = 1\n",
      "The accuracy of the model is: 86.50311241303552\n",
      "The f1_score of the model is: 64.72030218266336\n",
      "The precision_score of the model is: 78.70196516562876\n",
      "The recall_score of the model is: 61.565739894977824\n",
      "========================================================================================================================\n",
      "FOR α = 10\n",
      "The accuracy of the model is: 84.17429512998902\n",
      "The f1_score of the model is: 46.920605769389276\n",
      "The precision_score of the model is: 63.35474078928613\n",
      "The recall_score of the model is: 50.47062434381374\n",
      "========================================================================================================================\n",
      "FOR α = 100\n",
      "The accuracy of the model is: 84.24630782375199\n",
      "The f1_score of the model is: 45.7325181480562\n",
      "The precision_score of the model is: 67.123571916805\n",
      "The recall_score of the model is: 50.003149470678174\n",
      "========================================================================================================================\n",
      "FOR α = 1000\n",
      "The accuracy of the model is: 84.24630782375199\n",
      "The f1_score of the model is: 45.7325181480562\n",
      "The precision_score of the model is: 67.123571916805\n",
      "The recall_score of the model is: 50.003149470678174\n",
      "========================================================================================================================\n"
     ]
    },
    {
     "data": {
      "image/png": "[encoded data removed]",
      "text/plain": [
       "<Figure size 432x288 with 1 Axes>"
      ]
     },
     "metadata": {
      "needs_background": "light"
     },
     "output_type": "display_data"
    }
   ],
   "source": [
    "# Find the optimal value of alpha\n",
    "# This may take several minutes to run\n",
    "\n",
    "svm_train(x_train_tfidfw2v, x_cv_tfidfw2v, y_train, y_cv, algo='Linear')"
   ]
  },
  {
   "cell_type": "markdown",
   "metadata": {},
   "source": [
    "##### 6.4.2 TF-IDF W2V Linear SVM on Test Data"
   ]
  },
  {
   "cell_type": "code",
   "execution_count": 74,
   "metadata": {},
   "outputs": [
    {
     "name": "stdout",
     "output_type": "stream",
     "text": [
      "The accuracy of the model is: 86.60815308734196\n",
      "The macro f1_score of the model is: 66.48309892279931\n",
      "The micro f1_score of the model is: 86.60815308734195\n",
      "The precision_score of the model is: 78.02045514606021\n",
      "The recall_score of the model is: 63.14684658443704\n",
      "The precision recall report for data:\n",
      "               precision    recall  f1-score   support\n",
      "\n",
      "    Negative       0.68      0.29      0.41     14398\n",
      "    Positive       0.88      0.97      0.92     76635\n",
      "\n",
      "    accuracy                           0.87     91033\n",
      "   macro avg       0.78      0.63      0.66     91033\n",
      "weighted avg       0.85      0.87      0.84     91033\n",
      "\n"
     ]
    },
    {
     "data": {
      "image/png": "[encoded data removed]",
      "text/plain": [
       "<Figure size 432x288 with 2 Axes>"
      ]
     },
     "metadata": {
      "needs_background": "light"
     },
     "output_type": "display_data"
    }
   ],
   "source": [
    "# Testing the final model\n",
    "\n",
    "svm_test(x_train_tfidfw2v, y_train, x_test_tfidfw2v, y_test, optimal_alpha=0.001, algo='Linear')"
   ]
  },
  {
   "cell_type": "markdown",
   "metadata": {},
   "source": [
    "# 7. Applying Radial Basis Function (RBF) Support Vector Machine on Our Model"
   ]
  },
  {
   "cell_type": "markdown",
   "metadata": {},
   "source": [
    "##### Radial Basis Function (RBF) is one of the kernel of Support Vector Machine (SVM) algorithm. The Time Complexity of the Kernal SVM (not Linear SVM) is in the order of 'n²', where 'n' is the number of data points present in the dataset. So, it is not considered wise to use SVM with large dataset like the one we are currently working on."
   ]
  },
  {
   "cell_type": "markdown",
   "metadata": {},
   "source": [
    "##### Because of this reason I am not Training my model using RBF SVM here. However, if you wish to train the model anyway, you can use the below code. The code below is fine to go through. "
   ]
  },
  {
   "cell_type": "markdown",
   "metadata": {},
   "source": [
    "### 7.1 Bag of Words (BoW)"
   ]
  },
  {
   "cell_type": "markdown",
   "metadata": {},
   "source": [
    "##### 7.1.1 BoW RBF Support Vector Machine on Train Data"
   ]
  },
  {
   "cell_type": "code",
   "execution_count": null,
   "metadata": {},
   "outputs": [],
   "source": [
    "# Find the optimal value of alpha\n",
    "# This may take several minutes(even hour/s) to run\n",
    "\n",
    "svm_train(x_train_bow, x_cv_bow, y_train, y_cv, algo='RBF')"
   ]
  },
  {
   "cell_type": "markdown",
   "metadata": {},
   "source": [
    "##### 7.1.2 BoW RBF Support Vector Machine on Test Data"
   ]
  },
  {
   "cell_type": "code",
   "execution_count": null,
   "metadata": {},
   "outputs": [],
   "source": [
    "# Testing the final model\n",
    "\n",
    "svm_test(x_train_bow, y_train, x_test_bow, y_test, optimal_alpha=0.1, algo='RBF')"
   ]
  },
  {
   "cell_type": "markdown",
   "metadata": {},
   "source": [
    "##### 7.1.3 Top Ten Features"
   ]
  },
  {
   "cell_type": "code",
   "execution_count": null,
   "metadata": {},
   "outputs": [],
   "source": [
    "top_features(x_train_bow, y_train, count_vect, optimal_alpha=alpha, algo='RBF')"
   ]
  },
  {
   "cell_type": "markdown",
   "metadata": {},
   "source": [
    "### 7.2 Term Frequency -Inverse Document Frequency (TF-IDF)"
   ]
  },
  {
   "cell_type": "markdown",
   "metadata": {},
   "source": [
    "##### 7.2.1 TF-IDF RBF Support Vector Machine on Train Data"
   ]
  },
  {
   "cell_type": "code",
   "execution_count": null,
   "metadata": {},
   "outputs": [],
   "source": [
    "# Find the optimal value of alpha\n",
    "# This may take several minutes to run\n",
    "\n",
    "svm_train(x_train_tfidf, x_cv_tfidf, y_train, y_cv, algo='RBF')"
   ]
  },
  {
   "cell_type": "markdown",
   "metadata": {},
   "source": [
    "##### 7.2.2 TF-IDF RBF Support Vector Machine on Test Data"
   ]
  },
  {
   "cell_type": "code",
   "execution_count": null,
   "metadata": {},
   "outputs": [],
   "source": [
    "# Testing the final model\n",
    "\n",
    "svm_test(x_train_tfidf, y_train, x_test_tfidf, y_test, optimal_alpha=alpha, algo='RBF')"
   ]
  },
  {
   "cell_type": "markdown",
   "metadata": {},
   "source": [
    "##### 7.2.3 Top Ten Features"
   ]
  },
  {
   "cell_type": "code",
   "execution_count": null,
   "metadata": {},
   "outputs": [],
   "source": [
    "top_features(x_train_tfidf, y_train, tfidf_vect, optimal_alpha=alpha, algo='RBF')"
   ]
  },
  {
   "cell_type": "markdown",
   "metadata": {},
   "source": [
    "### 7.3 Average Word2Vec"
   ]
  },
  {
   "cell_type": "markdown",
   "metadata": {},
   "source": [
    "##### 7.3.1 Avg W2V RBF Support Vector Machine on Train Data"
   ]
  },
  {
   "cell_type": "code",
   "execution_count": null,
   "metadata": {},
   "outputs": [],
   "source": [
    "# Find the optimal value of alpha\n",
    "# This may take several minutes to run\n",
    "\n",
    "svm_train(x_train_avgw2v, x_cv_avgw2v, y_train, y_cv, algo='RBF')"
   ]
  },
  {
   "cell_type": "markdown",
   "metadata": {},
   "source": [
    "##### 7.3.2 Avg W2V RBF Support Vector Machine on Test Data"
   ]
  },
  {
   "cell_type": "code",
   "execution_count": null,
   "metadata": {},
   "outputs": [],
   "source": [
    "# Testing the final model\n",
    "\n",
    "svm_test(x_train_avgw2v, y_train, x_test_avgw2v, y_test, optimal_alpha=alpha, algo='RBF')"
   ]
  },
  {
   "cell_type": "markdown",
   "metadata": {},
   "source": [
    "### 7.4 TF-IDF Weighed Word2Vec"
   ]
  },
  {
   "cell_type": "markdown",
   "metadata": {},
   "source": [
    "##### 7.4.1 TF-IDF W2V RBF Support Vector Machine on Train Data"
   ]
  },
  {
   "cell_type": "code",
   "execution_count": null,
   "metadata": {},
   "outputs": [],
   "source": [
    "# Find the optimal value of alpha\n",
    "# This may take several minutes to run\n",
    "\n",
    "svm_train(x_train_tfidfw2v, x_cv_tfidfw2v, y_train, y_cv, algo='RBF')"
   ]
  },
  {
   "cell_type": "markdown",
   "metadata": {},
   "source": [
    "##### 7.4.2 TF-IDF W2V RBF Support Vector Machine on Test Data"
   ]
  },
  {
   "cell_type": "code",
   "execution_count": null,
   "metadata": {},
   "outputs": [],
   "source": [
    "# Testing the final model\n",
    "\n",
    "svm_test(x_train_tfidfw2v, y_train, x_test_tfidfw2v, y_test, optimal_alpha=alpha, algo='RBF')"
   ]
  }
 ],
 "metadata": {
  "kernelspec": {
   "display_name": "Python 3.7 (Intel® oneAPI)",
   "language": "python",
   "name": "c009-intel_distribution_of_python_3_oneapi-beta05-python"
  },
  "language_info": {
   "codemirror_mode": {
    "name": "ipython",
    "version": 3
   },
   "file_extension": ".py",
   "mimetype": "text/x-python",
   "name": "python",
   "nbconvert_exporter": "python",
   "pygments_lexer": "ipython3",
   "version": "3.7.7"
  }
 },
 "nbformat": 4,
 "nbformat_minor": 4
}
