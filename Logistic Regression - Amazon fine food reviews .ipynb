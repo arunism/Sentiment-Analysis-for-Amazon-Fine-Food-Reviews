{
 "cells": [
  {
   "cell_type": "markdown",
   "metadata": {},
   "source": [
    "# Objective\n",
    "#### Determine whether the given reviews are positive or negative using all features except SCORE and then check the accuracy using the Score feature using KNN classifier"
   ]
  },
  {
   "cell_type": "markdown",
   "metadata": {},
   "source": [
    "# 1. Loading data from dataset"
   ]
  },
  {
   "cell_type": "code",
   "execution_count": 1,
   "metadata": {},
   "outputs": [],
   "source": [
    "%matplotlib inline\n",
    "\n",
    "import numpy as np\n",
    "import pandas as pd\n",
    "import matplotlib.pyplot as plt\n",
    "import sqlite3\n",
    "import nltk\n",
    "import seaborn as sns"
   ]
  },
  {
   "cell_type": "code",
   "execution_count": 2,
   "metadata": {},
   "outputs": [],
   "source": [
    "# Loading data from sqlite3 database ignoring those having rewiew score = 3\n",
    "\n",
    "connection = sqlite3.connect('./database.sqlite')\n",
    "dataset = pd.read_sql_query(\"SELECT * FROM Reviews WHERE Score != 3\", connection)"
   ]
  },
  {
   "cell_type": "code",
   "execution_count": 3,
   "metadata": {},
   "outputs": [
    {
     "name": "stdout",
     "output_type": "stream",
     "text": [
      "The shape of the data in dataset is: (525814, 10)\n",
      "========================================================================================================================\n"
     ]
    },
    {
     "data": {
      "text/plain": [
       "Index(['Id', 'ProductId', 'UserId', 'ProfileName', 'HelpfulnessNumerator',\n",
       "       'HelpfulnessDenominator', 'Score', 'Time', 'Summary', 'Text'],\n",
       "      dtype='object')"
      ]
     },
     "execution_count": 3,
     "metadata": {},
     "output_type": "execute_result"
    }
   ],
   "source": [
    "print(\"The shape of the data in dataset is:\", dataset.shape)\n",
    "print('==' * 60)\n",
    "dataset.columns                # This will list all the features name in dataset column-wise"
   ]
  },
  {
   "cell_type": "code",
   "execution_count": 4,
   "metadata": {},
   "outputs": [],
   "source": [
    "# Assigning Positive value to reviews with score>3 and Negative value to reviews with score<3\n",
    "\n",
    "def assign_pn(score):\n",
    "    if (score > 3):\n",
    "        score = 'Positive'\n",
    "    elif (score < 3):\n",
    "        score = 'Negative'\n",
    "    return score\n",
    "\n",
    "pn = dataset['Score']\n",
    "pn_assign = pn.map(assign_pn)\n",
    "dataset['Score'] = pn_assign"
   ]
  },
  {
   "cell_type": "code",
   "execution_count": 5,
   "metadata": {},
   "outputs": [
    {
     "name": "stdout",
     "output_type": "stream",
     "text": [
      "Positive    443777\n",
      "Negative     82037\n",
      "Name: Score, dtype: int64\n",
      "========================================================================================================================\n",
      "The shape of the data in dataset is: (525814, 10)\n"
     ]
    }
   ],
   "source": [
    "print(dataset['Score'].value_counts() )                       # Printing the number of each classes (positive and negative reviews)\n",
    "print('==' * 60)\n",
    "print(\"The shape of the data in dataset is:\", dataset.shape)"
   ]
  },
  {
   "cell_type": "code",
   "execution_count": 6,
   "metadata": {},
   "outputs": [
    {
     "data": {
      "text/html": [
       "<div>\n",
       "<style scoped>\n",
       "    .dataframe tbody tr th:only-of-type {\n",
       "        vertical-align: middle;\n",
       "    }\n",
       "\n",
       "    .dataframe tbody tr th {\n",
       "        vertical-align: top;\n",
       "    }\n",
       "\n",
       "    .dataframe thead th {\n",
       "        text-align: right;\n",
       "    }\n",
       "</style>\n",
       "<table border=\"1\" class=\"dataframe\">\n",
       "  <thead>\n",
       "    <tr style=\"text-align: right;\">\n",
       "      <th></th>\n",
       "      <th>Id</th>\n",
       "      <th>ProductId</th>\n",
       "      <th>UserId</th>\n",
       "      <th>ProfileName</th>\n",
       "      <th>HelpfulnessNumerator</th>\n",
       "      <th>HelpfulnessDenominator</th>\n",
       "      <th>Score</th>\n",
       "      <th>Time</th>\n",
       "      <th>Summary</th>\n",
       "      <th>Text</th>\n",
       "    </tr>\n",
       "  </thead>\n",
       "  <tbody>\n",
       "    <tr>\n",
       "      <th>0</th>\n",
       "      <td>1</td>\n",
       "      <td>B001E4KFG0</td>\n",
       "      <td>A3SGXH7AUHU8GW</td>\n",
       "      <td>delmartian</td>\n",
       "      <td>1</td>\n",
       "      <td>1</td>\n",
       "      <td>Positive</td>\n",
       "      <td>1303862400</td>\n",
       "      <td>Good Quality Dog Food</td>\n",
       "      <td>I have bought several of the Vitality canned d...</td>\n",
       "    </tr>\n",
       "    <tr>\n",
       "      <th>1</th>\n",
       "      <td>2</td>\n",
       "      <td>B00813GRG4</td>\n",
       "      <td>A1D87F6ZCVE5NK</td>\n",
       "      <td>dll pa</td>\n",
       "      <td>0</td>\n",
       "      <td>0</td>\n",
       "      <td>Negative</td>\n",
       "      <td>1346976000</td>\n",
       "      <td>Not as Advertised</td>\n",
       "      <td>Product arrived labeled as Jumbo Salted Peanut...</td>\n",
       "    </tr>\n",
       "    <tr>\n",
       "      <th>2</th>\n",
       "      <td>3</td>\n",
       "      <td>B000LQOCH0</td>\n",
       "      <td>ABXLMWJIXXAIN</td>\n",
       "      <td>Natalia Corres \"Natalia Corres\"</td>\n",
       "      <td>1</td>\n",
       "      <td>1</td>\n",
       "      <td>Positive</td>\n",
       "      <td>1219017600</td>\n",
       "      <td>\"Delight\" says it all</td>\n",
       "      <td>This is a confection that has been around a fe...</td>\n",
       "    </tr>\n",
       "    <tr>\n",
       "      <th>3</th>\n",
       "      <td>4</td>\n",
       "      <td>B000UA0QIQ</td>\n",
       "      <td>A395BORC6FGVXV</td>\n",
       "      <td>Karl</td>\n",
       "      <td>3</td>\n",
       "      <td>3</td>\n",
       "      <td>Negative</td>\n",
       "      <td>1307923200</td>\n",
       "      <td>Cough Medicine</td>\n",
       "      <td>If you are looking for the secret ingredient i...</td>\n",
       "    </tr>\n",
       "    <tr>\n",
       "      <th>4</th>\n",
       "      <td>5</td>\n",
       "      <td>B006K2ZZ7K</td>\n",
       "      <td>A1UQRSCLF8GW1T</td>\n",
       "      <td>Michael D. Bigham \"M. Wassir\"</td>\n",
       "      <td>0</td>\n",
       "      <td>0</td>\n",
       "      <td>Positive</td>\n",
       "      <td>1350777600</td>\n",
       "      <td>Great taffy</td>\n",
       "      <td>Great taffy at a great price.  There was a wid...</td>\n",
       "    </tr>\n",
       "  </tbody>\n",
       "</table>\n",
       "</div>"
      ],
      "text/plain": [
       "   Id   ProductId          UserId                      ProfileName  \\\n",
       "0   1  B001E4KFG0  A3SGXH7AUHU8GW                       delmartian   \n",
       "1   2  B00813GRG4  A1D87F6ZCVE5NK                           dll pa   \n",
       "2   3  B000LQOCH0   ABXLMWJIXXAIN  Natalia Corres \"Natalia Corres\"   \n",
       "3   4  B000UA0QIQ  A395BORC6FGVXV                             Karl   \n",
       "4   5  B006K2ZZ7K  A1UQRSCLF8GW1T    Michael D. Bigham \"M. Wassir\"   \n",
       "\n",
       "   HelpfulnessNumerator  HelpfulnessDenominator     Score        Time  \\\n",
       "0                     1                       1  Positive  1303862400   \n",
       "1                     0                       0  Negative  1346976000   \n",
       "2                     1                       1  Positive  1219017600   \n",
       "3                     3                       3  Negative  1307923200   \n",
       "4                     0                       0  Positive  1350777600   \n",
       "\n",
       "                 Summary                                               Text  \n",
       "0  Good Quality Dog Food  I have bought several of the Vitality canned d...  \n",
       "1      Not as Advertised  Product arrived labeled as Jumbo Salted Peanut...  \n",
       "2  \"Delight\" says it all  This is a confection that has been around a fe...  \n",
       "3         Cough Medicine  If you are looking for the secret ingredient i...  \n",
       "4            Great taffy  Great taffy at a great price.  There was a wid...  "
      ]
     },
     "execution_count": 6,
     "metadata": {},
     "output_type": "execute_result"
    }
   ],
   "source": [
    "# Printing first few rows as a sample of the dataset\n",
    "# You may pass the number of rows to be displayed as an argument to the head() method\n",
    "\n",
    "dataset.head()"
   ]
  },
  {
   "cell_type": "markdown",
   "metadata": {},
   "source": [
    "# 2. Pre-processing of data"
   ]
  },
  {
   "cell_type": "markdown",
   "metadata": {},
   "source": [
    "### 2.1 De-duplication of data"
   ]
  },
  {
   "cell_type": "code",
   "execution_count": 7,
   "metadata": {},
   "outputs": [
    {
     "data": {
      "text/html": [
       "<div>\n",
       "<style scoped>\n",
       "    .dataframe tbody tr th:only-of-type {\n",
       "        vertical-align: middle;\n",
       "    }\n",
       "\n",
       "    .dataframe tbody tr th {\n",
       "        vertical-align: top;\n",
       "    }\n",
       "\n",
       "    .dataframe thead th {\n",
       "        text-align: right;\n",
       "    }\n",
       "</style>\n",
       "<table border=\"1\" class=\"dataframe\">\n",
       "  <thead>\n",
       "    <tr style=\"text-align: right;\">\n",
       "      <th></th>\n",
       "      <th>Id</th>\n",
       "      <th>ProductId</th>\n",
       "      <th>UserId</th>\n",
       "      <th>ProfileName</th>\n",
       "      <th>HelpfulnessNumerator</th>\n",
       "      <th>HelpfulnessDenominator</th>\n",
       "      <th>Score</th>\n",
       "      <th>Time</th>\n",
       "      <th>Summary</th>\n",
       "      <th>Text</th>\n",
       "    </tr>\n",
       "  </thead>\n",
       "  <tbody>\n",
       "    <tr>\n",
       "      <th>138706</th>\n",
       "      <td>150524</td>\n",
       "      <td>0006641040</td>\n",
       "      <td>ACITT7DI6IDDL</td>\n",
       "      <td>shari zychinski</td>\n",
       "      <td>0</td>\n",
       "      <td>0</td>\n",
       "      <td>Positive</td>\n",
       "      <td>939340800</td>\n",
       "      <td>EVERY book is educational</td>\n",
       "      <td>this witty little book makes my son laugh at l...</td>\n",
       "    </tr>\n",
       "    <tr>\n",
       "      <th>138688</th>\n",
       "      <td>150506</td>\n",
       "      <td>0006641040</td>\n",
       "      <td>A2IW4PEEKO2R0U</td>\n",
       "      <td>Tracy</td>\n",
       "      <td>1</td>\n",
       "      <td>1</td>\n",
       "      <td>Positive</td>\n",
       "      <td>1194739200</td>\n",
       "      <td>Love the book, miss the hard cover version</td>\n",
       "      <td>I grew up reading these Sendak books, and watc...</td>\n",
       "    </tr>\n",
       "    <tr>\n",
       "      <th>138689</th>\n",
       "      <td>150507</td>\n",
       "      <td>0006641040</td>\n",
       "      <td>A1S4A3IQ2MU7V4</td>\n",
       "      <td>sally sue \"sally sue\"</td>\n",
       "      <td>1</td>\n",
       "      <td>1</td>\n",
       "      <td>Positive</td>\n",
       "      <td>1191456000</td>\n",
       "      <td>chicken soup with rice months</td>\n",
       "      <td>This is a fun way for children to learn their ...</td>\n",
       "    </tr>\n",
       "    <tr>\n",
       "      <th>138690</th>\n",
       "      <td>150508</td>\n",
       "      <td>0006641040</td>\n",
       "      <td>AZGXZ2UUK6X</td>\n",
       "      <td>Catherine Hallberg \"(Kate)\"</td>\n",
       "      <td>1</td>\n",
       "      <td>1</td>\n",
       "      <td>Positive</td>\n",
       "      <td>1076025600</td>\n",
       "      <td>a good swingy rhythm for reading aloud</td>\n",
       "      <td>This is a great little book to read aloud- it ...</td>\n",
       "    </tr>\n",
       "    <tr>\n",
       "      <th>138691</th>\n",
       "      <td>150509</td>\n",
       "      <td>0006641040</td>\n",
       "      <td>A3CMRKGE0P909G</td>\n",
       "      <td>Teresa</td>\n",
       "      <td>3</td>\n",
       "      <td>4</td>\n",
       "      <td>Positive</td>\n",
       "      <td>1018396800</td>\n",
       "      <td>A great way to learn the months</td>\n",
       "      <td>This is a book of poetry about the months of t...</td>\n",
       "    </tr>\n",
       "  </tbody>\n",
       "</table>\n",
       "</div>"
      ],
      "text/plain": [
       "            Id   ProductId          UserId                  ProfileName  \\\n",
       "138706  150524  0006641040   ACITT7DI6IDDL              shari zychinski   \n",
       "138688  150506  0006641040  A2IW4PEEKO2R0U                        Tracy   \n",
       "138689  150507  0006641040  A1S4A3IQ2MU7V4        sally sue \"sally sue\"   \n",
       "138690  150508  0006641040     AZGXZ2UUK6X  Catherine Hallberg \"(Kate)\"   \n",
       "138691  150509  0006641040  A3CMRKGE0P909G                       Teresa   \n",
       "\n",
       "        HelpfulnessNumerator  HelpfulnessDenominator     Score        Time  \\\n",
       "138706                     0                       0  Positive   939340800   \n",
       "138688                     1                       1  Positive  1194739200   \n",
       "138689                     1                       1  Positive  1191456000   \n",
       "138690                     1                       1  Positive  1076025600   \n",
       "138691                     3                       4  Positive  1018396800   \n",
       "\n",
       "                                           Summary  \\\n",
       "138706                   EVERY book is educational   \n",
       "138688  Love the book, miss the hard cover version   \n",
       "138689               chicken soup with rice months   \n",
       "138690      a good swingy rhythm for reading aloud   \n",
       "138691             A great way to learn the months   \n",
       "\n",
       "                                                     Text  \n",
       "138706  this witty little book makes my son laugh at l...  \n",
       "138688  I grew up reading these Sendak books, and watc...  \n",
       "138689  This is a fun way for children to learn their ...  \n",
       "138690  This is a great little book to read aloud- it ...  \n",
       "138691  This is a book of poetry about the months of t...  "
      ]
     },
     "execution_count": 7,
     "metadata": {},
     "output_type": "execute_result"
    }
   ],
   "source": [
    "# Sorting data based on ProductId\n",
    "\n",
    "sorted_data = dataset.sort_values('ProductId', ascending=True, axis=0)\n",
    "sorted_data.head()"
   ]
  },
  {
   "cell_type": "code",
   "execution_count": 8,
   "metadata": {},
   "outputs": [
    {
     "data": {
      "text/plain": [
       "(364133, 10)"
      ]
     },
     "execution_count": 8,
     "metadata": {},
     "output_type": "execute_result"
    }
   ],
   "source": [
    "# Remove all the data points that exactly match the field values mention below\n",
    "\n",
    "data = sorted_data.drop_duplicates(subset={'UserId', 'Time', 'Text'}, keep='first', inplace=False)\n",
    "data.shape"
   ]
  },
  {
   "cell_type": "code",
   "execution_count": 9,
   "metadata": {},
   "outputs": [
    {
     "name": "stdout",
     "output_type": "stream",
     "text": [
      "69.25129418387492\n"
     ]
    }
   ],
   "source": [
    "# Check what percentage of original data is remaining\n",
    "\n",
    "percentage = (data.shape[0] / dataset.shape[0]) * 100\n",
    "print(percentage)"
   ]
  },
  {
   "cell_type": "code",
   "execution_count": 10,
   "metadata": {},
   "outputs": [
    {
     "data": {
      "text/plain": [
       "(364131, 10)"
      ]
     },
     "execution_count": 10,
     "metadata": {},
     "output_type": "execute_result"
    }
   ],
   "source": [
    "# Removing the reviews having HelpfulnessNumerator greater than HelpfulnessDenominator\n",
    "\n",
    "data = data[data.HelpfulnessDenominator >= data.HelpfulnessNumerator]\n",
    "data.shape"
   ]
  },
  {
   "cell_type": "code",
   "execution_count": 11,
   "metadata": {},
   "outputs": [
    {
     "data": {
      "text/plain": [
       "Positive    307026\n",
       "Negative     57105\n",
       "Name: Score, dtype: int64"
      ]
     },
     "execution_count": 11,
     "metadata": {},
     "output_type": "execute_result"
    },
    {
     "data": {
      "image/png": "[encoded data removed]",
      "text/plain": [
       "<Figure size 432x288 with 1 Axes>"
      ]
     },
     "metadata": {
      "needs_background": "light"
     },
     "output_type": "display_data"
    }
   ],
   "source": [
    "# Getting the number of positive and negative reviews\n",
    "\n",
    "data['Score'].value_counts().plot(kind='bar')\n",
    "data['Score'].value_counts()"
   ]
  },
  {
   "cell_type": "markdown",
   "metadata": {},
   "source": [
    "### 2.2 Data Cleaning"
   ]
  },
  {
   "cell_type": "code",
   "execution_count": 12,
   "metadata": {},
   "outputs": [],
   "source": [
    "import re\n",
    "import string\n",
    "from nltk.corpus import stopwords\n",
    "from nltk.stem import SnowballStemmer\n",
    "from nltk.stem.wordnet import WordNetLemmatizer"
   ]
  },
  {
   "cell_type": "code",
   "execution_count": 13,
   "metadata": {},
   "outputs": [
    {
     "name": "stdout",
     "output_type": "stream",
     "text": [
      "Total number of html tags present: 6\n",
      "========================================================================================================================\n",
      "I set aside at least an hour each day to read to my son (3 y/o). At this point, I consider myself a connoisseur of children's books and this is one of the best. Santa Clause put this under the tree. Since then, we've read it perpetually and he loves it.<br /><br />First, this book taught him the months of the year.<br /><br />Second, it's a pleasure to read. Well suited to 1.5 y/o old to 4+.<br /><br />Very few children's books are worth owning. Most should be borrowed from the library. This book, however, deserves a permanent spot on your shelf. Sendak's best.\n"
     ]
    }
   ],
   "source": [
    "# Find sentences containing html tags\n",
    "\n",
    "i = 0\n",
    "for sentence in data['Text'].values:\n",
    "    if (len(re.findall('<.*?>', sentence))):\n",
    "        print(\"Total number of html tags present:\", i)\n",
    "        print(\"==\"*60)\n",
    "        print(sentence)\n",
    "        break\n",
    "    i += 1"
   ]
  },
  {
   "cell_type": "code",
   "execution_count": 14,
   "metadata": {},
   "outputs": [],
   "source": [
    "# Function to remove texts with html tags(<...>)\n",
    "\n",
    "def cleanHtml(sentence):\n",
    "    cleanr = re.compile('<.*?>')                  # Select ANY text with < > tags\n",
    "    cleanText = re.sub(cleanr, ' ', sentence)     # Replace texts enclosed in < > with white space\n",
    "    return cleanText"
   ]
  },
  {
   "cell_type": "code",
   "execution_count": 15,
   "metadata": {},
   "outputs": [],
   "source": [
    "# Function to remove punctuation marks(.,?/:;)\n",
    "\n",
    "def cleanPunctuation(sentence):\n",
    "    cleanp = re.sub(r'[?|$|.|!]',r'', sentence)\n",
    "    cleanp = re.sub(r'[.|,|)|(|\\|/]',r' ', cleanp)\n",
    "    return cleanp"
   ]
  },
  {
   "cell_type": "code",
   "execution_count": 16,
   "metadata": {},
   "outputs": [
    {
     "name": "stdout",
     "output_type": "stream",
     "text": [
      "{'during', 'most', 'or', \"hasn't\", 'where', 'did', 'between', 'they', 'mightn', 'my', 'this', 'as', 'while', 'couldn', 'an', \"that'll\", 'll', 'too', 'haven', 'don', 'these', 'again', 'how', 'just', 'ain', 'who', 'before', 'herself', 'is', 'yourselves', 'theirs', 'd', 'for', 'and', 'which', \"hadn't\", 'can', 'above', 'other', 'doing', 'have', \"you're\", 'such', 'her', 'over', \"doesn't\", \"mightn't\", 'be', 'has', 'doesn', 'wouldn', 'because', 's', 'down', 'some', 'each', 'a', 'should', \"shan't\", 'me', 'aren', 'him', 'both', 'needn', 'he', 'then', 'more', 'o', \"she's\", 'so', 'not', 'to', 'same', 'hadn', 'yours', 'few', 'shan', \"wasn't\", 'shouldn', \"won't\", 'against', 'am', 'that', 've', 'than', 'having', 'will', 'no', 'you', 're', 'when', 'on', 'its', 'myself', 'ourselves', \"you've\", 'been', 'but', 'up', \"mustn't\", 'further', \"didn't\", 'm', 'his', 'being', \"you'll\", \"weren't\", 'won', 'ma', \"wouldn't\", \"needn't\", 'in', 'the', 'were', 'it', 'off', 'once', 'their', 'mustn', 'about', 'whom', 'our', 'after', 'y', \"aren't\", 'through', 'from', 'itself', \"don't\", 'there', 'we', 'are', 'your', 'himself', 'does', 'if', 'why', 'any', \"should've\", 'she', 'had', 'nor', \"it's\", 'here', 'only', \"haven't\", 't', 'under', 'those', 'them', 'hers', 'what', \"you'd\", \"couldn't\", 'now', 'own', 'didn', 'i', 'do', 'with', 'weren', 'of', 'was', 'hasn', 'themselves', 'ours', 'by', 'isn', \"shouldn't\", 'at', 'below', 'yourself', 'out', 'very', 'until', 'wasn', 'into', \"isn't\", 'all'}\n"
     ]
    }
   ],
   "source": [
    "# Printing the set of stop words present in english language\n",
    "# You need to download stopword first before using it(import nltk; nltk.download(\"stopwords\");)\n",
    "\n",
    "stopWords = set(stopwords.words('english'))\n",
    "print(stopWords)"
   ]
  },
  {
   "cell_type": "code",
   "execution_count": 17,
   "metadata": {},
   "outputs": [],
   "source": [
    "# Initializing SnowBall Stemmer\n",
    "\n",
    "snowball = SnowballStemmer('english')"
   ]
  },
  {
   "cell_type": "code",
   "execution_count": 18,
   "metadata": {},
   "outputs": [
    {
     "name": "stdout",
     "output_type": "stream",
     "text": [
      "tasti\n",
      "delici\n",
      "littl\n"
     ]
    }
   ],
   "source": [
    "# Printing a base-word using snowball stemmer\n",
    "\n",
    "print(snowball.stem('tasty'))\n",
    "print(snowball.stem('delicious'))\n",
    "print(snowball.stem('little'))"
   ]
  },
  {
   "cell_type": "code",
   "execution_count": 19,
   "metadata": {},
   "outputs": [],
   "source": [
    "# Core Pre-processing code step-by-step(removing html tags, punctuations, stopwords, etc)\n",
    "# This may take a few minutes to execute as it needs to execute all the sentences present in data['Text']\n",
    "\n",
    "i = 0\n",
    "initial_str = ''\n",
    "final_str = []          # Store final string of clean words\n",
    "positive_words = []     # Store words from positive reviews here\n",
    "negative_words = []     # Store words from negative reviews here\n",
    "s = ''\n",
    "\n",
    "for sentence in data['Text'].values:\n",
    "    filtered_sentence = []\n",
    "    sentence = cleanHtml(sentence)          # Remove html tags\n",
    "    for words in sentence.split():\n",
    "        for word in cleanPunctuation(words).split():\n",
    "            if ((word.isalpha()) & (len(word) > 2)):\n",
    "                if (word.lower() not in stopWords):\n",
    "                    s = (snowball.stem(word.lower()).encode('utf-8'))\n",
    "                    filtered_sentence.append(s)\n",
    "                    if ((data['Score'].values)[i] == 'Positive'):\n",
    "                        positive_words.append(s)\n",
    "                    if ((data['Score'].values)[i] == 'Negative'):\n",
    "                        negative_words.append(s)\n",
    "                else:\n",
    "                    continue\n",
    "            else:\n",
    "                continue\n",
    "    initial_str = b\" \".join(filtered_sentence)      # Final string of clean words\n",
    "    final_str.append(initial_str)\n",
    "    i += 1"
   ]
  },
  {
   "cell_type": "code",
   "execution_count": 20,
   "metadata": {},
   "outputs": [],
   "source": [
    "# Adding a column in dataset and storing cleaned text in it.\n",
    "\n",
    "data['CleanedText'] = final_str\n",
    "data['CleanedText'] = data['CleanedText'].str.decode(\"utf-8\")"
   ]
  },
  {
   "cell_type": "code",
   "execution_count": 21,
   "metadata": {},
   "outputs": [
    {
     "data": {
      "text/html": [
       "<div>\n",
       "<style scoped>\n",
       "    .dataframe tbody tr th:only-of-type {\n",
       "        vertical-align: middle;\n",
       "    }\n",
       "\n",
       "    .dataframe tbody tr th {\n",
       "        vertical-align: top;\n",
       "    }\n",
       "\n",
       "    .dataframe thead th {\n",
       "        text-align: right;\n",
       "    }\n",
       "</style>\n",
       "<table border=\"1\" class=\"dataframe\">\n",
       "  <thead>\n",
       "    <tr style=\"text-align: right;\">\n",
       "      <th></th>\n",
       "      <th>Id</th>\n",
       "      <th>ProductId</th>\n",
       "      <th>UserId</th>\n",
       "      <th>ProfileName</th>\n",
       "      <th>HelpfulnessNumerator</th>\n",
       "      <th>HelpfulnessDenominator</th>\n",
       "      <th>Score</th>\n",
       "      <th>Time</th>\n",
       "      <th>Summary</th>\n",
       "      <th>Text</th>\n",
       "      <th>CleanedText</th>\n",
       "    </tr>\n",
       "  </thead>\n",
       "  <tbody>\n",
       "    <tr>\n",
       "      <th>138706</th>\n",
       "      <td>150524</td>\n",
       "      <td>0006641040</td>\n",
       "      <td>ACITT7DI6IDDL</td>\n",
       "      <td>shari zychinski</td>\n",
       "      <td>0</td>\n",
       "      <td>0</td>\n",
       "      <td>Positive</td>\n",
       "      <td>939340800</td>\n",
       "      <td>EVERY book is educational</td>\n",
       "      <td>this witty little book makes my son laugh at l...</td>\n",
       "      <td>witti littl book make son laugh loud recit car...</td>\n",
       "    </tr>\n",
       "    <tr>\n",
       "      <th>138688</th>\n",
       "      <td>150506</td>\n",
       "      <td>0006641040</td>\n",
       "      <td>A2IW4PEEKO2R0U</td>\n",
       "      <td>Tracy</td>\n",
       "      <td>1</td>\n",
       "      <td>1</td>\n",
       "      <td>Positive</td>\n",
       "      <td>1194739200</td>\n",
       "      <td>Love the book, miss the hard cover version</td>\n",
       "      <td>I grew up reading these Sendak books, and watc...</td>\n",
       "      <td>grew read sendak book watch realli rosi movi i...</td>\n",
       "    </tr>\n",
       "    <tr>\n",
       "      <th>138689</th>\n",
       "      <td>150507</td>\n",
       "      <td>0006641040</td>\n",
       "      <td>A1S4A3IQ2MU7V4</td>\n",
       "      <td>sally sue \"sally sue\"</td>\n",
       "      <td>1</td>\n",
       "      <td>1</td>\n",
       "      <td>Positive</td>\n",
       "      <td>1191456000</td>\n",
       "      <td>chicken soup with rice months</td>\n",
       "      <td>This is a fun way for children to learn their ...</td>\n",
       "      <td>fun way children learn month year learn poem t...</td>\n",
       "    </tr>\n",
       "    <tr>\n",
       "      <th>138690</th>\n",
       "      <td>150508</td>\n",
       "      <td>0006641040</td>\n",
       "      <td>AZGXZ2UUK6X</td>\n",
       "      <td>Catherine Hallberg \"(Kate)\"</td>\n",
       "      <td>1</td>\n",
       "      <td>1</td>\n",
       "      <td>Positive</td>\n",
       "      <td>1076025600</td>\n",
       "      <td>a good swingy rhythm for reading aloud</td>\n",
       "      <td>This is a great little book to read aloud- it ...</td>\n",
       "      <td>great littl book read nice rhythm well good re...</td>\n",
       "    </tr>\n",
       "    <tr>\n",
       "      <th>138691</th>\n",
       "      <td>150509</td>\n",
       "      <td>0006641040</td>\n",
       "      <td>A3CMRKGE0P909G</td>\n",
       "      <td>Teresa</td>\n",
       "      <td>3</td>\n",
       "      <td>4</td>\n",
       "      <td>Positive</td>\n",
       "      <td>1018396800</td>\n",
       "      <td>A great way to learn the months</td>\n",
       "      <td>This is a book of poetry about the months of t...</td>\n",
       "      <td>book poetri month year goe month cute littl po...</td>\n",
       "    </tr>\n",
       "  </tbody>\n",
       "</table>\n",
       "</div>"
      ],
      "text/plain": [
       "            Id   ProductId          UserId                  ProfileName  \\\n",
       "138706  150524  0006641040   ACITT7DI6IDDL              shari zychinski   \n",
       "138688  150506  0006641040  A2IW4PEEKO2R0U                        Tracy   \n",
       "138689  150507  0006641040  A1S4A3IQ2MU7V4        sally sue \"sally sue\"   \n",
       "138690  150508  0006641040     AZGXZ2UUK6X  Catherine Hallberg \"(Kate)\"   \n",
       "138691  150509  0006641040  A3CMRKGE0P909G                       Teresa   \n",
       "\n",
       "        HelpfulnessNumerator  HelpfulnessDenominator     Score        Time  \\\n",
       "138706                     0                       0  Positive   939340800   \n",
       "138688                     1                       1  Positive  1194739200   \n",
       "138689                     1                       1  Positive  1191456000   \n",
       "138690                     1                       1  Positive  1076025600   \n",
       "138691                     3                       4  Positive  1018396800   \n",
       "\n",
       "                                           Summary  \\\n",
       "138706                   EVERY book is educational   \n",
       "138688  Love the book, miss the hard cover version   \n",
       "138689               chicken soup with rice months   \n",
       "138690      a good swingy rhythm for reading aloud   \n",
       "138691             A great way to learn the months   \n",
       "\n",
       "                                                     Text  \\\n",
       "138706  this witty little book makes my son laugh at l...   \n",
       "138688  I grew up reading these Sendak books, and watc...   \n",
       "138689  This is a fun way for children to learn their ...   \n",
       "138690  This is a great little book to read aloud- it ...   \n",
       "138691  This is a book of poetry about the months of t...   \n",
       "\n",
       "                                              CleanedText  \n",
       "138706  witti littl book make son laugh loud recit car...  \n",
       "138688  grew read sendak book watch realli rosi movi i...  \n",
       "138689  fun way children learn month year learn poem t...  \n",
       "138690  great littl book read nice rhythm well good re...  \n",
       "138691  book poetri month year goe month cute littl po...  "
      ]
     },
     "execution_count": 21,
     "metadata": {},
     "output_type": "execute_result"
    }
   ],
   "source": [
    "data.head()"
   ]
  },
  {
   "cell_type": "markdown",
   "metadata": {},
   "source": [
    "# 3. Time-based splitting of data"
   ]
  },
  {
   "cell_type": "code",
   "execution_count": 22,
   "metadata": {},
   "outputs": [
    {
     "data": {
      "text/html": [
       "<div>\n",
       "<style scoped>\n",
       "    .dataframe tbody tr th:only-of-type {\n",
       "        vertical-align: middle;\n",
       "    }\n",
       "\n",
       "    .dataframe tbody tr th {\n",
       "        vertical-align: top;\n",
       "    }\n",
       "\n",
       "    .dataframe thead th {\n",
       "        text-align: right;\n",
       "    }\n",
       "</style>\n",
       "<table border=\"1\" class=\"dataframe\">\n",
       "  <thead>\n",
       "    <tr style=\"text-align: right;\">\n",
       "      <th></th>\n",
       "      <th>Id</th>\n",
       "      <th>ProductId</th>\n",
       "      <th>UserId</th>\n",
       "      <th>ProfileName</th>\n",
       "      <th>HelpfulnessNumerator</th>\n",
       "      <th>HelpfulnessDenominator</th>\n",
       "      <th>Score</th>\n",
       "      <th>Time</th>\n",
       "      <th>Summary</th>\n",
       "      <th>Text</th>\n",
       "      <th>CleanedText</th>\n",
       "    </tr>\n",
       "  </thead>\n",
       "  <tbody>\n",
       "    <tr>\n",
       "      <th>138706</th>\n",
       "      <td>150524</td>\n",
       "      <td>0006641040</td>\n",
       "      <td>ACITT7DI6IDDL</td>\n",
       "      <td>shari zychinski</td>\n",
       "      <td>0</td>\n",
       "      <td>0</td>\n",
       "      <td>Positive</td>\n",
       "      <td>939340800</td>\n",
       "      <td>EVERY book is educational</td>\n",
       "      <td>this witty little book makes my son laugh at l...</td>\n",
       "      <td>witti littl book make son laugh loud recit car...</td>\n",
       "    </tr>\n",
       "    <tr>\n",
       "      <th>138683</th>\n",
       "      <td>150501</td>\n",
       "      <td>0006641040</td>\n",
       "      <td>AJ46FKXOVC7NR</td>\n",
       "      <td>Nicholas A Mesiano</td>\n",
       "      <td>2</td>\n",
       "      <td>2</td>\n",
       "      <td>Positive</td>\n",
       "      <td>940809600</td>\n",
       "      <td>This whole series is great way to spend time w...</td>\n",
       "      <td>I can remember seeing the show when it aired o...</td>\n",
       "      <td>rememb see show air televis year ago child sis...</td>\n",
       "    </tr>\n",
       "    <tr>\n",
       "      <th>417839</th>\n",
       "      <td>451856</td>\n",
       "      <td>B00004CXX9</td>\n",
       "      <td>AIUWLEQ1ADEG5</td>\n",
       "      <td>Elizabeth Medina</td>\n",
       "      <td>0</td>\n",
       "      <td>0</td>\n",
       "      <td>Positive</td>\n",
       "      <td>944092800</td>\n",
       "      <td>Entertainingl Funny!</td>\n",
       "      <td>Beetlejuice is a well written movie ..... ever...</td>\n",
       "      <td>beetlejuic well written movi everyth excel act...</td>\n",
       "    </tr>\n",
       "    <tr>\n",
       "      <th>346055</th>\n",
       "      <td>374359</td>\n",
       "      <td>B00004CI84</td>\n",
       "      <td>A344SMIA5JECGM</td>\n",
       "      <td>Vincent P. Ross</td>\n",
       "      <td>1</td>\n",
       "      <td>2</td>\n",
       "      <td>Positive</td>\n",
       "      <td>944438400</td>\n",
       "      <td>A modern day fairy tale</td>\n",
       "      <td>A twist of rumplestiskin captured on film, sta...</td>\n",
       "      <td>twist rumplestiskin captur film star michael k...</td>\n",
       "    </tr>\n",
       "    <tr>\n",
       "      <th>417838</th>\n",
       "      <td>451855</td>\n",
       "      <td>B00004CXX9</td>\n",
       "      <td>AJH6LUC1UT1ON</td>\n",
       "      <td>The Phantom of the Opera</td>\n",
       "      <td>0</td>\n",
       "      <td>0</td>\n",
       "      <td>Positive</td>\n",
       "      <td>946857600</td>\n",
       "      <td>FANTASTIC!</td>\n",
       "      <td>Beetlejuice is an excellent and funny movie. K...</td>\n",
       "      <td>beetlejuic excel funni movi keaton hilari wack...</td>\n",
       "    </tr>\n",
       "  </tbody>\n",
       "</table>\n",
       "</div>"
      ],
      "text/plain": [
       "            Id   ProductId          UserId               ProfileName  \\\n",
       "138706  150524  0006641040   ACITT7DI6IDDL           shari zychinski   \n",
       "138683  150501  0006641040   AJ46FKXOVC7NR        Nicholas A Mesiano   \n",
       "417839  451856  B00004CXX9   AIUWLEQ1ADEG5          Elizabeth Medina   \n",
       "346055  374359  B00004CI84  A344SMIA5JECGM           Vincent P. Ross   \n",
       "417838  451855  B00004CXX9   AJH6LUC1UT1ON  The Phantom of the Opera   \n",
       "\n",
       "        HelpfulnessNumerator  HelpfulnessDenominator     Score       Time  \\\n",
       "138706                     0                       0  Positive  939340800   \n",
       "138683                     2                       2  Positive  940809600   \n",
       "417839                     0                       0  Positive  944092800   \n",
       "346055                     1                       2  Positive  944438400   \n",
       "417838                     0                       0  Positive  946857600   \n",
       "\n",
       "                                                  Summary  \\\n",
       "138706                          EVERY book is educational   \n",
       "138683  This whole series is great way to spend time w...   \n",
       "417839                               Entertainingl Funny!   \n",
       "346055                            A modern day fairy tale   \n",
       "417838                                         FANTASTIC!   \n",
       "\n",
       "                                                     Text  \\\n",
       "138706  this witty little book makes my son laugh at l...   \n",
       "138683  I can remember seeing the show when it aired o...   \n",
       "417839  Beetlejuice is a well written movie ..... ever...   \n",
       "346055  A twist of rumplestiskin captured on film, sta...   \n",
       "417838  Beetlejuice is an excellent and funny movie. K...   \n",
       "\n",
       "                                              CleanedText  \n",
       "138706  witti littl book make son laugh loud recit car...  \n",
       "138683  rememb see show air televis year ago child sis...  \n",
       "417839  beetlejuic well written movi everyth excel act...  \n",
       "346055  twist rumplestiskin captur film star michael k...  \n",
       "417838  beetlejuic excel funni movi keaton hilari wack...  "
      ]
     },
     "execution_count": 22,
     "metadata": {},
     "output_type": "execute_result"
    }
   ],
   "source": [
    "# Sorting data based on time\n",
    "\n",
    "time_sort = data.sort_values('Time', ascending=True, axis=0, na_position='last')       # na_postion='last' puts NaNs at the end\n",
    "time_sort.head()"
   ]
  },
  {
   "cell_type": "code",
   "execution_count": 23,
   "metadata": {},
   "outputs": [],
   "source": [
    "from sklearn.model_selection import train_test_split"
   ]
  },
  {
   "cell_type": "code",
   "execution_count": 24,
   "metadata": {},
   "outputs": [],
   "source": [
    "# Splitting data into Train, Test and Cross-validation\n",
    "\n",
    "X = time_sort['CleanedText']\n",
    "Y = time_sort['Score']\n",
    "\n",
    "x_training, x_test, y_training, y_test= train_test_split(X, Y, test_size=0.25)\n",
    "x_train, x_cv, y_train, y_cv = train_test_split(x_training, y_training, test_size=0.3)"
   ]
  },
  {
   "cell_type": "code",
   "execution_count": 25,
   "metadata": {},
   "outputs": [
    {
     "name": "stdout",
     "output_type": "stream",
     "text": [
      "The shape of the training data is: (191168,) (191168,)\n",
      "The shape of the CV data is: (81930,) (81930,)\n",
      "The shape of the test data is: (91033,) (91033,)\n"
     ]
    }
   ],
   "source": [
    "print(\"The shape of the training data is:\", x_train.shape, y_train.shape)\n",
    "print(\"The shape of the CV data is:\", x_cv.shape, y_cv.shape)\n",
    "print(\"The shape of the test data is:\", x_test.shape, y_test.shape)"
   ]
  },
  {
   "cell_type": "markdown",
   "metadata": {},
   "source": [
    "# 4. Function to Train and Test Logistic Regression models"
   ]
  },
  {
   "cell_type": "code",
   "execution_count": 26,
   "metadata": {},
   "outputs": [],
   "source": [
    "import warnings\n",
    "warnings.filterwarnings(\"ignore\")\n",
    "from sklearn.linear_model import LogisticRegression\n",
    "from sklearn.metrics import accuracy_score, f1_score, precision_score, recall_score"
   ]
  },
  {
   "cell_type": "markdown",
   "metadata": {},
   "source": [
    "### 4.1 Train function for Logistic Regression models"
   ]
  },
  {
   "cell_type": "code",
   "execution_count": 63,
   "metadata": {},
   "outputs": [],
   "source": [
    "def logistic_train(x_train, x_cv, y_train, y_cv, penal):\n",
    "    C = [10000,5000,1000,500,100,50,10,5,1,0.5,0.1,0.05,0.01,0.005,0.001]\n",
    "    accuracy_cv = []\n",
    "\n",
    "    for i in C[0:]:\n",
    "        logistic = LogisticRegression(penalty=penal, C=i)\n",
    "        logistic.fit(x_train, y_train)\n",
    "        \n",
    "        prediction = logistic.predict(x_cv)\n",
    "        \n",
    "        acc_cv = accuracy_score(y_cv, prediction)\n",
    "        f1_cv = f1_score(y_cv, prediction, average='macro')\n",
    "        precision_cv = precision_score(y_cv, prediction, average='macro')\n",
    "        recall_cv = recall_score(y_cv, prediction, average='macro')\n",
    "        \n",
    "        print(\"FOR λ =\", i)\n",
    "        print(\"The accuracy of the model is:\", acc_cv*100)\n",
    "        print(\"The f1_score of the model is:\", f1_cv*100)\n",
    "        print(\"The precision_score of the model is:\", precision_cv*100)\n",
    "        print(\"The recall_score of the model is:\", recall_cv*100)\n",
    "        print(\"==\"*60)\n",
    "        \n",
    "        accuracy_cv.append(acc_cv)\n",
    "        \n",
    "    # Plot λ vs auc_score graph\n",
    "    plt.plot(C, accuracy_cv, 'b-', label=\"Cross Validation Data\")\n",
    "    plt.legend(loc='lower right')\n",
    "    plt.title(\"λ v/s Auc Score\")\n",
    "    plt.ylabel('Auc Score')\n",
    "    plt.xlabel('λ')\n",
    "    plt.show()"
   ]
  },
  {
   "cell_type": "markdown",
   "metadata": {},
   "source": [
    "### 4.2 Test function for Logistic Regression models"
   ]
  },
  {
   "cell_type": "code",
   "execution_count": 28,
   "metadata": {},
   "outputs": [],
   "source": [
    "from sklearn.metrics import classification_report\n",
    "from scikitplot.metrics import plot_confusion_matrix"
   ]
  },
  {
   "cell_type": "code",
   "execution_count": 64,
   "metadata": {},
   "outputs": [],
   "source": [
    "def logistic_test(x_train, y_train, x_test, y_test, penal, optimal_C):\n",
    "    logistic = LogisticRegression(penalty=penal, C=optimal_C)\n",
    "    logistic.fit(x_train, y_train)\n",
    "    \n",
    "    prediction = logistic.predict(x_test)\n",
    "\n",
    "    print(\"The accuracy of the model is:\", accuracy_score(y_test, prediction)*100)\n",
    "    print(\"The macro f1_score of the model is:\", f1_score(y_test, prediction, average = 'macro')*100)\n",
    "    print(\"The micro f1_score of the model is:\", f1_score(y_test, prediction, average = 'micro')*100)\n",
    "    print(\"The precision_score of the model is:\", precision_score(y_test, prediction, average='macro')*100)\n",
    "    print(\"The recall_score of the model is:\", recall_score(y_test, prediction, average='macro')*100)\n",
    "    print(\"The precision recall report for data:\\n\", classification_report(y_test, prediction))\n",
    "    \n",
    "    plot_confusion_matrix(y_test, prediction)\n",
    "    plt.show()"
   ]
  },
  {
   "cell_type": "markdown",
   "metadata": {},
   "source": [
    "# 5. Vectorization of splitted of data"
   ]
  },
  {
   "cell_type": "markdown",
   "metadata": {},
   "source": [
    "### 5.1 Bag of Words (BoW)"
   ]
  },
  {
   "cell_type": "code",
   "execution_count": 32,
   "metadata": {},
   "outputs": [],
   "source": [
    "from sklearn.feature_extraction.text import CountVectorizer"
   ]
  },
  {
   "cell_type": "code",
   "execution_count": 33,
   "metadata": {},
   "outputs": [],
   "source": [
    "count_vect = CountVectorizer(ngram_range=(2,2))\n",
    "count_vect.fit(x_train)\n",
    "# Fit should be done only to train data\n",
    "# After fitting count_vect only learns the vocabulary of x_train i.e unique words(unique n-grams)\n",
    "\n",
    "# To convert the SENTENCE into numerical vectors, we call transform()\n",
    "x_train_bow = count_vect.transform(x_train)\n",
    "x_cv_bow = count_vect.transform(x_cv)\n",
    "x_test_bow = count_vect.transform(x_test)"
   ]
  },
  {
   "cell_type": "code",
   "execution_count": 34,
   "metadata": {},
   "outputs": [
    {
     "name": "stdout",
     "output_type": "stream",
     "text": [
      "The shape of the training data is: (191168, 1859088) (191168,)\n",
      "The shape of the CV data is: (81930, 1859088) (81930,)\n",
      "The shape of the test data is: (91033, 1859088) (91033,)\n"
     ]
    }
   ],
   "source": [
    "print(\"The shape of the training data is:\", x_train_bow.shape, y_train.shape)\n",
    "print(\"The shape of the CV data is:\", x_cv_bow.shape, y_cv.shape)\n",
    "print(\"The shape of the test data is:\", x_test_bow.shape, y_test.shape)"
   ]
  },
  {
   "cell_type": "markdown",
   "metadata": {},
   "source": [
    "### 5.2 Term Frequency - Inverse Document Frequency (tf-idf)"
   ]
  },
  {
   "cell_type": "code",
   "execution_count": 35,
   "metadata": {},
   "outputs": [],
   "source": [
    "from sklearn.feature_extraction.text import TfidfVectorizer"
   ]
  },
  {
   "cell_type": "code",
   "execution_count": 36,
   "metadata": {},
   "outputs": [],
   "source": [
    "tfidf_vect = TfidfVectorizer(stop_words=None, ngram_range=(1,2))\n",
    "tfidf_vect.fit(x_train)\n",
    "# Fit should be done only to train data\n",
    "# After fitting tfidf_vect only learnss the vocabulary of x_train i.e unique words(unique n-grams)\n",
    "\n",
    "# To convert the SENTENCE into numerical vectors, we call transform()\n",
    "x_train_tfidf = tfidf_vect.transform(x_train)\n",
    "x_cv_tfidf = tfidf_vect.transform(x_cv)\n",
    "x_test_tfidf = tfidf_vect.transform(x_test)"
   ]
  },
  {
   "cell_type": "code",
   "execution_count": 37,
   "metadata": {},
   "outputs": [
    {
     "name": "stdout",
     "output_type": "stream",
     "text": [
      "The shape of the training data is: (191168, 1925065) (191168,)\n",
      "The shape of the CV data is: (81930, 1925065) (81930,)\n",
      "The shape of the test data is: (91033, 1925065) (91033,)\n"
     ]
    }
   ],
   "source": [
    "print(\"The shape of the training data is:\", x_train_tfidf.shape, y_train.shape)\n",
    "print(\"The shape of the CV data is:\", x_cv_tfidf.shape, y_cv.shape)\n",
    "print(\"The shape of the test data is:\", x_test_tfidf.shape, y_test.shape)"
   ]
  },
  {
   "cell_type": "markdown",
   "metadata": {},
   "source": [
    "### 5.3 Word2Vec"
   ]
  },
  {
   "cell_type": "code",
   "execution_count": 38,
   "metadata": {},
   "outputs": [],
   "source": [
    "from gensim.models import Word2Vec\n",
    "from gensim.models import KeyedVectors\n",
    "from tqdm import tqdm"
   ]
  },
  {
   "cell_type": "code",
   "execution_count": 39,
   "metadata": {},
   "outputs": [],
   "source": [
    "sentence_list = []\n",
    "for sentence in x_train:\n",
    "    sentence_list.append(sentence.split())"
   ]
  },
  {
   "cell_type": "code",
   "execution_count": 40,
   "metadata": {},
   "outputs": [],
   "source": [
    "sentence_list_cv = []\n",
    "for sentence in x_cv:\n",
    "    sentence_list_cv.append(sentence.split())"
   ]
  },
  {
   "cell_type": "code",
   "execution_count": 41,
   "metadata": {},
   "outputs": [],
   "source": [
    "sentence_list_test = []\n",
    "for sentence in x_test:\n",
    "    sentence_list_test.append(sentence.split())"
   ]
  },
  {
   "cell_type": "code",
   "execution_count": 42,
   "metadata": {},
   "outputs": [
    {
     "name": "stdout",
     "output_type": "stream",
     "text": [
      "<class 'gensim.models.word2vec.Word2Vec'>\n"
     ]
    }
   ],
   "source": [
    "# Train your own Word2Vec model using your own train text corpus \n",
    "\n",
    "w2v_train_model = Word2Vec(sentence_list, min_count=5, size=50, workers=4)          # Considers only those words that occured atleast 5 times\n",
    "print(type(w2v_train_model))"
   ]
  },
  {
   "cell_type": "code",
   "execution_count": 43,
   "metadata": {},
   "outputs": [
    {
     "name": "stdout",
     "output_type": "stream",
     "text": [
      "The number of words that occured minimum 5 times: 16438\n",
      "These are the sample words from index 0 to 50:/n ['sister', 'happen', 'pick', 'alittl', 'tin', 'way', 'visit', 'dad', 'christma', 'time', 'order', 'second', 'nephew', 'ate', 'anoth', 'car', 'trip', 'picki', 'eater', 'shock', 'super', 'delici', 'pepperi', 'chewey', 'sweet', 'take', 'scissor', 'snip', 'end', 'get', 'thembut', 'pinch', 'manag', 'open', 'anybodi', 'recommend', 'compar', 'better', 'pleas', 'let', 'know', 'exact', 'like', 'one', 'wish', 'write', 'wrapper', 'italian', 'great', 'product']\n"
     ]
    }
   ],
   "source": [
    "w2v_words = list(w2v_train_model.wv.vocab)\n",
    "print(\"The number of words that occured minimum 5 times:\", len(w2v_words))\n",
    "print(\"These are the sample words from index 0 to 50:/n\", w2v_words[0:50])"
   ]
  },
  {
   "cell_type": "markdown",
   "metadata": {},
   "source": [
    "### 5.4 Average Word2Vec"
   ]
  },
  {
   "cell_type": "code",
   "execution_count": 44,
   "metadata": {},
   "outputs": [
    {
     "name": "stderr",
     "output_type": "stream",
     "text": [
      "100%|██████████| 191168/191168 [00:20<00:00, 9229.05it/s]\n"
     ]
    }
   ],
   "source": [
    "avg_train_vector = []                         # Average w2v for each review/sentence is stored in this array\n",
    "for sentence in tqdm(sentence_list):          # For each sentence/review\n",
    "    sentence_vector = np.zeros(50)            # As word vectors are of zero length\n",
    "    count_words = 0                           # Num of words with a valid vector in a sentence/review\n",
    "    for word in sentence:\n",
    "        try:\n",
    "            vect = w2v_train_model.wv[word]\n",
    "            sentence_vector += vect\n",
    "            count_words += 1\n",
    "        except:\n",
    "            pass\n",
    "    if count_words != 0:\n",
    "        sentence_vector /= count_words\n",
    "    avg_train_vector.append(sentence_vector)\n",
    "avg_train_vector = np.array(avg_train_vector)"
   ]
  },
  {
   "cell_type": "code",
   "execution_count": 45,
   "metadata": {},
   "outputs": [
    {
     "name": "stdout",
     "output_type": "stream",
     "text": [
      "(191168, 50)\n",
      "[-0.42505525  0.05246307  0.06110543  0.63659899 -0.16502366 -0.12412487\n",
      " -0.14280805  0.56053016  0.35442875 -0.2040802   0.25867109 -0.09242255\n",
      " -0.21184636  0.33377277 -1.02729689  0.57407513  0.2272895  -0.82739074\n",
      " -0.55133148  0.20602238  0.8207726   0.04122683  0.14204333 -0.51055601\n",
      " -0.1549338   0.07076684 -0.13638828 -0.22140719 -0.01406799 -0.55774234\n",
      " -0.46127964  0.03244384  0.201478    0.05210141  0.02739989  0.3568302\n",
      " -0.82133571 -0.36303814  0.24320763 -0.25974515 -0.46025425  0.07000492\n",
      " -0.0198881   0.61460745  0.03974825  0.06636203  0.11134815  0.26491626\n",
      " -0.42289911 -0.07568547]\n"
     ]
    }
   ],
   "source": [
    "print(avg_train_vector.shape)\n",
    "print(avg_train_vector[0])"
   ]
  },
  {
   "cell_type": "code",
   "execution_count": 46,
   "metadata": {},
   "outputs": [
    {
     "name": "stderr",
     "output_type": "stream",
     "text": [
      "100%|██████████| 81930/81930 [00:09<00:00, 9058.91it/s]\n"
     ]
    }
   ],
   "source": [
    "avg_cv_vector = []                            # Average w2v for each review/sentence is stored in this array\n",
    "for sentence in tqdm(sentence_list_cv):       # For each sentence/review\n",
    "    sentence_vector = np.zeros(50)            # As word vectors are of zero length\n",
    "    count_words = 0                           # Num of words with a valid vector in a sentence/review\n",
    "    for word in sentence:\n",
    "        try:\n",
    "            vect = w2v_train_model.wv[word]\n",
    "            sentence_vector += vect\n",
    "            count_words += 1\n",
    "        except:\n",
    "            pass\n",
    "    if count_words != 0:\n",
    "        sentence_vector /= count_words\n",
    "    avg_cv_vector.append(sentence_vector)\n",
    "avg_cv_vector = np.array(avg_cv_vector)"
   ]
  },
  {
   "cell_type": "code",
   "execution_count": 47,
   "metadata": {},
   "outputs": [
    {
     "name": "stdout",
     "output_type": "stream",
     "text": [
      "(81930, 50)\n",
      "[-0.21222063 -0.07157615  0.60007913  1.18896816 -0.81767389  0.7598202\n",
      " -0.33869641  0.37305436  0.64834905  0.3886594   0.77061974 -0.16828544\n",
      " -0.38840446  1.01557318 -0.92182916 -0.39073752  0.45641623 -0.84747813\n",
      " -1.19925078  1.39690347  0.4527873   0.03587674 -1.26465714 -0.59186602\n",
      " -0.99568404 -0.66921323 -0.13491624  0.42732279 -0.6025843  -0.69586534\n",
      " -0.94021301 -0.42923505 -0.01376375 -0.05904057  0.53101464  0.1689529\n",
      " -0.7321566   0.97121871  0.48042272 -0.44215428 -0.80540256 -0.0542059\n",
      " -0.06770056  0.79892484  0.78105402 -0.5019036   0.77432709  0.3428025\n",
      " -0.44609956 -0.10631703]\n"
     ]
    }
   ],
   "source": [
    "print(avg_cv_vector.shape)\n",
    "print(avg_cv_vector[0])"
   ]
  },
  {
   "cell_type": "code",
   "execution_count": 48,
   "metadata": {},
   "outputs": [
    {
     "name": "stderr",
     "output_type": "stream",
     "text": [
      "100%|██████████| 91033/91033 [00:10<00:00, 9067.74it/s]\n"
     ]
    }
   ],
   "source": [
    "avg_test_vector = []                          # Average w2v for each review/sentence is stored in this array\n",
    "for sentence in tqdm(sentence_list_test):     # For each sentence/review\n",
    "    sentence_vector = np.zeros(50)            # As word vectors are of zero length\n",
    "    count_words = 0                           # Num of words with a valid vector in a sentence/review\n",
    "    for word in sentence:\n",
    "        try:\n",
    "            vect = w2v_train_model.wv[word]\n",
    "            sentence_vector += vect\n",
    "            count_words += 1\n",
    "        except:\n",
    "            pass\n",
    "    if count_words != 0:\n",
    "        sentence_vector /= count_words\n",
    "    avg_test_vector.append(sentence_vector)\n",
    "avg_test_vector = np.array(avg_test_vector)"
   ]
  },
  {
   "cell_type": "code",
   "execution_count": 49,
   "metadata": {},
   "outputs": [
    {
     "name": "stdout",
     "output_type": "stream",
     "text": [
      "(91033, 50)\n",
      "[-1.45123515  0.80277494  0.44174399 -0.52264158 -0.23406817 -1.16753422\n",
      " -2.47687113 -0.31359918  0.8191296  -0.30508598 -0.01070105  0.72628129\n",
      " -0.83800774  0.78211894 -0.41872388 -0.10329406 -0.95118644  1.35699128\n",
      " -0.06579007 -0.1639323  -0.46961781  0.58563619  1.30388233  0.15227673\n",
      " -0.11237056 -1.38939469 -0.81048942 -0.67752496 -1.06355561  0.87646242\n",
      "  0.75004006 -1.12752996  1.19181518  0.55872084  0.45733098 -0.11709492\n",
      " -0.10591994 -0.93629123  0.83517947  0.80876279 -0.65351731 -1.32904172\n",
      "  0.00690897  0.35601771  2.2691754   0.41081945  0.66705524 -0.65617388\n",
      "  0.26405643 -0.63112875]\n"
     ]
    }
   ],
   "source": [
    "print(avg_test_vector.shape)\n",
    "print(avg_test_vector[0])"
   ]
  },
  {
   "cell_type": "code",
   "execution_count": 50,
   "metadata": {},
   "outputs": [],
   "source": [
    "x_train_avgw2v = avg_train_vector\n",
    "x_cv_avgw2v = avg_cv_vector\n",
    "x_test_avgw2v = avg_test_vector"
   ]
  },
  {
   "cell_type": "code",
   "execution_count": 51,
   "metadata": {},
   "outputs": [
    {
     "name": "stdout",
     "output_type": "stream",
     "text": [
      "The shape of the training data is: (191168, 50) (191168,)\n",
      "The shape of the CV data is: (81930, 50) (81930,)\n",
      "The shape of the test data is: (91033, 50) (91033,)\n"
     ]
    }
   ],
   "source": [
    "print(\"The shape of the training data is:\", x_train_avgw2v.shape, y_train.shape)\n",
    "print(\"The shape of the CV data is:\", x_cv_avgw2v.shape, y_cv.shape)\n",
    "print(\"The shape of the test data is:\", x_test_avgw2v.shape, y_test.shape)"
   ]
  },
  {
   "cell_type": "markdown",
   "metadata": {},
   "source": [
    "### 5.5 TF-IDF Weighed Word2Vec"
   ]
  },
  {
   "cell_type": "code",
   "execution_count": 52,
   "metadata": {},
   "outputs": [],
   "source": [
    "from sklearn.feature_extraction.text import TfidfVectorizer"
   ]
  },
  {
   "cell_type": "code",
   "execution_count": 53,
   "metadata": {},
   "outputs": [],
   "source": [
    "tfidf_vect = TfidfVectorizer(ngram_range=(1,2), min_df=10, max_features=500)\n",
    "tfidf_vect.fit_transform(x_train)\n",
    "tfidf_feat = tfidf_vect.get_feature_names()\n",
    "dictionary = dict(zip(tfidf_feat, list(tfidf_vect.idf_)))"
   ]
  },
  {
   "cell_type": "code",
   "execution_count": 54,
   "metadata": {},
   "outputs": [
    {
     "name": "stderr",
     "output_type": "stream",
     "text": [
      "100%|██████████| 191168/191168 [00:42<00:00, 4490.04it/s]\n"
     ]
    }
   ],
   "source": [
    "tfidf_train_vector = []                         # Average w2v for each review/sentence is stored in this array\n",
    "for sentence in tqdm(sentence_list):            # For each sentence/review\n",
    "    sentence_vector = np.zeros(50)              # As word vectors are of zero length\n",
    "    weight_sum = 0                              # Num of words with a valid vector in a sentence/review\n",
    "    for word in sentence:\n",
    "        try:\n",
    "            vect = w2v_train_model.wv[word]\n",
    "            tfidf_weight = dictionary[word]*(sentence.count(word)/len(sentence))\n",
    "            sentence_vector += (vect*tfidf_weight)\n",
    "            weight_sum += tfidf_weight\n",
    "        except:\n",
    "            pass\n",
    "    if weight_sum != 0:\n",
    "        sentence_vector /= weight_sum\n",
    "    tfidf_train_vector.append(sentence_vector)\n",
    "tfidf_train_vector = np.array(tfidf_train_vector)"
   ]
  },
  {
   "cell_type": "code",
   "execution_count": 55,
   "metadata": {},
   "outputs": [
    {
     "name": "stdout",
     "output_type": "stream",
     "text": [
      "(191168, 50)\n",
      "[ 0.57749068  0.34117331 -0.42699427  0.17194403 -0.8206966   0.37593105\n",
      " -0.43102272  0.36060481  0.53276756 -0.35815466  0.26415967 -0.2296975\n",
      " -0.33105383  0.67844797 -1.57238362  0.36233708  0.73633744 -1.35151197\n",
      " -0.67376052  0.55172413  1.2381796  -0.10482816  0.25459147 -1.12429567\n",
      " -0.60472773  0.1225611  -0.24826543 -0.38008376 -0.28128494 -1.00312261\n",
      " -0.34692094 -0.02465986  0.52615415  0.6922397   0.53462373  0.09676299\n",
      " -1.46569156 -0.8749269  -0.35874219  0.07575747 -0.62520933 -0.73474396\n",
      "  0.38608934  0.66632822 -0.23647541 -0.26657316  0.06928939  0.12959573\n",
      " -0.31540844 -0.42124565]\n"
     ]
    }
   ],
   "source": [
    "print(tfidf_train_vector.shape)\n",
    "print(tfidf_train_vector[0])"
   ]
  },
  {
   "cell_type": "code",
   "execution_count": 56,
   "metadata": {},
   "outputs": [
    {
     "name": "stderr",
     "output_type": "stream",
     "text": [
      "100%|██████████| 81930/81930 [00:19<00:00, 4246.43it/s]\n"
     ]
    }
   ],
   "source": [
    "tfidf_cv_vector = []                            # Average w2v for each review/sentence is stored in this array\n",
    "for sentence in tqdm(sentence_list_cv):         # For each sentence/review\n",
    "    sentence_vector = np.zeros(50)              # As word vectors are of zero length\n",
    "    weight_sum = 0                              # Num of words with a valid vector in a sentence/review\n",
    "    for word in sentence:\n",
    "        try:\n",
    "            vect = w2v_train_model.wv[word]\n",
    "            tfidf_weight = dictionary[word]*(sentence.count(word)/len(sentence))\n",
    "            sentence_vector += (vect*tfidf_weight)\n",
    "            weight_sum += tfidf_weight\n",
    "        except:\n",
    "            pass\n",
    "    if weight_sum != 0:\n",
    "        sentence_vector /= weight_sum\n",
    "    tfidf_cv_vector.append(sentence_vector)\n",
    "tfidf_cv_vector = np.array(tfidf_cv_vector)"
   ]
  },
  {
   "cell_type": "code",
   "execution_count": 57,
   "metadata": {},
   "outputs": [
    {
     "name": "stdout",
     "output_type": "stream",
     "text": [
      "(81930, 50)\n",
      "[-0.32177509  0.05158948  0.59436251  1.55267331 -1.11961259  1.17153092\n",
      " -0.30723866  0.25906532  0.94462751  0.19943822  0.65921645 -0.31023654\n",
      " -0.71555248  1.07287052 -0.94256752 -0.07020187  0.64580557 -0.66555895\n",
      " -0.96230415  1.54627863  0.36386286 -0.38325606 -1.5843535  -1.03432862\n",
      " -1.13036817 -1.42898491 -0.45867928  0.2665268  -0.40568776 -0.61578511\n",
      " -1.29533842 -0.39684655  0.04406344 -0.27394502  0.74302811  0.16494407\n",
      " -0.84950197  1.54810672  0.84239954 -0.04225276 -1.02622583 -0.48404066\n",
      "  0.41736671  0.79393658  1.21906882 -0.47710208  0.79316992 -0.26596849\n",
      " -0.46906653 -0.36306775]\n"
     ]
    }
   ],
   "source": [
    "print(tfidf_cv_vector.shape)\n",
    "print(tfidf_cv_vector[0])"
   ]
  },
  {
   "cell_type": "code",
   "execution_count": 58,
   "metadata": {},
   "outputs": [
    {
     "name": "stderr",
     "output_type": "stream",
     "text": [
      "100%|██████████| 91033/91033 [00:21<00:00, 4207.45it/s]\n"
     ]
    }
   ],
   "source": [
    "tfidf_test_vector = []                          # Average w2v for each review/sentence is stored in this array\n",
    "for sentence in tqdm(sentence_list_test):       # For each sentence/review\n",
    "    sentence_vector = np.zeros(50)              # As word vectors are of zero length\n",
    "    weight_sum = 0                              # Num of words with a valid vector in a sentence/review\n",
    "    for word in sentence:\n",
    "        try:\n",
    "            vect = w2v_train_model.wv[word]\n",
    "            tfidf_weight = dictionary[word]*(sentence.count(word)/len(sentence))\n",
    "            sentence_vector += (vect*tfidf_weight)\n",
    "            weight_sum += tfidf_weight\n",
    "        except:\n",
    "            pass\n",
    "    if weight_sum != 0:\n",
    "        sentence_vector /= weight_sum\n",
    "    tfidf_test_vector.append(sentence_vector)\n",
    "tfidf_test_vector = np.array(tfidf_test_vector)"
   ]
  },
  {
   "cell_type": "code",
   "execution_count": 59,
   "metadata": {},
   "outputs": [
    {
     "name": "stdout",
     "output_type": "stream",
     "text": [
      "(91033, 50)\n",
      "[-1.65888006  0.79100521  0.01112612 -0.32487492 -0.13691861 -1.6695329\n",
      " -3.87079794 -0.41307484  1.56293208 -0.22377104  0.22596498  1.70221732\n",
      " -0.66254419  1.02674625 -0.61732471 -0.02811603 -1.66175278  1.95088601\n",
      " -0.28375477 -0.06660182 -0.76338234  0.22189861  2.11952134  0.02578359\n",
      " -0.4312652  -2.0983392  -1.26709912 -0.42633118 -1.40280558  0.75756435\n",
      "  1.27529115 -1.42369645  1.52172344  0.68290058  0.34461057  0.23511346\n",
      " -0.3615142  -1.78163452  1.54661616  0.71427991 -1.86915205 -2.14155034\n",
      " -0.08450046  0.06591893  3.20154815  0.8240709   0.76778625 -1.15286421\n",
      " -0.11420254 -0.92789403]\n"
     ]
    }
   ],
   "source": [
    "print(tfidf_test_vector.shape)\n",
    "print(tfidf_test_vector[0])"
   ]
  },
  {
   "cell_type": "code",
   "execution_count": 60,
   "metadata": {},
   "outputs": [],
   "source": [
    "x_train_tfidfw2v = tfidf_train_vector\n",
    "x_cv_tfidfw2v = tfidf_cv_vector\n",
    "x_test_tfidfw2v = tfidf_test_vector"
   ]
  },
  {
   "cell_type": "code",
   "execution_count": 61,
   "metadata": {},
   "outputs": [
    {
     "name": "stdout",
     "output_type": "stream",
     "text": [
      "The shape of the training data is: (191168, 50) (191168,)\n",
      "The shape of the CV data is: (81930, 50) (81930,)\n",
      "The shape of the test data is: (91033, 50) (91033,)\n"
     ]
    }
   ],
   "source": [
    "print(\"The shape of the training data is:\", x_train_tfidfw2v.shape, y_train.shape)\n",
    "print(\"The shape of the CV data is:\", x_cv_tfidfw2v.shape, y_cv.shape)\n",
    "print(\"The shape of the test data is:\", x_test_tfidfw2v.shape, y_test.shape)"
   ]
  },
  {
   "cell_type": "markdown",
   "metadata": {},
   "source": [
    "# 6. Applying Logistic Regression L2 Regularization on Our Model"
   ]
  },
  {
   "cell_type": "markdown",
   "metadata": {},
   "source": [
    "### 6.1 Bag of Words (BoW)"
   ]
  },
  {
   "cell_type": "markdown",
   "metadata": {},
   "source": [
    "##### 6.1.1 BoW Logistic Regression L2 Regularization on Train Data"
   ]
  },
  {
   "cell_type": "code",
   "execution_count": 63,
   "metadata": {},
   "outputs": [
    {
     "name": "stdout",
     "output_type": "stream",
     "text": [
      "FOR λ = 10000\n",
      "The accuracy of the model is: 91.20956914439155\n",
      "The f1_score of the model is: 81.79101359083197\n",
      "The precision_score of the model is: 85.80765016500408\n",
      "The recall_score of the model is: 78.93346223862926\n",
      "========================================================================================================================\n",
      "FOR λ = 5000\n",
      "The accuracy of the model is: 91.26327352618088\n",
      "The f1_score of the model is: 81.91146838714518\n",
      "The precision_score of the model is: 85.91653997620041\n",
      "The recall_score of the model is: 79.05622772377666\n",
      "========================================================================================================================\n",
      "FOR λ = 1000\n",
      "The accuracy of the model is: 91.2779201757598\n",
      "The f1_score of the model is: 81.79196536109194\n",
      "The precision_score of the model is: 86.21503578022742\n",
      "The recall_score of the model is: 78.72965536850747\n",
      "========================================================================================================================\n",
      "FOR λ = 500\n",
      "The accuracy of the model is: 91.23275967289149\n",
      "The f1_score of the model is: 81.63753213794732\n",
      "The precision_score of the model is: 86.21581401557216\n",
      "The recall_score of the model is: 78.50542955876215\n",
      "========================================================================================================================\n",
      "FOR λ = 100\n",
      "The accuracy of the model is: 91.15586476260222\n",
      "The f1_score of the model is: 81.25911113147635\n",
      "The precision_score of the model is: 86.426357913711\n",
      "The recall_score of the model is: 77.87068274318044\n",
      "========================================================================================================================\n",
      "FOR λ = 50\n",
      "The accuracy of the model is: 91.18027584523374\n",
      "The f1_score of the model is: 81.26998315047531\n",
      "The precision_score of the model is: 86.56323947350286\n",
      "The recall_score of the model is: 77.82564736986966\n",
      "========================================================================================================================\n",
      "FOR λ = 10\n",
      "The accuracy of the model is: 91.14976199194435\n",
      "The f1_score of the model is: 80.98885348089031\n",
      "The precision_score of the model is: 86.9050144149858\n",
      "The recall_score of the model is: 77.29678286509551\n",
      "========================================================================================================================\n",
      "FOR λ = 5\n",
      "The accuracy of the model is: 91.14365922128647\n",
      "The f1_score of the model is: 80.85151144004953\n",
      "The precision_score of the model is: 87.13870650698604\n",
      "The recall_score of the model is: 77.02055409027268\n",
      "========================================================================================================================\n",
      "FOR λ = 1\n",
      "The accuracy of the model is: 90.96667887220798\n",
      "The f1_score of the model is: 80.0397785647874\n",
      "The precision_score of the model is: 87.55670979628157\n",
      "The recall_score of the model is: 75.82188781506186\n",
      "========================================================================================================================\n",
      "FOR λ = 0.5\n",
      "The accuracy of the model is: 90.84584401318199\n",
      "The f1_score of the model is: 79.44270227221746\n",
      "The precision_score of the model is: 87.93763241479387\n",
      "The recall_score of the model is: 74.96677351213623\n",
      "========================================================================================================================\n",
      "FOR λ = 0.1\n",
      "The accuracy of the model is: 89.88404735750031\n",
      "The f1_score of the model is: 75.63341876478043\n",
      "The precision_score of the model is: 88.55483530693601\n",
      "The recall_score of the model is: 70.59786232525805\n",
      "========================================================================================================================\n",
      "FOR λ = 0.05\n",
      "The accuracy of the model is: 89.00158672037105\n",
      "The f1_score of the model is: 72.16338788223486\n",
      "The precision_score of the model is: 88.34877412623892\n",
      "The recall_score of the model is: 67.27248724315969\n",
      "========================================================================================================================\n",
      "FOR λ = 0.01\n",
      "The accuracy of the model is: 86.48602465519346\n",
      "The f1_score of the model is: 60.179243189005405\n",
      "The precision_score of the model is: 88.02532048448525\n",
      "The recall_score of the model is: 58.051465859926445\n",
      "========================================================================================================================\n",
      "FOR λ = 0.005\n",
      "The accuracy of the model is: 85.48150860490664\n",
      "The f1_score of the model is: 54.3949273323265\n",
      "The precision_score of the model is: 87.73315514607997\n",
      "The recall_score of the model is: 54.518861199643354\n",
      "========================================================================================================================\n",
      "FOR λ = 0.001\n",
      "The accuracy of the model is: 84.22189674112047\n",
      "The f1_score of the model is: 46.09105359563688\n",
      "The precision_score of the model is: 79.23618329291153\n",
      "The recall_score of the model is: 50.176733777429185\n",
      "========================================================================================================================\n"
     ]
    },
    {
     "data": {
      "image/png": "[encoded data removed]",
      "text/plain": [
       "<Figure size 432x288 with 1 Axes>"
      ]
     },
     "metadata": {
      "needs_background": "light"
     },
     "output_type": "display_data"
    }
   ],
   "source": [
    "# Find the optimal value of C\n",
    "# This may take several minutes(even hour/s) to run\n",
    "\n",
    "logistic_train(x_train_bow, x_cv_bow, y_train, y_cv, penal='l2')"
   ]
  },
  {
   "cell_type": "markdown",
   "metadata": {},
   "source": [
    "##### 6.1.2 BoW Logistic Regression L2 Regularization on Test Data"
   ]
  },
  {
   "cell_type": "code",
   "execution_count": 64,
   "metadata": {},
   "outputs": [
    {
     "name": "stdout",
     "output_type": "stream",
     "text": [
      "The accuracy of the model is: 91.29766128766491\n",
      "The macro f1_score of the model is: 81.78456001616456\n",
      "The micro f1_score of the model is: 91.29766128766491\n",
      "The precision_score of the model is: 86.40984796831226\n",
      "The recall_score of the model is: 78.625279025407\n",
      "The precision recall report for data:\n",
      "               precision    recall  f1-score   support\n",
      "\n",
      "    Negative       0.80      0.60      0.69     14418\n",
      "    Positive       0.93      0.97      0.95     76615\n",
      "\n",
      "    accuracy                           0.91     91033\n",
      "   macro avg       0.86      0.79      0.82     91033\n",
      "weighted avg       0.91      0.91      0.91     91033\n",
      "\n"
     ]
    },
    {
     "data": {
      "image/png": "[encoded data removed]",
      "text/plain": [
       "<Figure size 432x288 with 2 Axes>"
      ]
     },
     "metadata": {
      "needs_background": "light"
     },
     "output_type": "display_data"
    }
   ],
   "source": [
    "# Testing the final model\n",
    "\n",
    "logistic_test(x_train_bow, y_train, x_test_bow, y_test, penal='l2', optimal_C=1000)"
   ]
  },
  {
   "cell_type": "markdown",
   "metadata": {},
   "source": [
    "### 6.2 Term Frequency - Inverse Document Frequency (tf-idf)"
   ]
  },
  {
   "cell_type": "markdown",
   "metadata": {},
   "source": [
    "##### 6.2.1 TF-IDF Logistic Regression L2 Regularization on Train Data"
   ]
  },
  {
   "cell_type": "code",
   "execution_count": 65,
   "metadata": {},
   "outputs": [
    {
     "name": "stdout",
     "output_type": "stream",
     "text": [
      "FOR λ = 10000\n",
      "The accuracy of the model is: 93.30404003417551\n",
      "The f1_score of the model is: 86.82870760615275\n",
      "The precision_score of the model is: 88.75320030175583\n",
      "The recall_score of the model is: 85.18147125537952\n",
      "========================================================================================================================\n",
      "FOR λ = 5000\n",
      "The accuracy of the model is: 93.26864396435982\n",
      "The f1_score of the model is: 86.74613771495822\n",
      "The precision_score of the model is: 88.71145260850074\n",
      "The recall_score of the model is: 85.06957990573834\n",
      "========================================================================================================================\n",
      "FOR λ = 1000\n",
      "The accuracy of the model is: 93.35896497009642\n",
      "The f1_score of the model is: 86.8044585629348\n",
      "The precision_score of the model is: 89.20340534339239\n",
      "The recall_score of the model is: 84.81928777757159\n",
      "========================================================================================================================\n",
      "FOR λ = 500\n",
      "The accuracy of the model is: 93.34431832051752\n",
      "The f1_score of the model is: 86.8060084800173\n",
      "The precision_score of the model is: 89.09345797423916\n",
      "The recall_score of the model is: 84.89832311012808\n",
      "========================================================================================================================\n",
      "FOR λ = 100\n",
      "The accuracy of the model is: 93.37727328207006\n",
      "The f1_score of the model is: 86.77064461866732\n",
      "The precision_score of the model is: 89.42774210907314\n",
      "The recall_score of the model is: 84.61082531067416\n",
      "========================================================================================================================\n",
      "FOR λ = 50\n",
      "The accuracy of the model is: 93.33943610399122\n",
      "The f1_score of the model is: 86.64762806796016\n",
      "The precision_score of the model is: 89.47331825856928\n",
      "The recall_score of the model is: 84.37841563499397\n",
      "========================================================================================================================\n",
      "FOR λ = 10\n",
      "The accuracy of the model is: 93.39802270230685\n",
      "The f1_score of the model is: 86.72826793963118\n",
      "The precision_score of the model is: 89.7007990686968\n",
      "The recall_score of the model is: 84.3630787880645\n",
      "========================================================================================================================\n",
      "FOR λ = 5\n",
      "The accuracy of the model is: 93.26864396435982\n",
      "The f1_score of the model is: 86.21380415679516\n",
      "The precision_score of the model is: 90.12618463143268\n",
      "The recall_score of the model is: 83.29295342626865\n",
      "========================================================================================================================\n",
      "FOR λ = 1\n",
      "The accuracy of the model is: 92.43866715488832\n",
      "The f1_score of the model is: 83.72508606829487\n",
      "The precision_score of the model is: 90.26883097962217\n",
      "The recall_score of the model is: 79.6352787819716\n",
      "========================================================================================================================\n",
      "FOR λ = 0.5\n",
      "The accuracy of the model is: 91.6453069693641\n",
      "The f1_score of the model is: 81.20656938506792\n",
      "The precision_score of the model is: 90.30648343581586\n",
      "The recall_score of the model is: 76.4035584331166\n",
      "========================================================================================================================\n",
      "FOR λ = 0.1\n",
      "The accuracy of the model is: 88.05931893079459\n",
      "The f1_score of the model is: 67.16054224191889\n",
      "The precision_score of the model is: 90.8757668179453\n",
      "The recall_score of the model is: 62.93710879439518\n",
      "========================================================================================================================\n",
      "FOR λ = 0.05\n",
      "The accuracy of the model is: 85.70609056511657\n",
      "The f1_score of the model is: 55.13445895468324\n",
      "The precision_score of the model is: 91.04633181036128\n",
      "The recall_score of the model is: 54.95932183855153\n",
      "========================================================================================================================\n",
      "FOR λ = 0.01\n",
      "The accuracy of the model is: 84.18283900891005\n",
      "The f1_score of the model is: 45.70612520791777\n",
      "The precision_score of the model is: 42.091419504455025\n",
      "The recall_score of the model is: 50.0\n",
      "========================================================================================================================\n",
      "FOR λ = 0.005\n",
      "The accuracy of the model is: 84.18283900891005\n",
      "The f1_score of the model is: 45.70612520791777\n",
      "The precision_score of the model is: 42.091419504455025\n",
      "The recall_score of the model is: 50.0\n",
      "========================================================================================================================\n",
      "FOR λ = 0.001\n",
      "The accuracy of the model is: 84.18283900891005\n",
      "The f1_score of the model is: 45.70612520791777\n",
      "The precision_score of the model is: 42.091419504455025\n",
      "The recall_score of the model is: 50.0\n",
      "========================================================================================================================\n"
     ]
    },
    {
     "data": {
      "image/png": "[encoded data removed]",
      "text/plain": [
       "<Figure size 432x288 with 1 Axes>"
      ]
     },
     "metadata": {
      "needs_background": "light"
     },
     "output_type": "display_data"
    }
   ],
   "source": [
    "# Find the optimal value of C\n",
    "# This may take several minutes to run\n",
    "\n",
    "logistic_train(x_train_tfidf, x_cv_tfidf, y_train, y_cv, penal='l2')"
   ]
  },
  {
   "cell_type": "markdown",
   "metadata": {},
   "source": [
    "##### 6.2.2 TF-IDF Logistic Regression L2 Regularization on Test Data"
   ]
  },
  {
   "cell_type": "code",
   "execution_count": 66,
   "metadata": {},
   "outputs": [
    {
     "name": "stdout",
     "output_type": "stream",
     "text": [
      "The accuracy of the model is: 93.17060846066812\n",
      "The macro f1_score of the model is: 86.23323809030255\n",
      "The micro f1_score of the model is: 93.17060846066812\n",
      "The precision_score of the model is: 89.36196286354287\n",
      "The recall_score of the model is: 83.77790309518237\n",
      "The precision recall report for data:\n",
      "               precision    recall  f1-score   support\n",
      "\n",
      "    Negative       0.84      0.70      0.76     14418\n",
      "    Positive       0.95      0.98      0.96     76615\n",
      "\n",
      "    accuracy                           0.93     91033\n",
      "   macro avg       0.89      0.84      0.86     91033\n",
      "weighted avg       0.93      0.93      0.93     91033\n",
      "\n"
     ]
    },
    {
     "data": {
      "image/png": "[encoded data removed]",
      "text/plain": [
       "<Figure size 432x288 with 2 Axes>"
      ]
     },
     "metadata": {
      "needs_background": "light"
     },
     "output_type": "display_data"
    }
   ],
   "source": [
    "# Testing the final model\n",
    "\n",
    "logistic_test(x_train_tfidf, y_train, x_test_tfidf, y_test, penal='l2', optimal_C=10)"
   ]
  },
  {
   "cell_type": "markdown",
   "metadata": {},
   "source": [
    "### 6.3 Average Word2vec"
   ]
  },
  {
   "cell_type": "markdown",
   "metadata": {},
   "source": [
    "##### 6.3.1 Avg W2V Logistic Regression L2 Regularization on Train Data"
   ]
  },
  {
   "cell_type": "code",
   "execution_count": 67,
   "metadata": {},
   "outputs": [
    {
     "name": "stdout",
     "output_type": "stream",
     "text": [
      "FOR λ = 10000\n",
      "The accuracy of the model is: 89.48614671060662\n",
      "The f1_score of the model is: 77.18116555557918\n",
      "The precision_score of the model is: 82.96937509509887\n",
      "The recall_score of the model is: 73.75498169077748\n",
      "========================================================================================================================\n",
      "FOR λ = 5000\n",
      "The accuracy of the model is: 89.48492615647504\n",
      "The f1_score of the model is: 77.17940435715722\n",
      "The precision_score of the model is: 82.96507676655796\n",
      "The recall_score of the model is: 73.75425674841041\n",
      "========================================================================================================================\n",
      "FOR λ = 1000\n",
      "The accuracy of the model is: 89.48614671060662\n",
      "The f1_score of the model is: 77.18116555557918\n",
      "The precision_score of the model is: 82.96937509509887\n",
      "The recall_score of the model is: 73.75498169077748\n",
      "========================================================================================================================\n",
      "FOR λ = 500\n",
      "The accuracy of the model is: 89.48614671060662\n",
      "The f1_score of the model is: 77.18116555557918\n",
      "The precision_score of the model is: 82.96937509509887\n",
      "The recall_score of the model is: 73.75498169077748\n",
      "========================================================================================================================\n",
      "FOR λ = 100\n",
      "The accuracy of the model is: 89.48614671060662\n",
      "The f1_score of the model is: 77.18116555557918\n",
      "The precision_score of the model is: 82.96937509509887\n",
      "The recall_score of the model is: 73.75498169077748\n",
      "========================================================================================================================\n",
      "FOR λ = 50\n",
      "The accuracy of the model is: 89.48614671060662\n",
      "The f1_score of the model is: 77.18116555557918\n",
      "The precision_score of the model is: 82.96937509509887\n",
      "The recall_score of the model is: 73.75498169077748\n",
      "========================================================================================================================\n",
      "FOR λ = 10\n",
      "The accuracy of the model is: 89.48614671060662\n",
      "The f1_score of the model is: 77.18116555557918\n",
      "The precision_score of the model is: 82.96937509509887\n",
      "The recall_score of the model is: 73.75498169077748\n",
      "========================================================================================================================\n",
      "FOR λ = 5\n",
      "The accuracy of the model is: 89.48614671060662\n",
      "The f1_score of the model is: 77.17938982611908\n",
      "The precision_score of the model is: 82.97161228323068\n",
      "The recall_score of the model is: 73.75184831074316\n",
      "========================================================================================================================\n",
      "FOR λ = 1\n",
      "The accuracy of the model is: 89.48370560234346\n",
      "The f1_score of the model is: 77.1758674746773\n",
      "The precision_score of the model is: 82.96301401356743\n",
      "The recall_score of the model is: 73.75039842600899\n",
      "========================================================================================================================\n",
      "FOR λ = 0.5\n",
      "The accuracy of the model is: 89.49102892713292\n",
      "The f1_score of the model is: 77.18288383927634\n",
      "The precision_score of the model is: 82.99330896665535\n",
      "The recall_score of the model is: 73.7484813201428\n",
      "========================================================================================================================\n",
      "FOR λ = 0.1\n",
      "The accuracy of the model is: 89.50079336018553\n",
      "The f1_score of the model is: 77.17030326639544\n",
      "The precision_score of the model is: 83.06177971155712\n",
      "The recall_score of the model is: 73.70728015856439\n",
      "========================================================================================================================\n",
      "FOR λ = 0.05\n",
      "The accuracy of the model is: 89.51055779323814\n",
      "The f1_score of the model is: 77.14515427526791\n",
      "The precision_score of the model is: 83.14710241637593\n",
      "The recall_score of the model is: 73.6441453367456\n",
      "========================================================================================================================\n",
      "FOR λ = 0.01\n",
      "The accuracy of the model is: 89.45075064079091\n",
      "The f1_score of the model is: 76.80849607263916\n",
      "The precision_score of the model is: 83.25775299587706\n",
      "The recall_score of the model is: 73.17621671601994\n",
      "========================================================================================================================\n",
      "FOR λ = 0.005\n",
      "The accuracy of the model is: 89.41047235444893\n",
      "The f1_score of the model is: 76.4723675943094\n",
      "The precision_score of the model is: 83.48277150541419\n",
      "The recall_score of the model is: 72.68541999278987\n",
      "========================================================================================================================\n",
      "FOR λ = 0.001\n",
      "The accuracy of the model is: 89.00280727450263\n",
      "The f1_score of the model is: 74.06378917651688\n",
      "The precision_score of the model is: 84.48764927689143\n",
      "The recall_score of the model is: 69.68904819200141\n",
      "========================================================================================================================\n"
     ]
    },
    {
     "data": {
      "image/png": "[encoded data removed]",
      "text/plain": [
       "<Figure size 432x288 with 1 Axes>"
      ]
     },
     "metadata": {
      "needs_background": "light"
     },
     "output_type": "display_data"
    }
   ],
   "source": [
    "# Find the optimal value of C\n",
    "# This may take several minutes to run\n",
    "\n",
    "logistic_train(x_train_avgw2v, x_cv_avgw2v, y_train, y_cv, penal='l2')"
   ]
  },
  {
   "cell_type": "markdown",
   "metadata": {},
   "source": [
    "##### 6.3.2 Avg W2V Logistic Regression L2 Regularization on Test Data"
   ]
  },
  {
   "cell_type": "code",
   "execution_count": 68,
   "metadata": {},
   "outputs": [
    {
     "name": "stdout",
     "output_type": "stream",
     "text": [
      "The accuracy of the model is: 89.57191348192414\n",
      "The macro f1_score of the model is: 77.37890828808733\n",
      "The micro f1_score of the model is: 89.57191348192414\n",
      "The precision_score of the model is: 83.24059587736154\n",
      "The recall_score of the model is: 73.91482967311549\n",
      "The precision recall report for data:\n",
      "               precision    recall  f1-score   support\n",
      "\n",
      "    Negative       0.75      0.51      0.61     14418\n",
      "    Positive       0.91      0.97      0.94     76615\n",
      "\n",
      "    accuracy                           0.90     91033\n",
      "   macro avg       0.83      0.74      0.77     91033\n",
      "weighted avg       0.89      0.90      0.89     91033\n",
      "\n"
     ]
    },
    {
     "data": {
      "image/png": "[encoded data removed]",
      "text/plain": [
       "<Figure size 432x288 with 2 Axes>"
      ]
     },
     "metadata": {
      "needs_background": "light"
     },
     "output_type": "display_data"
    }
   ],
   "source": [
    "# Testing the final model\n",
    "\n",
    "logistic_test(x_train_avgw2v, y_train, x_test_avgw2v, y_test, penal='l2', optimal_C=10)"
   ]
  },
  {
   "cell_type": "markdown",
   "metadata": {},
   "source": [
    "### 6.4 TF_IDF Weighed Word2vec"
   ]
  },
  {
   "cell_type": "markdown",
   "metadata": {},
   "source": [
    "##### 6.4.1 TF-IDF W2V Logistic Regression L2 Regularization on Train Data"
   ]
  },
  {
   "cell_type": "code",
   "execution_count": 69,
   "metadata": {},
   "outputs": [
    {
     "name": "stdout",
     "output_type": "stream",
     "text": [
      "FOR λ = 10000\n",
      "The accuracy of the model is: 86.72159160258758\n",
      "The f1_score of the model is: 67.3845884526067\n",
      "The precision_score of the model is: 77.93267629647967\n",
      "The recall_score of the model is: 63.988132800298615\n",
      "========================================================================================================================\n",
      "FOR λ = 5000\n",
      "The accuracy of the model is: 86.72159160258758\n",
      "The f1_score of the model is: 67.3845884526067\n",
      "The precision_score of the model is: 77.93267629647967\n",
      "The recall_score of the model is: 63.988132800298615\n",
      "========================================================================================================================\n",
      "FOR λ = 1000\n",
      "The accuracy of the model is: 86.72159160258758\n",
      "The f1_score of the model is: 67.3845884526067\n",
      "The precision_score of the model is: 77.93267629647967\n",
      "The recall_score of the model is: 63.988132800298615\n",
      "========================================================================================================================\n",
      "FOR λ = 500\n",
      "The accuracy of the model is: 86.72159160258758\n",
      "The f1_score of the model is: 67.3845884526067\n",
      "The precision_score of the model is: 77.93267629647967\n",
      "The recall_score of the model is: 63.988132800298615\n",
      "========================================================================================================================\n",
      "FOR λ = 100\n",
      "The accuracy of the model is: 86.72281215671916\n",
      "The f1_score of the model is: 67.38909205736338\n",
      "The precision_score of the model is: 77.93600216908557\n",
      "The recall_score of the model is: 63.99199112270003\n",
      "========================================================================================================================\n",
      "FOR λ = 50\n",
      "The accuracy of the model is: 86.72159160258758\n",
      "The f1_score of the model is: 67.3845884526067\n",
      "The precision_score of the model is: 77.93267629647967\n",
      "The recall_score of the model is: 63.988132800298615\n",
      "========================================================================================================================\n",
      "FOR λ = 10\n",
      "The accuracy of the model is: 86.72159160258758\n",
      "The f1_score of the model is: 67.38157650868808\n",
      "The precision_score of the model is: 77.93517691437003\n",
      "The recall_score of the model is: 63.98499942026427\n",
      "========================================================================================================================\n",
      "FOR λ = 5\n",
      "The accuracy of the model is: 86.71792994019285\n",
      "The f1_score of the model is: 67.37107499961108\n",
      "The precision_score of the model is: 77.9226931690242\n",
      "The recall_score of the model is: 63.97655783309435\n",
      "========================================================================================================================\n",
      "FOR λ = 1\n",
      "The accuracy of the model is: 86.71182716953497\n",
      "The f1_score of the model is: 67.35155989435935\n",
      "The precision_score of the model is: 77.9035409035409\n",
      "The recall_score of the model is: 63.9603996011216\n",
      "========================================================================================================================\n",
      "FOR λ = 0.5\n",
      "The accuracy of the model is: 86.70694495300867\n",
      "The f1_score of the model is: 67.33956450899858\n",
      "The precision_score of the model is: 77.88521917642797\n",
      "The recall_score of the model is: 63.95123307158459\n",
      "========================================================================================================================\n",
      "FOR λ = 0.1\n",
      "The accuracy of the model is: 86.70816550714025\n",
      "The f1_score of the model is: 67.28361485049474\n",
      "The precision_score of the model is: 77.9387488159174\n",
      "The recall_score of the model is: 63.892423793299244\n",
      "========================================================================================================================\n",
      "FOR λ = 0.05\n",
      "The accuracy of the model is: 86.70694495300867\n",
      "The f1_score of the model is: 67.25786956541482\n",
      "The precision_score of the model is: 77.95316788571508\n",
      "The recall_score of the model is: 63.86663181065747\n",
      "========================================================================================================================\n",
      "FOR λ = 0.01\n",
      "The accuracy of the model is: 86.680092762114\n",
      "The f1_score of the model is: 66.97416171830032\n",
      "The precision_score of the model is: 78.03535287267778\n",
      "The recall_score of the model is: 63.59374591576594\n",
      "========================================================================================================================\n",
      "FOR λ = 0.005\n",
      "The accuracy of the model is: 86.62394727206151\n",
      "The f1_score of the model is: 66.60674853702233\n",
      "The precision_score of the model is: 78.01350240369369\n",
      "The recall_score of the model is: 63.25959408358373\n",
      "========================================================================================================================\n",
      "FOR λ = 0.001\n",
      "The accuracy of the model is: 86.39082143293055\n",
      "The f1_score of the model is: 64.33375629563113\n",
      "The precision_score of the model is: 78.63794826053282\n",
      "The recall_score of the model is: 61.2599023510743\n",
      "========================================================================================================================\n"
     ]
    },
    {
     "data": {
      "image/png": "[encoded data removed]",
      "text/plain": [
       "<Figure size 432x288 with 1 Axes>"
      ]
     },
     "metadata": {
      "needs_background": "light"
     },
     "output_type": "display_data"
    }
   ],
   "source": [
    "# Find the optimal value of C\n",
    "# This may take several minutes to run\n",
    "\n",
    "logistic_train(x_train_tfidfw2v, x_cv_tfidfw2v, y_train, y_cv, penal='l2')"
   ]
  },
  {
   "cell_type": "markdown",
   "metadata": {},
   "source": [
    "##### 6.4.2 TF-IDF W2V Logistic Regression L2 Regularization on Test Data"
   ]
  },
  {
   "cell_type": "code",
   "execution_count": 70,
   "metadata": {},
   "outputs": [
    {
     "name": "stdout",
     "output_type": "stream",
     "text": [
      "The accuracy of the model is: 86.84323267386553\n",
      "The macro f1_score of the model is: 67.74792823956766\n",
      "The micro f1_score of the model is: 86.84323267386551\n",
      "The precision_score of the model is: 78.42166572091138\n",
      "The recall_score of the model is: 64.27583785656923\n",
      "The precision recall report for data:\n",
      "               precision    recall  f1-score   support\n",
      "\n",
      "    Negative       0.69      0.31      0.43     14418\n",
      "    Positive       0.88      0.97      0.93     76615\n",
      "\n",
      "    accuracy                           0.87     91033\n",
      "   macro avg       0.78      0.64      0.68     91033\n",
      "weighted avg       0.85      0.87      0.85     91033\n",
      "\n"
     ]
    },
    {
     "data": {
      "image/png": "[encoded data removed]",
      "text/plain": [
       "<Figure size 432x288 with 2 Axes>"
      ]
     },
     "metadata": {
      "needs_background": "light"
     },
     "output_type": "display_data"
    }
   ],
   "source": [
    "# Testing the final model\n",
    "\n",
    "logistic_test(x_train_tfidfw2v, y_train, x_test_tfidfw2v, y_test, penal='l2', optimal_C=10)"
   ]
  }
 ],
 "metadata": {
  "kernelspec": {
   "display_name": "Python 3",
   "language": "python",
   "name": "python3"
  },
  "language_info": {
   "codemirror_mode": {
    "name": "ipython",
    "version": 3
   },
   "file_extension": ".py",
   "mimetype": "text/x-python",
   "name": "python",
   "nbconvert_exporter": "python",
   "pygments_lexer": "ipython3",
   "version": "3.7.4"
  }
 },
 "nbformat": 4,
 "nbformat_minor": 4
}
