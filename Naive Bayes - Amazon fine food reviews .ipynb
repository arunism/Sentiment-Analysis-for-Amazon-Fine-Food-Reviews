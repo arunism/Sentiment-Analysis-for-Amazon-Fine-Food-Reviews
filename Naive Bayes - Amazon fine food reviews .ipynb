{
 "cells": [
  {
   "cell_type": "markdown",
   "metadata": {},
   "source": [
    "# Objective\n",
    "#### Determine whether the given reviews are positive or negative using all features except SCORE and then check the accuracy using the Score feature using KNN classifier"
   ]
  },
  {
   "cell_type": "markdown",
   "metadata": {},
   "source": [
    "# 1. Loading data from dataset"
   ]
  },
  {
   "cell_type": "code",
   "execution_count": 1,
   "metadata": {},
   "outputs": [],
   "source": [
    "%matplotlib inline\n",
    "\n",
    "import numpy as np\n",
    "import pandas as pd\n",
    "import matplotlib.pyplot as plt\n",
    "import sqlite3\n",
    "import nltk\n",
    "import seaborn as sns\n",
    "from tqdm import tqdm"
   ]
  },
  {
   "cell_type": "code",
   "execution_count": 2,
   "metadata": {},
   "outputs": [],
   "source": [
    "# Loading data from sqlite3 database ignoring those having rewiew score = 3\n",
    "\n",
    "connection = sqlite3.connect('./database.sqlite')\n",
    "dataset = pd.read_sql_query(\"SELECT * FROM Reviews WHERE Score != 3\", connection)"
   ]
  },
  {
   "cell_type": "code",
   "execution_count": 3,
   "metadata": {},
   "outputs": [
    {
     "name": "stdout",
     "output_type": "stream",
     "text": [
      "The shape of the data in dataset is: (525814, 10)\n",
      "========================================================================================================================\n"
     ]
    },
    {
     "data": {
      "text/plain": [
       "Index(['Id', 'ProductId', 'UserId', 'ProfileName', 'HelpfulnessNumerator',\n",
       "       'HelpfulnessDenominator', 'Score', 'Time', 'Summary', 'Text'],\n",
       "      dtype='object')"
      ]
     },
     "execution_count": 3,
     "metadata": {},
     "output_type": "execute_result"
    }
   ],
   "source": [
    "print(\"The shape of the data in dataset is:\", dataset.shape)\n",
    "print('==' * 60)\n",
    "dataset.columns                # This will list all the features name in dataset column-wise"
   ]
  },
  {
   "cell_type": "code",
   "execution_count": 4,
   "metadata": {},
   "outputs": [],
   "source": [
    "# Assigning Positive value to reviews with score>3 and Negative value to reviews with score<3\n",
    "\n",
    "def assign_pn(score):\n",
    "    if (score > 3):\n",
    "        score = 'Positive'\n",
    "    elif (score < 3):\n",
    "        score = 'Negative'\n",
    "    return score\n",
    "\n",
    "pn = dataset['Score']\n",
    "pn_assign = pn.map(assign_pn)\n",
    "dataset['Score'] = pn_assign"
   ]
  },
  {
   "cell_type": "code",
   "execution_count": 5,
   "metadata": {},
   "outputs": [
    {
     "name": "stdout",
     "output_type": "stream",
     "text": [
      "Positive    443777\n",
      "Negative     82037\n",
      "Name: Score, dtype: int64\n",
      "========================================================================================================================\n",
      "The shape of the data in dataset is: (525814, 10)\n"
     ]
    }
   ],
   "source": [
    "print(dataset['Score'].value_counts() )                       # Printing the number of each classes (positive and negative reviews)\n",
    "print('==' * 60)\n",
    "print(\"The shape of the data in dataset is:\", dataset.shape)"
   ]
  },
  {
   "cell_type": "code",
   "execution_count": 6,
   "metadata": {},
   "outputs": [
    {
     "data": {
      "text/html": [
       "<div>\n",
       "<style scoped>\n",
       "    .dataframe tbody tr th:only-of-type {\n",
       "        vertical-align: middle;\n",
       "    }\n",
       "\n",
       "    .dataframe tbody tr th {\n",
       "        vertical-align: top;\n",
       "    }\n",
       "\n",
       "    .dataframe thead th {\n",
       "        text-align: right;\n",
       "    }\n",
       "</style>\n",
       "<table border=\"1\" class=\"dataframe\">\n",
       "  <thead>\n",
       "    <tr style=\"text-align: right;\">\n",
       "      <th></th>\n",
       "      <th>Id</th>\n",
       "      <th>ProductId</th>\n",
       "      <th>UserId</th>\n",
       "      <th>ProfileName</th>\n",
       "      <th>HelpfulnessNumerator</th>\n",
       "      <th>HelpfulnessDenominator</th>\n",
       "      <th>Score</th>\n",
       "      <th>Time</th>\n",
       "      <th>Summary</th>\n",
       "      <th>Text</th>\n",
       "    </tr>\n",
       "  </thead>\n",
       "  <tbody>\n",
       "    <tr>\n",
       "      <th>0</th>\n",
       "      <td>1</td>\n",
       "      <td>B001E4KFG0</td>\n",
       "      <td>A3SGXH7AUHU8GW</td>\n",
       "      <td>delmartian</td>\n",
       "      <td>1</td>\n",
       "      <td>1</td>\n",
       "      <td>Positive</td>\n",
       "      <td>1303862400</td>\n",
       "      <td>Good Quality Dog Food</td>\n",
       "      <td>I have bought several of the Vitality canned d...</td>\n",
       "    </tr>\n",
       "    <tr>\n",
       "      <th>1</th>\n",
       "      <td>2</td>\n",
       "      <td>B00813GRG4</td>\n",
       "      <td>A1D87F6ZCVE5NK</td>\n",
       "      <td>dll pa</td>\n",
       "      <td>0</td>\n",
       "      <td>0</td>\n",
       "      <td>Negative</td>\n",
       "      <td>1346976000</td>\n",
       "      <td>Not as Advertised</td>\n",
       "      <td>Product arrived labeled as Jumbo Salted Peanut...</td>\n",
       "    </tr>\n",
       "    <tr>\n",
       "      <th>2</th>\n",
       "      <td>3</td>\n",
       "      <td>B000LQOCH0</td>\n",
       "      <td>ABXLMWJIXXAIN</td>\n",
       "      <td>Natalia Corres \"Natalia Corres\"</td>\n",
       "      <td>1</td>\n",
       "      <td>1</td>\n",
       "      <td>Positive</td>\n",
       "      <td>1219017600</td>\n",
       "      <td>\"Delight\" says it all</td>\n",
       "      <td>This is a confection that has been around a fe...</td>\n",
       "    </tr>\n",
       "    <tr>\n",
       "      <th>3</th>\n",
       "      <td>4</td>\n",
       "      <td>B000UA0QIQ</td>\n",
       "      <td>A395BORC6FGVXV</td>\n",
       "      <td>Karl</td>\n",
       "      <td>3</td>\n",
       "      <td>3</td>\n",
       "      <td>Negative</td>\n",
       "      <td>1307923200</td>\n",
       "      <td>Cough Medicine</td>\n",
       "      <td>If you are looking for the secret ingredient i...</td>\n",
       "    </tr>\n",
       "    <tr>\n",
       "      <th>4</th>\n",
       "      <td>5</td>\n",
       "      <td>B006K2ZZ7K</td>\n",
       "      <td>A1UQRSCLF8GW1T</td>\n",
       "      <td>Michael D. Bigham \"M. Wassir\"</td>\n",
       "      <td>0</td>\n",
       "      <td>0</td>\n",
       "      <td>Positive</td>\n",
       "      <td>1350777600</td>\n",
       "      <td>Great taffy</td>\n",
       "      <td>Great taffy at a great price.  There was a wid...</td>\n",
       "    </tr>\n",
       "  </tbody>\n",
       "</table>\n",
       "</div>"
      ],
      "text/plain": [
       "   Id   ProductId          UserId                      ProfileName  \\\n",
       "0   1  B001E4KFG0  A3SGXH7AUHU8GW                       delmartian   \n",
       "1   2  B00813GRG4  A1D87F6ZCVE5NK                           dll pa   \n",
       "2   3  B000LQOCH0   ABXLMWJIXXAIN  Natalia Corres \"Natalia Corres\"   \n",
       "3   4  B000UA0QIQ  A395BORC6FGVXV                             Karl   \n",
       "4   5  B006K2ZZ7K  A1UQRSCLF8GW1T    Michael D. Bigham \"M. Wassir\"   \n",
       "\n",
       "   HelpfulnessNumerator  HelpfulnessDenominator     Score        Time  \\\n",
       "0                     1                       1  Positive  1303862400   \n",
       "1                     0                       0  Negative  1346976000   \n",
       "2                     1                       1  Positive  1219017600   \n",
       "3                     3                       3  Negative  1307923200   \n",
       "4                     0                       0  Positive  1350777600   \n",
       "\n",
       "                 Summary                                               Text  \n",
       "0  Good Quality Dog Food  I have bought several of the Vitality canned d...  \n",
       "1      Not as Advertised  Product arrived labeled as Jumbo Salted Peanut...  \n",
       "2  \"Delight\" says it all  This is a confection that has been around a fe...  \n",
       "3         Cough Medicine  If you are looking for the secret ingredient i...  \n",
       "4            Great taffy  Great taffy at a great price.  There was a wid...  "
      ]
     },
     "execution_count": 6,
     "metadata": {},
     "output_type": "execute_result"
    }
   ],
   "source": [
    "# Printing first few rows as a sample of the dataset\n",
    "# You may pass the number of rows to be displayed as an argument to the head() method\n",
    "\n",
    "dataset.head()"
   ]
  },
  {
   "cell_type": "markdown",
   "metadata": {},
   "source": [
    "# 2. Pre-processing of data"
   ]
  },
  {
   "cell_type": "markdown",
   "metadata": {},
   "source": [
    "### 2.1 De-duplication of data"
   ]
  },
  {
   "cell_type": "code",
   "execution_count": 7,
   "metadata": {},
   "outputs": [
    {
     "data": {
      "text/html": [
       "<div>\n",
       "<style scoped>\n",
       "    .dataframe tbody tr th:only-of-type {\n",
       "        vertical-align: middle;\n",
       "    }\n",
       "\n",
       "    .dataframe tbody tr th {\n",
       "        vertical-align: top;\n",
       "    }\n",
       "\n",
       "    .dataframe thead th {\n",
       "        text-align: right;\n",
       "    }\n",
       "</style>\n",
       "<table border=\"1\" class=\"dataframe\">\n",
       "  <thead>\n",
       "    <tr style=\"text-align: right;\">\n",
       "      <th></th>\n",
       "      <th>Id</th>\n",
       "      <th>ProductId</th>\n",
       "      <th>UserId</th>\n",
       "      <th>ProfileName</th>\n",
       "      <th>HelpfulnessNumerator</th>\n",
       "      <th>HelpfulnessDenominator</th>\n",
       "      <th>Score</th>\n",
       "      <th>Time</th>\n",
       "      <th>Summary</th>\n",
       "      <th>Text</th>\n",
       "    </tr>\n",
       "  </thead>\n",
       "  <tbody>\n",
       "    <tr>\n",
       "      <th>138706</th>\n",
       "      <td>150524</td>\n",
       "      <td>0006641040</td>\n",
       "      <td>ACITT7DI6IDDL</td>\n",
       "      <td>shari zychinski</td>\n",
       "      <td>0</td>\n",
       "      <td>0</td>\n",
       "      <td>Positive</td>\n",
       "      <td>939340800</td>\n",
       "      <td>EVERY book is educational</td>\n",
       "      <td>this witty little book makes my son laugh at l...</td>\n",
       "    </tr>\n",
       "    <tr>\n",
       "      <th>138688</th>\n",
       "      <td>150506</td>\n",
       "      <td>0006641040</td>\n",
       "      <td>A2IW4PEEKO2R0U</td>\n",
       "      <td>Tracy</td>\n",
       "      <td>1</td>\n",
       "      <td>1</td>\n",
       "      <td>Positive</td>\n",
       "      <td>1194739200</td>\n",
       "      <td>Love the book, miss the hard cover version</td>\n",
       "      <td>I grew up reading these Sendak books, and watc...</td>\n",
       "    </tr>\n",
       "    <tr>\n",
       "      <th>138689</th>\n",
       "      <td>150507</td>\n",
       "      <td>0006641040</td>\n",
       "      <td>A1S4A3IQ2MU7V4</td>\n",
       "      <td>sally sue \"sally sue\"</td>\n",
       "      <td>1</td>\n",
       "      <td>1</td>\n",
       "      <td>Positive</td>\n",
       "      <td>1191456000</td>\n",
       "      <td>chicken soup with rice months</td>\n",
       "      <td>This is a fun way for children to learn their ...</td>\n",
       "    </tr>\n",
       "    <tr>\n",
       "      <th>138690</th>\n",
       "      <td>150508</td>\n",
       "      <td>0006641040</td>\n",
       "      <td>AZGXZ2UUK6X</td>\n",
       "      <td>Catherine Hallberg \"(Kate)\"</td>\n",
       "      <td>1</td>\n",
       "      <td>1</td>\n",
       "      <td>Positive</td>\n",
       "      <td>1076025600</td>\n",
       "      <td>a good swingy rhythm for reading aloud</td>\n",
       "      <td>This is a great little book to read aloud- it ...</td>\n",
       "    </tr>\n",
       "    <tr>\n",
       "      <th>138691</th>\n",
       "      <td>150509</td>\n",
       "      <td>0006641040</td>\n",
       "      <td>A3CMRKGE0P909G</td>\n",
       "      <td>Teresa</td>\n",
       "      <td>3</td>\n",
       "      <td>4</td>\n",
       "      <td>Positive</td>\n",
       "      <td>1018396800</td>\n",
       "      <td>A great way to learn the months</td>\n",
       "      <td>This is a book of poetry about the months of t...</td>\n",
       "    </tr>\n",
       "  </tbody>\n",
       "</table>\n",
       "</div>"
      ],
      "text/plain": [
       "            Id   ProductId          UserId                  ProfileName  \\\n",
       "138706  150524  0006641040   ACITT7DI6IDDL              shari zychinski   \n",
       "138688  150506  0006641040  A2IW4PEEKO2R0U                        Tracy   \n",
       "138689  150507  0006641040  A1S4A3IQ2MU7V4        sally sue \"sally sue\"   \n",
       "138690  150508  0006641040     AZGXZ2UUK6X  Catherine Hallberg \"(Kate)\"   \n",
       "138691  150509  0006641040  A3CMRKGE0P909G                       Teresa   \n",
       "\n",
       "        HelpfulnessNumerator  HelpfulnessDenominator     Score        Time  \\\n",
       "138706                     0                       0  Positive   939340800   \n",
       "138688                     1                       1  Positive  1194739200   \n",
       "138689                     1                       1  Positive  1191456000   \n",
       "138690                     1                       1  Positive  1076025600   \n",
       "138691                     3                       4  Positive  1018396800   \n",
       "\n",
       "                                           Summary  \\\n",
       "138706                   EVERY book is educational   \n",
       "138688  Love the book, miss the hard cover version   \n",
       "138689               chicken soup with rice months   \n",
       "138690      a good swingy rhythm for reading aloud   \n",
       "138691             A great way to learn the months   \n",
       "\n",
       "                                                     Text  \n",
       "138706  this witty little book makes my son laugh at l...  \n",
       "138688  I grew up reading these Sendak books, and watc...  \n",
       "138689  This is a fun way for children to learn their ...  \n",
       "138690  This is a great little book to read aloud- it ...  \n",
       "138691  This is a book of poetry about the months of t...  "
      ]
     },
     "execution_count": 7,
     "metadata": {},
     "output_type": "execute_result"
    }
   ],
   "source": [
    "# Sorting data based on ProductId\n",
    "\n",
    "sorted_data = dataset.sort_values('ProductId', ascending=True, axis=0)\n",
    "sorted_data.head()"
   ]
  },
  {
   "cell_type": "code",
   "execution_count": 8,
   "metadata": {},
   "outputs": [
    {
     "data": {
      "text/plain": [
       "(364133, 10)"
      ]
     },
     "execution_count": 8,
     "metadata": {},
     "output_type": "execute_result"
    }
   ],
   "source": [
    "# Remove all the data points that exactly match the field values mention below\n",
    "\n",
    "data = sorted_data.drop_duplicates(subset={'UserId', 'Time', 'Text'}, keep='first', inplace=False)\n",
    "data.shape"
   ]
  },
  {
   "cell_type": "code",
   "execution_count": 9,
   "metadata": {},
   "outputs": [
    {
     "name": "stdout",
     "output_type": "stream",
     "text": [
      "69.25129418387492\n"
     ]
    }
   ],
   "source": [
    "# Check what percentage of original data is remaining\n",
    "\n",
    "percentage = (data.shape[0] / dataset.shape[0]) * 100\n",
    "print(percentage)"
   ]
  },
  {
   "cell_type": "code",
   "execution_count": 10,
   "metadata": {},
   "outputs": [
    {
     "data": {
      "text/plain": [
       "(364131, 10)"
      ]
     },
     "execution_count": 10,
     "metadata": {},
     "output_type": "execute_result"
    }
   ],
   "source": [
    "# Removing the reviews having HelpfulnessNumerator greater than HelpfulnessDenominator\n",
    "\n",
    "data = data[data.HelpfulnessDenominator >= data.HelpfulnessNumerator]\n",
    "data.shape"
   ]
  },
  {
   "cell_type": "code",
   "execution_count": 11,
   "metadata": {},
   "outputs": [
    {
     "data": {
      "text/plain": [
       "Positive    307026\n",
       "Negative     57105\n",
       "Name: Score, dtype: int64"
      ]
     },
     "execution_count": 11,
     "metadata": {},
     "output_type": "execute_result"
    },
    {
     "data": {
      "image/png": "[encoded data removed]",
      "text/plain": [
       "<Figure size 432x288 with 1 Axes>"
      ]
     },
     "metadata": {
      "needs_background": "light"
     },
     "output_type": "display_data"
    }
   ],
   "source": [
    "# Getting the number of positive and negative reviews\n",
    "\n",
    "data['Score'].value_counts().plot(kind='bar')\n",
    "data['Score'].value_counts()"
   ]
  },
  {
   "cell_type": "markdown",
   "metadata": {},
   "source": [
    "### 2.2 Data Cleaning"
   ]
  },
  {
   "cell_type": "code",
   "execution_count": 12,
   "metadata": {},
   "outputs": [],
   "source": [
    "import re\n",
    "import string\n",
    "from nltk.corpus import stopwords\n",
    "from nltk.stem import SnowballStemmer\n",
    "from nltk.stem.wordnet import WordNetLemmatizer"
   ]
  },
  {
   "cell_type": "code",
   "execution_count": 13,
   "metadata": {},
   "outputs": [
    {
     "name": "stdout",
     "output_type": "stream",
     "text": [
      "Total number of html tags present: 6\n",
      "========================================================================================================================\n",
      "I set aside at least an hour each day to read to my son (3 y/o). At this point, I consider myself a connoisseur of children's books and this is one of the best. Santa Clause put this under the tree. Since then, we've read it perpetually and he loves it.<br /><br />First, this book taught him the months of the year.<br /><br />Second, it's a pleasure to read. Well suited to 1.5 y/o old to 4+.<br /><br />Very few children's books are worth owning. Most should be borrowed from the library. This book, however, deserves a permanent spot on your shelf. Sendak's best.\n"
     ]
    }
   ],
   "source": [
    "# Find sentences containing html tags\n",
    "\n",
    "i = 0\n",
    "for sentence in data['Text'].values:\n",
    "    if (len(re.findall('<.*?>', sentence))):\n",
    "        print(\"Total number of html tags present:\", i)\n",
    "        print(\"==\"*60)\n",
    "        print(sentence)\n",
    "        break\n",
    "    i += 1"
   ]
  },
  {
   "cell_type": "code",
   "execution_count": 14,
   "metadata": {},
   "outputs": [],
   "source": [
    "# Function to remove texts with html tags(<...>)\n",
    "\n",
    "def cleanHtml(sentence):\n",
    "    cleanr = re.compile('<.*?>')                  # Select ANY text with < > tags\n",
    "    cleanText = re.sub(cleanr, ' ', sentence)     # Replace texts enclosed in < > with white space\n",
    "    return cleanText"
   ]
  },
  {
   "cell_type": "code",
   "execution_count": 15,
   "metadata": {},
   "outputs": [],
   "source": [
    "# Function to remove punctuation marks(.,?/:;)\n",
    "\n",
    "def cleanPunctuation(sentence):\n",
    "    cleanp = re.sub(r'[?|$|.|!]',r'', sentence)\n",
    "    cleanp = re.sub(r'[.|,|)|(|\\|/]',r' ', cleanp)\n",
    "    return cleanp"
   ]
  },
  {
   "cell_type": "code",
   "execution_count": 16,
   "metadata": {},
   "outputs": [
    {
     "name": "stdout",
     "output_type": "stream",
     "text": [
      "{'do', 'ain', 'then', 'while', 'or', 'above', 'an', 'to', 'most', 'same', \"hasn't\", \"needn't\", 'did', 'in', 'before', 'own', 'myself', 'other', 'our', 'were', 'does', 'each', 'won', 'few', 'hers', 'but', 'll', 'because', \"she's\", 'into', 'any', 'ours', 'the', 'hasn', 'me', 'more', 'where', 'with', \"won't\", 'not', 'against', 'over', \"shouldn't\", 'had', 'on', 'your', \"you're\", 'have', 'd', 'has', 'doesn', 's', 'y', 'being', \"didn't\", \"mustn't\", 'm', \"weren't\", 'don', 't', 'shan', 'mightn', 'between', 'out', 'as', 'doing', 'nor', \"wasn't\", 'after', 've', 'aren', 'been', 'again', 'only', 'will', 'he', 'should', 'shouldn', \"it's\", 'all', 'hadn', 'my', 'of', 'their', 'for', 'both', 'what', 'yourself', 'off', 'yourselves', 'yours', 'those', 'them', 'how', 'him', 'some', 'whom', 'and', 'can', 'about', 'when', 'down', 'o', 'haven', 'was', 'just', 'now', 'having', 'they', 'further', 'her', \"should've\", 'from', \"shan't\", \"you'll\", \"you've\", \"don't\", 'am', 'is', 'we', \"you'd\", 'herself', \"mightn't\", 'be', 'didn', 're', 'this', \"doesn't\", 'ourselves', 'she', 'theirs', 'if', 'here', 'below', 'who', 'there', 'no', 'needn', 'wasn', 'by', 'at', 'up', \"couldn't\", \"wouldn't\", \"hadn't\", 'themselves', 'which', 'weren', 'its', 'you', 'a', 'such', 'that', 'through', 'very', 'these', 'under', \"haven't\", \"isn't\", 'are', 'i', 'mustn', 'ma', 'isn', 'it', 'why', 'during', 'until', \"that'll\", 'than', 'itself', 'couldn', 'wouldn', 'his', 'too', 'so', 'once', 'himself', \"aren't\"}\n"
     ]
    }
   ],
   "source": [
    "# Printing the set of stop words present in english language\n",
    "# You need to download stopword first before using it(import nltk; nltk.download(\"stopwords\");)\n",
    "\n",
    "stopWords = set(stopwords.words('english'))\n",
    "print(stopWords)"
   ]
  },
  {
   "cell_type": "code",
   "execution_count": 17,
   "metadata": {},
   "outputs": [],
   "source": [
    "# Initializing SnowBall Stemmer\n",
    "\n",
    "snowball = SnowballStemmer('english')"
   ]
  },
  {
   "cell_type": "code",
   "execution_count": 18,
   "metadata": {},
   "outputs": [
    {
     "name": "stdout",
     "output_type": "stream",
     "text": [
      "tasti\n",
      "delici\n",
      "littl\n"
     ]
    }
   ],
   "source": [
    "# Printing a base-word using snowball stemmer\n",
    "\n",
    "print(snowball.stem('tasty'))\n",
    "print(snowball.stem('delicious'))\n",
    "print(snowball.stem('little'))"
   ]
  },
  {
   "cell_type": "code",
   "execution_count": 19,
   "metadata": {},
   "outputs": [
    {
     "name": "stderr",
     "output_type": "stream",
     "text": [
      "100%|██████████| 364131/364131 [05:10<00:00, 1173.60it/s]\n"
     ]
    }
   ],
   "source": [
    "# Core Pre-processing code step-by-step(removing html tags, punctuations, stopwords, etc)\n",
    "# This may take a few minutes to execute as it needs to execute all the sentences present in data['Text']\n",
    "\n",
    "i = 0\n",
    "initial_str = ''\n",
    "final_str = []          # Store final string of clean words\n",
    "positive_words = []     # Store words from positive reviews here\n",
    "negative_words = []     # Store words from negative reviews here\n",
    "s = ''\n",
    "\n",
    "for sentence in tqdm(data['Text'].values):\n",
    "    filtered_sentence = []\n",
    "    sentence = cleanHtml(sentence)          # Remove html tags\n",
    "    for words in sentence.split():\n",
    "        for word in cleanPunctuation(words).split():\n",
    "            if ((word.isalpha()) & (len(word) > 2)):\n",
    "                if (word.lower() not in stopWords):\n",
    "                    s = (snowball.stem(word.lower()).encode('utf-8'))\n",
    "                    filtered_sentence.append(s)\n",
    "                    if ((data['Score'].values)[i] == 'Positive'):\n",
    "                        positive_words.append(s)\n",
    "                    if ((data['Score'].values)[i] == 'Negative'):\n",
    "                        negative_words.append(s)\n",
    "                else:\n",
    "                    continue\n",
    "            else:\n",
    "                continue\n",
    "    initial_str = b\" \".join(filtered_sentence)      # Final string of clean words\n",
    "    final_str.append(initial_str)\n",
    "    i += 1"
   ]
  },
  {
   "cell_type": "code",
   "execution_count": 20,
   "metadata": {},
   "outputs": [],
   "source": [
    "# Adding a column in dataset and storing cleaned text in it.\n",
    "\n",
    "data['CleanedText'] = final_str\n",
    "data['CleanedText'] = data['CleanedText'].str.decode(\"utf-8\")"
   ]
  },
  {
   "cell_type": "code",
   "execution_count": 21,
   "metadata": {},
   "outputs": [
    {
     "data": {
      "text/html": [
       "<div>\n",
       "<style scoped>\n",
       "    .dataframe tbody tr th:only-of-type {\n",
       "        vertical-align: middle;\n",
       "    }\n",
       "\n",
       "    .dataframe tbody tr th {\n",
       "        vertical-align: top;\n",
       "    }\n",
       "\n",
       "    .dataframe thead th {\n",
       "        text-align: right;\n",
       "    }\n",
       "</style>\n",
       "<table border=\"1\" class=\"dataframe\">\n",
       "  <thead>\n",
       "    <tr style=\"text-align: right;\">\n",
       "      <th></th>\n",
       "      <th>Id</th>\n",
       "      <th>ProductId</th>\n",
       "      <th>UserId</th>\n",
       "      <th>ProfileName</th>\n",
       "      <th>HelpfulnessNumerator</th>\n",
       "      <th>HelpfulnessDenominator</th>\n",
       "      <th>Score</th>\n",
       "      <th>Time</th>\n",
       "      <th>Summary</th>\n",
       "      <th>Text</th>\n",
       "      <th>CleanedText</th>\n",
       "    </tr>\n",
       "  </thead>\n",
       "  <tbody>\n",
       "    <tr>\n",
       "      <th>138706</th>\n",
       "      <td>150524</td>\n",
       "      <td>0006641040</td>\n",
       "      <td>ACITT7DI6IDDL</td>\n",
       "      <td>shari zychinski</td>\n",
       "      <td>0</td>\n",
       "      <td>0</td>\n",
       "      <td>Positive</td>\n",
       "      <td>939340800</td>\n",
       "      <td>EVERY book is educational</td>\n",
       "      <td>this witty little book makes my son laugh at l...</td>\n",
       "      <td>witti littl book make son laugh loud recit car...</td>\n",
       "    </tr>\n",
       "    <tr>\n",
       "      <th>138688</th>\n",
       "      <td>150506</td>\n",
       "      <td>0006641040</td>\n",
       "      <td>A2IW4PEEKO2R0U</td>\n",
       "      <td>Tracy</td>\n",
       "      <td>1</td>\n",
       "      <td>1</td>\n",
       "      <td>Positive</td>\n",
       "      <td>1194739200</td>\n",
       "      <td>Love the book, miss the hard cover version</td>\n",
       "      <td>I grew up reading these Sendak books, and watc...</td>\n",
       "      <td>grew read sendak book watch realli rosi movi i...</td>\n",
       "    </tr>\n",
       "    <tr>\n",
       "      <th>138689</th>\n",
       "      <td>150507</td>\n",
       "      <td>0006641040</td>\n",
       "      <td>A1S4A3IQ2MU7V4</td>\n",
       "      <td>sally sue \"sally sue\"</td>\n",
       "      <td>1</td>\n",
       "      <td>1</td>\n",
       "      <td>Positive</td>\n",
       "      <td>1191456000</td>\n",
       "      <td>chicken soup with rice months</td>\n",
       "      <td>This is a fun way for children to learn their ...</td>\n",
       "      <td>fun way children learn month year learn poem t...</td>\n",
       "    </tr>\n",
       "    <tr>\n",
       "      <th>138690</th>\n",
       "      <td>150508</td>\n",
       "      <td>0006641040</td>\n",
       "      <td>AZGXZ2UUK6X</td>\n",
       "      <td>Catherine Hallberg \"(Kate)\"</td>\n",
       "      <td>1</td>\n",
       "      <td>1</td>\n",
       "      <td>Positive</td>\n",
       "      <td>1076025600</td>\n",
       "      <td>a good swingy rhythm for reading aloud</td>\n",
       "      <td>This is a great little book to read aloud- it ...</td>\n",
       "      <td>great littl book read nice rhythm well good re...</td>\n",
       "    </tr>\n",
       "    <tr>\n",
       "      <th>138691</th>\n",
       "      <td>150509</td>\n",
       "      <td>0006641040</td>\n",
       "      <td>A3CMRKGE0P909G</td>\n",
       "      <td>Teresa</td>\n",
       "      <td>3</td>\n",
       "      <td>4</td>\n",
       "      <td>Positive</td>\n",
       "      <td>1018396800</td>\n",
       "      <td>A great way to learn the months</td>\n",
       "      <td>This is a book of poetry about the months of t...</td>\n",
       "      <td>book poetri month year goe month cute littl po...</td>\n",
       "    </tr>\n",
       "  </tbody>\n",
       "</table>\n",
       "</div>"
      ],
      "text/plain": [
       "            Id   ProductId          UserId                  ProfileName  \\\n",
       "138706  150524  0006641040   ACITT7DI6IDDL              shari zychinski   \n",
       "138688  150506  0006641040  A2IW4PEEKO2R0U                        Tracy   \n",
       "138689  150507  0006641040  A1S4A3IQ2MU7V4        sally sue \"sally sue\"   \n",
       "138690  150508  0006641040     AZGXZ2UUK6X  Catherine Hallberg \"(Kate)\"   \n",
       "138691  150509  0006641040  A3CMRKGE0P909G                       Teresa   \n",
       "\n",
       "        HelpfulnessNumerator  HelpfulnessDenominator     Score        Time  \\\n",
       "138706                     0                       0  Positive   939340800   \n",
       "138688                     1                       1  Positive  1194739200   \n",
       "138689                     1                       1  Positive  1191456000   \n",
       "138690                     1                       1  Positive  1076025600   \n",
       "138691                     3                       4  Positive  1018396800   \n",
       "\n",
       "                                           Summary  \\\n",
       "138706                   EVERY book is educational   \n",
       "138688  Love the book, miss the hard cover version   \n",
       "138689               chicken soup with rice months   \n",
       "138690      a good swingy rhythm for reading aloud   \n",
       "138691             A great way to learn the months   \n",
       "\n",
       "                                                     Text  \\\n",
       "138706  this witty little book makes my son laugh at l...   \n",
       "138688  I grew up reading these Sendak books, and watc...   \n",
       "138689  This is a fun way for children to learn their ...   \n",
       "138690  This is a great little book to read aloud- it ...   \n",
       "138691  This is a book of poetry about the months of t...   \n",
       "\n",
       "                                              CleanedText  \n",
       "138706  witti littl book make son laugh loud recit car...  \n",
       "138688  grew read sendak book watch realli rosi movi i...  \n",
       "138689  fun way children learn month year learn poem t...  \n",
       "138690  great littl book read nice rhythm well good re...  \n",
       "138691  book poetri month year goe month cute littl po...  "
      ]
     },
     "execution_count": 21,
     "metadata": {},
     "output_type": "execute_result"
    }
   ],
   "source": [
    "data.head()"
   ]
  },
  {
   "cell_type": "markdown",
   "metadata": {},
   "source": [
    "# 3. Time-based splitting of data"
   ]
  },
  {
   "cell_type": "code",
   "execution_count": 22,
   "metadata": {},
   "outputs": [
    {
     "data": {
      "text/html": [
       "<div>\n",
       "<style scoped>\n",
       "    .dataframe tbody tr th:only-of-type {\n",
       "        vertical-align: middle;\n",
       "    }\n",
       "\n",
       "    .dataframe tbody tr th {\n",
       "        vertical-align: top;\n",
       "    }\n",
       "\n",
       "    .dataframe thead th {\n",
       "        text-align: right;\n",
       "    }\n",
       "</style>\n",
       "<table border=\"1\" class=\"dataframe\">\n",
       "  <thead>\n",
       "    <tr style=\"text-align: right;\">\n",
       "      <th></th>\n",
       "      <th>Id</th>\n",
       "      <th>ProductId</th>\n",
       "      <th>UserId</th>\n",
       "      <th>ProfileName</th>\n",
       "      <th>HelpfulnessNumerator</th>\n",
       "      <th>HelpfulnessDenominator</th>\n",
       "      <th>Score</th>\n",
       "      <th>Time</th>\n",
       "      <th>Summary</th>\n",
       "      <th>Text</th>\n",
       "      <th>CleanedText</th>\n",
       "    </tr>\n",
       "  </thead>\n",
       "  <tbody>\n",
       "    <tr>\n",
       "      <th>138706</th>\n",
       "      <td>150524</td>\n",
       "      <td>0006641040</td>\n",
       "      <td>ACITT7DI6IDDL</td>\n",
       "      <td>shari zychinski</td>\n",
       "      <td>0</td>\n",
       "      <td>0</td>\n",
       "      <td>Positive</td>\n",
       "      <td>939340800</td>\n",
       "      <td>EVERY book is educational</td>\n",
       "      <td>this witty little book makes my son laugh at l...</td>\n",
       "      <td>witti littl book make son laugh loud recit car...</td>\n",
       "    </tr>\n",
       "    <tr>\n",
       "      <th>138683</th>\n",
       "      <td>150501</td>\n",
       "      <td>0006641040</td>\n",
       "      <td>AJ46FKXOVC7NR</td>\n",
       "      <td>Nicholas A Mesiano</td>\n",
       "      <td>2</td>\n",
       "      <td>2</td>\n",
       "      <td>Positive</td>\n",
       "      <td>940809600</td>\n",
       "      <td>This whole series is great way to spend time w...</td>\n",
       "      <td>I can remember seeing the show when it aired o...</td>\n",
       "      <td>rememb see show air televis year ago child sis...</td>\n",
       "    </tr>\n",
       "    <tr>\n",
       "      <th>417839</th>\n",
       "      <td>451856</td>\n",
       "      <td>B00004CXX9</td>\n",
       "      <td>AIUWLEQ1ADEG5</td>\n",
       "      <td>Elizabeth Medina</td>\n",
       "      <td>0</td>\n",
       "      <td>0</td>\n",
       "      <td>Positive</td>\n",
       "      <td>944092800</td>\n",
       "      <td>Entertainingl Funny!</td>\n",
       "      <td>Beetlejuice is a well written movie ..... ever...</td>\n",
       "      <td>beetlejuic well written movi everyth excel act...</td>\n",
       "    </tr>\n",
       "    <tr>\n",
       "      <th>346055</th>\n",
       "      <td>374359</td>\n",
       "      <td>B00004CI84</td>\n",
       "      <td>A344SMIA5JECGM</td>\n",
       "      <td>Vincent P. Ross</td>\n",
       "      <td>1</td>\n",
       "      <td>2</td>\n",
       "      <td>Positive</td>\n",
       "      <td>944438400</td>\n",
       "      <td>A modern day fairy tale</td>\n",
       "      <td>A twist of rumplestiskin captured on film, sta...</td>\n",
       "      <td>twist rumplestiskin captur film star michael k...</td>\n",
       "    </tr>\n",
       "    <tr>\n",
       "      <th>417838</th>\n",
       "      <td>451855</td>\n",
       "      <td>B00004CXX9</td>\n",
       "      <td>AJH6LUC1UT1ON</td>\n",
       "      <td>The Phantom of the Opera</td>\n",
       "      <td>0</td>\n",
       "      <td>0</td>\n",
       "      <td>Positive</td>\n",
       "      <td>946857600</td>\n",
       "      <td>FANTASTIC!</td>\n",
       "      <td>Beetlejuice is an excellent and funny movie. K...</td>\n",
       "      <td>beetlejuic excel funni movi keaton hilari wack...</td>\n",
       "    </tr>\n",
       "  </tbody>\n",
       "</table>\n",
       "</div>"
      ],
      "text/plain": [
       "            Id   ProductId          UserId               ProfileName  \\\n",
       "138706  150524  0006641040   ACITT7DI6IDDL           shari zychinski   \n",
       "138683  150501  0006641040   AJ46FKXOVC7NR        Nicholas A Mesiano   \n",
       "417839  451856  B00004CXX9   AIUWLEQ1ADEG5          Elizabeth Medina   \n",
       "346055  374359  B00004CI84  A344SMIA5JECGM           Vincent P. Ross   \n",
       "417838  451855  B00004CXX9   AJH6LUC1UT1ON  The Phantom of the Opera   \n",
       "\n",
       "        HelpfulnessNumerator  HelpfulnessDenominator     Score       Time  \\\n",
       "138706                     0                       0  Positive  939340800   \n",
       "138683                     2                       2  Positive  940809600   \n",
       "417839                     0                       0  Positive  944092800   \n",
       "346055                     1                       2  Positive  944438400   \n",
       "417838                     0                       0  Positive  946857600   \n",
       "\n",
       "                                                  Summary  \\\n",
       "138706                          EVERY book is educational   \n",
       "138683  This whole series is great way to spend time w...   \n",
       "417839                               Entertainingl Funny!   \n",
       "346055                            A modern day fairy tale   \n",
       "417838                                         FANTASTIC!   \n",
       "\n",
       "                                                     Text  \\\n",
       "138706  this witty little book makes my son laugh at l...   \n",
       "138683  I can remember seeing the show when it aired o...   \n",
       "417839  Beetlejuice is a well written movie ..... ever...   \n",
       "346055  A twist of rumplestiskin captured on film, sta...   \n",
       "417838  Beetlejuice is an excellent and funny movie. K...   \n",
       "\n",
       "                                              CleanedText  \n",
       "138706  witti littl book make son laugh loud recit car...  \n",
       "138683  rememb see show air televis year ago child sis...  \n",
       "417839  beetlejuic well written movi everyth excel act...  \n",
       "346055  twist rumplestiskin captur film star michael k...  \n",
       "417838  beetlejuic excel funni movi keaton hilari wack...  "
      ]
     },
     "execution_count": 22,
     "metadata": {},
     "output_type": "execute_result"
    }
   ],
   "source": [
    "# Sorting data based on time\n",
    "\n",
    "time_sort = data.sort_values('Time', ascending=True, axis=0, na_position='last')       # na_postion='last' puts NaNs at the end\n",
    "time_sort.head()"
   ]
  },
  {
   "cell_type": "code",
   "execution_count": 23,
   "metadata": {},
   "outputs": [],
   "source": [
    "from sklearn.model_selection import train_test_split"
   ]
  },
  {
   "cell_type": "code",
   "execution_count": 24,
   "metadata": {},
   "outputs": [],
   "source": [
    "# Splitting data into Train, Test and Cross-validation\n",
    "\n",
    "X = time_sort['CleanedText']\n",
    "Y = time_sort['Score']\n",
    "\n",
    "x_training, x_test, y_training, y_test= train_test_split(X, Y, test_size=0.25)\n",
    "x_train, x_cv, y_train, y_cv = train_test_split(x_training, y_training, test_size=0.3)"
   ]
  },
  {
   "cell_type": "code",
   "execution_count": 25,
   "metadata": {},
   "outputs": [
    {
     "name": "stdout",
     "output_type": "stream",
     "text": [
      "The shape of the training data is: (191168,) (191168,)\n",
      "The shape of the CV data is: (81930,) (81930,)\n",
      "The shape of the test data is: (91033,) (91033,)\n"
     ]
    }
   ],
   "source": [
    "print(\"The shape of the training data is:\", x_train.shape, y_train.shape)\n",
    "print(\"The shape of the CV data is:\", x_cv.shape, y_cv.shape)\n",
    "print(\"The shape of the test data is:\", x_test.shape, y_test.shape)"
   ]
  },
  {
   "cell_type": "markdown",
   "metadata": {},
   "source": [
    "# 4. Function to Train and Test Naive Baye's models"
   ]
  },
  {
   "cell_type": "code",
   "execution_count": 26,
   "metadata": {},
   "outputs": [],
   "source": [
    "import warnings\n",
    "warnings.filterwarnings(\"ignore\")\n",
    "from sklearn.naive_bayes import MultinomialNB\n",
    "from sklearn.naive_bayes import BernoulliNB\n",
    "from sklearn.metrics import accuracy_score, f1_score, precision_score, recall_score"
   ]
  },
  {
   "cell_type": "markdown",
   "metadata": {},
   "source": [
    "### 4.1 Train function for Naive Baye's models"
   ]
  },
  {
   "cell_type": "code",
   "execution_count": 27,
   "metadata": {},
   "outputs": [],
   "source": [
    "def nb_train(x_train, x_cv, y_train, y_cv, algo):\n",
    "    alpha = [10,5,1,0.5,0.1,0.05,0.01,0.005,0.001,0.0005,0.0001,0.00005,0.00001,0.000005,0.000001]\n",
    "    accuracy_cv = []\n",
    "\n",
    "    for i in alpha[0:]:\n",
    "        if (algo == 'Multinomial'):\n",
    "            nb = MultinomialNB(alpha=i)\n",
    "        elif (algo == 'Bernoulli'):\n",
    "            nb = BernoulliNB(alpha=i)\n",
    "        nb.fit(x_train, y_train)\n",
    "        \n",
    "        prediction = nb.predict(x_cv)\n",
    "        \n",
    "        acc_cv = accuracy_score(y_cv, prediction)\n",
    "        f1_cv = f1_score(y_cv, prediction, average='macro')\n",
    "        precision_cv = precision_score(y_cv, prediction, average='macro')\n",
    "        recall_cv = recall_score(y_cv, prediction, average='macro')\n",
    "        \n",
    "        print(\"FOR α =\", i)\n",
    "        print(\"The accuracy of the model is:\", acc_cv*100)\n",
    "        print(\"The f1_score of the model is:\", f1_cv*100)\n",
    "        print(\"The precision_score of the model is:\", precision_cv*100)\n",
    "        print(\"The recall_score of the model is:\", recall_cv*100)\n",
    "        print(\"==\"*60)\n",
    "        \n",
    "        accuracy_cv.append(acc_cv)\n",
    "        \n",
    "    # Plot λ vs auc_score graph\n",
    "    plt.plot(alpha, accuracy_cv, 'b-', label=\"Cross Validation Data\")\n",
    "    plt.legend(loc='lower right')\n",
    "    plt.title(\"α v/s Auc Score\")\n",
    "    plt.ylabel('Auc Score')\n",
    "    plt.xlabel('alpha (α)')\n",
    "    plt.show()"
   ]
  },
  {
   "cell_type": "markdown",
   "metadata": {},
   "source": [
    "### 4.2 Test function for Naive Baye's models"
   ]
  },
  {
   "cell_type": "code",
   "execution_count": 28,
   "metadata": {},
   "outputs": [],
   "source": [
    "from sklearn.metrics import classification_report\n",
    "from scikitplot.metrics import plot_confusion_matrix"
   ]
  },
  {
   "cell_type": "code",
   "execution_count": 29,
   "metadata": {},
   "outputs": [],
   "source": [
    "def nb_test(x_train, y_train, x_test, y_test, optimal_alpha, algo):\n",
    "    if (algo == 'Multinomial'):\n",
    "        nb = MultinomialNB(alpha=optimal_alpha)\n",
    "    elif (algo == 'Bernoulli'):\n",
    "        nb = BernoulliNB(alpha=optimal_alpha)\n",
    "    nb.fit(x_train, y_train)\n",
    "    \n",
    "    prediction = nb.predict(x_test)\n",
    "\n",
    "    print(\"The accuracy of the model is:\", accuracy_score(y_test, prediction)*100)\n",
    "    print(\"The macro f1_score of the model is:\", f1_score(y_test, prediction, average = 'macro')*100)\n",
    "    print(\"The micro f1_score of the model is:\", f1_score(y_test, prediction, average = 'micro')*100)\n",
    "    print(\"The precision_score of the model is:\", precision_score(y_test, prediction, average='macro')*100)\n",
    "    print(\"The recall_score of the model is:\", recall_score(y_test, prediction, average='macro')*100)\n",
    "    print(\"The precision recall report for data:\\n\", classification_report(y_test, prediction))\n",
    "    \n",
    "    plot_confusion_matrix(y_test, prediction)\n",
    "    plt.show()"
   ]
  },
  {
   "cell_type": "markdown",
   "metadata": {},
   "source": [
    "# 5. Vectorization of splitted of data"
   ]
  },
  {
   "cell_type": "markdown",
   "metadata": {},
   "source": [
    "### 5.1 Bag of Words (BoW)"
   ]
  },
  {
   "cell_type": "code",
   "execution_count": 30,
   "metadata": {},
   "outputs": [],
   "source": [
    "from sklearn.feature_extraction.text import CountVectorizer"
   ]
  },
  {
   "cell_type": "code",
   "execution_count": 31,
   "metadata": {},
   "outputs": [],
   "source": [
    "count_vect = CountVectorizer(ngram_range=(1,2))\n",
    "count_vect.fit(x_train)\n",
    "# Fit should be done only to train data\n",
    "# After fitting count_vect only learns the vocabulary of x_train i.e unique words(unique n-grams)\n",
    "\n",
    "# To convert the SENTENCE into numerical vectors, we call transform()\n",
    "x_train_bow = count_vect.transform(x_train)\n",
    "x_cv_bow = count_vect.transform(x_cv)\n",
    "x_test_bow = count_vect.transform(x_test)"
   ]
  },
  {
   "cell_type": "code",
   "execution_count": 32,
   "metadata": {},
   "outputs": [
    {
     "name": "stdout",
     "output_type": "stream",
     "text": [
      "The shape of the training data is: (191168, 1927099) (191168,)\n",
      "The shape of the CV data is: (81930, 1927099) (81930,)\n",
      "The shape of the test data is: (91033, 1927099) (91033,)\n"
     ]
    }
   ],
   "source": [
    "print(\"The shape of the training data is:\", x_train_bow.shape, y_train.shape)\n",
    "print(\"The shape of the CV data is:\", x_cv_bow.shape, y_cv.shape)\n",
    "print(\"The shape of the test data is:\", x_test_bow.shape, y_test.shape)"
   ]
  },
  {
   "cell_type": "markdown",
   "metadata": {},
   "source": [
    "### 5.2 Term Frequency - Inverse Document Frequency (tf-idf)"
   ]
  },
  {
   "cell_type": "code",
   "execution_count": 33,
   "metadata": {},
   "outputs": [],
   "source": [
    "from sklearn.feature_extraction.text import TfidfVectorizer"
   ]
  },
  {
   "cell_type": "code",
   "execution_count": 34,
   "metadata": {},
   "outputs": [],
   "source": [
    "tfidf_vect = TfidfVectorizer(stop_words=None, ngram_range=(1,2))\n",
    "tfidf_vect.fit(x_train)\n",
    "# Fit should be done only to train data\n",
    "# After fitting tfidf_vect only learnss the vocabulary of x_train i.e unique words(unique n-grams)\n",
    "\n",
    "# To convert the SENTENCE into numerical vectors, we call transform()\n",
    "x_train_tfidf = tfidf_vect.transform(x_train)\n",
    "x_cv_tfidf = tfidf_vect.transform(x_cv)\n",
    "x_test_tfidf = tfidf_vect.transform(x_test)"
   ]
  },
  {
   "cell_type": "code",
   "execution_count": 35,
   "metadata": {},
   "outputs": [
    {
     "name": "stdout",
     "output_type": "stream",
     "text": [
      "The shape of the training data is: (191168, 1927099) (191168,)\n",
      "The shape of the CV data is: (81930, 1927099) (81930,)\n",
      "The shape of the test data is: (91033, 1927099) (91033,)\n"
     ]
    }
   ],
   "source": [
    "print(\"The shape of the training data is:\", x_train_tfidf.shape, y_train.shape)\n",
    "print(\"The shape of the CV data is:\", x_cv_tfidf.shape, y_cv.shape)\n",
    "print(\"The shape of the test data is:\", x_test_tfidf.shape, y_test.shape)"
   ]
  },
  {
   "cell_type": "markdown",
   "metadata": {},
   "source": [
    "### 5.3 Word2Vec"
   ]
  },
  {
   "cell_type": "code",
   "execution_count": 36,
   "metadata": {},
   "outputs": [],
   "source": [
    "from gensim.models import Word2Vec\n",
    "from gensim.models import KeyedVectors"
   ]
  },
  {
   "cell_type": "code",
   "execution_count": 37,
   "metadata": {},
   "outputs": [],
   "source": [
    "sentence_list = []\n",
    "for sentence in x_train:\n",
    "    sentence_list.append(sentence.split())"
   ]
  },
  {
   "cell_type": "code",
   "execution_count": 38,
   "metadata": {},
   "outputs": [],
   "source": [
    "sentence_list_cv = []\n",
    "for sentence in x_cv:\n",
    "    sentence_list_cv.append(sentence.split())"
   ]
  },
  {
   "cell_type": "code",
   "execution_count": 39,
   "metadata": {},
   "outputs": [],
   "source": [
    "sentence_list_test = []\n",
    "for sentence in x_test:\n",
    "    sentence_list_test.append(sentence.split())"
   ]
  },
  {
   "cell_type": "code",
   "execution_count": 40,
   "metadata": {},
   "outputs": [
    {
     "name": "stdout",
     "output_type": "stream",
     "text": [
      "<class 'gensim.models.word2vec.Word2Vec'>\n"
     ]
    }
   ],
   "source": [
    "# Train your own Word2Vec model using your own train text corpus \n",
    "\n",
    "w2v_train_model = Word2Vec(sentence_list, min_count=5, size=50, workers=4)          # Considers only those words that occured atleast 5 times\n",
    "print(type(w2v_train_model))"
   ]
  },
  {
   "cell_type": "code",
   "execution_count": 41,
   "metadata": {},
   "outputs": [
    {
     "name": "stdout",
     "output_type": "stream",
     "text": [
      "The number of words that occured minimum 5 times: 16314\n",
      "These are the sample words from index 0 to 50:/n ['whole', 'famili', 'love', 'jerki', 'tender', 'wonder', 'flavor', 'plan', 'keep', 'sever', 'bag', 'hand', 'last', 'minut', 'gift', 'best', 'cracker', 'ever', 'tast', 'made', 'butter', 'english', 'compani', 'also', 'make', 'water', 'wheat', 'given', 'along', 'french', 'chees', 'surpris', 'good', 'oval', 'larg', 'break', 'piec', 'put', 'whatev', 'like', 'excel', 'perfect', 'background', 'interfer', 'top', 'great', 'one', 'favorit', 'way', 'eat']\n"
     ]
    }
   ],
   "source": [
    "w2v_words = list(w2v_train_model.wv.vocab)\n",
    "print(\"The number of words that occured minimum 5 times:\", len(w2v_words))\n",
    "print(\"These are the sample words from index 0 to 50:/n\", w2v_words[0:50])"
   ]
  },
  {
   "cell_type": "markdown",
   "metadata": {},
   "source": [
    "### 5.4 Average Word2Vec"
   ]
  },
  {
   "cell_type": "code",
   "execution_count": 42,
   "metadata": {},
   "outputs": [
    {
     "name": "stderr",
     "output_type": "stream",
     "text": [
      "100%|██████████| 191168/191168 [00:22<00:00, 8674.52it/s]\n"
     ]
    }
   ],
   "source": [
    "avg_train_vector = []                         # Average w2v for each review/sentence is stored in this array\n",
    "for sentence in tqdm(sentence_list):          # For each sentence/review\n",
    "    sentence_vector = np.zeros(50)            # As word vectors are of zero length\n",
    "    count_words = 0                           # Num of words with a valid vector in a sentence/review\n",
    "    for word in sentence:\n",
    "        try:\n",
    "            vect = w2v_train_model.wv[word]\n",
    "            sentence_vector += vect\n",
    "            count_words += 1\n",
    "        except:\n",
    "            pass\n",
    "    if count_words != 0:\n",
    "        sentence_vector /= count_words\n",
    "    avg_train_vector.append(sentence_vector)\n",
    "avg_train_vector = np.array(avg_train_vector)"
   ]
  },
  {
   "cell_type": "code",
   "execution_count": 43,
   "metadata": {},
   "outputs": [
    {
     "name": "stdout",
     "output_type": "stream",
     "text": [
      "(191168, 50)\n",
      "[-0.57527411  0.42825057 -1.35049552  0.20452343 -0.35911884 -1.45044472\n",
      "  1.0849341   0.51102698 -1.06160346 -0.20090812  0.02794901 -0.85689317\n",
      " -0.27523283  0.55358428 -0.17980464  0.21554652 -0.53138368 -0.29003145\n",
      "  0.24540532  0.05768674 -0.26382949 -1.02637844 -0.24406199  0.27483706\n",
      " -0.40157924 -0.13711834 -0.62798274 -0.27209253  1.39489218  1.44716302\n",
      " -0.51723371 -0.60757087  0.28708753  0.20975042 -0.27978154  0.80874302\n",
      "  0.00157003  0.64039747 -0.43490545  0.63699134 -0.205429   -0.95098598\n",
      "  0.23814236 -0.33356692 -0.53533012 -0.16609469  1.13160052 -1.10665832\n",
      "  0.52985088  0.58324567]\n"
     ]
    }
   ],
   "source": [
    "print(avg_train_vector.shape)\n",
    "print(avg_train_vector[0])"
   ]
  },
  {
   "cell_type": "code",
   "execution_count": 44,
   "metadata": {},
   "outputs": [
    {
     "name": "stderr",
     "output_type": "stream",
     "text": [
      "100%|██████████| 81930/81930 [00:09<00:00, 9006.66it/s]\n"
     ]
    }
   ],
   "source": [
    "avg_cv_vector = []                            # Average w2v for each review/sentence is stored in this array\n",
    "for sentence in tqdm(sentence_list_cv):       # For each sentence/review\n",
    "    sentence_vector = np.zeros(50)            # As word vectors are of zero length\n",
    "    count_words = 0                           # Num of words with a valid vector in a sentence/review\n",
    "    for word in sentence:\n",
    "        try:\n",
    "            vect = w2v_train_model.wv[word]\n",
    "            sentence_vector += vect\n",
    "            count_words += 1\n",
    "        except:\n",
    "            pass\n",
    "    if count_words != 0:\n",
    "        sentence_vector /= count_words\n",
    "    avg_cv_vector.append(sentence_vector)\n",
    "avg_cv_vector = np.array(avg_cv_vector)"
   ]
  },
  {
   "cell_type": "code",
   "execution_count": 45,
   "metadata": {},
   "outputs": [
    {
     "name": "stdout",
     "output_type": "stream",
     "text": [
      "(81930, 50)\n",
      "[ 0.39642103 -0.86155834 -0.89995235 -0.53396405 -0.05809186  0.12797474\n",
      "  0.12553676 -0.18919901 -0.40989741  0.53316578  0.21294884  0.39867877\n",
      " -0.75900611 -0.2294215  -0.29151854 -0.08535062 -1.22582833 -0.51977716\n",
      " -0.1531111   1.01656733 -0.0140349  -0.69638113 -0.36107527  0.32689304\n",
      "  0.25863698  0.03667109 -0.21103886  0.24071915  1.09214042  0.62657342\n",
      " -0.23910586 -0.19025245  0.56502668  0.16885213 -0.30547112 -0.67216288\n",
      "  1.35583505  0.03278429  0.54281421 -0.18690807 -0.63602953  0.67354958\n",
      "  0.38154226 -0.15345209 -0.27957532  0.1994752   0.03276127 -0.61800881\n",
      "  1.36942427 -0.06334605]\n"
     ]
    }
   ],
   "source": [
    "print(avg_cv_vector.shape)\n",
    "print(avg_cv_vector[0])"
   ]
  },
  {
   "cell_type": "code",
   "execution_count": 46,
   "metadata": {},
   "outputs": [
    {
     "name": "stderr",
     "output_type": "stream",
     "text": [
      "100%|██████████| 91033/91033 [00:10<00:00, 9051.87it/s]\n"
     ]
    }
   ],
   "source": [
    "avg_test_vector = []                          # Average w2v for each review/sentence is stored in this array\n",
    "for sentence in tqdm(sentence_list_test):     # For each sentence/review\n",
    "    sentence_vector = np.zeros(50)            # As word vectors are of zero length\n",
    "    count_words = 0                           # Num of words with a valid vector in a sentence/review\n",
    "    for word in sentence:\n",
    "        try:\n",
    "            vect = w2v_train_model.wv[word]\n",
    "            sentence_vector += vect\n",
    "            count_words += 1\n",
    "        except:\n",
    "            pass\n",
    "    if count_words != 0:\n",
    "        sentence_vector /= count_words\n",
    "    avg_test_vector.append(sentence_vector)\n",
    "avg_test_vector = np.array(avg_test_vector)"
   ]
  },
  {
   "cell_type": "code",
   "execution_count": 47,
   "metadata": {},
   "outputs": [
    {
     "name": "stdout",
     "output_type": "stream",
     "text": [
      "(91033, 50)\n",
      "[ 0.39855654 -0.2938176  -0.48692744 -1.00739682 -0.58863578 -0.32525966\n",
      "  0.05923839 -0.24877117 -1.61767277 -0.33079888  0.30040573  0.4068658\n",
      " -0.34202942  0.81482778 -0.67633866  0.65952736 -1.36284186  0.32928445\n",
      "  0.54805195 -0.41563322 -0.3906946  -0.77827304  0.49351467  0.02381737\n",
      " -0.60414652 -0.22324891  0.2868745   0.01445214  0.19476451  0.35099076\n",
      " -0.2025086  -0.39899107  1.06416512 -1.11677125 -0.17171518  0.18649691\n",
      " -0.06000366  0.44398653 -0.85559335 -0.01649879  0.10622916  0.34329716\n",
      " -0.09618247  0.19850877 -0.82627322 -0.48253831 -0.25728415 -0.70758643\n",
      "  1.16266891  0.19045654]\n"
     ]
    }
   ],
   "source": [
    "print(avg_test_vector.shape)\n",
    "print(avg_test_vector[0])"
   ]
  },
  {
   "cell_type": "code",
   "execution_count": 48,
   "metadata": {},
   "outputs": [],
   "source": [
    "x_train_avgw2v = avg_train_vector\n",
    "x_cv_avgw2v = avg_cv_vector\n",
    "x_test_avgw2v = avg_test_vector"
   ]
  },
  {
   "cell_type": "code",
   "execution_count": 49,
   "metadata": {},
   "outputs": [
    {
     "name": "stdout",
     "output_type": "stream",
     "text": [
      "The shape of the training data is: (191168, 50) (191168,)\n",
      "The shape of the CV data is: (81930, 50) (81930,)\n",
      "The shape of the test data is: (91033, 50) (91033,)\n"
     ]
    }
   ],
   "source": [
    "print(\"The shape of the training data is:\", x_train_avgw2v.shape, y_train.shape)\n",
    "print(\"The shape of the CV data is:\", x_cv_avgw2v.shape, y_cv.shape)\n",
    "print(\"The shape of the test data is:\", x_test_avgw2v.shape, y_test.shape)"
   ]
  },
  {
   "cell_type": "markdown",
   "metadata": {},
   "source": [
    "### 5.5 TF-IDF Weighed Word2Vec"
   ]
  },
  {
   "cell_type": "code",
   "execution_count": 50,
   "metadata": {},
   "outputs": [],
   "source": [
    "from sklearn.feature_extraction.text import TfidfVectorizer"
   ]
  },
  {
   "cell_type": "code",
   "execution_count": 51,
   "metadata": {},
   "outputs": [],
   "source": [
    "tfidf_vect = TfidfVectorizer(ngram_range=(1,2), min_df=10, max_features=500)\n",
    "tfidf_vect.fit_transform(x_train)\n",
    "tfidf_feat = tfidf_vect.get_feature_names()\n",
    "dictionary = dict(zip(tfidf_feat, list(tfidf_vect.idf_)))"
   ]
  },
  {
   "cell_type": "code",
   "execution_count": 52,
   "metadata": {},
   "outputs": [
    {
     "name": "stderr",
     "output_type": "stream",
     "text": [
      "100%|██████████| 191168/191168 [00:59<00:00, 3192.15it/s]\n"
     ]
    }
   ],
   "source": [
    "tfidf_train_vector = []                         # Average w2v for each review/sentence is stored in this array\n",
    "for sentence in tqdm(sentence_list):            # For each sentence/review\n",
    "    sentence_vector = np.zeros(50)              # As word vectors are of zero length\n",
    "    weight_sum = 0                              # Num of words with a valid vector in a sentence/review\n",
    "    for word in sentence:\n",
    "        try:\n",
    "            vect = w2v_train_model.wv[word]\n",
    "            tfidf_weight = dictionary[word]*(sentence.count(word)/len(sentence))\n",
    "            sentence_vector += (vect*tfidf_weight)\n",
    "            weight_sum += tfidf_weight\n",
    "        except:\n",
    "            pass\n",
    "    if weight_sum != 0:\n",
    "        sentence_vector /= weight_sum\n",
    "    tfidf_train_vector.append(sentence_vector)\n",
    "tfidf_train_vector = np.array(tfidf_train_vector)"
   ]
  },
  {
   "cell_type": "code",
   "execution_count": 53,
   "metadata": {},
   "outputs": [
    {
     "name": "stdout",
     "output_type": "stream",
     "text": [
      "(191168, 50)\n",
      "[-5.73395569e-01  5.83271829e-01 -1.23074571e+00 -4.32296700e-02\n",
      " -2.47918509e-01 -1.69149088e+00  1.07541454e+00  8.41069635e-01\n",
      " -4.14633364e-01 -2.36605023e-01 -1.05897879e-01 -1.34161121e+00\n",
      " -1.68416352e-01  7.98658498e-01 -3.65796486e-01  4.78672491e-01\n",
      " -9.78918345e-01 -4.16708815e-01  2.33528654e-01  1.29230224e-03\n",
      " -3.78427117e-01 -1.20492971e+00 -6.43138074e-01  2.94074957e-01\n",
      " -1.49339356e-01 -4.88582326e-01 -2.42531617e-01 -3.94180954e-03\n",
      "  1.21552402e+00  1.95628584e+00 -4.23956684e-01 -3.84807453e-01\n",
      "  1.58969697e-03 -2.40838270e-01 -3.57553599e-01  8.91087734e-01\n",
      " -3.11044704e-02  6.54716075e-01 -7.70603125e-01  7.00150417e-01\n",
      " -5.16646624e-01 -1.07024224e+00  5.13832115e-01 -6.11969708e-01\n",
      " -2.75545090e-01 -1.17678790e-03  9.33866888e-01 -1.28836200e+00\n",
      "  9.79628986e-01  8.94144022e-01]\n"
     ]
    }
   ],
   "source": [
    "print(tfidf_train_vector.shape)\n",
    "print(tfidf_train_vector[0])"
   ]
  },
  {
   "cell_type": "code",
   "execution_count": 54,
   "metadata": {},
   "outputs": [
    {
     "name": "stderr",
     "output_type": "stream",
     "text": [
      "100%|██████████| 81930/81930 [00:25<00:00, 3196.04it/s]\n"
     ]
    }
   ],
   "source": [
    "tfidf_cv_vector = []                            # Average w2v for each review/sentence is stored in this array\n",
    "for sentence in tqdm(sentence_list_cv):         # For each sentence/review\n",
    "    sentence_vector = np.zeros(50)              # As word vectors are of zero length\n",
    "    weight_sum = 0                              # Num of words with a valid vector in a sentence/review\n",
    "    for word in sentence:\n",
    "        try:\n",
    "            vect = w2v_train_model.wv[word]\n",
    "            tfidf_weight = dictionary[word]*(sentence.count(word)/len(sentence))\n",
    "            sentence_vector += (vect*tfidf_weight)\n",
    "            weight_sum += tfidf_weight\n",
    "        except:\n",
    "            pass\n",
    "    if weight_sum != 0:\n",
    "        sentence_vector /= weight_sum\n",
    "    tfidf_cv_vector.append(sentence_vector)\n",
    "tfidf_cv_vector = np.array(tfidf_cv_vector)"
   ]
  },
  {
   "cell_type": "code",
   "execution_count": 55,
   "metadata": {},
   "outputs": [
    {
     "name": "stdout",
     "output_type": "stream",
     "text": [
      "(81930, 50)\n",
      "[ 0.20034543 -1.83734382 -1.38827275 -0.89266891  0.39921956  0.09094225\n",
      " -0.21517734 -0.32739497 -0.8691628   0.55343469  0.63367002  0.5737819\n",
      " -1.2329975  -0.60962331 -0.85561823 -0.10038432 -1.66885498 -0.60822043\n",
      " -0.12038802  1.32594677 -0.04487714 -0.23811035 -0.37947956  0.29144595\n",
      "  1.0375183  -0.32643868 -0.23540843  0.44361517  1.62349383  0.47111853\n",
      "  0.26869176 -0.43623176  0.96285461  0.08815667 -0.13819599 -0.61649199\n",
      "  1.54301816  0.17572845  0.39610118 -0.03821713 -0.14175572  1.46564877\n",
      "  0.94854181 -0.25361266 -0.8812158   0.18902984 -0.68999473 -0.23835507\n",
      "  1.50280769 -0.06289027]\n"
     ]
    }
   ],
   "source": [
    "print(tfidf_cv_vector.shape)\n",
    "print(tfidf_cv_vector[0])"
   ]
  },
  {
   "cell_type": "code",
   "execution_count": 56,
   "metadata": {},
   "outputs": [
    {
     "name": "stderr",
     "output_type": "stream",
     "text": [
      "100%|██████████| 91033/91033 [00:21<00:00, 4268.57it/s]\n"
     ]
    }
   ],
   "source": [
    "tfidf_test_vector = []                          # Average w2v for each review/sentence is stored in this array\n",
    "for sentence in tqdm(sentence_list_test):       # For each sentence/review\n",
    "    sentence_vector = np.zeros(50)              # As word vectors are of zero length\n",
    "    weight_sum = 0                              # Num of words with a valid vector in a sentence/review\n",
    "    for word in sentence:\n",
    "        try:\n",
    "            vect = w2v_train_model.wv[word]\n",
    "            tfidf_weight = dictionary[word]*(sentence.count(word)/len(sentence))\n",
    "            sentence_vector += (vect*tfidf_weight)\n",
    "            weight_sum += tfidf_weight\n",
    "        except:\n",
    "            pass\n",
    "    if weight_sum != 0:\n",
    "        sentence_vector /= weight_sum\n",
    "    tfidf_test_vector.append(sentence_vector)\n",
    "tfidf_test_vector = np.array(tfidf_test_vector)"
   ]
  },
  {
   "cell_type": "code",
   "execution_count": 57,
   "metadata": {},
   "outputs": [
    {
     "name": "stdout",
     "output_type": "stream",
     "text": [
      "(91033, 50)\n",
      "[ 0.64025062 -0.39223722 -0.78106054 -1.04140825 -0.57741028 -1.12492907\n",
      " -0.01400693 -0.09716229 -1.7919371  -0.38928902  0.07293793  0.70913608\n",
      " -0.07492695  0.96214257 -0.59967092  0.72783876 -1.27272474  0.48845802\n",
      "  0.58783431 -0.54361532 -0.3023194  -1.10240465  0.09086265 -0.2356218\n",
      " -0.63328244 -0.30195156  0.54778335  0.03304381  0.07942919  0.04139771\n",
      " -0.36926425 -0.2958212   1.36373464 -0.91162712 -0.42800596 -0.04699701\n",
      "  0.24119972  0.4634963  -0.79304071 -0.02295812  0.28174184  0.25544259\n",
      "  0.16520403  0.41203129 -1.26378077 -0.46020683 -0.07360141 -1.04119192\n",
      "  1.25117593  0.18186415]\n"
     ]
    }
   ],
   "source": [
    "print(tfidf_test_vector.shape)\n",
    "print(tfidf_test_vector[0])"
   ]
  },
  {
   "cell_type": "code",
   "execution_count": 58,
   "metadata": {},
   "outputs": [],
   "source": [
    "x_train_tfidfw2v = tfidf_train_vector\n",
    "x_cv_tfidfw2v = tfidf_cv_vector\n",
    "x_test_tfidfw2v = tfidf_test_vector"
   ]
  },
  {
   "cell_type": "code",
   "execution_count": 59,
   "metadata": {},
   "outputs": [
    {
     "name": "stdout",
     "output_type": "stream",
     "text": [
      "The shape of the training data is: (191168, 50) (191168,)\n",
      "The shape of the CV data is: (81930, 50) (81930,)\n",
      "The shape of the test data is: (91033, 50) (91033,)\n"
     ]
    }
   ],
   "source": [
    "print(\"The shape of the training data is:\", x_train_tfidfw2v.shape, y_train.shape)\n",
    "print(\"The shape of the CV data is:\", x_cv_tfidfw2v.shape, y_cv.shape)\n",
    "print(\"The shape of the test data is:\", x_test_tfidfw2v.shape, y_test.shape)"
   ]
  },
  {
   "cell_type": "markdown",
   "metadata": {},
   "source": [
    "# 6. Applying Multinomial Naive Baye's Classifier on Our Model"
   ]
  },
  {
   "cell_type": "markdown",
   "metadata": {},
   "source": [
    "### 6.1 Bag of Words (BoW)"
   ]
  },
  {
   "cell_type": "markdown",
   "metadata": {},
   "source": [
    "##### 6.1.1 BoW Multinomial Naive Baye's on Train Data"
   ]
  },
  {
   "cell_type": "code",
   "execution_count": 60,
   "metadata": {},
   "outputs": [
    {
     "name": "stdout",
     "output_type": "stream",
     "text": [
      "FOR α = 10\n",
      "The accuracy of the model is: 84.08641523251556\n",
      "The f1_score of the model is: 45.799186767086866\n",
      "The precision_score of the model is: 92.04165344141417\n",
      "The recall_score of the model is: 50.0612838976559\n",
      "========================================================================================================================\n",
      "FOR α = 5\n",
      "The accuracy of the model is: 84.20969119980471\n",
      "The f1_score of the model is: 46.595699320470885\n",
      "The precision_score of the model is: 92.09355481402712\n",
      "The recall_score of the model is: 50.448138501608696\n",
      "========================================================================================================================\n",
      "FOR α = 1\n",
      "The accuracy of the model is: 88.54876113755645\n",
      "The f1_score of the model is: 69.72994074226985\n",
      "The precision_score of the model is: 90.62221524118056\n",
      "The recall_score of the model is: 65.00215351381463\n",
      "========================================================================================================================\n",
      "FOR α = 0.5\n",
      "The accuracy of the model is: 90.98986940070792\n",
      "The f1_score of the model is: 79.6093823274742\n",
      "The precision_score of the model is: 89.19414087305577\n",
      "The recall_score of the model is: 74.82323444677522\n",
      "========================================================================================================================\n",
      "FOR α = 0.1\n",
      "The accuracy of the model is: 91.67948248504821\n",
      "The f1_score of the model is: 83.11933868391796\n",
      "The precision_score of the model is: 86.53372956611561\n",
      "The recall_score of the model is: 80.55726861273502\n",
      "========================================================================================================================\n",
      "FOR α = 0.05\n",
      "The accuracy of the model is: 91.40485780544367\n",
      "The f1_score of the model is: 82.29968367778179\n",
      "The precision_score of the model is: 86.38573688160385\n",
      "The recall_score of the model is: 79.39434657289804\n",
      "========================================================================================================================\n",
      "FOR α = 0.01\n",
      "The accuracy of the model is: 90.51507384352496\n",
      "The f1_score of the model is: 79.22234621557152\n",
      "The precision_score of the model is: 86.38081710372312\n",
      "The recall_score of the model is: 75.18964188060917\n",
      "========================================================================================================================\n",
      "FOR α = 0.005\n",
      "The accuracy of the model is: 90.09154155986818\n",
      "The f1_score of the model is: 77.74696379105708\n",
      "The precision_score of the model is: 86.21703110356258\n",
      "The recall_score of the model is: 73.43525806792913\n",
      "========================================================================================================================\n",
      "FOR α = 0.001\n",
      "The accuracy of the model is: 89.23227145123886\n",
      "The f1_score of the model is: 74.64262680723152\n",
      "The precision_score of the model is: 85.68541442730233\n",
      "The recall_score of the model is: 70.08686329168114\n",
      "========================================================================================================================\n",
      "FOR α = 0.0005\n",
      "The accuracy of the model is: 88.9686317588185\n",
      "The f1_score of the model is: 73.62739520263713\n",
      "The precision_score of the model is: 85.51986042440414\n",
      "The recall_score of the model is: 69.06395968950999\n",
      "========================================================================================================================\n",
      "FOR α = 0.0001\n",
      "The accuracy of the model is: 88.36079580129379\n",
      "The f1_score of the model is: 71.23945753699002\n",
      "The precision_score of the model is: 84.98452638992985\n",
      "The recall_score of the model is: 66.80260802330218\n",
      "========================================================================================================================\n",
      "FOR α = 5e-05\n",
      "The accuracy of the model is: 88.15452215305748\n",
      "The f1_score of the model is: 70.41665391582818\n",
      "The precision_score of the model is: 84.74297584734299\n",
      "The recall_score of the model is: 66.06527211572958\n",
      "========================================================================================================================\n",
      "FOR α = 1e-05\n",
      "The accuracy of the model is: 87.73709264005859\n",
      "The f1_score of the model is: 68.74649272800349\n",
      "The precision_score of the model is: 84.12243399289306\n",
      "The recall_score of the model is: 64.62805244878757\n",
      "========================================================================================================================\n",
      "FOR α = 5e-06\n",
      "The accuracy of the model is: 87.5601122909801\n",
      "The f1_score of the model is: 68.0236844305129\n",
      "The precision_score of the model is: 83.82530066579157\n",
      "The recall_score of the model is: 64.02610260632473\n",
      "========================================================================================================================\n",
      "FOR α = 1e-06\n",
      "The accuracy of the model is: 87.28914927377029\n",
      "The f1_score of the model is: 66.8877688038508\n",
      "The precision_score of the model is: 83.34652676247399\n",
      "The recall_score of the model is: 63.1012852944191\n",
      "========================================================================================================================\n"
     ]
    },
    {
     "data": {
      "image/png": "[encoded data removed]",
      "text/plain": [
       "<Figure size 432x288 with 1 Axes>"
      ]
     },
     "metadata": {
      "needs_background": "light"
     },
     "output_type": "display_data"
    }
   ],
   "source": [
    "# Find the optimal value of alpha\n",
    "# This may take several minutes(even hour/s) to run\n",
    "\n",
    "nb_train(x_train_bow, x_cv_bow, y_train, y_cv, algo='Multinomial')"
   ]
  },
  {
   "cell_type": "markdown",
   "metadata": {},
   "source": [
    "##### 6.1.2 BoW Multinomial Naive Baye's on Test Data"
   ]
  },
  {
   "cell_type": "code",
   "execution_count": 61,
   "metadata": {},
   "outputs": [
    {
     "name": "stdout",
     "output_type": "stream",
     "text": [
      "The accuracy of the model is: 91.75353992508212\n",
      "The macro f1_score of the model is: 83.16324615602771\n",
      "The micro f1_score of the model is: 91.75353992508211\n",
      "The precision_score of the model is: 86.46401849022604\n",
      "The recall_score of the model is: 80.66173468550724\n",
      "The precision recall report for data:\n",
      "               precision    recall  f1-score   support\n",
      "\n",
      "    Negative       0.79      0.64      0.71     14351\n",
      "    Positive       0.94      0.97      0.95     76682\n",
      "\n",
      "    accuracy                           0.92     91033\n",
      "   macro avg       0.86      0.81      0.83     91033\n",
      "weighted avg       0.91      0.92      0.91     91033\n",
      "\n"
     ]
    },
    {
     "data": {
      "image/png": "[encoded data removed]",
      "text/plain": [
       "<Figure size 432x288 with 2 Axes>"
      ]
     },
     "metadata": {
      "needs_background": "light"
     },
     "output_type": "display_data"
    }
   ],
   "source": [
    "# Testing the final model\n",
    "\n",
    "nb_test(x_train_bow, y_train, x_test_bow, y_test, optimal_alpha=0.1, algo='Multinomial')"
   ]
  },
  {
   "cell_type": "markdown",
   "metadata": {},
   "source": [
    "### 6.2 Term Frequency - Inverse Document Frequency (tf-idf)"
   ]
  },
  {
   "cell_type": "markdown",
   "metadata": {},
   "source": [
    "##### 6.2.1 TF-IDF Multinomial Naive Baye's on Train Data"
   ]
  },
  {
   "cell_type": "code",
   "execution_count": 62,
   "metadata": {},
   "outputs": [
    {
     "name": "stdout",
     "output_type": "stream",
     "text": [
      "FOR α = 10\n",
      "The accuracy of the model is: 84.06688636641036\n",
      "The f1_score of the model is: 45.67192286779041\n",
      "The precision_score of the model is: 42.03344318320518\n",
      "The recall_score of the model is: 50.0\n",
      "========================================================================================================================\n",
      "FOR α = 5\n",
      "The accuracy of the model is: 84.06688636641036\n",
      "The f1_score of the model is: 45.67192286779041\n",
      "The precision_score of the model is: 42.03344318320518\n",
      "The recall_score of the model is: 50.0\n",
      "========================================================================================================================\n",
      "FOR α = 1\n",
      "The accuracy of the model is: 84.07909190772611\n",
      "The f1_score of the model is: 45.75149782415315\n",
      "The precision_score of the model is: 92.03857421875\n",
      "The recall_score of the model is: 50.03830243603493\n",
      "========================================================================================================================\n",
      "FOR α = 0.5\n",
      "The accuracy of the model is: 84.17185402172586\n",
      "The f1_score of the model is: 46.352473121406895\n",
      "The precision_score of the model is: 92.07761106495283\n",
      "The recall_score of the model is: 50.32940094990042\n",
      "========================================================================================================================\n",
      "FOR α = 0.1\n",
      "The accuracy of the model is: 87.17441718540218\n",
      "The f1_score of the model is: 63.36799633419405\n",
      "The precision_score of the model is: 90.95414047792553\n",
      "The recall_score of the model is: 60.18950670208325\n",
      "========================================================================================================================\n",
      "FOR α = 0.05\n",
      "The accuracy of the model is: 89.08336384718663\n",
      "The f1_score of the model is: 71.95290666609509\n",
      "The precision_score of the model is: 90.64029136477771\n",
      "The recall_score of the model is: 66.88468409995255\n",
      "========================================================================================================================\n",
      "FOR α = 0.01\n",
      "The accuracy of the model is: 89.81813743439521\n",
      "The f1_score of the model is: 75.35933009225595\n",
      "The precision_score of the model is: 89.22230765691181\n",
      "The recall_score of the model is: 70.22732739361663\n",
      "========================================================================================================================\n",
      "FOR α = 0.005\n",
      "The accuracy of the model is: 89.47516172342243\n",
      "The f1_score of the model is: 74.22897529278885\n",
      "The precision_score of the model is: 88.70837699302703\n",
      "The recall_score of the model is: 69.18828055700013\n",
      "========================================================================================================================\n",
      "FOR α = 0.001\n",
      "The accuracy of the model is: 88.57561332845111\n",
      "The f1_score of the model is: 70.87367618162199\n",
      "The precision_score of the model is: 87.79720081668071\n",
      "The recall_score of the model is: 66.18223724273071\n",
      "========================================================================================================================\n",
      "FOR α = 0.0005\n",
      "The accuracy of the model is: 88.21677041376785\n",
      "The f1_score of the model is: 69.48987722446292\n",
      "The precision_score of the model is: 87.29908011282832\n",
      "The recall_score of the model is: 65.02199830866905\n",
      "========================================================================================================================\n",
      "FOR α = 0.0001\n",
      "The accuracy of the model is: 87.61381667276945\n",
      "The f1_score of the model is: 67.0673361626655\n",
      "The precision_score of the model is: 86.33478074808048\n",
      "The recall_score of the model is: 63.08018914725666\n",
      "========================================================================================================================\n",
      "FOR α = 5e-05\n",
      "The accuracy of the model is: 87.40632247040156\n",
      "The f1_score of the model is: 66.23837031524924\n",
      "The precision_score of the model is: 85.8773848754711\n",
      "The recall_score of the model is: 62.44456924131494\n",
      "========================================================================================================================\n",
      "FOR α = 1e-05\n",
      "The accuracy of the model is: 87.02550958134994\n",
      "The f1_score of the model is: 64.65197386917701\n",
      "The precision_score of the model is: 85.0172567290676\n",
      "The recall_score of the model is: 61.2557418396859\n",
      "========================================================================================================================\n",
      "FOR α = 5e-06\n",
      "The accuracy of the model is: 86.91810081777128\n",
      "The f1_score of the model is: 64.19250825330131\n",
      "The precision_score of the model is: 84.75850579626537\n",
      "The recall_score of the model is: 60.91868040257851\n",
      "========================================================================================================================\n",
      "FOR α = 1e-06\n",
      "The accuracy of the model is: 86.70084218235078\n",
      "The f1_score of the model is: 63.27288932468256\n",
      "The precision_score of the model is: 84.15046021267707\n",
      "The recall_score of the model is: 60.25552284913927\n",
      "========================================================================================================================\n"
     ]
    },
    {
     "data": {
      "image/png": "[encoded data removed]",
      "text/plain": [
       "<Figure size 432x288 with 1 Axes>"
      ]
     },
     "metadata": {
      "needs_background": "light"
     },
     "output_type": "display_data"
    }
   ],
   "source": [
    "# Find the optimal value of alpha\n",
    "# This may take several minutes to run\n",
    "\n",
    "nb_train(x_train_tfidf, x_cv_tfidf, y_train, y_cv, algo='Multinomial')"
   ]
  },
  {
   "cell_type": "markdown",
   "metadata": {},
   "source": [
    "##### 6.2.2 TF-IDF Multinomial Naive Baye's on Test Data"
   ]
  },
  {
   "cell_type": "code",
   "execution_count": 63,
   "metadata": {},
   "outputs": [
    {
     "name": "stdout",
     "output_type": "stream",
     "text": [
      "The accuracy of the model is: 89.94210890556172\n",
      "The macro f1_score of the model is: 75.40249092395051\n",
      "The micro f1_score of the model is: 89.94210890556172\n",
      "The precision_score of the model is: 89.42060846259126\n",
      "The recall_score of the model is: 70.22097764812314\n",
      "The precision recall report for data:\n",
      "               precision    recall  f1-score   support\n",
      "\n",
      "    Negative       0.89      0.41      0.56     14351\n",
      "    Positive       0.90      0.99      0.94     76682\n",
      "\n",
      "    accuracy                           0.90     91033\n",
      "   macro avg       0.89      0.70      0.75     91033\n",
      "weighted avg       0.90      0.90      0.88     91033\n",
      "\n"
     ]
    },
    {
     "data": {
      "image/png": "[encoded data removed]",
      "text/plain": [
       "<Figure size 432x288 with 2 Axes>"
      ]
     },
     "metadata": {
      "needs_background": "light"
     },
     "output_type": "display_data"
    }
   ],
   "source": [
    "# Testing the final model\n",
    "\n",
    "nb_test(x_train_tfidf, y_train, x_test_tfidf, y_test, optimal_alpha=0.01, algo='Multinomial')"
   ]
  },
  {
   "cell_type": "markdown",
   "metadata": {},
   "source": [
    "#### Word2vec cannot be trained with Multinominal Naive Baye's algorithm because Word2Vec consists of an array of both negative and positive values and Multinomial Naive Baye's can only take positive values as input (i.e. negative input values are strictly prohibited)."
   ]
  },
  {
   "cell_type": "markdown",
   "metadata": {},
   "source": [
    "# 7. Applying Bernoulli Naive Baye's Classifier on Our Model"
   ]
  },
  {
   "cell_type": "markdown",
   "metadata": {},
   "source": [
    "### 7.1 Bag of Words (BoW)"
   ]
  },
  {
   "cell_type": "markdown",
   "metadata": {},
   "source": [
    "##### 7.1.1 BoW Bernoulli Naive Baye's on Train Data"
   ]
  },
  {
   "cell_type": "code",
   "execution_count": 67,
   "metadata": {},
   "outputs": [
    {
     "name": "stdout",
     "output_type": "stream",
     "text": [
      "FOR α = 10\n",
      "The accuracy of the model is: 84.06322470401562\n",
      "The f1_score of the model is: 45.708819329228945\n",
      "The precision_score of the model is: 61.26600001314652\n",
      "The recall_score of the model is: 50.0133436798329\n",
      "========================================================================================================================\n",
      "FOR α = 5\n",
      "The accuracy of the model is: 84.06322470401562\n",
      "The f1_score of the model is: 45.988039708478425\n",
      "The precision_score of the model is: 66.1885645645342\n",
      "The recall_score of the model is: 50.128202829058544\n",
      "========================================================================================================================\n",
      "FOR α = 1\n",
      "The accuracy of the model is: 84.73208836811914\n",
      "The f1_score of the model is: 53.54107604883005\n",
      "The precision_score of the model is: 75.38207043775739\n",
      "The recall_score of the model is: 53.950063562157425\n",
      "========================================================================================================================\n",
      "FOR α = 0.5\n",
      "The accuracy of the model is: 86.81191260832418\n",
      "The f1_score of the model is: 65.1971964851577\n",
      "The precision_score of the model is: 81.75165030072498\n",
      "The recall_score of the model is: 61.81164823459159\n",
      "========================================================================================================================\n",
      "FOR α = 0.1\n",
      "The accuracy of the model is: 90.80434517270841\n",
      "The f1_score of the model is: 79.77542703392932\n",
      "The precision_score of the model is: 87.32832074652161\n",
      "The recall_score of the model is: 75.57278268979562\n",
      "========================================================================================================================\n",
      "FOR α = 0.05\n",
      "The accuracy of the model is: 90.99231050897107\n",
      "The f1_score of the model is: 80.20766007327597\n",
      "The precision_score of the model is: 87.79883045282799\n",
      "The recall_score of the model is: 75.96086061825609\n",
      "========================================================================================================================\n",
      "FOR α = 0.01\n",
      "The accuracy of the model is: 90.28560966678873\n",
      "The f1_score of the model is: 77.63683487899935\n",
      "The precision_score of the model is: 87.94231612570489\n",
      "The recall_score of the model is: 72.87394519931516\n",
      "========================================================================================================================\n",
      "FOR α = 0.005\n",
      "The accuracy of the model is: 89.91822287318443\n",
      "The f1_score of the model is: 76.2786865118333\n",
      "The precision_score of the model is: 87.91251219295913\n",
      "The recall_score of the model is: 71.39819453629975\n",
      "========================================================================================================================\n",
      "FOR α = 0.001\n",
      "The accuracy of the model is: 89.10777492981813\n",
      "The f1_score of the model is: 73.25928814077336\n",
      "The precision_score of the model is: 87.4834818015095\n",
      "The recall_score of the model is: 68.41410199466024\n",
      "========================================================================================================================\n",
      "FOR α = 0.0005\n",
      "The accuracy of the model is: 88.80019528866106\n",
      "The f1_score of the model is: 72.08056871463431\n",
      "The precision_score of the model is: 87.23202914696503\n",
      "The recall_score of the model is: 67.3309171560239\n",
      "========================================================================================================================\n",
      "FOR α = 0.0001\n",
      "The accuracy of the model is: 88.20090321005736\n",
      "The f1_score of the model is: 69.67230352394705\n",
      "The precision_score of the model is: 86.70619641319828\n",
      "The recall_score of the model is: 65.2236535495879\n",
      "========================================================================================================================\n",
      "FOR α = 5e-05\n",
      "The accuracy of the model is: 87.96899792505798\n",
      "The f1_score of the model is: 68.76631605302374\n",
      "The precision_score of the model is: 86.33267745917743\n",
      "The recall_score of the model is: 64.47728145694165\n",
      "========================================================================================================================\n",
      "FOR α = 1e-05\n",
      "The accuracy of the model is: 87.57353838642744\n",
      "The f1_score of the model is: 67.16708278383805\n",
      "The precision_score of the model is: 85.66047278727879\n",
      "The recall_score of the model is: 63.19592661211436\n",
      "========================================================================================================================\n",
      "FOR α = 5e-06\n",
      "The accuracy of the model is: 87.44538020261199\n",
      "The f1_score of the model is: 66.61607048178423\n",
      "The precision_score of the model is: 85.46899882295922\n",
      "The recall_score of the model is: 62.76270802044335\n",
      "========================================================================================================================\n",
      "FOR α = 1e-06\n",
      "The accuracy of the model is: 87.18418161845479\n",
      "The f1_score of the model is: 65.5069256795769\n",
      "The precision_score of the model is: 84.9726693483305\n",
      "The recall_score of the model is: 61.91199287599159\n",
      "========================================================================================================================\n"
     ]
    },
    {
     "data": {
      "image/png": "[encoded data removed]",
      "text/plain": [
       "<Figure size 432x288 with 1 Axes>"
      ]
     },
     "metadata": {
      "needs_background": "light"
     },
     "output_type": "display_data"
    }
   ],
   "source": [
    "# Find the optimal value of alpha\n",
    "# This may take several minutes(even hour/s) to run\n",
    "\n",
    "nb_train(x_train_bow, x_cv_bow, y_train, y_cv, algo='Bernoulli')"
   ]
  },
  {
   "cell_type": "markdown",
   "metadata": {},
   "source": [
    "##### 7.1.2 BoW Bernoulli Naive Baye's on Test Data"
   ]
  },
  {
   "cell_type": "code",
   "execution_count": 69,
   "metadata": {},
   "outputs": [
    {
     "name": "stdout",
     "output_type": "stream",
     "text": [
      "The accuracy of the model is: 91.19000801907\n",
      "The macro f1_score of the model is: 80.51869322772833\n",
      "The micro f1_score of the model is: 91.19000801907\n",
      "The precision_score of the model is: 88.00973672293924\n",
      "The recall_score of the model is: 76.2717633070684\n",
      "The precision recall report for data:\n",
      "               precision    recall  f1-score   support\n",
      "\n",
      "    Negative       0.84      0.54      0.66     14351\n",
      "    Positive       0.92      0.98      0.95     76682\n",
      "\n",
      "    accuracy                           0.91     91033\n",
      "   macro avg       0.88      0.76      0.81     91033\n",
      "weighted avg       0.91      0.91      0.90     91033\n",
      "\n"
     ]
    },
    {
     "data": {
      "image/png": "[encoded data removed]",
      "text/plain": [
       "<Figure size 432x288 with 2 Axes>"
      ]
     },
     "metadata": {
      "needs_background": "light"
     },
     "output_type": "display_data"
    }
   ],
   "source": [
    "# Testing the final model\n",
    "\n",
    "nb_test(x_train_bow, y_train, x_test_bow, y_test, optimal_alpha=0.05, algo='Bernoulli')"
   ]
  },
  {
   "cell_type": "markdown",
   "metadata": {},
   "source": [
    "### 7.2 Term Frequency -Inverse Document Frequency (TF-IDF)"
   ]
  },
  {
   "cell_type": "markdown",
   "metadata": {},
   "source": [
    "##### 7.2.1 TF-IDF Bernoulli Naive Baye's on Train Data"
   ]
  },
  {
   "cell_type": "code",
   "execution_count": 70,
   "metadata": {},
   "outputs": [
    {
     "name": "stdout",
     "output_type": "stream",
     "text": [
      "FOR α = 10\n",
      "The accuracy of the model is: 84.06322470401562\n",
      "The f1_score of the model is: 45.708819329228945\n",
      "The precision_score of the model is: 61.26600001314652\n",
      "The recall_score of the model is: 50.0133436798329\n",
      "========================================================================================================================\n",
      "FOR α = 5\n",
      "The accuracy of the model is: 84.06322470401562\n",
      "The f1_score of the model is: 45.988039708478425\n",
      "The precision_score of the model is: 66.1885645645342\n",
      "The recall_score of the model is: 50.128202829058544\n",
      "========================================================================================================================\n",
      "FOR α = 1\n",
      "The accuracy of the model is: 84.73208836811914\n",
      "The f1_score of the model is: 53.54107604883005\n",
      "The precision_score of the model is: 75.38207043775739\n",
      "The recall_score of the model is: 53.950063562157425\n",
      "========================================================================================================================\n",
      "FOR α = 0.5\n",
      "The accuracy of the model is: 86.81191260832418\n",
      "The f1_score of the model is: 65.1971964851577\n",
      "The precision_score of the model is: 81.75165030072498\n",
      "The recall_score of the model is: 61.81164823459159\n",
      "========================================================================================================================\n",
      "FOR α = 0.1\n",
      "The accuracy of the model is: 90.80434517270841\n",
      "The f1_score of the model is: 79.77542703392932\n",
      "The precision_score of the model is: 87.32832074652161\n",
      "The recall_score of the model is: 75.57278268979562\n",
      "========================================================================================================================\n",
      "FOR α = 0.05\n",
      "The accuracy of the model is: 90.99231050897107\n",
      "The f1_score of the model is: 80.20766007327597\n",
      "The precision_score of the model is: 87.79883045282799\n",
      "The recall_score of the model is: 75.96086061825609\n",
      "========================================================================================================================\n",
      "FOR α = 0.01\n",
      "The accuracy of the model is: 90.28560966678873\n",
      "The f1_score of the model is: 77.63683487899935\n",
      "The precision_score of the model is: 87.94231612570489\n",
      "The recall_score of the model is: 72.87394519931516\n",
      "========================================================================================================================\n",
      "FOR α = 0.005\n",
      "The accuracy of the model is: 89.91822287318443\n",
      "The f1_score of the model is: 76.2786865118333\n",
      "The precision_score of the model is: 87.91251219295913\n",
      "The recall_score of the model is: 71.39819453629975\n",
      "========================================================================================================================\n",
      "FOR α = 0.001\n",
      "The accuracy of the model is: 89.10777492981813\n",
      "The f1_score of the model is: 73.25928814077336\n",
      "The precision_score of the model is: 87.4834818015095\n",
      "The recall_score of the model is: 68.41410199466024\n",
      "========================================================================================================================\n",
      "FOR α = 0.0005\n",
      "The accuracy of the model is: 88.80019528866106\n",
      "The f1_score of the model is: 72.08056871463431\n",
      "The precision_score of the model is: 87.23202914696503\n",
      "The recall_score of the model is: 67.3309171560239\n",
      "========================================================================================================================\n",
      "FOR α = 0.0001\n",
      "The accuracy of the model is: 88.20090321005736\n",
      "The f1_score of the model is: 69.67230352394705\n",
      "The precision_score of the model is: 86.70619641319828\n",
      "The recall_score of the model is: 65.2236535495879\n",
      "========================================================================================================================\n",
      "FOR α = 5e-05\n",
      "The accuracy of the model is: 87.96899792505798\n",
      "The f1_score of the model is: 68.76631605302374\n",
      "The precision_score of the model is: 86.33267745917743\n",
      "The recall_score of the model is: 64.47728145694165\n",
      "========================================================================================================================\n",
      "FOR α = 1e-05\n",
      "The accuracy of the model is: 87.57353838642744\n",
      "The f1_score of the model is: 67.16708278383805\n",
      "The precision_score of the model is: 85.66047278727879\n",
      "The recall_score of the model is: 63.19592661211436\n",
      "========================================================================================================================\n",
      "FOR α = 5e-06\n",
      "The accuracy of the model is: 87.44538020261199\n",
      "The f1_score of the model is: 66.61607048178423\n",
      "The precision_score of the model is: 85.46899882295922\n",
      "The recall_score of the model is: 62.76270802044335\n",
      "========================================================================================================================\n",
      "FOR α = 1e-06\n",
      "The accuracy of the model is: 87.18418161845479\n",
      "The f1_score of the model is: 65.5069256795769\n",
      "The precision_score of the model is: 84.9726693483305\n",
      "The recall_score of the model is: 61.91199287599159\n",
      "========================================================================================================================\n"
     ]
    },
    {
     "data": {
      "image/png": "[encoded data removed]",
      "text/plain": [
       "<Figure size 432x288 with 1 Axes>"
      ]
     },
     "metadata": {
      "needs_background": "light"
     },
     "output_type": "display_data"
    }
   ],
   "source": [
    "# Find the optimal value of alpha\n",
    "# This may take several minutes to run\n",
    "\n",
    "nb_train(x_train_tfidf, x_cv_tfidf, y_train, y_cv, algo='Bernoulli')"
   ]
  },
  {
   "cell_type": "markdown",
   "metadata": {},
   "source": [
    "##### 7.2.2 TF-IDF Bernoulli Naive Baye's on Test Data"
   ]
  },
  {
   "cell_type": "code",
   "execution_count": 71,
   "metadata": {},
   "outputs": [
    {
     "name": "stdout",
     "output_type": "stream",
     "text": [
      "The accuracy of the model is: 91.19000801907\n",
      "The macro f1_score of the model is: 80.51869322772833\n",
      "The micro f1_score of the model is: 91.19000801907\n",
      "The precision_score of the model is: 88.00973672293924\n",
      "The recall_score of the model is: 76.2717633070684\n",
      "The precision recall report for data:\n",
      "               precision    recall  f1-score   support\n",
      "\n",
      "    Negative       0.84      0.54      0.66     14351\n",
      "    Positive       0.92      0.98      0.95     76682\n",
      "\n",
      "    accuracy                           0.91     91033\n",
      "   macro avg       0.88      0.76      0.81     91033\n",
      "weighted avg       0.91      0.91      0.90     91033\n",
      "\n"
     ]
    },
    {
     "data": {
      "image/png": "[encoded data removed]",
      "text/plain": [
       "<Figure size 432x288 with 2 Axes>"
      ]
     },
     "metadata": {
      "needs_background": "light"
     },
     "output_type": "display_data"
    }
   ],
   "source": [
    "# Testing the final model\n",
    "\n",
    "nb_test(x_train_tfidf, y_train, x_test_tfidf, y_test, optimal_alpha=0.05, algo='Bernoulli')"
   ]
  },
  {
   "cell_type": "markdown",
   "metadata": {},
   "source": [
    "### 7.3 Average Word2Vec"
   ]
  },
  {
   "cell_type": "markdown",
   "metadata": {},
   "source": [
    "##### 7.3.1 Avg W2V Bernoulli Naive Baye's on Train Data"
   ]
  },
  {
   "cell_type": "code",
   "execution_count": 72,
   "metadata": {},
   "outputs": [
    {
     "name": "stdout",
     "output_type": "stream",
     "text": [
      "FOR α = 10\n",
      "The accuracy of the model is: 84.72476504332967\n",
      "The f1_score of the model is: 69.40330973318511\n",
      "The precision_score of the model is: 71.07311337292582\n",
      "The recall_score of the model is: 68.1447821938726\n",
      "========================================================================================================================\n",
      "FOR α = 5\n",
      "The accuracy of the model is: 84.7284267057244\n",
      "The f1_score of the model is: 69.41593507784883\n",
      "The precision_score of the model is: 71.08187705187434\n",
      "The recall_score of the model is: 68.1593772260135\n",
      "========================================================================================================================\n",
      "FOR α = 1\n",
      "The accuracy of the model is: 84.7284267057244\n",
      "The f1_score of the model is: 69.41593507784883\n",
      "The precision_score of the model is: 71.08187705187434\n",
      "The recall_score of the model is: 68.1593772260135\n",
      "========================================================================================================================\n",
      "FOR α = 0.5\n",
      "The accuracy of the model is: 84.7284267057244\n",
      "The f1_score of the model is: 69.41593507784883\n",
      "The precision_score of the model is: 71.08187705187434\n",
      "The recall_score of the model is: 68.1593772260135\n",
      "========================================================================================================================\n",
      "FOR α = 0.1\n",
      "The accuracy of the model is: 84.72720615159282\n",
      "The f1_score of the model is: 69.41454869749275\n",
      "The precision_score of the model is: 71.07939791043604\n",
      "The recall_score of the model is: 68.15865128374044\n",
      "========================================================================================================================\n",
      "FOR α = 0.05\n",
      "The accuracy of the model is: 84.7284267057244\n",
      "The f1_score of the model is: 69.41593507784883\n",
      "The precision_score of the model is: 71.08187705187434\n",
      "The recall_score of the model is: 68.1593772260135\n",
      "========================================================================================================================\n",
      "FOR α = 0.01\n",
      "The accuracy of the model is: 84.72964725985598\n",
      "The f1_score of the model is: 69.41732153587301\n",
      "The precision_score of the model is: 71.08435663270104\n",
      "The recall_score of the model is: 68.16010316828658\n",
      "========================================================================================================================\n",
      "FOR α = 0.005\n",
      "The accuracy of the model is: 84.72964725985598\n",
      "The f1_score of the model is: 69.41732153587301\n",
      "The precision_score of the model is: 71.08435663270104\n",
      "The recall_score of the model is: 68.16010316828658\n",
      "========================================================================================================================\n",
      "FOR α = 0.001\n",
      "The accuracy of the model is: 84.72964725985598\n",
      "The f1_score of the model is: 69.41732153587301\n",
      "The precision_score of the model is: 71.08435663270104\n",
      "The recall_score of the model is: 68.16010316828658\n",
      "========================================================================================================================\n",
      "FOR α = 0.0005\n",
      "The accuracy of the model is: 84.72964725985598\n",
      "The f1_score of the model is: 69.41732153587301\n",
      "The precision_score of the model is: 71.08435663270104\n",
      "The recall_score of the model is: 68.16010316828658\n",
      "========================================================================================================================\n",
      "FOR α = 0.0001\n",
      "The accuracy of the model is: 84.72964725985598\n",
      "The f1_score of the model is: 69.41732153587301\n",
      "The precision_score of the model is: 71.08435663270104\n",
      "The recall_score of the model is: 68.16010316828658\n",
      "========================================================================================================================\n",
      "FOR α = 5e-05\n",
      "The accuracy of the model is: 84.72964725985598\n",
      "The f1_score of the model is: 69.41732153587301\n",
      "The precision_score of the model is: 71.08435663270104\n",
      "The recall_score of the model is: 68.16010316828658\n",
      "========================================================================================================================\n",
      "FOR α = 1e-05\n",
      "The accuracy of the model is: 84.72964725985598\n",
      "The f1_score of the model is: 69.41732153587301\n",
      "The precision_score of the model is: 71.08435663270104\n",
      "The recall_score of the model is: 68.16010316828658\n",
      "========================================================================================================================\n",
      "FOR α = 5e-06\n",
      "The accuracy of the model is: 84.72964725985598\n",
      "The f1_score of the model is: 69.41732153587301\n",
      "The precision_score of the model is: 71.08435663270104\n",
      "The recall_score of the model is: 68.16010316828658\n",
      "========================================================================================================================\n",
      "FOR α = 1e-06\n",
      "The accuracy of the model is: 84.72964725985598\n",
      "The f1_score of the model is: 69.41732153587301\n",
      "The precision_score of the model is: 71.08435663270104\n",
      "The recall_score of the model is: 68.16010316828658\n",
      "========================================================================================================================\n"
     ]
    },
    {
     "data": {
      "image/png": "[encoded data removed]",
      "text/plain": [
       "<Figure size 432x288 with 1 Axes>"
      ]
     },
     "metadata": {
      "needs_background": "light"
     },
     "output_type": "display_data"
    }
   ],
   "source": [
    "# Find the optimal value of alpha\n",
    "# This may take several minutes to run\n",
    "\n",
    "nb_train(x_train_avgw2v, x_cv_avgw2v, y_train, y_cv, algo='Bernoulli')"
   ]
  },
  {
   "cell_type": "markdown",
   "metadata": {},
   "source": [
    "##### 7.3.2 Avg W2V Bernoulli Naive Baye's on Test Data"
   ]
  },
  {
   "cell_type": "code",
   "execution_count": 73,
   "metadata": {},
   "outputs": [
    {
     "name": "stdout",
     "output_type": "stream",
     "text": [
      "The accuracy of the model is: 84.81210110619226\n",
      "The macro f1_score of the model is: 69.45795900331007\n",
      "The micro f1_score of the model is: 84.81210110619226\n",
      "The precision_score of the model is: 70.99876353328231\n",
      "The recall_score of the model is: 68.27193174156885\n",
      "The precision recall report for data:\n",
      "               precision    recall  f1-score   support\n",
      "\n",
      "    Negative       0.52      0.44      0.48     14351\n",
      "    Positive       0.90      0.92      0.91     76682\n",
      "\n",
      "    accuracy                           0.85     91033\n",
      "   macro avg       0.71      0.68      0.69     91033\n",
      "weighted avg       0.84      0.85      0.84     91033\n",
      "\n"
     ]
    },
    {
     "data": {
      "image/png": "[encoded data removed]",
      "text/plain": [
       "<Figure size 432x288 with 2 Axes>"
      ]
     },
     "metadata": {
      "needs_background": "light"
     },
     "output_type": "display_data"
    }
   ],
   "source": [
    "# Testing the final model\n",
    "\n",
    "nb_test(x_train_avgw2v, y_train, x_test_avgw2v, y_test, optimal_alpha=0.01, algo='Bernoulli')"
   ]
  },
  {
   "cell_type": "markdown",
   "metadata": {},
   "source": [
    "### 7.4 TF-IDF Weighed Word2Vec"
   ]
  },
  {
   "cell_type": "markdown",
   "metadata": {},
   "source": [
    "##### 7.4.1 TF-IDF W2V Bernoulli Naive Baye's on Train Data"
   ]
  },
  {
   "cell_type": "code",
   "execution_count": 74,
   "metadata": {},
   "outputs": [
    {
     "name": "stdout",
     "output_type": "stream",
     "text": [
      "FOR α = 10\n",
      "The accuracy of the model is: 83.74466007567436\n",
      "The f1_score of the model is: 60.02628099808152\n",
      "The precision_score of the model is: 67.09166486732911\n",
      "The recall_score of the model is: 58.34828419990236\n",
      "========================================================================================================================\n",
      "FOR α = 5\n",
      "The accuracy of the model is: 83.73855730501649\n",
      "The f1_score of the model is: 60.02421232789248\n",
      "The precision_score of the model is: 67.07143512219136\n",
      "The recall_score of the model is: 58.34775878986742\n",
      "========================================================================================================================\n",
      "FOR α = 1\n",
      "The accuracy of the model is: 83.73977785914806\n",
      "The f1_score of the model is: 60.04014079588072\n",
      "The precision_score of the model is: 67.07917582080532\n",
      "The recall_score of the model is: 58.36090193746218\n",
      "========================================================================================================================\n",
      "FOR α = 0.5\n",
      "The accuracy of the model is: 83.73977785914806\n",
      "The f1_score of the model is: 60.04014079588072\n",
      "The precision_score of the model is: 67.07917582080532\n",
      "The recall_score of the model is: 58.36090193746218\n",
      "========================================================================================================================\n",
      "FOR α = 0.1\n",
      "The accuracy of the model is: 83.73977785914806\n",
      "The f1_score of the model is: 60.04014079588072\n",
      "The precision_score of the model is: 67.07917582080532\n",
      "The recall_score of the model is: 58.36090193746218\n",
      "========================================================================================================================\n",
      "FOR α = 0.05\n",
      "The accuracy of the model is: 83.73977785914806\n",
      "The f1_score of the model is: 60.04014079588072\n",
      "The precision_score of the model is: 67.07917582080532\n",
      "The recall_score of the model is: 58.36090193746218\n",
      "========================================================================================================================\n",
      "FOR α = 0.01\n",
      "The accuracy of the model is: 83.73977785914806\n",
      "The f1_score of the model is: 60.04014079588072\n",
      "The precision_score of the model is: 67.07917582080532\n",
      "The recall_score of the model is: 58.36090193746218\n",
      "========================================================================================================================\n",
      "FOR α = 0.005\n",
      "The accuracy of the model is: 83.73977785914806\n",
      "The f1_score of the model is: 60.04014079588072\n",
      "The precision_score of the model is: 67.07917582080532\n",
      "The recall_score of the model is: 58.36090193746218\n",
      "========================================================================================================================\n",
      "FOR α = 0.001\n",
      "The accuracy of the model is: 83.73855730501649\n",
      "The f1_score of the model is: 60.03898744698915\n",
      "The precision_score of the model is: 67.07496302809443\n",
      "The recall_score of the model is: 58.36017599518911\n",
      "========================================================================================================================\n",
      "FOR α = 0.0005\n",
      "The accuracy of the model is: 83.73855730501649\n",
      "The f1_score of the model is: 60.03898744698915\n",
      "The precision_score of the model is: 67.07496302809443\n",
      "The recall_score of the model is: 58.36017599518911\n",
      "========================================================================================================================\n",
      "FOR α = 0.0001\n",
      "The accuracy of the model is: 83.73855730501649\n",
      "The f1_score of the model is: 60.03898744698915\n",
      "The precision_score of the model is: 67.07496302809443\n",
      "The recall_score of the model is: 58.36017599518911\n",
      "========================================================================================================================\n",
      "FOR α = 5e-05\n",
      "The accuracy of the model is: 83.73855730501649\n",
      "The f1_score of the model is: 60.03898744698915\n",
      "The precision_score of the model is: 67.07496302809443\n",
      "The recall_score of the model is: 58.36017599518911\n",
      "========================================================================================================================\n",
      "FOR α = 1e-05\n",
      "The accuracy of the model is: 83.73855730501649\n",
      "The f1_score of the model is: 60.03898744698915\n",
      "The precision_score of the model is: 67.07496302809443\n",
      "The recall_score of the model is: 58.36017599518911\n",
      "========================================================================================================================\n",
      "FOR α = 5e-06\n",
      "The accuracy of the model is: 83.73855730501649\n",
      "The f1_score of the model is: 60.03898744698915\n",
      "The precision_score of the model is: 67.07496302809443\n",
      "The recall_score of the model is: 58.36017599518911\n",
      "========================================================================================================================\n",
      "FOR α = 1e-06\n",
      "The accuracy of the model is: 83.73855730501649\n",
      "The f1_score of the model is: 60.03898744698915\n",
      "The precision_score of the model is: 67.07496302809443\n",
      "The recall_score of the model is: 58.36017599518911\n",
      "========================================================================================================================\n"
     ]
    },
    {
     "data": {
      "image/png": "[encoded data removed]",
      "text/plain": [
       "<Figure size 432x288 with 1 Axes>"
      ]
     },
     "metadata": {
      "needs_background": "light"
     },
     "output_type": "display_data"
    }
   ],
   "source": [
    "# Find the optimal value of alpha\n",
    "# This may take several minutes to run\n",
    "\n",
    "nb_train(x_train_tfidfw2v, x_cv_tfidfw2v, y_train, y_cv, algo='Bernoulli')"
   ]
  },
  {
   "cell_type": "markdown",
   "metadata": {},
   "source": [
    "##### 7.4.2 TF-IDF W2V Bernoulli Naive Baye's on Test Data"
   ]
  },
  {
   "cell_type": "code",
   "execution_count": 75,
   "metadata": {},
   "outputs": [
    {
     "name": "stdout",
     "output_type": "stream",
     "text": [
      "The accuracy of the model is: 83.71469686816869\n",
      "The macro f1_score of the model is: 59.99914270341875\n",
      "The micro f1_score of the model is: 83.71469686816869\n",
      "The precision_score of the model is: 66.51408219812186\n",
      "The recall_score of the model is: 58.348460112596456\n",
      "The precision recall report for data:\n",
      "               precision    recall  f1-score   support\n",
      "\n",
      "    Negative       0.46      0.21      0.29     14351\n",
      "    Positive       0.87      0.95      0.91     76682\n",
      "\n",
      "    accuracy                           0.84     91033\n",
      "   macro avg       0.67      0.58      0.60     91033\n",
      "weighted avg       0.80      0.84      0.81     91033\n",
      "\n"
     ]
    },
    {
     "data": {
      "image/png": "[encoded data removed]",
      "text/plain": [
       "<Figure size 432x288 with 2 Axes>"
      ]
     },
     "metadata": {
      "needs_background": "light"
     },
     "output_type": "display_data"
    }
   ],
   "source": [
    "# Testing the final model\n",
    "\n",
    "nb_test(x_train_tfidfw2v, y_train, x_test_tfidfw2v, y_test, optimal_alpha=10, algo='Bernoulli')"
   ]
  },
  {
   "cell_type": "code",
   "execution_count": null,
   "metadata": {},
   "outputs": [],
   "source": []
  }
 ],
 "metadata": {
  "kernelspec": {
   "display_name": "Python 3.7 (Intel® oneAPI)",
   "language": "python",
   "name": "c009-intel_distribution_of_python_3_oneapi-beta05-python"
  },
  "language_info": {
   "codemirror_mode": {
    "name": "ipython",
    "version": 3
   },
   "file_extension": ".py",
   "mimetype": "text/x-python",
   "name": "python",
   "nbconvert_exporter": "python",
   "pygments_lexer": "ipython3",
   "version": "3.7.7"
  }
 },
 "nbformat": 4,
 "nbformat_minor": 4
}
