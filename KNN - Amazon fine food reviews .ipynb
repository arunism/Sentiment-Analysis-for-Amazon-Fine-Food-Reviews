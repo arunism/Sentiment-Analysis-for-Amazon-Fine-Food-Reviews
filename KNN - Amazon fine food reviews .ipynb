{
 "cells": [
  {
   "cell_type": "markdown",
   "metadata": {},
   "source": [
    "# Objective\n",
    "#### Determine whether the given reviews are positive or negative using all features except SCORE and then check the accuracy using the Score feature using KNN classifier"
   ]
  },
  {
   "cell_type": "markdown",
   "metadata": {},
   "source": [
    "# 1. Loading data from dataset"
   ]
  },
  {
   "cell_type": "code",
   "execution_count": 60,
   "metadata": {},
   "outputs": [],
   "source": [
    "%matplotlib inline\n",
    "\n",
    "import numpy as np\n",
    "import pandas as pd\n",
    "import matplotlib.pyplot as plt\n",
    "import sqlite3\n",
    "import nltk\n",
    "import seaborn as sns"
   ]
  },
  {
   "cell_type": "code",
   "execution_count": 61,
   "metadata": {},
   "outputs": [],
   "source": [
    "# Loading data from sqlite3 database ignoring those having rewiew score = 3\n",
    "\n",
    "connection = sqlite3.connect('./database.sqlite')\n",
    "dataset = pd.read_sql_query(\"SELECT * FROM Reviews WHERE Score != 3\", connection)"
   ]
  },
  {
   "cell_type": "code",
   "execution_count": 62,
   "metadata": {},
   "outputs": [
    {
     "name": "stdout",
     "output_type": "stream",
     "text": [
      "The shape of the data in dataset is: (525814, 10)\n",
      "========================================================================================================================\n"
     ]
    },
    {
     "data": {
      "text/plain": [
       "Index(['Id', 'ProductId', 'UserId', 'ProfileName', 'HelpfulnessNumerator',\n",
       "       'HelpfulnessDenominator', 'Score', 'Time', 'Summary', 'Text'],\n",
       "      dtype='object')"
      ]
     },
     "execution_count": 62,
     "metadata": {},
     "output_type": "execute_result"
    }
   ],
   "source": [
    "print(\"The shape of the data in dataset is:\", dataset.shape)\n",
    "print('==' * 60)\n",
    "dataset.columns                # This will list all the features name in dataset column-wise"
   ]
  },
  {
   "cell_type": "code",
   "execution_count": 63,
   "metadata": {},
   "outputs": [],
   "source": [
    "# Assigning Positive value to reviews with score>3 and Negative value to reviews with score<3\n",
    "\n",
    "def assign_pn(score):\n",
    "    if (score > 3):\n",
    "        score = 'Positive'\n",
    "    elif (score < 3):\n",
    "        score = 'Negative'\n",
    "    return score\n",
    "\n",
    "pn = dataset['Score']\n",
    "pn_assign = pn.map(assign_pn)\n",
    "dataset['Score'] = pn_assign"
   ]
  },
  {
   "cell_type": "code",
   "execution_count": 64,
   "metadata": {},
   "outputs": [
    {
     "name": "stdout",
     "output_type": "stream",
     "text": [
      "Positive    443777\n",
      "Negative     82037\n",
      "Name: Score, dtype: int64\n",
      "========================================================================================================================\n",
      "The shape of the data in dataset is: (525814, 10)\n",
      "========================================================================================================================\n"
     ]
    },
    {
     "data": {
      "text/html": [
       "<div>\n",
       "<style scoped>\n",
       "    .dataframe tbody tr th:only-of-type {\n",
       "        vertical-align: middle;\n",
       "    }\n",
       "\n",
       "    .dataframe tbody tr th {\n",
       "        vertical-align: top;\n",
       "    }\n",
       "\n",
       "    .dataframe thead th {\n",
       "        text-align: right;\n",
       "    }\n",
       "</style>\n",
       "<table border=\"1\" class=\"dataframe\">\n",
       "  <thead>\n",
       "    <tr style=\"text-align: right;\">\n",
       "      <th></th>\n",
       "      <th>Id</th>\n",
       "      <th>ProductId</th>\n",
       "      <th>UserId</th>\n",
       "      <th>ProfileName</th>\n",
       "      <th>HelpfulnessNumerator</th>\n",
       "      <th>HelpfulnessDenominator</th>\n",
       "      <th>Score</th>\n",
       "      <th>Time</th>\n",
       "      <th>Summary</th>\n",
       "      <th>Text</th>\n",
       "    </tr>\n",
       "  </thead>\n",
       "  <tbody>\n",
       "    <tr>\n",
       "      <th>0</th>\n",
       "      <td>1</td>\n",
       "      <td>B001E4KFG0</td>\n",
       "      <td>A3SGXH7AUHU8GW</td>\n",
       "      <td>delmartian</td>\n",
       "      <td>1</td>\n",
       "      <td>1</td>\n",
       "      <td>Positive</td>\n",
       "      <td>1303862400</td>\n",
       "      <td>Good Quality Dog Food</td>\n",
       "      <td>I have bought several of the Vitality canned d...</td>\n",
       "    </tr>\n",
       "    <tr>\n",
       "      <th>1</th>\n",
       "      <td>2</td>\n",
       "      <td>B00813GRG4</td>\n",
       "      <td>A1D87F6ZCVE5NK</td>\n",
       "      <td>dll pa</td>\n",
       "      <td>0</td>\n",
       "      <td>0</td>\n",
       "      <td>Negative</td>\n",
       "      <td>1346976000</td>\n",
       "      <td>Not as Advertised</td>\n",
       "      <td>Product arrived labeled as Jumbo Salted Peanut...</td>\n",
       "    </tr>\n",
       "    <tr>\n",
       "      <th>2</th>\n",
       "      <td>3</td>\n",
       "      <td>B000LQOCH0</td>\n",
       "      <td>ABXLMWJIXXAIN</td>\n",
       "      <td>Natalia Corres \"Natalia Corres\"</td>\n",
       "      <td>1</td>\n",
       "      <td>1</td>\n",
       "      <td>Positive</td>\n",
       "      <td>1219017600</td>\n",
       "      <td>\"Delight\" says it all</td>\n",
       "      <td>This is a confection that has been around a fe...</td>\n",
       "    </tr>\n",
       "    <tr>\n",
       "      <th>3</th>\n",
       "      <td>4</td>\n",
       "      <td>B000UA0QIQ</td>\n",
       "      <td>A395BORC6FGVXV</td>\n",
       "      <td>Karl</td>\n",
       "      <td>3</td>\n",
       "      <td>3</td>\n",
       "      <td>Negative</td>\n",
       "      <td>1307923200</td>\n",
       "      <td>Cough Medicine</td>\n",
       "      <td>If you are looking for the secret ingredient i...</td>\n",
       "    </tr>\n",
       "    <tr>\n",
       "      <th>4</th>\n",
       "      <td>5</td>\n",
       "      <td>B006K2ZZ7K</td>\n",
       "      <td>A1UQRSCLF8GW1T</td>\n",
       "      <td>Michael D. Bigham \"M. Wassir\"</td>\n",
       "      <td>0</td>\n",
       "      <td>0</td>\n",
       "      <td>Positive</td>\n",
       "      <td>1350777600</td>\n",
       "      <td>Great taffy</td>\n",
       "      <td>Great taffy at a great price.  There was a wid...</td>\n",
       "    </tr>\n",
       "  </tbody>\n",
       "</table>\n",
       "</div>"
      ],
      "text/plain": [
       "   Id   ProductId          UserId                      ProfileName  \\\n",
       "0   1  B001E4KFG0  A3SGXH7AUHU8GW                       delmartian   \n",
       "1   2  B00813GRG4  A1D87F6ZCVE5NK                           dll pa   \n",
       "2   3  B000LQOCH0   ABXLMWJIXXAIN  Natalia Corres \"Natalia Corres\"   \n",
       "3   4  B000UA0QIQ  A395BORC6FGVXV                             Karl   \n",
       "4   5  B006K2ZZ7K  A1UQRSCLF8GW1T    Michael D. Bigham \"M. Wassir\"   \n",
       "\n",
       "   HelpfulnessNumerator  HelpfulnessDenominator     Score        Time  \\\n",
       "0                     1                       1  Positive  1303862400   \n",
       "1                     0                       0  Negative  1346976000   \n",
       "2                     1                       1  Positive  1219017600   \n",
       "3                     3                       3  Negative  1307923200   \n",
       "4                     0                       0  Positive  1350777600   \n",
       "\n",
       "                 Summary                                               Text  \n",
       "0  Good Quality Dog Food  I have bought several of the Vitality canned d...  \n",
       "1      Not as Advertised  Product arrived labeled as Jumbo Salted Peanut...  \n",
       "2  \"Delight\" says it all  This is a confection that has been around a fe...  \n",
       "3         Cough Medicine  If you are looking for the secret ingredient i...  \n",
       "4            Great taffy  Great taffy at a great price.  There was a wid...  "
      ]
     },
     "execution_count": 64,
     "metadata": {},
     "output_type": "execute_result"
    }
   ],
   "source": [
    "print(dataset['Score'].value_counts() )                                 # Printing the number of positive and negative reviews\n",
    "print('==' * 60)\n",
    "print(\"The shape of the data in dataset is:\", dataset.shape)\n",
    "print('==' * 60)\n",
    "dataset.head()"
   ]
  },
  {
   "cell_type": "markdown",
   "metadata": {},
   "source": [
    "# 2. Pre-processing of data"
   ]
  },
  {
   "cell_type": "markdown",
   "metadata": {},
   "source": [
    "### 2.1 De-duplication of data"
   ]
  },
  {
   "cell_type": "code",
   "execution_count": 65,
   "metadata": {},
   "outputs": [
    {
     "data": {
      "text/html": [
       "<div>\n",
       "<style scoped>\n",
       "    .dataframe tbody tr th:only-of-type {\n",
       "        vertical-align: middle;\n",
       "    }\n",
       "\n",
       "    .dataframe tbody tr th {\n",
       "        vertical-align: top;\n",
       "    }\n",
       "\n",
       "    .dataframe thead th {\n",
       "        text-align: right;\n",
       "    }\n",
       "</style>\n",
       "<table border=\"1\" class=\"dataframe\">\n",
       "  <thead>\n",
       "    <tr style=\"text-align: right;\">\n",
       "      <th></th>\n",
       "      <th>Id</th>\n",
       "      <th>ProductId</th>\n",
       "      <th>UserId</th>\n",
       "      <th>ProfileName</th>\n",
       "      <th>HelpfulnessNumerator</th>\n",
       "      <th>HelpfulnessDenominator</th>\n",
       "      <th>Score</th>\n",
       "      <th>Time</th>\n",
       "      <th>Summary</th>\n",
       "      <th>Text</th>\n",
       "    </tr>\n",
       "  </thead>\n",
       "  <tbody>\n",
       "    <tr>\n",
       "      <th>138706</th>\n",
       "      <td>150524</td>\n",
       "      <td>0006641040</td>\n",
       "      <td>ACITT7DI6IDDL</td>\n",
       "      <td>shari zychinski</td>\n",
       "      <td>0</td>\n",
       "      <td>0</td>\n",
       "      <td>Positive</td>\n",
       "      <td>939340800</td>\n",
       "      <td>EVERY book is educational</td>\n",
       "      <td>this witty little book makes my son laugh at l...</td>\n",
       "    </tr>\n",
       "    <tr>\n",
       "      <th>138688</th>\n",
       "      <td>150506</td>\n",
       "      <td>0006641040</td>\n",
       "      <td>A2IW4PEEKO2R0U</td>\n",
       "      <td>Tracy</td>\n",
       "      <td>1</td>\n",
       "      <td>1</td>\n",
       "      <td>Positive</td>\n",
       "      <td>1194739200</td>\n",
       "      <td>Love the book, miss the hard cover version</td>\n",
       "      <td>I grew up reading these Sendak books, and watc...</td>\n",
       "    </tr>\n",
       "    <tr>\n",
       "      <th>138689</th>\n",
       "      <td>150507</td>\n",
       "      <td>0006641040</td>\n",
       "      <td>A1S4A3IQ2MU7V4</td>\n",
       "      <td>sally sue \"sally sue\"</td>\n",
       "      <td>1</td>\n",
       "      <td>1</td>\n",
       "      <td>Positive</td>\n",
       "      <td>1191456000</td>\n",
       "      <td>chicken soup with rice months</td>\n",
       "      <td>This is a fun way for children to learn their ...</td>\n",
       "    </tr>\n",
       "    <tr>\n",
       "      <th>138690</th>\n",
       "      <td>150508</td>\n",
       "      <td>0006641040</td>\n",
       "      <td>AZGXZ2UUK6X</td>\n",
       "      <td>Catherine Hallberg \"(Kate)\"</td>\n",
       "      <td>1</td>\n",
       "      <td>1</td>\n",
       "      <td>Positive</td>\n",
       "      <td>1076025600</td>\n",
       "      <td>a good swingy rhythm for reading aloud</td>\n",
       "      <td>This is a great little book to read aloud- it ...</td>\n",
       "    </tr>\n",
       "    <tr>\n",
       "      <th>138691</th>\n",
       "      <td>150509</td>\n",
       "      <td>0006641040</td>\n",
       "      <td>A3CMRKGE0P909G</td>\n",
       "      <td>Teresa</td>\n",
       "      <td>3</td>\n",
       "      <td>4</td>\n",
       "      <td>Positive</td>\n",
       "      <td>1018396800</td>\n",
       "      <td>A great way to learn the months</td>\n",
       "      <td>This is a book of poetry about the months of t...</td>\n",
       "    </tr>\n",
       "  </tbody>\n",
       "</table>\n",
       "</div>"
      ],
      "text/plain": [
       "            Id   ProductId          UserId                  ProfileName  \\\n",
       "138706  150524  0006641040   ACITT7DI6IDDL              shari zychinski   \n",
       "138688  150506  0006641040  A2IW4PEEKO2R0U                        Tracy   \n",
       "138689  150507  0006641040  A1S4A3IQ2MU7V4        sally sue \"sally sue\"   \n",
       "138690  150508  0006641040     AZGXZ2UUK6X  Catherine Hallberg \"(Kate)\"   \n",
       "138691  150509  0006641040  A3CMRKGE0P909G                       Teresa   \n",
       "\n",
       "        HelpfulnessNumerator  HelpfulnessDenominator     Score        Time  \\\n",
       "138706                     0                       0  Positive   939340800   \n",
       "138688                     1                       1  Positive  1194739200   \n",
       "138689                     1                       1  Positive  1191456000   \n",
       "138690                     1                       1  Positive  1076025600   \n",
       "138691                     3                       4  Positive  1018396800   \n",
       "\n",
       "                                           Summary  \\\n",
       "138706                   EVERY book is educational   \n",
       "138688  Love the book, miss the hard cover version   \n",
       "138689               chicken soup with rice months   \n",
       "138690      a good swingy rhythm for reading aloud   \n",
       "138691             A great way to learn the months   \n",
       "\n",
       "                                                     Text  \n",
       "138706  this witty little book makes my son laugh at l...  \n",
       "138688  I grew up reading these Sendak books, and watc...  \n",
       "138689  This is a fun way for children to learn their ...  \n",
       "138690  This is a great little book to read aloud- it ...  \n",
       "138691  This is a book of poetry about the months of t...  "
      ]
     },
     "execution_count": 65,
     "metadata": {},
     "output_type": "execute_result"
    }
   ],
   "source": [
    "# Sorting data based on ProductId\n",
    "\n",
    "sorted_data = dataset.sort_values('ProductId', ascending=True, axis=0)\n",
    "sorted_data.head()"
   ]
  },
  {
   "cell_type": "code",
   "execution_count": 66,
   "metadata": {},
   "outputs": [
    {
     "data": {
      "text/plain": [
       "(364133, 10)"
      ]
     },
     "execution_count": 66,
     "metadata": {},
     "output_type": "execute_result"
    }
   ],
   "source": [
    "# Remove all the data points that exactly match the field values mention below\n",
    "\n",
    "data = sorted_data.drop_duplicates(subset={'UserId', 'Time', 'Text'}, keep='first', inplace=False)\n",
    "data.shape"
   ]
  },
  {
   "cell_type": "code",
   "execution_count": 67,
   "metadata": {},
   "outputs": [
    {
     "name": "stdout",
     "output_type": "stream",
     "text": [
      "69.25129418387492\n"
     ]
    }
   ],
   "source": [
    "# Check what percentage of original data is remaining\n",
    "\n",
    "percentage = (data.shape[0] / dataset.shape[0]) * 100\n",
    "print(percentage)"
   ]
  },
  {
   "cell_type": "code",
   "execution_count": 68,
   "metadata": {},
   "outputs": [
    {
     "data": {
      "text/plain": [
       "(364131, 10)"
      ]
     },
     "execution_count": 68,
     "metadata": {},
     "output_type": "execute_result"
    }
   ],
   "source": [
    "# Removing the reviews having HelpfulnessNumerator greater than HelpfulnessDenominator\n",
    "\n",
    "data = data[data.HelpfulnessDenominator >= data.HelpfulnessNumerator]\n",
    "data.shape"
   ]
  },
  {
   "cell_type": "code",
   "execution_count": 69,
   "metadata": {},
   "outputs": [
    {
     "data": {
      "text/plain": [
       "Positive    307026\n",
       "Negative     57105\n",
       "Name: Score, dtype: int64"
      ]
     },
     "execution_count": 69,
     "metadata": {},
     "output_type": "execute_result"
    }
   ],
   "source": [
    "# Getting the number of positive and negative reviews\n",
    "\n",
    "data['Score'].value_counts()"
   ]
  },
  {
   "cell_type": "markdown",
   "metadata": {},
   "source": [
    "### 2.2 Data Cleaning"
   ]
  },
  {
   "cell_type": "code",
   "execution_count": 70,
   "metadata": {},
   "outputs": [],
   "source": [
    "import re\n",
    "import string\n",
    "from nltk.corpus import stopwords\n",
    "from nltk.stem import SnowballStemmer\n",
    "from nltk.stem.wordnet import WordNetLemmatizer"
   ]
  },
  {
   "cell_type": "code",
   "execution_count": 71,
   "metadata": {},
   "outputs": [
    {
     "name": "stdout",
     "output_type": "stream",
     "text": [
      "Total number of html tags present: 6\n",
      "========================================================================================================================\n",
      "I set aside at least an hour each day to read to my son (3 y/o). At this point, I consider myself a connoisseur of children's books and this is one of the best. Santa Clause put this under the tree. Since then, we've read it perpetually and he loves it.<br /><br />First, this book taught him the months of the year.<br /><br />Second, it's a pleasure to read. Well suited to 1.5 y/o old to 4+.<br /><br />Very few children's books are worth owning. Most should be borrowed from the library. This book, however, deserves a permanent spot on your shelf. Sendak's best.\n"
     ]
    }
   ],
   "source": [
    "# Find sentences containing html tags\n",
    "\n",
    "i = 0\n",
    "for sentence in data['Text'].values:\n",
    "    if (len(re.findall('<.*?>', sentence))):\n",
    "        print(\"Total number of html tags present:\", i)\n",
    "        print(\"==\"*60)\n",
    "        print(sentence)\n",
    "        break\n",
    "    i += 1"
   ]
  },
  {
   "cell_type": "code",
   "execution_count": 72,
   "metadata": {},
   "outputs": [],
   "source": [
    "# Function to remove texts with html tags(<...>)\n",
    "\n",
    "def cleanHtml(sentence):\n",
    "    cleanr = re.compile('<.*?>')                  # Select ANY text with < > tags\n",
    "    cleanText = re.sub(cleanr, ' ', sentence)     # Replace texts enclosed in < > with white space\n",
    "    return cleanText"
   ]
  },
  {
   "cell_type": "code",
   "execution_count": 73,
   "metadata": {},
   "outputs": [],
   "source": [
    "# Function to remove punctuation marks(.,?/:;)\n",
    "\n",
    "def cleanPunctuation(sentence):\n",
    "    cleanp = re.sub(r'[?|$|.|!]',r'', sentence)\n",
    "    cleanp = re.sub(r'[.|,|)|(|\\|/]',r' ', cleanp)\n",
    "    return cleanp"
   ]
  },
  {
   "cell_type": "code",
   "execution_count": 74,
   "metadata": {},
   "outputs": [
    {
     "name": "stdout",
     "output_type": "stream",
     "text": [
      "{'where', 'down', 'be', 'own', \"wasn't\", 'ours', 've', 'does', 'doing', 'this', 'off', 'her', 'hasn', 'we', 'after', 'before', 'more', 'above', 'the', \"don't\", 'no', \"didn't\", 'most', 'yourself', 'were', 'not', 'who', 'been', 'through', 'yours', 'isn', 'these', 're', 'having', 'd', 'all', 'an', 'o', 'as', 'won', 'is', 'they', 'until', 'which', 'in', 'into', 'it', \"you're\", 'you', 'hadn', 'its', 'again', 'each', 'same', 's', 'wouldn', \"you'll\", \"hasn't\", 'mustn', 'below', 'haven', 'whom', 'couldn', 'needn', 'ma', 'didn', 'his', 'had', 'so', 'ain', 'themselves', \"hadn't\", \"won't\", 'hers', 'under', 'y', 'while', 'mightn', 'theirs', 'and', 'with', 'very', 'your', 'weren', \"weren't\", 'can', 'too', \"should've\", 'did', \"mightn't\", 'up', 'myself', 'only', 'than', 'out', 'll', \"haven't\", 'him', 'about', \"needn't\", \"shouldn't\", 'ourselves', 'by', 'from', \"isn't\", \"wouldn't\", 'there', 'during', \"you've\", 'against', 'how', 'shan', 'such', 'are', 'when', \"that'll\", 'their', 'them', 'other', 'some', 'my', 'shouldn', 'himself', 'further', 'now', 'a', 'at', 'or', 'because', 'am', 'just', 'm', 'don', 'over', 'once', 'aren', 'doesn', 'me', \"she's\", 'why', 'those', \"you'd\", 'our', \"it's\", 'has', \"doesn't\", 'wasn', 'have', 'that', 'should', 'of', 'to', 'being', 'what', 'then', 'herself', 'itself', 'both', 't', 'but', \"shan't\", 'yourselves', 'nor', 'do', 'on', 'was', 'between', \"aren't\", 'i', 'for', 'he', 'few', \"couldn't\", 'any', \"mustn't\", 'here', 'will', 'if', 'she'}\n"
     ]
    }
   ],
   "source": [
    "# Printing the set of stop words present in english language\n",
    "# You need to download stopword first before using it(import nltk; nltk.download(\"stopwords\");)\n",
    "\n",
    "stopWords = set(stopwords.words('english'))\n",
    "print(stopWords)"
   ]
  },
  {
   "cell_type": "code",
   "execution_count": 75,
   "metadata": {},
   "outputs": [],
   "source": [
    "# Initializing SnowBall Stemmer\n",
    "\n",
    "snowball = SnowballStemmer('english')"
   ]
  },
  {
   "cell_type": "code",
   "execution_count": 76,
   "metadata": {},
   "outputs": [
    {
     "name": "stdout",
     "output_type": "stream",
     "text": [
      "tasti\n",
      "delici\n",
      "littl\n"
     ]
    }
   ],
   "source": [
    "# Printing a base-word using snowball stemmer\n",
    "\n",
    "print(snowball.stem('tasty'))\n",
    "print(snowball.stem('delicious'))\n",
    "print(snowball.stem('little'))"
   ]
  },
  {
   "cell_type": "code",
   "execution_count": 77,
   "metadata": {},
   "outputs": [],
   "source": [
    "# Core Pre-processing code step-by-step(removing html tags, punctuations, stopwords, etc)\n",
    "# This may take a few minutes to execute\n",
    "\n",
    "i = 0\n",
    "initial_str = ''\n",
    "final_str = []          # Store final string of clean words\n",
    "positive_words = []     # Store words from positive reviews here\n",
    "negative_words = []     # Store words from negative reviews here\n",
    "s = ''\n",
    "\n",
    "for sentence in data['Text'].values:\n",
    "    filtered_sentence = []\n",
    "    sentence = cleanHtml(sentence)          # Remove html tags\n",
    "    for words in sentence.split():\n",
    "        for word in cleanPunctuation(words).split():\n",
    "            if ((word.isalpha()) & (len(word) > 2)):\n",
    "                if (word.lower() not in stopWords):\n",
    "                    s = (snowball.stem(word.lower()).encode('utf-8'))\n",
    "                    filtered_sentence.append(s)\n",
    "                    if ((data['Score'].values)[i] == 'Positive'):\n",
    "                        positive_words.append(s)\n",
    "                    if ((data['Score'].values)[i] == 'Negative'):\n",
    "                        negative_words.append(s)\n",
    "                else:\n",
    "                    continue\n",
    "            else:\n",
    "                continue\n",
    "    initial_str = b\" \".join(filtered_sentence)      # Final string of clean words\n",
    "    final_str.append(initial_str)\n",
    "    i += 1"
   ]
  },
  {
   "cell_type": "code",
   "execution_count": 78,
   "metadata": {},
   "outputs": [],
   "source": [
    "data['CleanedText'] = final_str                                    # Adding a column in dataset and storing cleaned text in it.\n",
    "data['CleanedText'] = data['CleanedText'].str.decode(\"utf-8\")"
   ]
  },
  {
   "cell_type": "code",
   "execution_count": 79,
   "metadata": {},
   "outputs": [
    {
     "data": {
      "text/html": [
       "<div>\n",
       "<style scoped>\n",
       "    .dataframe tbody tr th:only-of-type {\n",
       "        vertical-align: middle;\n",
       "    }\n",
       "\n",
       "    .dataframe tbody tr th {\n",
       "        vertical-align: top;\n",
       "    }\n",
       "\n",
       "    .dataframe thead th {\n",
       "        text-align: right;\n",
       "    }\n",
       "</style>\n",
       "<table border=\"1\" class=\"dataframe\">\n",
       "  <thead>\n",
       "    <tr style=\"text-align: right;\">\n",
       "      <th></th>\n",
       "      <th>Id</th>\n",
       "      <th>ProductId</th>\n",
       "      <th>UserId</th>\n",
       "      <th>ProfileName</th>\n",
       "      <th>HelpfulnessNumerator</th>\n",
       "      <th>HelpfulnessDenominator</th>\n",
       "      <th>Score</th>\n",
       "      <th>Time</th>\n",
       "      <th>Summary</th>\n",
       "      <th>Text</th>\n",
       "      <th>CleanedText</th>\n",
       "    </tr>\n",
       "  </thead>\n",
       "  <tbody>\n",
       "    <tr>\n",
       "      <th>138706</th>\n",
       "      <td>150524</td>\n",
       "      <td>0006641040</td>\n",
       "      <td>ACITT7DI6IDDL</td>\n",
       "      <td>shari zychinski</td>\n",
       "      <td>0</td>\n",
       "      <td>0</td>\n",
       "      <td>Positive</td>\n",
       "      <td>939340800</td>\n",
       "      <td>EVERY book is educational</td>\n",
       "      <td>this witty little book makes my son laugh at l...</td>\n",
       "      <td>witti littl book make son laugh loud recit car...</td>\n",
       "    </tr>\n",
       "    <tr>\n",
       "      <th>138688</th>\n",
       "      <td>150506</td>\n",
       "      <td>0006641040</td>\n",
       "      <td>A2IW4PEEKO2R0U</td>\n",
       "      <td>Tracy</td>\n",
       "      <td>1</td>\n",
       "      <td>1</td>\n",
       "      <td>Positive</td>\n",
       "      <td>1194739200</td>\n",
       "      <td>Love the book, miss the hard cover version</td>\n",
       "      <td>I grew up reading these Sendak books, and watc...</td>\n",
       "      <td>grew read sendak book watch realli rosi movi i...</td>\n",
       "    </tr>\n",
       "    <tr>\n",
       "      <th>138689</th>\n",
       "      <td>150507</td>\n",
       "      <td>0006641040</td>\n",
       "      <td>A1S4A3IQ2MU7V4</td>\n",
       "      <td>sally sue \"sally sue\"</td>\n",
       "      <td>1</td>\n",
       "      <td>1</td>\n",
       "      <td>Positive</td>\n",
       "      <td>1191456000</td>\n",
       "      <td>chicken soup with rice months</td>\n",
       "      <td>This is a fun way for children to learn their ...</td>\n",
       "      <td>fun way children learn month year learn poem t...</td>\n",
       "    </tr>\n",
       "    <tr>\n",
       "      <th>138690</th>\n",
       "      <td>150508</td>\n",
       "      <td>0006641040</td>\n",
       "      <td>AZGXZ2UUK6X</td>\n",
       "      <td>Catherine Hallberg \"(Kate)\"</td>\n",
       "      <td>1</td>\n",
       "      <td>1</td>\n",
       "      <td>Positive</td>\n",
       "      <td>1076025600</td>\n",
       "      <td>a good swingy rhythm for reading aloud</td>\n",
       "      <td>This is a great little book to read aloud- it ...</td>\n",
       "      <td>great littl book read nice rhythm well good re...</td>\n",
       "    </tr>\n",
       "    <tr>\n",
       "      <th>138691</th>\n",
       "      <td>150509</td>\n",
       "      <td>0006641040</td>\n",
       "      <td>A3CMRKGE0P909G</td>\n",
       "      <td>Teresa</td>\n",
       "      <td>3</td>\n",
       "      <td>4</td>\n",
       "      <td>Positive</td>\n",
       "      <td>1018396800</td>\n",
       "      <td>A great way to learn the months</td>\n",
       "      <td>This is a book of poetry about the months of t...</td>\n",
       "      <td>book poetri month year goe month cute littl po...</td>\n",
       "    </tr>\n",
       "  </tbody>\n",
       "</table>\n",
       "</div>"
      ],
      "text/plain": [
       "            Id   ProductId          UserId                  ProfileName  \\\n",
       "138706  150524  0006641040   ACITT7DI6IDDL              shari zychinski   \n",
       "138688  150506  0006641040  A2IW4PEEKO2R0U                        Tracy   \n",
       "138689  150507  0006641040  A1S4A3IQ2MU7V4        sally sue \"sally sue\"   \n",
       "138690  150508  0006641040     AZGXZ2UUK6X  Catherine Hallberg \"(Kate)\"   \n",
       "138691  150509  0006641040  A3CMRKGE0P909G                       Teresa   \n",
       "\n",
       "        HelpfulnessNumerator  HelpfulnessDenominator     Score        Time  \\\n",
       "138706                     0                       0  Positive   939340800   \n",
       "138688                     1                       1  Positive  1194739200   \n",
       "138689                     1                       1  Positive  1191456000   \n",
       "138690                     1                       1  Positive  1076025600   \n",
       "138691                     3                       4  Positive  1018396800   \n",
       "\n",
       "                                           Summary  \\\n",
       "138706                   EVERY book is educational   \n",
       "138688  Love the book, miss the hard cover version   \n",
       "138689               chicken soup with rice months   \n",
       "138690      a good swingy rhythm for reading aloud   \n",
       "138691             A great way to learn the months   \n",
       "\n",
       "                                                     Text  \\\n",
       "138706  this witty little book makes my son laugh at l...   \n",
       "138688  I grew up reading these Sendak books, and watc...   \n",
       "138689  This is a fun way for children to learn their ...   \n",
       "138690  This is a great little book to read aloud- it ...   \n",
       "138691  This is a book of poetry about the months of t...   \n",
       "\n",
       "                                              CleanedText  \n",
       "138706  witti littl book make son laugh loud recit car...  \n",
       "138688  grew read sendak book watch realli rosi movi i...  \n",
       "138689  fun way children learn month year learn poem t...  \n",
       "138690  great littl book read nice rhythm well good re...  \n",
       "138691  book poetri month year goe month cute littl po...  "
      ]
     },
     "execution_count": 79,
     "metadata": {},
     "output_type": "execute_result"
    }
   ],
   "source": [
    "data.head()"
   ]
  },
  {
   "cell_type": "markdown",
   "metadata": {},
   "source": [
    "# 3. Time-based splitting of data"
   ]
  },
  {
   "cell_type": "code",
   "execution_count": 80,
   "metadata": {},
   "outputs": [
    {
     "data": {
      "text/html": [
       "<div>\n",
       "<style scoped>\n",
       "    .dataframe tbody tr th:only-of-type {\n",
       "        vertical-align: middle;\n",
       "    }\n",
       "\n",
       "    .dataframe tbody tr th {\n",
       "        vertical-align: top;\n",
       "    }\n",
       "\n",
       "    .dataframe thead th {\n",
       "        text-align: right;\n",
       "    }\n",
       "</style>\n",
       "<table border=\"1\" class=\"dataframe\">\n",
       "  <thead>\n",
       "    <tr style=\"text-align: right;\">\n",
       "      <th></th>\n",
       "      <th>Id</th>\n",
       "      <th>ProductId</th>\n",
       "      <th>UserId</th>\n",
       "      <th>ProfileName</th>\n",
       "      <th>HelpfulnessNumerator</th>\n",
       "      <th>HelpfulnessDenominator</th>\n",
       "      <th>Score</th>\n",
       "      <th>Time</th>\n",
       "      <th>Summary</th>\n",
       "      <th>Text</th>\n",
       "      <th>CleanedText</th>\n",
       "    </tr>\n",
       "  </thead>\n",
       "  <tbody>\n",
       "    <tr>\n",
       "      <th>138706</th>\n",
       "      <td>150524</td>\n",
       "      <td>0006641040</td>\n",
       "      <td>ACITT7DI6IDDL</td>\n",
       "      <td>shari zychinski</td>\n",
       "      <td>0</td>\n",
       "      <td>0</td>\n",
       "      <td>Positive</td>\n",
       "      <td>939340800</td>\n",
       "      <td>EVERY book is educational</td>\n",
       "      <td>this witty little book makes my son laugh at l...</td>\n",
       "      <td>witti littl book make son laugh loud recit car...</td>\n",
       "    </tr>\n",
       "    <tr>\n",
       "      <th>138683</th>\n",
       "      <td>150501</td>\n",
       "      <td>0006641040</td>\n",
       "      <td>AJ46FKXOVC7NR</td>\n",
       "      <td>Nicholas A Mesiano</td>\n",
       "      <td>2</td>\n",
       "      <td>2</td>\n",
       "      <td>Positive</td>\n",
       "      <td>940809600</td>\n",
       "      <td>This whole series is great way to spend time w...</td>\n",
       "      <td>I can remember seeing the show when it aired o...</td>\n",
       "      <td>rememb see show air televis year ago child sis...</td>\n",
       "    </tr>\n",
       "    <tr>\n",
       "      <th>417839</th>\n",
       "      <td>451856</td>\n",
       "      <td>B00004CXX9</td>\n",
       "      <td>AIUWLEQ1ADEG5</td>\n",
       "      <td>Elizabeth Medina</td>\n",
       "      <td>0</td>\n",
       "      <td>0</td>\n",
       "      <td>Positive</td>\n",
       "      <td>944092800</td>\n",
       "      <td>Entertainingl Funny!</td>\n",
       "      <td>Beetlejuice is a well written movie ..... ever...</td>\n",
       "      <td>beetlejuic well written movi everyth excel act...</td>\n",
       "    </tr>\n",
       "    <tr>\n",
       "      <th>346055</th>\n",
       "      <td>374359</td>\n",
       "      <td>B00004CI84</td>\n",
       "      <td>A344SMIA5JECGM</td>\n",
       "      <td>Vincent P. Ross</td>\n",
       "      <td>1</td>\n",
       "      <td>2</td>\n",
       "      <td>Positive</td>\n",
       "      <td>944438400</td>\n",
       "      <td>A modern day fairy tale</td>\n",
       "      <td>A twist of rumplestiskin captured on film, sta...</td>\n",
       "      <td>twist rumplestiskin captur film star michael k...</td>\n",
       "    </tr>\n",
       "    <tr>\n",
       "      <th>417838</th>\n",
       "      <td>451855</td>\n",
       "      <td>B00004CXX9</td>\n",
       "      <td>AJH6LUC1UT1ON</td>\n",
       "      <td>The Phantom of the Opera</td>\n",
       "      <td>0</td>\n",
       "      <td>0</td>\n",
       "      <td>Positive</td>\n",
       "      <td>946857600</td>\n",
       "      <td>FANTASTIC!</td>\n",
       "      <td>Beetlejuice is an excellent and funny movie. K...</td>\n",
       "      <td>beetlejuic excel funni movi keaton hilari wack...</td>\n",
       "    </tr>\n",
       "  </tbody>\n",
       "</table>\n",
       "</div>"
      ],
      "text/plain": [
       "            Id   ProductId          UserId               ProfileName  \\\n",
       "138706  150524  0006641040   ACITT7DI6IDDL           shari zychinski   \n",
       "138683  150501  0006641040   AJ46FKXOVC7NR        Nicholas A Mesiano   \n",
       "417839  451856  B00004CXX9   AIUWLEQ1ADEG5          Elizabeth Medina   \n",
       "346055  374359  B00004CI84  A344SMIA5JECGM           Vincent P. Ross   \n",
       "417838  451855  B00004CXX9   AJH6LUC1UT1ON  The Phantom of the Opera   \n",
       "\n",
       "        HelpfulnessNumerator  HelpfulnessDenominator     Score       Time  \\\n",
       "138706                     0                       0  Positive  939340800   \n",
       "138683                     2                       2  Positive  940809600   \n",
       "417839                     0                       0  Positive  944092800   \n",
       "346055                     1                       2  Positive  944438400   \n",
       "417838                     0                       0  Positive  946857600   \n",
       "\n",
       "                                                  Summary  \\\n",
       "138706                          EVERY book is educational   \n",
       "138683  This whole series is great way to spend time w...   \n",
       "417839                               Entertainingl Funny!   \n",
       "346055                            A modern day fairy tale   \n",
       "417838                                         FANTASTIC!   \n",
       "\n",
       "                                                     Text  \\\n",
       "138706  this witty little book makes my son laugh at l...   \n",
       "138683  I can remember seeing the show when it aired o...   \n",
       "417839  Beetlejuice is a well written movie ..... ever...   \n",
       "346055  A twist of rumplestiskin captured on film, sta...   \n",
       "417838  Beetlejuice is an excellent and funny movie. K...   \n",
       "\n",
       "                                              CleanedText  \n",
       "138706  witti littl book make son laugh loud recit car...  \n",
       "138683  rememb see show air televis year ago child sis...  \n",
       "417839  beetlejuic well written movi everyth excel act...  \n",
       "346055  twist rumplestiskin captur film star michael k...  \n",
       "417838  beetlejuic excel funni movi keaton hilari wack...  "
      ]
     },
     "execution_count": 80,
     "metadata": {},
     "output_type": "execute_result"
    }
   ],
   "source": [
    "# Sorting data based on time\n",
    "\n",
    "time_sort = data.sort_values('Time', ascending=True, axis=0, na_position='last')       # na_postion='last' puts NaNs at the end\n",
    "time_sort.head()"
   ]
  },
  {
   "cell_type": "code",
   "execution_count": 81,
   "metadata": {},
   "outputs": [],
   "source": [
    "# Splitting data into Train, Test and Cross-validation\n",
    "\n",
    "x_train = time_sort[:203912]\n",
    "x_cv = time_sort[203912:291304]\n",
    "x_test = time_sort[291304:]\n",
    "\n",
    "y_train = x_train['Score']\n",
    "y_cv = x_cv['Score']\n",
    "y_test = x_test['Score']"
   ]
  },
  {
   "cell_type": "code",
   "execution_count": 82,
   "metadata": {},
   "outputs": [
    {
     "name": "stdout",
     "output_type": "stream",
     "text": [
      "The shape of the training data is: (203912, 11) (203912,)\n",
      "The shape of the CV data is: (87392, 11) (87392,)\n",
      "The shape of the test data is: (72827, 11) (72827,)\n"
     ]
    }
   ],
   "source": [
    "print(\"The shape of the training data is:\", x_train.shape, y_train.shape)\n",
    "print(\"The shape of the CV data is:\", x_cv.shape, y_cv.shape)\n",
    "print(\"The shape of the test data is:\", x_test.shape, y_test.shape)"
   ]
  },
  {
   "cell_type": "markdown",
   "metadata": {},
   "source": [
    "# 4. Vectorization of splitted of data"
   ]
  },
  {
   "cell_type": "markdown",
   "metadata": {},
   "source": [
    "### 4.1 Bag of Words (BoG)"
   ]
  },
  {
   "cell_type": "code",
   "execution_count": 24,
   "metadata": {},
   "outputs": [],
   "source": [
    "from sklearn.feature_extraction.text import CountVectorizer"
   ]
  },
  {
   "cell_type": "code",
   "execution_count": 25,
   "metadata": {},
   "outputs": [],
   "source": [
    "count_vect = CountVectorizer()\n",
    "count_vect.fit(x_train['CleanedText'])\n",
    "# Fit should be done only to train data\n",
    "# After fitting count_vect only learnss the vocabulary of x_train i.e unique words(unique n-grams)\n",
    "\n",
    "# To convert the SENTENCE into numerical vectors, we call transform()\n",
    "x_train_bow = count_vect.transform(x_train['CleanedText'])\n",
    "x_cv_bow = count_vect.transform(x_cv['CleanedText'])\n",
    "x_test_bow = count_vect.transform(x_test['CleanedText'])"
   ]
  },
  {
   "cell_type": "code",
   "execution_count": 26,
   "metadata": {},
   "outputs": [
    {
     "name": "stdout",
     "output_type": "stream",
     "text": [
      "The shape of the training data is: (203912, 67290) (203912,)\n",
      "The shape of the CV data is: (87392, 67290) (87392,)\n",
      "The shape of the test data is: (72827, 67290) (72827,)\n"
     ]
    }
   ],
   "source": [
    "print(\"The shape of the training data is:\", x_train_bow.shape, y_train.shape)\n",
    "print(\"The shape of the CV data is:\", x_cv_bow.shape, y_cv.shape)\n",
    "print(\"The shape of the test data is:\", x_test_bow.shape, y_test.shape)"
   ]
  },
  {
   "cell_type": "markdown",
   "metadata": {},
   "source": [
    "### 4.2 Bi-grams, Tri-grams and n-grams"
   ]
  },
  {
   "cell_type": "code",
   "execution_count": 27,
   "metadata": {},
   "outputs": [],
   "source": [
    "from nltk import FreqDist"
   ]
  },
  {
   "cell_type": "code",
   "execution_count": 28,
   "metadata": {},
   "outputs": [],
   "source": [
    "# Stop words like \"not\" should not be removed before building n-grams\n",
    "\n",
    "frequently_occuring_positives = FreqDist(positive_words)\n",
    "frequently_occuring_negatives = FreqDist(negative_words)"
   ]
  },
  {
   "cell_type": "code",
   "execution_count": 29,
   "metadata": {},
   "outputs": [
    {
     "name": "stdout",
     "output_type": "stream",
     "text": [
      "Most common positive words: \n",
      " [(b'like', 139075), (b'tast', 128126), (b'good', 111583), (b'flavor', 108443), (b'love', 106975), (b'use', 103603), (b'great', 103140), (b'one', 95883), (b'product', 90263), (b'tri', 86373), (b'tea', 82532), (b'coffe', 77564), (b'make', 74906), (b'get', 71918), (b'food', 63848), (b'would', 55470), (b'time', 54822), (b'buy', 54012), (b'realli', 52584), (b'eat', 51726)]\n",
      "========================================================================================================================\n",
      "Most common negative words: \n",
      " [(b'tast', 34265), (b'like', 32215), (b'product', 27865), (b'one', 20395), (b'flavor', 19060), (b'would', 17955), (b'tri', 17688), (b'use', 15229), (b'good', 14801), (b'coffe', 14405), (b'get', 13756), (b'buy', 13701), (b'order', 12820), (b'food', 12521), (b'tea', 11421), (b'even', 11040), (b'box', 10745), (b'make', 9815), (b'time', 9729), (b'bag', 9650)]\n"
     ]
    }
   ],
   "source": [
    "print(\"Most common positive words: \\n\", frequently_occuring_positives.most_common(20))\n",
    "print(\"==\"*60)\n",
    "print(\"Most common negative words: \\n\", frequently_occuring_negatives.most_common(20))"
   ]
  },
  {
   "cell_type": "code",
   "execution_count": 30,
   "metadata": {},
   "outputs": [
    {
     "data": {
      "text/plain": [
       "(364131, 2923576)"
      ]
     },
     "execution_count": 30,
     "metadata": {},
     "output_type": "execute_result"
    }
   ],
   "source": [
    "count_vect = CountVectorizer(ngram_range=(1,2))\n",
    "final_bigrams_count = count_vect.fit_transform(data['CleanedText'].values)\n",
    "\n",
    "final_bigrams_count.get_shape()"
   ]
  },
  {
   "cell_type": "markdown",
   "metadata": {},
   "source": [
    "### 4.3 Term frequency - Inverse document frequency (tf-idf)"
   ]
  },
  {
   "cell_type": "code",
   "execution_count": 31,
   "metadata": {},
   "outputs": [],
   "source": [
    "from sklearn.feature_extraction.text import TfidfVectorizer"
   ]
  },
  {
   "cell_type": "code",
   "execution_count": 32,
   "metadata": {},
   "outputs": [],
   "source": [
    "tfidf_vect = TfidfVectorizer()\n",
    "tfidf_vect.fit(x_train['CleanedText'])\n",
    "# Fit should be done only to train data\n",
    "# After fitting tfidf_vect only learnss the vocabulary of x_train i.e unique words(unique n-grams)\n",
    "\n",
    "# To convert the SENTENCE into numerical vectors, we call transform()\n",
    "x_train_tfidf = tfidf_vect.transform(x_train['CleanedText'])\n",
    "x_cv_tfidf = tfidf_vect.transform(x_cv['CleanedText'])\n",
    "x_test_tfidf = tfidf_vect.transform(x_test['CleanedText'])"
   ]
  },
  {
   "cell_type": "code",
   "execution_count": 33,
   "metadata": {},
   "outputs": [
    {
     "name": "stdout",
     "output_type": "stream",
     "text": [
      "The shape of the training data is: (203912, 67290) (203912,)\n",
      "The shape of the CV data is: (87392, 67290) (87392,)\n",
      "The shape of the test data is: (72827, 67290) (72827,)\n"
     ]
    }
   ],
   "source": [
    "print(\"The shape of the training data is:\", x_train_tfidf.shape, y_train.shape)\n",
    "print(\"The shape of the CV data is:\", x_cv_tfidf.shape, y_cv.shape)\n",
    "print(\"The shape of the test data is:\", x_test_tfidf.shape, y_test.shape)"
   ]
  },
  {
   "cell_type": "markdown",
   "metadata": {},
   "source": [
    "# 5. Applying KNN Brute Force to vectorized data"
   ]
  },
  {
   "cell_type": "code",
   "execution_count": 49,
   "metadata": {},
   "outputs": [],
   "source": [
    "from sklearn.neighbors import KNeighborsClassifier\n",
    "from sklearn.metrics import accuracy_score, precision_score, recall_score, confusion_matrix, classification_report, f1_score"
   ]
  },
  {
   "cell_type": "markdown",
   "metadata": {},
   "source": [
    "### 5.1 KNN Brute Force on BoW"
   ]
  },
  {
   "cell_type": "code",
   "execution_count": 50,
   "metadata": {},
   "outputs": [
    {
     "name": "stdout",
     "output_type": "stream",
     "text": [
      "FOR K = 6\n",
      "The accuracy of the model is: 83.23874038813621\n",
      "The f1_score of the model is: 59.0\n",
      "The precision_score of the model is: 72.0\n",
      "The recall_score of the model is: 58.0\n",
      "========================================================================================================================\n",
      "FOR K = 8\n",
      "The accuracy of the model is: 83.36461003295497\n",
      "The f1_score of the model is: 57.0\n",
      "The precision_score of the model is: 74.0\n",
      "The recall_score of the model is: 56.0\n",
      "========================================================================================================================\n",
      "FOR K = 10\n",
      "The accuracy of the model is: 83.37033138044673\n",
      "The f1_score of the model is: 55.0\n",
      "The precision_score of the model is: 76.0\n",
      "The recall_score of the model is: 55.0\n",
      "========================================================================================================================\n",
      "FOR K = 12\n",
      "The accuracy of the model is: 83.27535701208349\n",
      "The f1_score of the model is: 54.0\n",
      "The precision_score of the model is: 77.0\n",
      "The recall_score of the model is: 54.0\n",
      "========================================================================================================================\n",
      "FOR K = 14\n",
      "The accuracy of the model is: 83.21928780666423\n",
      "The f1_score of the model is: 53.0\n",
      "The precision_score of the model is: 78.0\n",
      "The recall_score of the model is: 54.0\n",
      "========================================================================================================================\n"
     ]
    }
   ],
   "source": [
    "# This may take a several minutes(even hours) to execute\n",
    "\n",
    "for k in range(6, 15, 2):                                               # Initializing learning model with k=4 to k=15 with step-seze=2\n",
    "    neighbor = KNeighborsClassifier(n_neighbors=k, algorithm='brute')\n",
    "    neighbor.fit(x_train_bow, y_train)                                  # Fitting training data to the model\n",
    "    prediction = neighbor.predict(x_cv_bow)\n",
    "\n",
    "    print(\"FOR K =\", k)\n",
    "    print(\"The accuracy of the model is:\", accuracy_score(y_cv, prediction)*100)\n",
    "    print(\"The f1_score of the model is:\", np.round(f1_score(y_cv, prediction, average='macro')*100))\n",
    "    print(\"The precision_score of the model is:\", np.round(precision_score(y_cv, prediction, average='macro')*100))\n",
    "    print(\"The recall_score of the model is:\", np.round(recall_score(y_cv, prediction, average='macro')*100))\n",
    "    print(\"==\"*60)"
   ]
  },
  {
   "cell_type": "code",
   "execution_count": 52,
   "metadata": {},
   "outputs": [],
   "source": [
    "from scikitplot.metrics import plot_confusion_matrix"
   ]
  },
  {
   "cell_type": "code",
   "execution_count": 53,
   "metadata": {},
   "outputs": [
    {
     "name": "stdout",
     "output_type": "stream",
     "text": [
      "The value of k with highest accuracy is k = 10\n",
      "The accuracy of the model is: 83.78486001071032\n",
      "The f1_score of the model is: 55.0\n",
      "The precision_score of the model is: 76.0\n",
      "The recall_score of the model is: 55.0\n"
     ]
    },
    {
     "data": {
      "image/png": "[encoded data removed]",
      "text/plain": [
       "<Figure size 432x288 with 2 Axes>"
      ]
     },
     "metadata": {
      "needs_background": "light"
     },
     "output_type": "display_data"
    }
   ],
   "source": [
    "neighbor = KNeighborsClassifier(n_neighbors=10, algorithm='brute')\n",
    "neighbor.fit(x_train_bow, y_train)\n",
    "prediction = neighbor.predict(x_test_bow)\n",
    "\n",
    "print(\"The value of k with highest accuracy is k = 10\")\n",
    "print(\"The accuracy of the model is:\", accuracy_score(y_test, prediction)*100)\n",
    "print(\"The f1_score of the model is:\", np.round(f1_score(y_test, prediction, average='macro')*100))\n",
    "print(\"The precision_score of the model is:\", np.round(precision_score(y_test, prediction, average='macro')*100))\n",
    "print(\"The recall_score of the model is:\", np.round(recall_score(y_test, prediction, average='macro')*100))\n",
    "plot_confusion_matrix(y_test, prediction)\n",
    "plt.show()"
   ]
  },
  {
   "cell_type": "markdown",
   "metadata": {},
   "source": [
    "### 5.2 KNN Brute Force on tf-idf"
   ]
  },
  {
   "cell_type": "code",
   "execution_count": 54,
   "metadata": {},
   "outputs": [
    {
     "name": "stdout",
     "output_type": "stream",
     "text": [
      "FOR K = 4\n",
      "The accuracy of the model is: 83.33371475649946\n",
      "The f1_score of the model is: 63.0\n",
      "The precision_score of the model is: 71.0\n",
      "The recall_score of the model is: 61.0\n",
      "========================================================================================================================\n",
      "FOR K = 6\n",
      "The accuracy of the model is: 84.19649395825705\n",
      "The f1_score of the model is: 62.0\n",
      "The precision_score of the model is: 75.0\n",
      "The recall_score of the model is: 60.0\n",
      "========================================================================================================================\n",
      "FOR K = 8\n",
      "The accuracy of the model is: 84.4013181984621\n",
      "The f1_score of the model is: 61.0\n",
      "The precision_score of the model is: 78.0\n",
      "The recall_score of the model is: 59.0\n",
      "========================================================================================================================\n",
      "FOR K = 10\n",
      "The accuracy of the model is: 84.43907909190773\n",
      "The f1_score of the model is: 60.0\n",
      "The precision_score of the model is: 80.0\n",
      "The recall_score of the model is: 58.0\n",
      "========================================================================================================================\n",
      "FOR K = 12\n",
      "The accuracy of the model is: 84.3292292200659\n",
      "The f1_score of the model is: 59.0\n",
      "The precision_score of the model is: 80.0\n",
      "The recall_score of the model is: 58.0\n",
      "========================================================================================================================\n",
      "FOR K = 14\n",
      "The accuracy of the model is: 84.31778652508238\n",
      "The f1_score of the model is: 59.0\n",
      "The precision_score of the model is: 82.0\n",
      "The recall_score of the model is: 57.0\n",
      "========================================================================================================================\n"
     ]
    }
   ],
   "source": [
    "# This may take a several minutes to execute\n",
    "\n",
    "for k in range(4, 15, 2):                                                 # Initializing learning model with k=4 to k=15 with step-seze=2\n",
    "    neighbor = KNeighborsClassifier(n_neighbors=k, algorithm='brute')\n",
    "    neighbor.fit(x_train_tfidf, y_train)                                  # Fitting training data to the model\n",
    "    prediction = neighbor.predict(x_cv_tfidf)\n",
    "\n",
    "    print(\"FOR K =\", k)\n",
    "    print(\"The accuracy of the model is:\", accuracy_score(y_cv, prediction)*100)\n",
    "    print(\"The f1_score of the model is:\", np.round(f1_score(y_cv, prediction, average='macro')*100))\n",
    "    print(\"The precision_score of the model is:\", np.round(precision_score(y_cv, prediction, average='macro')*100))\n",
    "    print(\"The recall_score of the model is:\", np.round(recall_score(y_cv, prediction,scikitplot average='macro')*100))\n",
    "    print(\"==\"*60)"
   ]
  },
  {
   "cell_type": "code",
   "execution_count": 55,
   "metadata": {},
   "outputs": [],
   "source": [
    "from scikitplot.metrics import plot_confusion_matrix"
   ]
  },
  {
   "cell_type": "code",
   "execution_count": 56,
   "metadata": {},
   "outputs": [
    {
     "name": "stdout",
     "output_type": "stream",
     "text": [
      "The value of k with highest accuracy is k = 10\n",
      "The accuracy of the model is: 84.6609087289055\n",
      "The f1_score of the model is: 60.0\n",
      "The precision_score of the model is: 79.0\n",
      "The recall_score of the model is: 58.0\n"
     ]
    },
    {
     "data": {
      "image/png": "[encoded data removed]",
      "text/plain": [
       "<Figure size 432x288 with 2 Axes>"
      ]
     },
     "metadata": {
      "needs_background": "light"
     },
     "output_type": "display_data"
    }
   ],
   "source": [
    "neighbor = KNeighborsClassifier(n_neighbors=10, algorithm='brute')\n",
    "neighbor.fit(x_train_tfidf, y_train)\n",
    "prediction = neighbor.predict(x_test_tfidf)\n",
    "\n",
    "print(\"The value of k with highest accuracy is k = 10\")\n",
    "print(\"The accuracy of the model is:\", accuracy_score(y_test, prediction)*100)\n",
    "print(\"The f1_score of the model is:\", np.round(f1_score(y_test, prediction, average='macro')*100))\n",
    "print(\"The precision_score of the model is:\", np.round(precision_score(y_test, prediction, average='macro')*100))\n",
    "print(\"The recall_score of the model is:\", np.round(recall_score(y_test, prediction, average='macro')*100))\n",
    "plot_confusion_matrix(y_test, prediction)\n",
    "plt.show()"
   ]
  }
 ],
 "metadata": {
  "kernelspec": {
   "display_name": "Python 3",
   "language": "python",
   "name": "python3"
  },
  "language_info": {
   "codemirror_mode": {
    "name": "ipython",
    "version": 3
   },
   "file_extension": ".py",
   "mimetype": "text/x-python",
   "name": "python",
   "nbconvert_exporter": "python",
   "pygments_lexer": "ipython3",
   "version": "3.7.4"
  }
 },
 "nbformat": 4,
 "nbformat_minor": 4
}
