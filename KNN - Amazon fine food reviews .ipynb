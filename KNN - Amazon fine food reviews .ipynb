{
 "cells": [
  {
   "cell_type": "markdown",
   "metadata": {},
   "source": [
    "# Objective\n",
    "#### Determine whether the given reviews are positive or negative using all features except SCORE and then check the accuracy using the Score feature using KNN classifier"
   ]
  },
  {
   "cell_type": "markdown",
   "metadata": {},
   "source": [
    "# 1. Loading data from dataset"
   ]
  },
  {
   "cell_type": "code",
   "execution_count": 1,
   "metadata": {},
   "outputs": [],
   "source": [
    "%matplotlib inline\n",
    "\n",
    "import numpy as np\n",
    "import pandas as pd\n",
    "import matplotlib.pyplot as plt\n",
    "import sqlite3\n",
    "import nltk\n",
    "import seaborn as sns"
   ]
  },
  {
   "cell_type": "code",
   "execution_count": 2,
   "metadata": {},
   "outputs": [],
   "source": [
    "# Loading data from sqlite3 database ignoring those having rewiew score = 3\n",
    "\n",
    "connection = sqlite3.connect('./database.sqlite')\n",
    "dataset = pd.read_sql_query(\"SELECT * FROM Reviews WHERE Score != 3\", connection)"
   ]
  },
  {
   "cell_type": "code",
   "execution_count": 3,
   "metadata": {},
   "outputs": [
    {
     "name": "stdout",
     "output_type": "stream",
     "text": [
      "The shape of the data in dataset is: (525814, 10)\n",
      "========================================================================================================================\n"
     ]
    },
    {
     "data": {
      "text/plain": [
       "Index(['Id', 'ProductId', 'UserId', 'ProfileName', 'HelpfulnessNumerator',\n",
       "       'HelpfulnessDenominator', 'Score', 'Time', 'Summary', 'Text'],\n",
       "      dtype='object')"
      ]
     },
     "execution_count": 3,
     "metadata": {},
     "output_type": "execute_result"
    }
   ],
   "source": [
    "print(\"The shape of the data in dataset is:\", dataset.shape)\n",
    "print('==' * 60)\n",
    "dataset.columns                # This will list all the features name in dataset column-wise"
   ]
  },
  {
   "cell_type": "code",
   "execution_count": 4,
   "metadata": {},
   "outputs": [],
   "source": [
    "# Assigning Positive value to reviews with score>3 and Negative value to reviews with score<3\n",
    "\n",
    "def assign_pn(score):\n",
    "    if (score > 3):\n",
    "        score = 'Positive'\n",
    "    elif (score < 3):\n",
    "        score = 'Negative'\n",
    "    return score\n",
    "\n",
    "pn = dataset['Score']\n",
    "pn_assign = pn.map(assign_pn)\n",
    "dataset['Score'] = pn_assign"
   ]
  },
  {
   "cell_type": "code",
   "execution_count": 5,
   "metadata": {},
   "outputs": [
    {
     "name": "stdout",
     "output_type": "stream",
     "text": [
      "Positive    443777\n",
      "Negative     82037\n",
      "Name: Score, dtype: int64\n",
      "========================================================================================================================\n",
      "The shape of the data in dataset is: (525814, 10)\n"
     ]
    }
   ],
   "source": [
    "print(dataset['Score'].value_counts() )                       # Printing the number of each classes (positive and negative reviews)\n",
    "print('==' * 60)\n",
    "print(\"The shape of the data in dataset is:\", dataset.shape)"
   ]
  },
  {
   "cell_type": "code",
   "execution_count": 6,
   "metadata": {},
   "outputs": [
    {
     "data": {
      "text/html": [
       "<div>\n",
       "<style scoped>\n",
       "    .dataframe tbody tr th:only-of-type {\n",
       "        vertical-align: middle;\n",
       "    }\n",
       "\n",
       "    .dataframe tbody tr th {\n",
       "        vertical-align: top;\n",
       "    }\n",
       "\n",
       "    .dataframe thead th {\n",
       "        text-align: right;\n",
       "    }\n",
       "</style>\n",
       "<table border=\"1\" class=\"dataframe\">\n",
       "  <thead>\n",
       "    <tr style=\"text-align: right;\">\n",
       "      <th></th>\n",
       "      <th>Id</th>\n",
       "      <th>ProductId</th>\n",
       "      <th>UserId</th>\n",
       "      <th>ProfileName</th>\n",
       "      <th>HelpfulnessNumerator</th>\n",
       "      <th>HelpfulnessDenominator</th>\n",
       "      <th>Score</th>\n",
       "      <th>Time</th>\n",
       "      <th>Summary</th>\n",
       "      <th>Text</th>\n",
       "    </tr>\n",
       "  </thead>\n",
       "  <tbody>\n",
       "    <tr>\n",
       "      <th>0</th>\n",
       "      <td>1</td>\n",
       "      <td>B001E4KFG0</td>\n",
       "      <td>A3SGXH7AUHU8GW</td>\n",
       "      <td>delmartian</td>\n",
       "      <td>1</td>\n",
       "      <td>1</td>\n",
       "      <td>Positive</td>\n",
       "      <td>1303862400</td>\n",
       "      <td>Good Quality Dog Food</td>\n",
       "      <td>I have bought several of the Vitality canned d...</td>\n",
       "    </tr>\n",
       "    <tr>\n",
       "      <th>1</th>\n",
       "      <td>2</td>\n",
       "      <td>B00813GRG4</td>\n",
       "      <td>A1D87F6ZCVE5NK</td>\n",
       "      <td>dll pa</td>\n",
       "      <td>0</td>\n",
       "      <td>0</td>\n",
       "      <td>Negative</td>\n",
       "      <td>1346976000</td>\n",
       "      <td>Not as Advertised</td>\n",
       "      <td>Product arrived labeled as Jumbo Salted Peanut...</td>\n",
       "    </tr>\n",
       "    <tr>\n",
       "      <th>2</th>\n",
       "      <td>3</td>\n",
       "      <td>B000LQOCH0</td>\n",
       "      <td>ABXLMWJIXXAIN</td>\n",
       "      <td>Natalia Corres \"Natalia Corres\"</td>\n",
       "      <td>1</td>\n",
       "      <td>1</td>\n",
       "      <td>Positive</td>\n",
       "      <td>1219017600</td>\n",
       "      <td>\"Delight\" says it all</td>\n",
       "      <td>This is a confection that has been around a fe...</td>\n",
       "    </tr>\n",
       "    <tr>\n",
       "      <th>3</th>\n",
       "      <td>4</td>\n",
       "      <td>B000UA0QIQ</td>\n",
       "      <td>A395BORC6FGVXV</td>\n",
       "      <td>Karl</td>\n",
       "      <td>3</td>\n",
       "      <td>3</td>\n",
       "      <td>Negative</td>\n",
       "      <td>1307923200</td>\n",
       "      <td>Cough Medicine</td>\n",
       "      <td>If you are looking for the secret ingredient i...</td>\n",
       "    </tr>\n",
       "    <tr>\n",
       "      <th>4</th>\n",
       "      <td>5</td>\n",
       "      <td>B006K2ZZ7K</td>\n",
       "      <td>A1UQRSCLF8GW1T</td>\n",
       "      <td>Michael D. Bigham \"M. Wassir\"</td>\n",
       "      <td>0</td>\n",
       "      <td>0</td>\n",
       "      <td>Positive</td>\n",
       "      <td>1350777600</td>\n",
       "      <td>Great taffy</td>\n",
       "      <td>Great taffy at a great price.  There was a wid...</td>\n",
       "    </tr>\n",
       "  </tbody>\n",
       "</table>\n",
       "</div>"
      ],
      "text/plain": [
       "   Id   ProductId          UserId                      ProfileName  \\\n",
       "0   1  B001E4KFG0  A3SGXH7AUHU8GW                       delmartian   \n",
       "1   2  B00813GRG4  A1D87F6ZCVE5NK                           dll pa   \n",
       "2   3  B000LQOCH0   ABXLMWJIXXAIN  Natalia Corres \"Natalia Corres\"   \n",
       "3   4  B000UA0QIQ  A395BORC6FGVXV                             Karl   \n",
       "4   5  B006K2ZZ7K  A1UQRSCLF8GW1T    Michael D. Bigham \"M. Wassir\"   \n",
       "\n",
       "   HelpfulnessNumerator  HelpfulnessDenominator     Score        Time  \\\n",
       "0                     1                       1  Positive  1303862400   \n",
       "1                     0                       0  Negative  1346976000   \n",
       "2                     1                       1  Positive  1219017600   \n",
       "3                     3                       3  Negative  1307923200   \n",
       "4                     0                       0  Positive  1350777600   \n",
       "\n",
       "                 Summary                                               Text  \n",
       "0  Good Quality Dog Food  I have bought several of the Vitality canned d...  \n",
       "1      Not as Advertised  Product arrived labeled as Jumbo Salted Peanut...  \n",
       "2  \"Delight\" says it all  This is a confection that has been around a fe...  \n",
       "3         Cough Medicine  If you are looking for the secret ingredient i...  \n",
       "4            Great taffy  Great taffy at a great price.  There was a wid...  "
      ]
     },
     "execution_count": 6,
     "metadata": {},
     "output_type": "execute_result"
    }
   ],
   "source": [
    "# Printing first few rows as a sample of the dataset\n",
    "# You may pass the number of rows to be displayed as an argument to the head() method\n",
    "\n",
    "dataset.head()"
   ]
  },
  {
   "cell_type": "markdown",
   "metadata": {},
   "source": [
    "# 2. Pre-processing of data"
   ]
  },
  {
   "cell_type": "markdown",
   "metadata": {},
   "source": [
    "### 2.1 De-duplication of data"
   ]
  },
  {
   "cell_type": "code",
   "execution_count": 7,
   "metadata": {},
   "outputs": [
    {
     "data": {
      "text/html": [
       "<div>\n",
       "<style scoped>\n",
       "    .dataframe tbody tr th:only-of-type {\n",
       "        vertical-align: middle;\n",
       "    }\n",
       "\n",
       "    .dataframe tbody tr th {\n",
       "        vertical-align: top;\n",
       "    }\n",
       "\n",
       "    .dataframe thead th {\n",
       "        text-align: right;\n",
       "    }\n",
       "</style>\n",
       "<table border=\"1\" class=\"dataframe\">\n",
       "  <thead>\n",
       "    <tr style=\"text-align: right;\">\n",
       "      <th></th>\n",
       "      <th>Id</th>\n",
       "      <th>ProductId</th>\n",
       "      <th>UserId</th>\n",
       "      <th>ProfileName</th>\n",
       "      <th>HelpfulnessNumerator</th>\n",
       "      <th>HelpfulnessDenominator</th>\n",
       "      <th>Score</th>\n",
       "      <th>Time</th>\n",
       "      <th>Summary</th>\n",
       "      <th>Text</th>\n",
       "    </tr>\n",
       "  </thead>\n",
       "  <tbody>\n",
       "    <tr>\n",
       "      <th>138706</th>\n",
       "      <td>150524</td>\n",
       "      <td>0006641040</td>\n",
       "      <td>ACITT7DI6IDDL</td>\n",
       "      <td>shari zychinski</td>\n",
       "      <td>0</td>\n",
       "      <td>0</td>\n",
       "      <td>Positive</td>\n",
       "      <td>939340800</td>\n",
       "      <td>EVERY book is educational</td>\n",
       "      <td>this witty little book makes my son laugh at l...</td>\n",
       "    </tr>\n",
       "    <tr>\n",
       "      <th>138688</th>\n",
       "      <td>150506</td>\n",
       "      <td>0006641040</td>\n",
       "      <td>A2IW4PEEKO2R0U</td>\n",
       "      <td>Tracy</td>\n",
       "      <td>1</td>\n",
       "      <td>1</td>\n",
       "      <td>Positive</td>\n",
       "      <td>1194739200</td>\n",
       "      <td>Love the book, miss the hard cover version</td>\n",
       "      <td>I grew up reading these Sendak books, and watc...</td>\n",
       "    </tr>\n",
       "    <tr>\n",
       "      <th>138689</th>\n",
       "      <td>150507</td>\n",
       "      <td>0006641040</td>\n",
       "      <td>A1S4A3IQ2MU7V4</td>\n",
       "      <td>sally sue \"sally sue\"</td>\n",
       "      <td>1</td>\n",
       "      <td>1</td>\n",
       "      <td>Positive</td>\n",
       "      <td>1191456000</td>\n",
       "      <td>chicken soup with rice months</td>\n",
       "      <td>This is a fun way for children to learn their ...</td>\n",
       "    </tr>\n",
       "    <tr>\n",
       "      <th>138690</th>\n",
       "      <td>150508</td>\n",
       "      <td>0006641040</td>\n",
       "      <td>AZGXZ2UUK6X</td>\n",
       "      <td>Catherine Hallberg \"(Kate)\"</td>\n",
       "      <td>1</td>\n",
       "      <td>1</td>\n",
       "      <td>Positive</td>\n",
       "      <td>1076025600</td>\n",
       "      <td>a good swingy rhythm for reading aloud</td>\n",
       "      <td>This is a great little book to read aloud- it ...</td>\n",
       "    </tr>\n",
       "    <tr>\n",
       "      <th>138691</th>\n",
       "      <td>150509</td>\n",
       "      <td>0006641040</td>\n",
       "      <td>A3CMRKGE0P909G</td>\n",
       "      <td>Teresa</td>\n",
       "      <td>3</td>\n",
       "      <td>4</td>\n",
       "      <td>Positive</td>\n",
       "      <td>1018396800</td>\n",
       "      <td>A great way to learn the months</td>\n",
       "      <td>This is a book of poetry about the months of t...</td>\n",
       "    </tr>\n",
       "  </tbody>\n",
       "</table>\n",
       "</div>"
      ],
      "text/plain": [
       "            Id   ProductId          UserId                  ProfileName  \\\n",
       "138706  150524  0006641040   ACITT7DI6IDDL              shari zychinski   \n",
       "138688  150506  0006641040  A2IW4PEEKO2R0U                        Tracy   \n",
       "138689  150507  0006641040  A1S4A3IQ2MU7V4        sally sue \"sally sue\"   \n",
       "138690  150508  0006641040     AZGXZ2UUK6X  Catherine Hallberg \"(Kate)\"   \n",
       "138691  150509  0006641040  A3CMRKGE0P909G                       Teresa   \n",
       "\n",
       "        HelpfulnessNumerator  HelpfulnessDenominator     Score        Time  \\\n",
       "138706                     0                       0  Positive   939340800   \n",
       "138688                     1                       1  Positive  1194739200   \n",
       "138689                     1                       1  Positive  1191456000   \n",
       "138690                     1                       1  Positive  1076025600   \n",
       "138691                     3                       4  Positive  1018396800   \n",
       "\n",
       "                                           Summary  \\\n",
       "138706                   EVERY book is educational   \n",
       "138688  Love the book, miss the hard cover version   \n",
       "138689               chicken soup with rice months   \n",
       "138690      a good swingy rhythm for reading aloud   \n",
       "138691             A great way to learn the months   \n",
       "\n",
       "                                                     Text  \n",
       "138706  this witty little book makes my son laugh at l...  \n",
       "138688  I grew up reading these Sendak books, and watc...  \n",
       "138689  This is a fun way for children to learn their ...  \n",
       "138690  This is a great little book to read aloud- it ...  \n",
       "138691  This is a book of poetry about the months of t...  "
      ]
     },
     "execution_count": 7,
     "metadata": {},
     "output_type": "execute_result"
    }
   ],
   "source": [
    "# Sorting data based on ProductId\n",
    "\n",
    "sorted_data = dataset.sort_values('ProductId', ascending=True, axis=0)\n",
    "sorted_data.head()"
   ]
  },
  {
   "cell_type": "code",
   "execution_count": 8,
   "metadata": {},
   "outputs": [
    {
     "data": {
      "text/plain": [
       "(364133, 10)"
      ]
     },
     "execution_count": 8,
     "metadata": {},
     "output_type": "execute_result"
    }
   ],
   "source": [
    "# Remove all the data points that exactly match the field values mention below\n",
    "\n",
    "data = sorted_data.drop_duplicates(subset={'UserId', 'Time', 'Text'}, keep='first', inplace=False)\n",
    "data.shape"
   ]
  },
  {
   "cell_type": "code",
   "execution_count": 9,
   "metadata": {},
   "outputs": [
    {
     "name": "stdout",
     "output_type": "stream",
     "text": [
      "69.25129418387492\n"
     ]
    }
   ],
   "source": [
    "# Check what percentage of original data is remaining\n",
    "\n",
    "percentage = (data.shape[0] / dataset.shape[0]) * 100\n",
    "print(percentage)"
   ]
  },
  {
   "cell_type": "code",
   "execution_count": 10,
   "metadata": {},
   "outputs": [
    {
     "data": {
      "text/plain": [
       "(364131, 10)"
      ]
     },
     "execution_count": 10,
     "metadata": {},
     "output_type": "execute_result"
    }
   ],
   "source": [
    "# Removing the reviews having HelpfulnessNumerator greater than HelpfulnessDenominator\n",
    "\n",
    "data = data[data.HelpfulnessDenominator >= data.HelpfulnessNumerator]\n",
    "data.shape"
   ]
  },
  {
   "cell_type": "code",
   "execution_count": 11,
   "metadata": {},
   "outputs": [
    {
     "data": {
      "text/plain": [
       "Positive    307026\n",
       "Negative     57105\n",
       "Name: Score, dtype: int64"
      ]
     },
     "execution_count": 11,
     "metadata": {},
     "output_type": "execute_result"
    },
    {
     "data": {
      "image/png": "[encoded data removed]",
      "text/plain": [
       "<Figure size 432x288 with 1 Axes>"
      ]
     },
     "metadata": {
      "needs_background": "light"
     },
     "output_type": "display_data"
    }
   ],
   "source": [
    "# Getting the number of positive and negative reviews\n",
    "\n",
    "data['Score'].value_counts().plot(kind='bar')\n",
    "data['Score'].value_counts()"
   ]
  },
  {
   "cell_type": "markdown",
   "metadata": {},
   "source": [
    "### 2.2 Data Cleaning"
   ]
  },
  {
   "cell_type": "code",
   "execution_count": 12,
   "metadata": {},
   "outputs": [],
   "source": [
    "import re\n",
    "import string\n",
    "from nltk.corpus import stopwords\n",
    "from nltk.stem import SnowballStemmer\n",
    "from nltk.stem.wordnet import WordNetLemmatizer"
   ]
  },
  {
   "cell_type": "code",
   "execution_count": 13,
   "metadata": {},
   "outputs": [
    {
     "name": "stdout",
     "output_type": "stream",
     "text": [
      "Total number of html tags present: 6\n",
      "========================================================================================================================\n",
      "I set aside at least an hour each day to read to my son (3 y/o). At this point, I consider myself a connoisseur of children's books and this is one of the best. Santa Clause put this under the tree. Since then, we've read it perpetually and he loves it.<br /><br />First, this book taught him the months of the year.<br /><br />Second, it's a pleasure to read. Well suited to 1.5 y/o old to 4+.<br /><br />Very few children's books are worth owning. Most should be borrowed from the library. This book, however, deserves a permanent spot on your shelf. Sendak's best.\n"
     ]
    }
   ],
   "source": [
    "# Find sentences containing html tags\n",
    "\n",
    "i = 0\n",
    "for sentence in data['Text'].values:\n",
    "    if (len(re.findall('<.*?>', sentence))):\n",
    "        print(\"Total number of html tags present:\", i)\n",
    "        print(\"==\"*60)\n",
    "        print(sentence)\n",
    "        break\n",
    "    i += 1"
   ]
  },
  {
   "cell_type": "code",
   "execution_count": 14,
   "metadata": {},
   "outputs": [],
   "source": [
    "# Function to remove texts with html tags(<...>)\n",
    "\n",
    "def cleanHtml(sentence):\n",
    "    cleanr = re.compile('<.*?>')                  # Select ANY text with < > tags\n",
    "    cleanText = re.sub(cleanr, ' ', sentence)     # Replace texts enclosed in < > with white space\n",
    "    return cleanText"
   ]
  },
  {
   "cell_type": "code",
   "execution_count": 15,
   "metadata": {},
   "outputs": [],
   "source": [
    "# Function to remove punctuation marks(.,?/:;)\n",
    "\n",
    "def cleanPunctuation(sentence):\n",
    "    cleanp = re.sub(r'[?|$|.|!]',r'', sentence)\n",
    "    cleanp = re.sub(r'[.|,|)|(|\\|/]',r' ', cleanp)\n",
    "    return cleanp"
   ]
  },
  {
   "cell_type": "code",
   "execution_count": 16,
   "metadata": {},
   "outputs": [
    {
     "name": "stdout",
     "output_type": "stream",
     "text": [
      "{\"wasn't\", 'theirs', 'again', 'most', 'why', 'just', 'hasn', 'wasn', 'ours', 'above', 'too', 'were', \"mustn't\", 'who', 'him', 'whom', 'has', 'y', 'your', 'we', 'while', 'be', 'there', 'both', \"you've\", 'after', 'from', \"you're\", 'a', 'ourselves', 'to', 'up', 'same', \"don't\", 'themselves', 'as', 'haven', 'on', 'his', 'its', 'because', 'other', 'yours', 'below', 'an', 'their', 'once', 'which', 'through', 's', 'ma', 'hers', 'down', 'under', 'being', 'further', 'she', 'no', 'if', 'of', 'couldn', 'd', 'won', 'over', 'them', 'about', 'had', 'own', 'doing', 'until', \"aren't\", 'didn', 'some', \"shouldn't\", 'yourselves', \"it's\", \"you'd\", 'they', 'don', \"isn't\", 'now', \"didn't\", 'shan', 'those', 'am', 'off', 'you', 'himself', 'here', 'my', 'into', 'before', 'nor', 'shouldn', 'i', \"you'll\", 'what', \"couldn't\", 'such', 'by', 'needn', 'that', 'very', 'or', \"wouldn't\", 'isn', 'more', 'not', 'each', 'having', 'aren', 'have', 'been', \"should've\", \"won't\", 'her', 'm', 'in', \"she's\", 'all', 'll', 'how', 'o', 'where', 'so', 'weren', 'against', 'does', 'mightn', 'are', 're', 'only', 'few', \"haven't\", \"mightn't\", 'it', 'any', 'these', 'is', 'was', 'itself', 'ain', \"hasn't\", 'during', 'for', 'myself', \"that'll\", 'but', \"weren't\", 'with', 'when', 'hadn', 'me', 't', 'yourself', 'will', 'then', 'should', \"hadn't\", 'out', 'than', 'at', 'wouldn', 'and', 'herself', 'doesn', 'between', \"needn't\", 'the', 'do', 've', 'he', 'this', 'did', 'our', \"shan't\", 'can', 'mustn', \"doesn't\"}\n"
     ]
    }
   ],
   "source": [
    "# Printing the set of stop words present in english language\n",
    "# You need to download stopword first before using it(import nltk; nltk.download(\"stopwords\");)\n",
    "\n",
    "stopWords = set(stopwords.words('english'))\n",
    "print(stopWords)"
   ]
  },
  {
   "cell_type": "code",
   "execution_count": 17,
   "metadata": {},
   "outputs": [],
   "source": [
    "# Initializing SnowBall Stemmer\n",
    "\n",
    "snowball = SnowballStemmer('english')"
   ]
  },
  {
   "cell_type": "code",
   "execution_count": 18,
   "metadata": {},
   "outputs": [
    {
     "name": "stdout",
     "output_type": "stream",
     "text": [
      "tasti\n",
      "delici\n",
      "littl\n"
     ]
    }
   ],
   "source": [
    "# Printing a base-word using snowball stemmer\n",
    "\n",
    "print(snowball.stem('tasty'))\n",
    "print(snowball.stem('delicious'))\n",
    "print(snowball.stem('little'))"
   ]
  },
  {
   "cell_type": "code",
   "execution_count": 19,
   "metadata": {},
   "outputs": [],
   "source": [
    "# Core Pre-processing code step-by-step(removing html tags, punctuations, stopwords, etc)\n",
    "# This may take a few minutes to execute as it needs to execute all the sentences present in data['Text']\n",
    "\n",
    "i = 0\n",
    "initial_str = ''\n",
    "final_str = []          # Store final string of clean words\n",
    "positive_words = []     # Store words from positive reviews here\n",
    "negative_words = []     # Store words from negative reviews here\n",
    "s = ''\n",
    "\n",
    "for sentence in data['Text'].values:\n",
    "    filtered_sentence = []\n",
    "    sentence = cleanHtml(sentence)          # Remove html tags\n",
    "    for words in sentence.split():\n",
    "        for word in cleanPunctuation(words).split():\n",
    "            if ((word.isalpha()) & (len(word) > 2)):\n",
    "                if (word.lower() not in stopWords):\n",
    "                    s = (snowball.stem(word.lower()).encode('utf-8'))\n",
    "                    filtered_sentence.append(s)\n",
    "                    if ((data['Score'].values)[i] == 'Positive'):\n",
    "                        positive_words.append(s)\n",
    "                    if ((data['Score'].values)[i] == 'Negative'):\n",
    "                        negative_words.append(s)\n",
    "                else:\n",
    "                    continue\n",
    "            else:\n",
    "                continue\n",
    "    initial_str = b\" \".join(filtered_sentence)      # Final string of clean words\n",
    "    final_str.append(initial_str)\n",
    "    i += 1"
   ]
  },
  {
   "cell_type": "code",
   "execution_count": 20,
   "metadata": {},
   "outputs": [],
   "source": [
    "# Adding a column in dataset and storing cleaned text in it.\n",
    "\n",
    "data['CleanedText'] = final_str\n",
    "data['CleanedText'] = data['CleanedText'].str.decode(\"utf-8\")"
   ]
  },
  {
   "cell_type": "code",
   "execution_count": 21,
   "metadata": {},
   "outputs": [
    {
     "data": {
      "text/html": [
       "<div>\n",
       "<style scoped>\n",
       "    .dataframe tbody tr th:only-of-type {\n",
       "        vertical-align: middle;\n",
       "    }\n",
       "\n",
       "    .dataframe tbody tr th {\n",
       "        vertical-align: top;\n",
       "    }\n",
       "\n",
       "    .dataframe thead th {\n",
       "        text-align: right;\n",
       "    }\n",
       "</style>\n",
       "<table border=\"1\" class=\"dataframe\">\n",
       "  <thead>\n",
       "    <tr style=\"text-align: right;\">\n",
       "      <th></th>\n",
       "      <th>Id</th>\n",
       "      <th>ProductId</th>\n",
       "      <th>UserId</th>\n",
       "      <th>ProfileName</th>\n",
       "      <th>HelpfulnessNumerator</th>\n",
       "      <th>HelpfulnessDenominator</th>\n",
       "      <th>Score</th>\n",
       "      <th>Time</th>\n",
       "      <th>Summary</th>\n",
       "      <th>Text</th>\n",
       "      <th>CleanedText</th>\n",
       "    </tr>\n",
       "  </thead>\n",
       "  <tbody>\n",
       "    <tr>\n",
       "      <th>138706</th>\n",
       "      <td>150524</td>\n",
       "      <td>0006641040</td>\n",
       "      <td>ACITT7DI6IDDL</td>\n",
       "      <td>shari zychinski</td>\n",
       "      <td>0</td>\n",
       "      <td>0</td>\n",
       "      <td>Positive</td>\n",
       "      <td>939340800</td>\n",
       "      <td>EVERY book is educational</td>\n",
       "      <td>this witty little book makes my son laugh at l...</td>\n",
       "      <td>witti littl book make son laugh loud recit car...</td>\n",
       "    </tr>\n",
       "    <tr>\n",
       "      <th>138688</th>\n",
       "      <td>150506</td>\n",
       "      <td>0006641040</td>\n",
       "      <td>A2IW4PEEKO2R0U</td>\n",
       "      <td>Tracy</td>\n",
       "      <td>1</td>\n",
       "      <td>1</td>\n",
       "      <td>Positive</td>\n",
       "      <td>1194739200</td>\n",
       "      <td>Love the book, miss the hard cover version</td>\n",
       "      <td>I grew up reading these Sendak books, and watc...</td>\n",
       "      <td>grew read sendak book watch realli rosi movi i...</td>\n",
       "    </tr>\n",
       "    <tr>\n",
       "      <th>138689</th>\n",
       "      <td>150507</td>\n",
       "      <td>0006641040</td>\n",
       "      <td>A1S4A3IQ2MU7V4</td>\n",
       "      <td>sally sue \"sally sue\"</td>\n",
       "      <td>1</td>\n",
       "      <td>1</td>\n",
       "      <td>Positive</td>\n",
       "      <td>1191456000</td>\n",
       "      <td>chicken soup with rice months</td>\n",
       "      <td>This is a fun way for children to learn their ...</td>\n",
       "      <td>fun way children learn month year learn poem t...</td>\n",
       "    </tr>\n",
       "    <tr>\n",
       "      <th>138690</th>\n",
       "      <td>150508</td>\n",
       "      <td>0006641040</td>\n",
       "      <td>AZGXZ2UUK6X</td>\n",
       "      <td>Catherine Hallberg \"(Kate)\"</td>\n",
       "      <td>1</td>\n",
       "      <td>1</td>\n",
       "      <td>Positive</td>\n",
       "      <td>1076025600</td>\n",
       "      <td>a good swingy rhythm for reading aloud</td>\n",
       "      <td>This is a great little book to read aloud- it ...</td>\n",
       "      <td>great littl book read nice rhythm well good re...</td>\n",
       "    </tr>\n",
       "    <tr>\n",
       "      <th>138691</th>\n",
       "      <td>150509</td>\n",
       "      <td>0006641040</td>\n",
       "      <td>A3CMRKGE0P909G</td>\n",
       "      <td>Teresa</td>\n",
       "      <td>3</td>\n",
       "      <td>4</td>\n",
       "      <td>Positive</td>\n",
       "      <td>1018396800</td>\n",
       "      <td>A great way to learn the months</td>\n",
       "      <td>This is a book of poetry about the months of t...</td>\n",
       "      <td>book poetri month year goe month cute littl po...</td>\n",
       "    </tr>\n",
       "  </tbody>\n",
       "</table>\n",
       "</div>"
      ],
      "text/plain": [
       "            Id   ProductId          UserId                  ProfileName  \\\n",
       "138706  150524  0006641040   ACITT7DI6IDDL              shari zychinski   \n",
       "138688  150506  0006641040  A2IW4PEEKO2R0U                        Tracy   \n",
       "138689  150507  0006641040  A1S4A3IQ2MU7V4        sally sue \"sally sue\"   \n",
       "138690  150508  0006641040     AZGXZ2UUK6X  Catherine Hallberg \"(Kate)\"   \n",
       "138691  150509  0006641040  A3CMRKGE0P909G                       Teresa   \n",
       "\n",
       "        HelpfulnessNumerator  HelpfulnessDenominator     Score        Time  \\\n",
       "138706                     0                       0  Positive   939340800   \n",
       "138688                     1                       1  Positive  1194739200   \n",
       "138689                     1                       1  Positive  1191456000   \n",
       "138690                     1                       1  Positive  1076025600   \n",
       "138691                     3                       4  Positive  1018396800   \n",
       "\n",
       "                                           Summary  \\\n",
       "138706                   EVERY book is educational   \n",
       "138688  Love the book, miss the hard cover version   \n",
       "138689               chicken soup with rice months   \n",
       "138690      a good swingy rhythm for reading aloud   \n",
       "138691             A great way to learn the months   \n",
       "\n",
       "                                                     Text  \\\n",
       "138706  this witty little book makes my son laugh at l...   \n",
       "138688  I grew up reading these Sendak books, and watc...   \n",
       "138689  This is a fun way for children to learn their ...   \n",
       "138690  This is a great little book to read aloud- it ...   \n",
       "138691  This is a book of poetry about the months of t...   \n",
       "\n",
       "                                              CleanedText  \n",
       "138706  witti littl book make son laugh loud recit car...  \n",
       "138688  grew read sendak book watch realli rosi movi i...  \n",
       "138689  fun way children learn month year learn poem t...  \n",
       "138690  great littl book read nice rhythm well good re...  \n",
       "138691  book poetri month year goe month cute littl po...  "
      ]
     },
     "execution_count": 21,
     "metadata": {},
     "output_type": "execute_result"
    }
   ],
   "source": [
    "data.head()"
   ]
  },
  {
   "cell_type": "markdown",
   "metadata": {},
   "source": [
    "# 3. Time-based splitting of data"
   ]
  },
  {
   "cell_type": "code",
   "execution_count": 22,
   "metadata": {},
   "outputs": [
    {
     "data": {
      "text/html": [
       "<div>\n",
       "<style scoped>\n",
       "    .dataframe tbody tr th:only-of-type {\n",
       "        vertical-align: middle;\n",
       "    }\n",
       "\n",
       "    .dataframe tbody tr th {\n",
       "        vertical-align: top;\n",
       "    }\n",
       "\n",
       "    .dataframe thead th {\n",
       "        text-align: right;\n",
       "    }\n",
       "</style>\n",
       "<table border=\"1\" class=\"dataframe\">\n",
       "  <thead>\n",
       "    <tr style=\"text-align: right;\">\n",
       "      <th></th>\n",
       "      <th>Id</th>\n",
       "      <th>ProductId</th>\n",
       "      <th>UserId</th>\n",
       "      <th>ProfileName</th>\n",
       "      <th>HelpfulnessNumerator</th>\n",
       "      <th>HelpfulnessDenominator</th>\n",
       "      <th>Score</th>\n",
       "      <th>Time</th>\n",
       "      <th>Summary</th>\n",
       "      <th>Text</th>\n",
       "      <th>CleanedText</th>\n",
       "    </tr>\n",
       "  </thead>\n",
       "  <tbody>\n",
       "    <tr>\n",
       "      <th>138706</th>\n",
       "      <td>150524</td>\n",
       "      <td>0006641040</td>\n",
       "      <td>ACITT7DI6IDDL</td>\n",
       "      <td>shari zychinski</td>\n",
       "      <td>0</td>\n",
       "      <td>0</td>\n",
       "      <td>Positive</td>\n",
       "      <td>939340800</td>\n",
       "      <td>EVERY book is educational</td>\n",
       "      <td>this witty little book makes my son laugh at l...</td>\n",
       "      <td>witti littl book make son laugh loud recit car...</td>\n",
       "    </tr>\n",
       "    <tr>\n",
       "      <th>138683</th>\n",
       "      <td>150501</td>\n",
       "      <td>0006641040</td>\n",
       "      <td>AJ46FKXOVC7NR</td>\n",
       "      <td>Nicholas A Mesiano</td>\n",
       "      <td>2</td>\n",
       "      <td>2</td>\n",
       "      <td>Positive</td>\n",
       "      <td>940809600</td>\n",
       "      <td>This whole series is great way to spend time w...</td>\n",
       "      <td>I can remember seeing the show when it aired o...</td>\n",
       "      <td>rememb see show air televis year ago child sis...</td>\n",
       "    </tr>\n",
       "    <tr>\n",
       "      <th>417839</th>\n",
       "      <td>451856</td>\n",
       "      <td>B00004CXX9</td>\n",
       "      <td>AIUWLEQ1ADEG5</td>\n",
       "      <td>Elizabeth Medina</td>\n",
       "      <td>0</td>\n",
       "      <td>0</td>\n",
       "      <td>Positive</td>\n",
       "      <td>944092800</td>\n",
       "      <td>Entertainingl Funny!</td>\n",
       "      <td>Beetlejuice is a well written movie ..... ever...</td>\n",
       "      <td>beetlejuic well written movi everyth excel act...</td>\n",
       "    </tr>\n",
       "    <tr>\n",
       "      <th>346055</th>\n",
       "      <td>374359</td>\n",
       "      <td>B00004CI84</td>\n",
       "      <td>A344SMIA5JECGM</td>\n",
       "      <td>Vincent P. Ross</td>\n",
       "      <td>1</td>\n",
       "      <td>2</td>\n",
       "      <td>Positive</td>\n",
       "      <td>944438400</td>\n",
       "      <td>A modern day fairy tale</td>\n",
       "      <td>A twist of rumplestiskin captured on film, sta...</td>\n",
       "      <td>twist rumplestiskin captur film star michael k...</td>\n",
       "    </tr>\n",
       "    <tr>\n",
       "      <th>417838</th>\n",
       "      <td>451855</td>\n",
       "      <td>B00004CXX9</td>\n",
       "      <td>AJH6LUC1UT1ON</td>\n",
       "      <td>The Phantom of the Opera</td>\n",
       "      <td>0</td>\n",
       "      <td>0</td>\n",
       "      <td>Positive</td>\n",
       "      <td>946857600</td>\n",
       "      <td>FANTASTIC!</td>\n",
       "      <td>Beetlejuice is an excellent and funny movie. K...</td>\n",
       "      <td>beetlejuic excel funni movi keaton hilari wack...</td>\n",
       "    </tr>\n",
       "  </tbody>\n",
       "</table>\n",
       "</div>"
      ],
      "text/plain": [
       "            Id   ProductId          UserId               ProfileName  \\\n",
       "138706  150524  0006641040   ACITT7DI6IDDL           shari zychinski   \n",
       "138683  150501  0006641040   AJ46FKXOVC7NR        Nicholas A Mesiano   \n",
       "417839  451856  B00004CXX9   AIUWLEQ1ADEG5          Elizabeth Medina   \n",
       "346055  374359  B00004CI84  A344SMIA5JECGM           Vincent P. Ross   \n",
       "417838  451855  B00004CXX9   AJH6LUC1UT1ON  The Phantom of the Opera   \n",
       "\n",
       "        HelpfulnessNumerator  HelpfulnessDenominator     Score       Time  \\\n",
       "138706                     0                       0  Positive  939340800   \n",
       "138683                     2                       2  Positive  940809600   \n",
       "417839                     0                       0  Positive  944092800   \n",
       "346055                     1                       2  Positive  944438400   \n",
       "417838                     0                       0  Positive  946857600   \n",
       "\n",
       "                                                  Summary  \\\n",
       "138706                          EVERY book is educational   \n",
       "138683  This whole series is great way to spend time w...   \n",
       "417839                               Entertainingl Funny!   \n",
       "346055                            A modern day fairy tale   \n",
       "417838                                         FANTASTIC!   \n",
       "\n",
       "                                                     Text  \\\n",
       "138706  this witty little book makes my son laugh at l...   \n",
       "138683  I can remember seeing the show when it aired o...   \n",
       "417839  Beetlejuice is a well written movie ..... ever...   \n",
       "346055  A twist of rumplestiskin captured on film, sta...   \n",
       "417838  Beetlejuice is an excellent and funny movie. K...   \n",
       "\n",
       "                                              CleanedText  \n",
       "138706  witti littl book make son laugh loud recit car...  \n",
       "138683  rememb see show air televis year ago child sis...  \n",
       "417839  beetlejuic well written movi everyth excel act...  \n",
       "346055  twist rumplestiskin captur film star michael k...  \n",
       "417838  beetlejuic excel funni movi keaton hilari wack...  "
      ]
     },
     "execution_count": 22,
     "metadata": {},
     "output_type": "execute_result"
    }
   ],
   "source": [
    "# Sorting data based on time\n",
    "\n",
    "time_sort = data.sort_values('Time', ascending=True, axis=0, na_position='last')       # na_postion='last' puts NaNs at the end\n",
    "time_sort.head()"
   ]
  },
  {
   "cell_type": "code",
   "execution_count": 23,
   "metadata": {},
   "outputs": [],
   "source": [
    "from sklearn.model_selection import train_test_split"
   ]
  },
  {
   "cell_type": "code",
   "execution_count": 24,
   "metadata": {},
   "outputs": [],
   "source": [
    "# Splitting data into Train, Test and Cross-validation\n",
    "\n",
    "X = time_sort['CleanedText']\n",
    "Y = time_sort['Score']\n",
    "\n",
    "x_training, x_test, y_training, y_test= train_test_split(X, Y, test_size=0.25)\n",
    "x_train, x_cv, y_train, y_cv = train_test_split(x_training, y_training, test_size=0.3)"
   ]
  },
  {
   "cell_type": "code",
   "execution_count": 25,
   "metadata": {},
   "outputs": [
    {
     "name": "stdout",
     "output_type": "stream",
     "text": [
      "The shape of the training data is: (191168,) (191168,)\n",
      "The shape of the CV data is: (81930,) (81930,)\n",
      "The shape of the test data is: (91033,) (91033,)\n"
     ]
    }
   ],
   "source": [
    "print(\"The shape of the training data is:\", x_train.shape, y_train.shape)\n",
    "print(\"The shape of the CV data is:\", x_cv.shape, y_cv.shape)\n",
    "print(\"The shape of the test data is:\", x_test.shape, y_test.shape)"
   ]
  },
  {
   "cell_type": "markdown",
   "metadata": {},
   "source": [
    "# 4. Creating a function to Train and Test KNN models"
   ]
  },
  {
   "cell_type": "code",
   "execution_count": 26,
   "metadata": {},
   "outputs": [],
   "source": [
    "import warnings\n",
    "warnings.filterwarnings(\"ignore\")\n",
    "from sklearn.neighbors import KNeighborsClassifier\n",
    "from sklearn.metrics import accuracy_score, f1_score, precision_score, recall_score"
   ]
  },
  {
   "cell_type": "markdown",
   "metadata": {},
   "source": [
    "### 4.1 Train funcrion for KNN models"
   ]
  },
  {
   "cell_type": "code",
   "execution_count": 27,
   "metadata": {},
   "outputs": [],
   "source": [
    "def knn_train(x_train, x_cv, y_train, y_cv, algo):\n",
    "    k = []\n",
    "    accuracy_cv = []\n",
    "\n",
    "    for i in range(2, 25, 2):\n",
    "        neighbor = KNeighborsClassifier(n_neighbors=i, algorithm=algo)\n",
    "        neighbor.fit(x_train, y_train)\n",
    "        \n",
    "        prediction = neighbor.predict(x_cv)\n",
    "        \n",
    "        acc_cv = accuracy_score(y_cv, prediction)\n",
    "        f1_cv = f1_score(y_cv, prediction, average='macro')\n",
    "        precision_cv = precision_score(y_cv, prediction, average='macro')\n",
    "        recall_cv = recall_score(y_cv, prediction, average='macro')\n",
    "        \n",
    "        print(\"FOR K =\", i)\n",
    "        print(\"The accuracy of the model is:\", acc_cv*100)\n",
    "        print(\"The f1_score of the model is:\", f1_cv*100)\n",
    "        print(\"The precision_score of the model is:\", precision_cv*100)\n",
    "        print(\"The recall_score of the model is:\", recall_cv*100)\n",
    "        print(\"==\"*60)\n",
    "        \n",
    "        k.append(i)\n",
    "        accuracy_cv.append(acc_cv)\n",
    "        \n",
    "    # Plot k vs auc_score graph\n",
    "    plt.plot(k, accuracy_cv, 'b-', label=\"Cross Validation Data\")\n",
    "    plt.legend(loc='lower right')\n",
    "    plt.title(\"K v/s Auc Score\")\n",
    "    plt.ylabel('Auc Score')\n",
    "    plt.xlabel('K')\n",
    "    plt.show()"
   ]
  },
  {
   "cell_type": "markdown",
   "metadata": {},
   "source": [
    "### 4.2 Test funcrion for KNN models"
   ]
  },
  {
   "cell_type": "code",
   "execution_count": 28,
   "metadata": {},
   "outputs": [],
   "source": [
    "from sklearn.metrics import classification_report\n",
    "from scikitplot.metrics import plot_confusion_matrix"
   ]
  },
  {
   "cell_type": "code",
   "execution_count": 29,
   "metadata": {},
   "outputs": [],
   "source": [
    "def knn_test(x_train, y_train, x_test, y_test, algo, optimal_k):\n",
    "    neighbor = KNeighborsClassifier(n_neighbors=optimal_k, algorithm=algo) \n",
    "    neighbor.fit(x_train, y_train)\n",
    "    \n",
    "    prediction = neighbor.predict(x_test)\n",
    "\n",
    "    print(\"The accuracy of the model is:\", accuracy_score(y_test, prediction)*100)\n",
    "    print(\"The macro f1_score of the model is:\", f1_score(y_test, prediction, average = 'macro')*100)\n",
    "    print(\"The micro f1_score of the model is:\", f1_score(y_test, prediction, average = 'micro')*100)\n",
    "    print(\"The precision_score of the model is:\", precision_score(y_test, prediction, average='macro')*100)\n",
    "    print(\"The recall_score of the model is:\", recall_score(y_test, prediction, average='macro')*100)\n",
    "    print(\"The precision recall report for data:\\n\", classification_report(y_test, prediction))\n",
    "    \n",
    "    plot_confusion_matrix(y_test, prediction)\n",
    "    plt.show()"
   ]
  },
  {
   "cell_type": "markdown",
   "metadata": {},
   "source": [
    "# 5. Vectorization of splitted of data"
   ]
  },
  {
   "cell_type": "markdown",
   "metadata": {},
   "source": [
    "### 5.1 Bag of Words (BoW)"
   ]
  },
  {
   "cell_type": "code",
   "execution_count": 30,
   "metadata": {},
   "outputs": [],
   "source": [
    "from sklearn.feature_extraction.text import CountVectorizer"
   ]
  },
  {
   "cell_type": "code",
   "execution_count": 31,
   "metadata": {},
   "outputs": [],
   "source": [
    "count_vect = CountVectorizer(ngram_range=(2,2))\n",
    "count_vect.fit(x_train)\n",
    "# Fit should be done only to train data\n",
    "# After fitting count_vect only learns the vocabulary of x_train i.e unique words(unique n-grams)\n",
    "\n",
    "# To convert the SENTENCE into numerical vectors, we call transform()\n",
    "x_train_bow = count_vect.transform(x_train)\n",
    "x_cv_bow = count_vect.transform(x_cv)\n",
    "x_test_bow = count_vect.transform(x_test)"
   ]
  },
  {
   "cell_type": "code",
   "execution_count": 32,
   "metadata": {},
   "outputs": [
    {
     "name": "stdout",
     "output_type": "stream",
     "text": [
      "The shape of the training data is: (191168, 1863703) (191168,)\n",
      "The shape of the CV data is: (81930, 1863703) (81930,)\n",
      "The shape of the test data is: (91033, 1863703) (91033,)\n"
     ]
    }
   ],
   "source": [
    "print(\"The shape of the training data is:\", x_train_bow.shape, y_train.shape)\n",
    "print(\"The shape of the CV data is:\", x_cv_bow.shape, y_cv.shape)\n",
    "print(\"The shape of the test data is:\", x_test_bow.shape, y_test.shape)"
   ]
  },
  {
   "cell_type": "markdown",
   "metadata": {},
   "source": [
    "### 5.2 Term Frequency - Inverse Document Frequency (tf-idf)"
   ]
  },
  {
   "cell_type": "code",
   "execution_count": 30,
   "metadata": {},
   "outputs": [],
   "source": [
    "from sklearn.feature_extraction.text import TfidfVectorizer"
   ]
  },
  {
   "cell_type": "code",
   "execution_count": 31,
   "metadata": {},
   "outputs": [],
   "source": [
    "tfidf_vect = TfidfVectorizer(stop_words=None, ngram_range=(1,2))\n",
    "tfidf_vect.fit(x_train)\n",
    "# Fit should be done only to train data\n",
    "# After fitting tfidf_vect only learnss the vocabulary of x_train i.e unique words(unique n-grams)\n",
    "\n",
    "# To convert the SENTENCE into numerical vectors, we call transform()\n",
    "x_train_tfidf = tfidf_vect.transform(x_train)\n",
    "x_cv_tfidf = tfidf_vect.transform(x_cv)\n",
    "x_test_tfidf = tfidf_vect.transform(x_test)"
   ]
  },
  {
   "cell_type": "code",
   "execution_count": 32,
   "metadata": {},
   "outputs": [
    {
     "name": "stdout",
     "output_type": "stream",
     "text": [
      "The shape of the training data is: (191168, 1925085) (191168,)\n",
      "The shape of the CV data is: (81930, 1925085) (81930,)\n",
      "The shape of the test data is: (91033, 1925085) (91033,)\n"
     ]
    }
   ],
   "source": [
    "print(\"The shape of the training data is:\", x_train_tfidf.shape, y_train.shape)\n",
    "print(\"The shape of the CV data is:\", x_cv_tfidf.shape, y_cv.shape)\n",
    "print(\"The shape of the test data is:\", x_test_tfidf.shape, y_test.shape)"
   ]
  },
  {
   "cell_type": "markdown",
   "metadata": {},
   "source": [
    "### 5.3 Word2Vec"
   ]
  },
  {
   "cell_type": "code",
   "execution_count": 30,
   "metadata": {},
   "outputs": [],
   "source": [
    "from gensim.models import Word2Vec\n",
    "from gensim.models import KeyedVectors\n",
    "from tqdm import tqdm"
   ]
  },
  {
   "cell_type": "code",
   "execution_count": 31,
   "metadata": {},
   "outputs": [],
   "source": [
    "sentence_list = []\n",
    "for sentence in x_train:\n",
    "    sentence_list.append(sentence.split())"
   ]
  },
  {
   "cell_type": "code",
   "execution_count": 32,
   "metadata": {},
   "outputs": [],
   "source": [
    "sentence_list_cv = []\n",
    "for sentence in x_cv:\n",
    "    sentence_list_cv.append(sentence.split())"
   ]
  },
  {
   "cell_type": "code",
   "execution_count": 33,
   "metadata": {},
   "outputs": [],
   "source": [
    "sentence_list_test = []\n",
    "for sentence in x_test:\n",
    "    sentence_list_test.append(sentence.split())"
   ]
  },
  {
   "cell_type": "code",
   "execution_count": 34,
   "metadata": {},
   "outputs": [
    {
     "name": "stdout",
     "output_type": "stream",
     "text": [
      "<class 'gensim.models.word2vec.Word2Vec'>\n"
     ]
    }
   ],
   "source": [
    "# Train your own Word2Vec model using your own train text corpus \n",
    "\n",
    "w2v_train_model = Word2Vec(sentence_list, min_count=5, size=50, workers=4)          # Considers only those words that occured atleast 5 times\n",
    "print(type(w2v_train_model))"
   ]
  },
  {
   "cell_type": "code",
   "execution_count": 35,
   "metadata": {},
   "outputs": [
    {
     "name": "stdout",
     "output_type": "stream",
     "text": [
      "The number of words that occured minimum 5 times: 16438\n",
      "These are the sample words from index 0 to 50:/n ['spent', 'year', 'look', 'low', 'calori', 'fat', 'dress', 'like', 'ago', 'found', 'vidalia', 'brand', 'sweet', 'onion', 'raspberri', 'vinaigrett', 'knew', 'immedi', 'search', 'yummi', 'healthi', 'veget', 'could', 'longer', 'find', 'local', 'store', 'start', 'order', 'onlin', 'want', 'without', 'help', 'weight', 'health', 'goal', 'great', 'snack', 'desert', 'plus', 'bonus', 'realli', 'tell', 'differ', 'chocol', 'tough', 'eat', 'whole', 'bag', 'one']\n"
     ]
    }
   ],
   "source": [
    "w2v_words = list(w2v_train_model.wv.vocab)\n",
    "print(\"The number of words that occured minimum 5 times:\", len(w2v_words))\n",
    "print(\"These are the sample words from index 0 to 50:/n\", w2v_words[0:50])"
   ]
  },
  {
   "cell_type": "markdown",
   "metadata": {},
   "source": [
    "### 5.4 Average Word2Vec"
   ]
  },
  {
   "cell_type": "code",
   "execution_count": 36,
   "metadata": {},
   "outputs": [
    {
     "name": "stderr",
     "output_type": "stream",
     "text": [
      "100%|██████████| 191168/191168 [00:21<00:00, 8865.30it/s]\n"
     ]
    }
   ],
   "source": [
    "avg_train_vector = []                         # Average w2v for each review/sentence is stored in this array\n",
    "for sentence in tqdm(sentence_list):          # For each sentence/review\n",
    "    sentence_vector = np.zeros(50)            # As word vectors are of zero length\n",
    "    count_words = 0                           # Num of words with a valid vector in a sentence/review\n",
    "    for word in sentence:\n",
    "        try:\n",
    "            vect = w2v_train_model.wv[word]\n",
    "            sentence_vector += vect\n",
    "            count_words += 1\n",
    "        except:\n",
    "            pass\n",
    "    if count_words != 0:\n",
    "        sentence_vector /= count_words\n",
    "    avg_train_vector.append(sentence_vector)\n",
    "avg_train_vector = np.array(avg_train_vector)"
   ]
  },
  {
   "cell_type": "code",
   "execution_count": 37,
   "metadata": {},
   "outputs": [
    {
     "name": "stdout",
     "output_type": "stream",
     "text": [
      "(191168, 50)\n",
      "[ 0.62862751 -0.27735252  0.86835065 -0.61411911  1.06589568 -0.47329209\n",
      "  0.14324177 -0.563572    0.23591785  0.749522    1.07128377 -0.05552739\n",
      "  1.32256143 -0.32440567 -0.0110846   0.12213442  0.08350034 -0.04284255\n",
      "  0.41245277 -0.19764048 -1.81309847  0.47555656 -0.13404346 -0.02719647\n",
      "  1.03344868 -0.09058742 -0.40468668 -0.97062374 -0.1384321   0.59712194\n",
      "  0.81154848  0.99789078  0.25482247 -0.06282113 -1.25008008  0.002388\n",
      " -0.21110159  2.3390995  -0.03000106  0.09073209 -0.04729315 -1.42501573\n",
      " -0.41001698  1.00802594  0.37482978 -0.61983113  0.84664829 -0.04350902\n",
      " -1.01066521  0.03124187]\n"
     ]
    }
   ],
   "source": [
    "print(avg_train_vector.shape)\n",
    "print(avg_train_vector[0])"
   ]
  },
  {
   "cell_type": "code",
   "execution_count": 38,
   "metadata": {},
   "outputs": [
    {
     "name": "stderr",
     "output_type": "stream",
     "text": [
      "100%|██████████| 81930/81930 [00:09<00:00, 8795.94it/s]\n"
     ]
    }
   ],
   "source": [
    "avg_cv_vector = []                            # Average w2v for each review/sentence is stored in this array\n",
    "for sentence in tqdm(sentence_list_cv):       # For each sentence/review\n",
    "    sentence_vector = np.zeros(50)            # As word vectors are of zero length\n",
    "    count_words = 0                           # Num of words with a valid vector in a sentence/review\n",
    "    for word in sentence:\n",
    "        try:\n",
    "            vect = w2v_train_model.wv[word]\n",
    "            sentence_vector += vect\n",
    "            count_words += 1\n",
    "        except:\n",
    "            pass\n",
    "    if count_words != 0:\n",
    "        sentence_vector /= count_words\n",
    "    avg_cv_vector.append(sentence_vector)\n",
    "avg_cv_vector = np.array(avg_cv_vector)"
   ]
  },
  {
   "cell_type": "code",
   "execution_count": 39,
   "metadata": {},
   "outputs": [
    {
     "name": "stdout",
     "output_type": "stream",
     "text": [
      "(81930, 50)\n",
      "[ 0.07530848 -0.62738166 -0.02696957 -0.755237    0.12416798 -0.71864357\n",
      "  0.16380859  0.08774618  0.11441729 -0.7574957   0.9748091   0.40848627\n",
      "  0.32933499 -0.14787105  0.4419236   0.06562775 -0.24712285  0.30309213\n",
      "  0.76748712 -0.22169089 -1.18692755  0.5896885  -0.83994709  0.16152977\n",
      "  0.47048446 -0.5813387   0.6926413  -0.9789319   0.49718491  0.39784904\n",
      " -0.32864425  0.12307369  0.75027898  0.24326496 -0.01923601 -0.19627237\n",
      " -0.58285574  0.94580092 -0.71461539 -0.03344212 -0.19696062 -0.36617429\n",
      "  0.78550357  0.29592782  0.40835986  0.19285268  0.19133535 -0.19186545\n",
      "  0.01977453 -0.51080654]\n"
     ]
    }
   ],
   "source": [
    "print(avg_cv_vector.shape)\n",
    "print(avg_cv_vector[0])"
   ]
  },
  {
   "cell_type": "code",
   "execution_count": 40,
   "metadata": {},
   "outputs": [
    {
     "name": "stderr",
     "output_type": "stream",
     "text": [
      "100%|██████████| 91033/91033 [00:10<00:00, 8800.01it/s]\n"
     ]
    }
   ],
   "source": [
    "avg_test_vector = []                          # Average w2v for each review/sentence is stored in this array\n",
    "for sentence in tqdm(sentence_list_test):     # For each sentence/review\n",
    "    sentence_vector = np.zeros(50)            # As word vectors are of zero length\n",
    "    count_words = 0                           # Num of words with a valid vector in a sentence/review\n",
    "    for word in sentence:\n",
    "        try:\n",
    "            vect = w2v_train_model.wv[word]\n",
    "            sentence_vector += vect\n",
    "            count_words += 1\n",
    "        except:\n",
    "            pass\n",
    "    if count_words != 0:\n",
    "        sentence_vector /= count_words\n",
    "    avg_test_vector.append(sentence_vector)\n",
    "avg_test_vector = np.array(avg_test_vector)"
   ]
  },
  {
   "cell_type": "code",
   "execution_count": 41,
   "metadata": {},
   "outputs": [
    {
     "name": "stdout",
     "output_type": "stream",
     "text": [
      "(91033, 50)\n",
      "[-0.90517382 -0.22138438  0.2183636  -0.52142329  0.19569448  0.49617738\n",
      " -0.89453634  0.03904357 -0.49731832 -1.13398159  0.6174483  -0.1762707\n",
      " -0.07658873 -0.40164344 -0.58209158  0.23590163 -0.17740942 -1.11642061\n",
      "  0.15066979  0.40014644 -0.11383272 -0.47577177  0.17718595 -0.31020709\n",
      "  0.10037663 -1.14404895  0.53984576 -0.46216297 -0.37851823 -0.10703729\n",
      "  1.05833969 -0.26077589 -0.11111518 -1.06587019 -0.87263052  0.79742144\n",
      " -0.45081135  1.9634269  -0.53884431 -0.0306679   0.54157047 -0.3895925\n",
      " -0.93033794 -0.11319753  0.60349948 -0.39554757  0.75692695 -0.17109515\n",
      "  0.23987639  0.40398665]\n"
     ]
    }
   ],
   "source": [
    "print(avg_test_vector.shape)\n",
    "print(avg_test_vector[0])"
   ]
  },
  {
   "cell_type": "code",
   "execution_count": 42,
   "metadata": {},
   "outputs": [
    {
     "data": {
      "text/plain": [
       "array([[False, False, False, ..., False, False, False],\n",
       "       [False, False, False, ..., False, False, False],\n",
       "       [False, False, False, ..., False, False, False],\n",
       "       ...,\n",
       "       [False, False, False, ..., False, False, False],\n",
       "       [False, False, False, ..., False, False, False],\n",
       "       [False, False, False, ..., False, False, False]])"
      ]
     },
     "execution_count": 42,
     "metadata": {},
     "output_type": "execute_result"
    }
   ],
   "source": [
    "# Checking if the model has NULL values ins the list avg_train_vector\n",
    "\n",
    "pd.isnull(avg_train_vector)"
   ]
  },
  {
   "cell_type": "code",
   "execution_count": 43,
   "metadata": {},
   "outputs": [],
   "source": [
    "x_train_avgw2v = avg_train_vector\n",
    "x_cv_avgw2v = avg_cv_vector\n",
    "x_test_avgw2v = avg_test_vector"
   ]
  },
  {
   "cell_type": "code",
   "execution_count": 44,
   "metadata": {},
   "outputs": [
    {
     "name": "stdout",
     "output_type": "stream",
     "text": [
      "The shape of the training data is: (191168, 50) (191168,)\n",
      "The shape of the CV data is: (81930, 50) (81930,)\n",
      "The shape of the test data is: (91033, 50) (91033,)\n"
     ]
    }
   ],
   "source": [
    "print(\"The shape of the training data is:\", x_train_avgw2v.shape, y_train.shape)\n",
    "print(\"The shape of the CV data is:\", x_cv_avgw2v.shape, y_cv.shape)\n",
    "print(\"The shape of the test data is:\", x_test_avgw2v.shape, y_test.shape)"
   ]
  },
  {
   "cell_type": "markdown",
   "metadata": {},
   "source": [
    "### 5.5 TF-IDF Weighed Word2Vec"
   ]
  },
  {
   "cell_type": "code",
   "execution_count": 36,
   "metadata": {},
   "outputs": [],
   "source": [
    "from sklearn.feature_extraction.text import TfidfVectorizer"
   ]
  },
  {
   "cell_type": "code",
   "execution_count": 37,
   "metadata": {},
   "outputs": [],
   "source": [
    "tfidf_vect = TfidfVectorizer(ngram_range=(1,2), min_df=10, max_features=500)\n",
    "tfidf_vect.fit_transform(x_train)\n",
    "tfidf_feat = tfidf_vect.get_feature_names()\n",
    "dictionary = dict(zip(tfidf_feat, list(tfidf_vect.idf_)))"
   ]
  },
  {
   "cell_type": "code",
   "execution_count": 38,
   "metadata": {},
   "outputs": [
    {
     "name": "stderr",
     "output_type": "stream",
     "text": [
      "100%|██████████| 191168/191168 [00:43<00:00, 4366.37it/s]\n"
     ]
    }
   ],
   "source": [
    "tfidf_train_vector = []                         # Average w2v for each review/sentence is stored in this array\n",
    "for sentence in tqdm(sentence_list):            # For each sentence/review\n",
    "    sentence_vector = np.zeros(50)              # As word vectors are of zero length\n",
    "    weight_sum = 0                              # Num of words with a valid vector in a sentence/review\n",
    "    for word in sentence:\n",
    "        try:\n",
    "            vect = w2v_train_model.wv[word]\n",
    "            tfidf_weight = dictionary[word]*(sentence.count(word)/len(sentence))\n",
    "            sentence_vector += (vect*tfidf_weight)\n",
    "            weight_sum += tfidf_weight\n",
    "        except:\n",
    "            pass\n",
    "    if weight_sum != 0:\n",
    "        sentence_vector /= weight_sum\n",
    "    tfidf_train_vector.append(sentence_vector)\n",
    "tfidf_train_vector = np.array(tfidf_train_vector)"
   ]
  },
  {
   "cell_type": "code",
   "execution_count": 39,
   "metadata": {},
   "outputs": [
    {
     "name": "stdout",
     "output_type": "stream",
     "text": [
      "(191168, 50)\n",
      "[ 0.7715307  -0.65049895  1.20718082 -0.78353549  0.08307408  0.11026174\n",
      " -0.58552086 -0.36988362  1.10421928  0.91739887  0.02548137  0.92605932\n",
      " -0.25017393  0.59020416 -0.32050749  0.27332844  0.80769564  0.14878424\n",
      "  0.25246326  0.13963537 -0.03721084  0.15397323 -0.31083295 -0.5594245\n",
      " -1.41644406 -0.87228132 -0.42077684 -0.25189404  0.0861041  -1.07016689\n",
      " -0.17438439 -1.02240246 -0.45013412  0.08550297 -0.45428355 -0.99199111\n",
      " -0.0227376   1.31178801 -0.27266075  0.51150999  0.10748062  0.75998302\n",
      "  0.75006535  0.64021338  0.84450019  0.16975038  0.43650763  0.23690266\n",
      "  1.71431511  0.62042428]\n"
     ]
    }
   ],
   "source": [
    "print(tfidf_train_vector.shape)\n",
    "print(tfidf_train_vector[0])"
   ]
  },
  {
   "cell_type": "code",
   "execution_count": 40,
   "metadata": {},
   "outputs": [
    {
     "name": "stderr",
     "output_type": "stream",
     "text": [
      "100%|██████████| 81930/81930 [00:18<00:00, 4337.06it/s]\n"
     ]
    }
   ],
   "source": [
    "tfidf_cv_vector = []                            # Average w2v for each review/sentence is stored in this array\n",
    "for sentence in tqdm(sentence_list_cv):         # For each sentence/review\n",
    "    sentence_vector = np.zeros(50)              # As word vectors are of zero length\n",
    "    weight_sum = 0                              # Num of words with a valid vector in a sentence/review\n",
    "    for word in sentence:\n",
    "        try:\n",
    "            vect = w2v_train_model.wv[word]\n",
    "            tfidf_weight = dictionary[word]*(sentence.count(word)/len(sentence))\n",
    "            sentence_vector += (vect*tfidf_weight)\n",
    "            weight_sum += tfidf_weight\n",
    "        except:\n",
    "            pass\n",
    "    if weight_sum != 0:\n",
    "        sentence_vector /= weight_sum\n",
    "    tfidf_cv_vector.append(sentence_vector)\n",
    "tfidf_cv_vector = np.array(tfidf_cv_vector)"
   ]
  },
  {
   "cell_type": "code",
   "execution_count": 41,
   "metadata": {},
   "outputs": [
    {
     "name": "stdout",
     "output_type": "stream",
     "text": [
      "(81930, 50)\n",
      "[ 0.39622486 -1.43840692  1.16705507 -0.09464913  0.10150591 -1.54523562\n",
      " -1.06084564  0.90750107  1.46738764  0.16077546 -0.05268383  0.91406421\n",
      "  1.61333337 -0.21232851 -0.77209839 -0.43597765 -0.27781404 -0.21982855\n",
      " -0.15249143 -0.95143719  1.03395161  0.38359129  0.28819038 -1.48275908\n",
      " -0.77180402 -0.76586546  0.44995828 -0.13309167  0.87639938  1.0116146\n",
      " -0.54756909 -1.43776667 -0.78284426  0.36726026 -0.46815196 -0.93403563\n",
      " -0.03948464  0.67418559  0.11982913  0.28138699 -0.90197483  0.66408179\n",
      "  1.51381031 -0.35717887  1.04718196  0.77251486 -0.98466935 -0.36033055\n",
      "  1.39853943 -0.21824931]\n"
     ]
    }
   ],
   "source": [
    "print(tfidf_cv_vector.shape)\n",
    "print(tfidf_cv_vector[0])"
   ]
  },
  {
   "cell_type": "code",
   "execution_count": 42,
   "metadata": {},
   "outputs": [
    {
     "name": "stderr",
     "output_type": "stream",
     "text": [
      "100%|██████████| 91033/91033 [00:20<00:00, 4376.25it/s]\n"
     ]
    }
   ],
   "source": [
    "tfidf_test_vector = []                          # Average w2v for each review/sentence is stored in this array\n",
    "for sentence in tqdm(sentence_list_test):       # For each sentence/review\n",
    "    sentence_vector = np.zeros(50)              # As word vectors are of zero length\n",
    "    weight_sum = 0                              # Num of words with a valid vector in a sentence/review\n",
    "    for word in sentence:\n",
    "        try:\n",
    "            vect = w2v_train_model.wv[word]\n",
    "            tfidf_weight = dictionary[word]*(sentence.count(word)/len(sentence))\n",
    "            sentence_vector += (vect*tfidf_weight)\n",
    "            weight_sum += tfidf_weight\n",
    "        except:\n",
    "            pass\n",
    "    if weight_sum != 0:\n",
    "        sentence_vector /= weight_sum\n",
    "    tfidf_test_vector.append(sentence_vector)\n",
    "tfidf_test_vector = np.array(tfidf_test_vector)"
   ]
  },
  {
   "cell_type": "code",
   "execution_count": 43,
   "metadata": {},
   "outputs": [
    {
     "name": "stdout",
     "output_type": "stream",
     "text": [
      "(91033, 50)\n",
      "[-0.6788895  -0.28729244  0.96102541 -0.45665035  0.33345471 -0.17194128\n",
      " -0.54122298  0.86410863  0.68896058 -0.76865769 -0.71778557  1.04069566\n",
      "  0.75939315 -0.33014691 -0.35372607 -1.50317652 -1.02462211  0.14347505\n",
      "  0.96344743  0.34569375  0.39337927  0.17487568  0.45579708 -0.75526061\n",
      "  0.86128301 -0.60842021  0.37879925 -0.49773199  0.75346648  1.1385598\n",
      "  0.51965783 -1.08840326 -0.64084349  1.07072618 -0.90068185 -0.6875844\n",
      "  0.11903791 -1.01042391  0.93471752  0.73059284  0.7646278   0.37432319\n",
      "  1.13540191  0.12479639 -0.12112609  0.68597869 -0.29120354  0.01706832\n",
      "  0.63441466  1.14144942]\n"
     ]
    }
   ],
   "source": [
    "print(tfidf_test_vector.shape)\n",
    "print(tfidf_test_vector[0])"
   ]
  },
  {
   "cell_type": "code",
   "execution_count": 44,
   "metadata": {},
   "outputs": [],
   "source": [
    "x_train_tfidfw2v = tfidf_train_vector\n",
    "x_cv_tfidfw2v = tfidf_cv_vector\n",
    "x_test_tfidfw2v = tfidf_test_vector"
   ]
  },
  {
   "cell_type": "code",
   "execution_count": 45,
   "metadata": {},
   "outputs": [
    {
     "name": "stdout",
     "output_type": "stream",
     "text": [
      "The shape of the training data is: (191168, 50) (191168,)\n",
      "The shape of the CV data is: (81930, 50) (81930,)\n",
      "The shape of the test data is: (91033, 50) (91033,)\n"
     ]
    }
   ],
   "source": [
    "print(\"The shape of the training data is:\", x_train_tfidfw2v.shape, y_train.shape)\n",
    "print(\"The shape of the CV data is:\", x_cv_tfidfw2v.shape, y_cv.shape)\n",
    "print(\"The shape of the test data is:\", x_test_tfidfw2v.shape, y_test.shape)"
   ]
  },
  {
   "cell_type": "markdown",
   "metadata": {},
   "source": [
    "# 6. Applying KNN Brute Force on Our Model"
   ]
  },
  {
   "cell_type": "markdown",
   "metadata": {},
   "source": [
    "### 6.1 Bag of Words (BoW)"
   ]
  },
  {
   "cell_type": "markdown",
   "metadata": {},
   "source": [
    "##### 6.1.1 BoW KNN Brute Force on Train Data"
   ]
  },
  {
   "cell_type": "code",
   "execution_count": 33,
   "metadata": {},
   "outputs": [
    {
     "name": "stdout",
     "output_type": "stream",
     "text": [
      "FOR K = 2\n",
      "The accuracy of the model is: 17.966556816794824\n",
      "The f1_score of the model is: 16.55390703402162\n",
      "The precision_score of the model is: 52.07945851493865\n",
      "The recall_score of the model is: 50.4262316559973\n",
      "========================================================================================================================\n",
      "FOR K = 4\n",
      "The accuracy of the model is: 70.5883070914195\n",
      "The f1_score of the model is: 50.51809166624709\n",
      "The precision_score of the model is: 50.64007096640525\n",
      "The recall_score of the model is: 50.78313050051708\n",
      "========================================================================================================================\n",
      "FOR K = 6\n",
      "The accuracy of the model is: 84.12181130233127\n",
      "The f1_score of the model is: 47.204062741284716\n",
      "The precision_score of the model is: 64.55145626155593\n",
      "The recall_score of the model is: 50.607418303078035\n",
      "========================================================================================================================\n",
      "FOR K = 8\n",
      "The accuracy of the model is: 84.19382399609422\n",
      "The f1_score of the model is: 46.10474958923592\n",
      "The precision_score of the model is: 70.06996992842184\n",
      "The recall_score of the model is: 50.17087830645295\n",
      "========================================================================================================================\n",
      "FOR K = 10\n",
      "The accuracy of the model is: 84.1950445502258\n",
      "The f1_score of the model is: 45.99173088099145\n",
      "The precision_score of the model is: 71.94551575549626\n",
      "The recall_score of the model is: 50.12461181527399\n",
      "========================================================================================================================\n",
      "FOR K = 12\n",
      "The accuracy of the model is: 84.19382399609422\n",
      "The f1_score of the model is: 45.90785347100847\n",
      "The precision_score of the model is: 73.80943091019402\n",
      "The recall_score of the model is: 50.089426451867894\n",
      "========================================================================================================================\n",
      "FOR K = 14\n",
      "The accuracy of the model is: 84.1950445502258\n",
      "The f1_score of the model is: 45.87779364282375\n",
      "The precision_score of the model is: 76.47553969571906\n",
      "The recall_score of the model is: 50.0776203607057\n",
      "========================================================================================================================\n",
      "FOR K = 16\n",
      "The accuracy of the model is: 84.19748565848896\n",
      "The f1_score of the model is: 45.86330533120218\n",
      "The precision_score of the model is: 80.56143590244488\n",
      "The recall_score of the model is: 50.07280476020862\n",
      "========================================================================================================================\n",
      "FOR K = 18\n",
      "The accuracy of the model is: 84.19870621262054\n",
      "The f1_score of the model is: 45.84080635515607\n",
      "The precision_score of the model is: 86.83558342205822\n",
      "The recall_score of the model is: 50.06413143268431\n",
      "========================================================================================================================\n",
      "FOR K = 20\n",
      "The accuracy of the model is: 84.19138288783108\n",
      "The f1_score of the model is: 45.80043950438763\n",
      "The precision_score of the model is: 82.09607519990234\n",
      "The recall_score of the model is: 50.04411783415878\n",
      "========================================================================================================================\n",
      "FOR K = 22\n",
      "The accuracy of the model is: 84.1901623336995\n",
      "The f1_score of the model is: 45.78479821777709\n",
      "The precision_score of the model is: 83.76181059107888\n",
      "The recall_score of the model is: 50.03712734349366\n",
      "========================================================================================================================\n",
      "FOR K = 24\n",
      "The accuracy of the model is: 84.18650067130477\n",
      "The f1_score of the model is: 45.76077698434163\n",
      "The precision_score of the model is: 80.9824912619068\n",
      "The recall_score of the model is: 50.02555416241196\n",
      "========================================================================================================================\n"
     ]
    },
    {
     "data": {
      "image/png": "[encoded data removed]",
      "text/plain": [
       "<Figure size 432x288 with 1 Axes>"
      ]
     },
     "metadata": {
      "needs_background": "light"
     },
     "output_type": "display_data"
    }
   ],
   "source": [
    "# Find the optimal value of K\n",
    "# This may take several minutes(even hour/s) to run\n",
    "\n",
    "knn_train(x_train_bow, x_cv_bow, y_train, y_cv, algo='brute')"
   ]
  },
  {
   "cell_type": "markdown",
   "metadata": {},
   "source": [
    "##### 6.1.2 BoW KNN Brute Force on Test Data"
   ]
  },
  {
   "cell_type": "code",
   "execution_count": 41,
   "metadata": {},
   "outputs": [
    {
     "name": "stdout",
     "output_type": "stream",
     "text": [
      "The accuracy of the model is: 84.32875990025596\n",
      "The macro f1_score of the model is: 45.84633982647454\n",
      "The micro f1_score of the model is: 84.32875990025596\n",
      "The precision_score of the model is: 73.98506274466324\n",
      "The recall_score of the model is: 50.043836105667914\n",
      "The precision recall report for data:\n",
      "               precision    recall  f1-score   support\n",
      "\n",
      "    Negative       0.64      0.00      0.00     14272\n",
      "    Positive       0.84      1.00      0.91     76761\n",
      "\n",
      "    accuracy                           0.84     91033\n",
      "   macro avg       0.74      0.50      0.46     91033\n",
      "weighted avg       0.81      0.84      0.77     91033\n",
      "\n"
     ]
    },
    {
     "data": {
      "image/png": "[encoded data removed]",
      "text/plain": [
       "<Figure size 432x288 with 2 Axes>"
      ]
     },
     "metadata": {
      "needs_background": "light"
     },
     "output_type": "display_data"
    }
   ],
   "source": [
    "# Testing the final model\n",
    "\n",
    "knn_test(x_train_bow, y_train, x_test_bow, y_test, algo='brute', optimal_k=18)"
   ]
  },
  {
   "cell_type": "markdown",
   "metadata": {},
   "source": [
    "### 6.2 Term Frequency - Inverse Document Frequency (tf-idf)"
   ]
  },
  {
   "cell_type": "markdown",
   "metadata": {},
   "source": [
    "##### 6.2.1 TF-IDF KNN Brute Force on Train Data"
   ]
  },
  {
   "cell_type": "code",
   "execution_count": 33,
   "metadata": {},
   "outputs": [
    {
     "name": "stdout",
     "output_type": "stream",
     "text": [
      "FOR K = 2\n",
      "The accuracy of the model is: 84.65397290369829\n",
      "The f1_score of the model is: 47.21906685176988\n",
      "The precision_score of the model is: 84.54425296936958\n",
      "The recall_score of the model is: 50.679831531283234\n",
      "========================================================================================================================\n",
      "FOR K = 4\n",
      "The accuracy of the model is: 85.40583424874893\n",
      "The f1_score of the model is: 58.44503648151475\n",
      "The precision_score of the model is: 74.10447380893291\n",
      "The recall_score of the model is: 56.935799837915425\n",
      "========================================================================================================================\n",
      "FOR K = 6\n",
      "The accuracy of the model is: 85.9160258757476\n",
      "The f1_score of the model is: 59.36443318112903\n",
      "The precision_score of the model is: 78.14917554192029\n",
      "The recall_score of the model is: 57.532975186835976\n",
      "========================================================================================================================\n",
      "FOR K = 8\n",
      "The accuracy of the model is: 86.14915171487856\n",
      "The f1_score of the model is: 59.41422882506057\n",
      "The precision_score of the model is: 80.88568665667218\n",
      "The recall_score of the model is: 57.545819805671464\n",
      "========================================================================================================================\n",
      "FOR K = 10\n",
      "The accuracy of the model is: 86.19309166361529\n",
      "The f1_score of the model is: 59.05734798487159\n",
      "The precision_score of the model is: 82.23416559176793\n",
      "The recall_score of the model is: 57.30229658803959\n",
      "========================================================================================================================\n",
      "FOR K = 12\n",
      "The accuracy of the model is: 86.21994385450995\n",
      "The f1_score of the model is: 58.68839682024417\n",
      "The precision_score of the model is: 83.54296831459725\n",
      "The recall_score of the model is: 57.058285465623534\n",
      "========================================================================================================================\n",
      "FOR K = 14\n",
      "The accuracy of the model is: 86.13938728182595\n",
      "The f1_score of the model is: 58.1617028423136\n",
      "The precision_score of the model is: 83.54152169376894\n",
      "The recall_score of the model is: 56.721822350519204\n",
      "========================================================================================================================\n",
      "FOR K = 16\n",
      "The accuracy of the model is: 86.1271817405102\n",
      "The f1_score of the model is: 57.85034596218559\n",
      "The precision_score of the model is: 84.18507527972785\n",
      "The recall_score of the model is: 56.52528487479527\n",
      "========================================================================================================================\n",
      "FOR K = 18\n",
      "The accuracy of the model is: 86.1369461735628\n",
      "The f1_score of the model is: 57.71037401197202\n",
      "The precision_score of the model is: 84.79083035088472\n",
      "The recall_score of the model is: 56.43801205670997\n",
      "========================================================================================================================\n",
      "FOR K = 20\n",
      "The accuracy of the model is: 86.11131453679971\n",
      "The f1_score of the model is: 57.44240719257242\n",
      "The precision_score of the model is: 85.12031075224951\n",
      "The recall_score of the model is: 56.27203224505578\n",
      "========================================================================================================================\n",
      "FOR K = 22\n",
      "The accuracy of the model is: 86.075918466984\n",
      "The f1_score of the model is: 57.11528726158448\n",
      "The precision_score of the model is: 85.45856698992847\n",
      "The recall_score of the model is: 56.071394721969185\n",
      "========================================================================================================================\n",
      "FOR K = 24\n",
      "The accuracy of the model is: 86.02709630172099\n",
      "The f1_score of the model is: 56.734887544642376\n",
      "The precision_score of the model is: 85.7032258161291\n",
      "The recall_score of the model is: 55.840349598193484\n",
      "========================================================================================================================\n"
     ]
    },
    {
     "data": {
      "image/png": "[encoded data removed]",
      "text/plain": [
       "<Figure size 432x288 with 1 Axes>"
      ]
     },
     "metadata": {
      "needs_background": "light"
     },
     "output_type": "display_data"
    }
   ],
   "source": [
    "# Find the optimal value of K\n",
    "# This may take several minutes(even hour/s) to run\n",
    "\n",
    "knn_train(x_train_tfidf, x_cv_tfidf, y_train, y_cv, algo='brute')"
   ]
  },
  {
   "cell_type": "markdown",
   "metadata": {},
   "source": [
    "##### 6.2.2 TF-IDF KNN Brute Force on Test Data"
   ]
  },
  {
   "cell_type": "code",
   "execution_count": 34,
   "metadata": {},
   "outputs": [
    {
     "name": "stdout",
     "output_type": "stream",
     "text": [
      "The accuracy of the model is: 86.0676897388859\n",
      "The macro f1_score of the model is: 58.72234766583724\n",
      "The micro f1_score of the model is: 86.0676897388859\n",
      "The precision_score of the model is: 83.98849962108666\n",
      "The recall_score of the model is: 57.112345123169085\n",
      "The precision recall report for data:\n",
      "               precision    recall  f1-score   support\n",
      "\n",
      "    Negative       0.82      0.15      0.25     14337\n",
      "    Positive       0.86      0.99      0.92     76696\n",
      "\n",
      "    accuracy                           0.86     91033\n",
      "   macro avg       0.84      0.57      0.59     91033\n",
      "weighted avg       0.85      0.86      0.82     91033\n",
      "\n"
     ]
    },
    {
     "data": {
      "image/png": "[encoded data removed]",
      "text/plain": [
       "<Figure size 432x288 with 2 Axes>"
      ]
     },
     "metadata": {
      "needs_background": "light"
     },
     "output_type": "display_data"
    }
   ],
   "source": [
    "# Testing the final model\n",
    "\n",
    "knn_test(x_train_tfidf, y_train, x_test_tfidf, y_test, algo='brute', optimal_k=12)"
   ]
  },
  {
   "cell_type": "markdown",
   "metadata": {},
   "source": [
    "### 6.3 Average Word2Vec"
   ]
  },
  {
   "cell_type": "markdown",
   "metadata": {},
   "source": [
    "##### 6.3.1 Avg W2V KNN Brute Force on Train Data"
   ]
  },
  {
   "cell_type": "code",
   "execution_count": 49,
   "metadata": {},
   "outputs": [
    {
     "name": "stdout",
     "output_type": "stream",
     "text": [
      "FOR K = 2\n",
      "The accuracy of the model is: 81.84547784694252\n",
      "The f1_score of the model is: 70.45003859713259\n",
      "The precision_score of the model is: 68.49759635697535\n",
      "The recall_score of the model is: 74.1074481845198\n",
      "========================================================================================================================\n",
      "FOR K = 4\n",
      "The accuracy of the model is: 86.760649334798\n",
      "The f1_score of the model is: 73.95664984743577\n",
      "The precision_score of the model is: 75.06293974088554\n",
      "The recall_score of the model is: 73.00803744471519\n",
      "========================================================================================================================\n",
      "FOR K = 6\n",
      "The accuracy of the model is: 88.02636396924204\n",
      "The f1_score of the model is: 74.48358428693248\n",
      "The precision_score of the model is: 78.59480407955321\n",
      "The recall_score of the model is: 71.85710733129395\n",
      "========================================================================================================================\n",
      "FOR K = 8\n",
      "The accuracy of the model is: 88.34614915171488\n",
      "The f1_score of the model is: 74.03033361263857\n",
      "The precision_score of the model is: 80.30029866265394\n",
      "The recall_score of the model is: 70.65680002826643\n",
      "========================================================================================================================\n",
      "FOR K = 10\n",
      "The accuracy of the model is: 88.52068839253022\n",
      "The f1_score of the model is: 73.73353836898582\n",
      "The precision_score of the model is: 81.50347469537765\n",
      "The recall_score of the model is: 69.97056155331089\n",
      "========================================================================================================================\n",
      "FOR K = 12\n",
      "The accuracy of the model is: 88.53899670450384\n",
      "The f1_score of the model is: 73.31881685813974\n",
      "The precision_score of the model is: 82.10094804779473\n",
      "The recall_score of the model is: 69.36223460435397\n",
      "========================================================================================================================\n",
      "FOR K = 14\n",
      "The accuracy of the model is: 88.63419992676675\n",
      "The f1_score of the model is: 73.22018902895148\n",
      "The precision_score of the model is: 82.82551005338523\n",
      "The recall_score of the model is: 69.10279989152296\n",
      "========================================================================================================================\n",
      "FOR K = 16\n",
      "The accuracy of the model is: 88.57317222018797\n",
      "The f1_score of the model is: 72.65519149777214\n",
      "The precision_score of the model is: 83.21996373902738\n",
      "The recall_score of the model is: 68.43161271386109\n",
      "========================================================================================================================\n",
      "FOR K = 18\n",
      "The accuracy of the model is: 88.54265836689858\n",
      "The f1_score of the model is: 72.35637062634528\n",
      "The precision_score of the model is: 83.4517115217789\n",
      "The recall_score of the model is: 68.08496219620497\n",
      "========================================================================================================================\n",
      "FOR K = 20\n",
      "The accuracy of the model is: 88.47430733553033\n",
      "The f1_score of the model is: 71.97645896760751\n",
      "The precision_score of the model is: 83.53932011653083\n",
      "The recall_score of the model is: 67.68743337433209\n",
      "========================================================================================================================\n",
      "FOR K = 22\n",
      "The accuracy of the model is: 88.43158794092518\n",
      "The f1_score of the model is: 71.65674822173168\n",
      "The precision_score of the model is: 83.723562919035\n",
      "The recall_score of the model is: 67.34301951407156\n",
      "========================================================================================================================\n",
      "FOR K = 24\n",
      "The accuracy of the model is: 88.4108385206884\n",
      "The f1_score of the model is: 71.40967179667156\n",
      "The precision_score of the model is: 83.96484235232901\n",
      "The recall_score of the model is: 67.06850313750161\n",
      "========================================================================================================================\n"
     ]
    },
    {
     "data": {
      "image/png": "[encoded data removed]",
      "text/plain": [
       "<Figure size 432x288 with 1 Axes>"
      ]
     },
     "metadata": {
      "needs_background": "light"
     },
     "output_type": "display_data"
    }
   ],
   "source": [
    "# Find the optimal value of K\n",
    "# This may take several minutes(even hour/s) to run\n",
    "\n",
    "knn_train(x_train_avgw2v, x_cv_avgw2v, y_train, y_cv, algo='brute')"
   ]
  },
  {
   "cell_type": "markdown",
   "metadata": {},
   "source": [
    "##### 6.3.2 Avg W2V KNN Brute Force on Test Data"
   ]
  },
  {
   "cell_type": "code",
   "execution_count": 50,
   "metadata": {},
   "outputs": [
    {
     "name": "stdout",
     "output_type": "stream",
     "text": [
      "The accuracy of the model is: 88.81394659079675\n",
      "The macro f1_score of the model is: 73.72023421612728\n",
      "The micro f1_score of the model is: 88.81394659079675\n",
      "The precision_score of the model is: 83.32099730189277\n",
      "The recall_score of the model is: 69.54314754143651\n",
      "The precision recall report for data:\n",
      "               precision    recall  f1-score   support\n",
      "\n",
      "    Negative       0.77      0.41      0.54     14312\n",
      "    Positive       0.90      0.98      0.94     76721\n",
      "\n",
      "    accuracy                           0.89     91033\n",
      "   macro avg       0.83      0.70      0.74     91033\n",
      "weighted avg       0.88      0.89      0.87     91033\n",
      "\n"
     ]
    },
    {
     "data": {
      "image/png": "[encoded data removed]",
      "text/plain": [
       "<Figure size 432x288 with 2 Axes>"
      ]
     },
     "metadata": {
      "needs_background": "light"
     },
     "output_type": "display_data"
    }
   ],
   "source": [
    "# Testing the final model\n",
    "\n",
    "knn_test(x_train_avgw2v, y_train, x_test_avgw2v, y_test, algo='brute', optimal_k=14)"
   ]
  },
  {
   "cell_type": "markdown",
   "metadata": {},
   "source": [
    "### 6.4 TF-IDF Weighed Word2Vec"
   ]
  },
  {
   "cell_type": "markdown",
   "metadata": {},
   "source": [
    "##### 6.4.1 TF_IDF W2V KNN Brute Force on Train Data"
   ]
  },
  {
   "cell_type": "code",
   "execution_count": 53,
   "metadata": {},
   "outputs": [
    {
     "name": "stdout",
     "output_type": "stream",
     "text": [
      "FOR K = 2\n",
      "The accuracy of the model is: 77.042597339192\n",
      "The f1_score of the model is: 63.70237186887714\n",
      "The precision_score of the model is: 62.42854571647249\n",
      "The recall_score of the model is: 66.98115364997567\n",
      "========================================================================================================================\n",
      "FOR K = 4\n",
      "The accuracy of the model is: 83.45905040888564\n",
      "The f1_score of the model is: 66.5982247095232\n",
      "The precision_score of the model is: 67.93022360885297\n",
      "The recall_score of the model is: 65.58895000354859\n",
      "========================================================================================================================\n",
      "FOR K = 6\n",
      "The accuracy of the model is: 85.07262297082876\n",
      "The f1_score of the model is: 66.0780834872641\n",
      "The precision_score of the model is: 71.17678226966227\n",
      "The recall_score of the model is: 63.73504329898155\n",
      "========================================================================================================================\n",
      "FOR K = 8\n",
      "The accuracy of the model is: 85.63285731722202\n",
      "The f1_score of the model is: 65.11541250954697\n",
      "The precision_score of the model is: 73.27338144398901\n",
      "The recall_score of the model is: 62.380151733053836\n",
      "========================================================================================================================\n",
      "FOR K = 10\n",
      "The accuracy of the model is: 85.93921640424753\n",
      "The f1_score of the model is: 64.40407951927911\n",
      "The precision_score of the model is: 75.03368293277163\n",
      "The recall_score of the model is: 61.545756128286\n",
      "========================================================================================================================\n",
      "FOR K = 12\n",
      "The accuracy of the model is: 86.04662516782619\n",
      "The f1_score of the model is: 63.53439709091388\n",
      "The precision_score of the model is: 76.233667877933\n",
      "The recall_score of the model is: 60.72315142338351\n",
      "========================================================================================================================\n",
      "FOR K = 14\n",
      "The accuracy of the model is: 86.03808128890516\n",
      "The f1_score of the model is: 62.63421489118994\n",
      "The precision_score of the model is: 76.91356500378677\n",
      "The recall_score of the model is: 59.96789093770434\n",
      "========================================================================================================================\n",
      "FOR K = 16\n",
      "The accuracy of the model is: 86.06005126327354\n",
      "The f1_score of the model is: 62.02768241587844\n",
      "The precision_score of the model is: 77.68076402963582\n",
      "The recall_score of the model is: 59.47446072508404\n",
      "========================================================================================================================\n",
      "FOR K = 18\n",
      "The accuracy of the model is: 86.04052239716832\n",
      "The f1_score of the model is: 61.476304407254865\n",
      "The precision_score of the model is: 78.12407105053713\n",
      "The recall_score of the model is: 59.05138042299413\n",
      "========================================================================================================================\n",
      "FOR K = 20\n",
      "The accuracy of the model is: 86.01000854387893\n",
      "The f1_score of the model is: 61.00345839097544\n",
      "The precision_score of the model is: 78.41100705972444\n",
      "The recall_score of the model is: 58.70091969942357\n",
      "========================================================================================================================\n",
      "FOR K = 22\n",
      "The accuracy of the model is: 85.96850970340535\n",
      "The f1_score of the model is: 60.464922205217555\n",
      "The precision_score of the model is: 78.69719755444989\n",
      "The recall_score of the model is: 58.31229049123278\n",
      "========================================================================================================================\n",
      "FOR K = 24\n",
      "The accuracy of the model is: 85.95508360795802\n",
      "The f1_score of the model is: 60.053674198089944\n",
      "The precision_score of the model is: 79.13244723804638\n",
      "The recall_score of the model is: 58.0194444252756\n",
      "========================================================================================================================\n"
     ]
    },
    {
     "data": {
      "image/png": "[encoded data removed]",
      "text/plain": [
       "<Figure size 432x288 with 1 Axes>"
      ]
     },
     "metadata": {
      "needs_background": "light"
     },
     "output_type": "display_data"
    }
   ],
   "source": [
    "# Find the optimal value of K\n",
    "# This may take several minutes(even hour/s) to run\n",
    "\n",
    "knn_train(x_train_tfidfw2v, x_cv_tfidfw2v, y_train, y_cv, algo='brute')"
   ]
  },
  {
   "cell_type": "markdown",
   "metadata": {},
   "source": [
    "##### 6.4.2 TF_IDF W2V KNN Brute Force on Test Data"
   ]
  },
  {
   "cell_type": "code",
   "execution_count": 54,
   "metadata": {},
   "outputs": [
    {
     "name": "stdout",
     "output_type": "stream",
     "text": [
      "The accuracy of the model is: 85.9501499456241\n",
      "The macro f1_score of the model is: 63.221535731700264\n",
      "The micro f1_score of the model is: 85.9501499456241\n",
      "The precision_score of the model is: 76.08696562461792\n",
      "The recall_score of the model is: 60.48069276692581\n",
      "The precision recall report for data:\n",
      "               precision    recall  f1-score   support\n",
      "\n",
      "    Negative       0.65      0.23      0.34     14329\n",
      "    Positive       0.87      0.98      0.92     76704\n",
      "\n",
      "    accuracy                           0.86     91033\n",
      "   macro avg       0.76      0.60      0.63     91033\n",
      "weighted avg       0.84      0.86      0.83     91033\n",
      "\n"
     ]
    },
    {
     "data": {
      "image/png": "[encoded data removed]",
      "text/plain": [
       "<Figure size 432x288 with 2 Axes>"
      ]
     },
     "metadata": {
      "needs_background": "light"
     },
     "output_type": "display_data"
    }
   ],
   "source": [
    "# Testing the final model\n",
    "\n",
    "knn_test(x_train_tfidfw2v, y_train, x_test_tfidfw2v, y_test, algo='brute', optimal_k=12)"
   ]
  },
  {
   "cell_type": "markdown",
   "metadata": {},
   "source": [
    "# 7. Applying KNN KD - Tree on Our Model"
   ]
  },
  {
   "cell_type": "code",
   "execution_count": 46,
   "metadata": {},
   "outputs": [],
   "source": [
    "from sklearn.decomposition import TruncatedSVD"
   ]
  },
  {
   "cell_type": "markdown",
   "metadata": {},
   "source": [
    "### 7.1 Bag of Words (BoW)"
   ]
  },
  {
   "cell_type": "markdown",
   "metadata": {},
   "source": [
    "##### 7.1.1 BoW KNN KD Tree on Train Data"
   ]
  },
  {
   "cell_type": "code",
   "execution_count": 34,
   "metadata": {},
   "outputs": [],
   "source": [
    "# KD_Tree algorithm does not work well with sparse metrix.\n",
    "# So, to make the metrix dense(i.e. to reduce dimension of the metrix) we use TruncatedSVD.\n",
    "# Here we are using TruncatedSVD with 1000 features.\n",
    "# This may take several minutes to run\n",
    "\n",
    "tsvd = TruncatedSVD(n_components=1000)\n",
    "\n",
    "x_train_bow = tsvd.fit_transform(x_train_bow)\n",
    "x_cv_bow = tsvd.fit_transform(x_cv_bow)\n",
    "x_test_bow = tsvd.fit_transform(x_test_bow)"
   ]
  },
  {
   "cell_type": "code",
   "execution_count": 35,
   "metadata": {},
   "outputs": [
    {
     "name": "stdout",
     "output_type": "stream",
     "text": [
      "The shape of the training data is: (191168, 1000) (191168,)\n",
      "The shape of the CV data is: (81930, 1000) (81930,)\n",
      "The shape of the test data is: (91033, 1000) (91033,)\n"
     ]
    }
   ],
   "source": [
    "print(\"The shape of the training data is:\", x_train_bow.shape, y_train.shape)\n",
    "print(\"The shape of the CV data is:\", x_cv_bow.shape, y_cv.shape)\n",
    "print(\"The shape of the test data is:\", x_test_bow.shape, y_test.shape)"
   ]
  },
  {
   "cell_type": "code",
   "execution_count": 37,
   "metadata": {},
   "outputs": [
    {
     "data": {
      "text/plain": [
       "Text(0, 0.5, 'Cumulative Explained Variance')"
      ]
     },
     "execution_count": 37,
     "metadata": {},
     "output_type": "execute_result"
    },
    {
     "data": {
      "image/png": "[encoded data removed]",
      "text/plain": [
       "<Figure size 432x288 with 1 Axes>"
      ]
     },
     "metadata": {
      "needs_background": "light"
     },
     "output_type": "display_data"
    }
   ],
   "source": [
    "tsvd_plot = TruncatedSVD(n_components=999).fit(x_train_bow)\n",
    "plt.plot(np.cumsum(tsvd_plot.explained_variance_ratio_))\n",
    "plt.xlim(0, 999, 10)\n",
    "plt.xlabel('Number of Components/Features')\n",
    "plt.ylabel('Cumulative Explained Variance')"
   ]
  },
  {
   "cell_type": "code",
   "execution_count": null,
   "metadata": {},
   "outputs": [],
   "source": [
    "# Find the optimal value of K\n",
    "# This may take several minutes(even hour/s) to run\n",
    "\n",
    "knn_train(x_train_bow, x_cv_bow, y_train, y_cv, algo='kd_tree')"
   ]
  },
  {
   "cell_type": "markdown",
   "metadata": {},
   "source": [
    "This cell was left unexecuted because it took quite long to execute in my machine. However, the code is completely good to go with."
   ]
  },
  {
   "cell_type": "markdown",
   "metadata": {},
   "source": [
    "##### 7.1.2 BoW KNN KD Tree on Test Data"
   ]
  },
  {
   "cell_type": "code",
   "execution_count": null,
   "metadata": {},
   "outputs": [],
   "source": [
    "# Testing the final model\n",
    "\n",
    "knn_test(x_train_bow, y_train, x_test_bow, y_test, algo='kd_tree', optimal_k=k)"
   ]
  },
  {
   "cell_type": "markdown",
   "metadata": {},
   "source": [
    "This cell was left unexecuted because it took quite long to execute in my machine. However, the code is completely good to go with."
   ]
  },
  {
   "cell_type": "markdown",
   "metadata": {},
   "source": [
    "### 7.2 Term Frequency - Inverse Document Frequency (TF-IDF)"
   ]
  },
  {
   "cell_type": "markdown",
   "metadata": {},
   "source": [
    "##### 7.2.1 TF-IDF KNN KD Tree on Train Data"
   ]
  },
  {
   "cell_type": "code",
   "execution_count": 34,
   "metadata": {},
   "outputs": [
    {
     "data": {
      "text/plain": [
       "Text(0, 0.5, 'Cumulative Explained Variance')"
      ]
     },
     "execution_count": 34,
     "metadata": {},
     "output_type": "execute_result"
    },
    {
     "data": {
      "image/png": "[encoded data removed]",
      "text/plain": [
       "<Figure size 432x288 with 1 Axes>"
      ]
     },
     "metadata": {
      "needs_background": "light"
     },
     "output_type": "display_data"
    }
   ],
   "source": [
    "tsvd_plot = TruncatedSVD(n_components=999).fit(x_train_tfidf)\n",
    "plt.plot(np.cumsum(tsvd_plot.explained_variance_ratio_))\n",
    "plt.xlim(0, 999, 10)\n",
    "plt.xlabel('Number of Components/Features')\n",
    "plt.ylabel('Cumulative Explained Variance')"
   ]
  },
  {
   "cell_type": "code",
   "execution_count": 35,
   "metadata": {},
   "outputs": [],
   "source": [
    "tsvd = TruncatedSVD(n_components=1000)"
   ]
  },
  {
   "cell_type": "code",
   "execution_count": 36,
   "metadata": {},
   "outputs": [],
   "source": [
    "# KD_Tree algorithm does not work well with sparse metrix.\n",
    "# So, to make the metrix dense(i.e. to reduce dimension of the metrix) we use TruncatedSVD.\n",
    "# Here we are using TruncatedSVD with 1000 features.\n",
    "\n",
    "x_train_tfidf = tsvd.fit_transform(x_train_tfidf)\n",
    "x_cv_tfidf = tsvd.fit_transform(x_cv_tfidf)\n",
    "x_test_tfidf = tsvd.fit_transform(x_test_tfidf)"
   ]
  },
  {
   "cell_type": "code",
   "execution_count": 37,
   "metadata": {},
   "outputs": [
    {
     "name": "stdout",
     "output_type": "stream",
     "text": [
      "The shape of the training data is: (191168, 1000) (191168,)\n",
      "The shape of the CV data is: (81930, 1000) (81930,)\n",
      "The shape of the test data is: (91033, 1000) (91033,)\n"
     ]
    }
   ],
   "source": [
    "print(\"The shape of the training data is:\", x_train_tfidf.shape, y_train.shape)\n",
    "print(\"The shape of the CV data is:\", x_cv_tfidf.shape, y_cv.shape)\n",
    "print(\"The shape of the test data is:\", x_test_tfidf.shape, y_test.shape)"
   ]
  },
  {
   "cell_type": "code",
   "execution_count": null,
   "metadata": {},
   "outputs": [],
   "source": [
    "# Find the optimal value of K\n",
    "# This may take several minutes(even hour/s) to run\n",
    "\n",
    "knn_train(x_train_tfidf, x_cv_tfidf, y_train, y_cv, algo='kd_tree')"
   ]
  },
  {
   "cell_type": "markdown",
   "metadata": {},
   "source": [
    "This cell was left unexecuted because it took quite long to execute in my machine. However, the code is completely good to go with."
   ]
  },
  {
   "cell_type": "markdown",
   "metadata": {},
   "source": [
    "##### 7.2.2 TF-IDF KNN KD Tree on Test Data"
   ]
  },
  {
   "cell_type": "code",
   "execution_count": null,
   "metadata": {},
   "outputs": [],
   "source": [
    "# Testing the final model\n",
    "\n",
    "knn_test(x_train_tfidf, y_train, x_test_tfidf, y_test, algo='kd_tree', optimal_k=k)"
   ]
  },
  {
   "cell_type": "markdown",
   "metadata": {},
   "source": [
    "This cell was left unexecuted because it took quite long to execute in my machine. However, the code is completely good to go with."
   ]
  },
  {
   "cell_type": "markdown",
   "metadata": {},
   "source": [
    "### 7.3 Average Word2Vec"
   ]
  },
  {
   "cell_type": "markdown",
   "metadata": {},
   "source": [
    "##### 7.3.1 Avg W2V KNN KD Tree on Train Data"
   ]
  },
  {
   "cell_type": "code",
   "execution_count": 48,
   "metadata": {},
   "outputs": [
    {
     "data": {
      "text/plain": [
       "Text(0, 0.5, 'Cumulative Explained Variance')"
      ]
     },
     "execution_count": 48,
     "metadata": {},
     "output_type": "execute_result"
    },
    {
     "data": {
      "image/png": "[encoded data removed]",
      "text/plain": [
       "<Figure size 432x288 with 1 Axes>"
      ]
     },
     "metadata": {
      "needs_background": "light"
     },
     "output_type": "display_data"
    }
   ],
   "source": [
    "tsvd_plot = TruncatedSVD(n_components=49).fit(x_train_avgw2v)\n",
    "plt.plot(np.cumsum(tsvd_plot.explained_variance_ratio_))\n",
    "plt.xlim(0, 49, 10)\n",
    "plt.xlabel('Number of Components/Features')\n",
    "plt.ylabel('Cumulative Explained Variance')"
   ]
  },
  {
   "cell_type": "code",
   "execution_count": 52,
   "metadata": {},
   "outputs": [],
   "source": [
    "tsvd = TruncatedSVD(n_components=49)"
   ]
  },
  {
   "cell_type": "code",
   "execution_count": 53,
   "metadata": {},
   "outputs": [],
   "source": [
    "# KD_Tree algorithm does not work well with sparse metrix.\n",
    "# So, to make the metrix dense(i.e. to reduce dimension of the metrix) we use TruncatedSVD.\n",
    "# Here we are using TruncatedSVD with 1000 features.\n",
    "\n",
    "x_train_avgw2v = tsvd.fit_transform(x_train_avgw2v)\n",
    "x_cv_avgw2v = tsvd.fit_transform(x_cv_avgw2v)\n",
    "x_test_avgw2v = tsvd.fit_transform(x_test_avgw2v)"
   ]
  },
  {
   "cell_type": "code",
   "execution_count": 54,
   "metadata": {},
   "outputs": [
    {
     "name": "stdout",
     "output_type": "stream",
     "text": [
      "The shape of the training data is: (191168, 49) (191168,)\n",
      "The shape of the CV data is: (81930, 49) (81930,)\n",
      "The shape of the test data is: (91033, 49) (91033,)\n"
     ]
    }
   ],
   "source": [
    "print(\"The shape of the training data is:\", x_train_avgw2v.shape, y_train.shape)\n",
    "print(\"The shape of the CV data is:\", x_cv_avgw2v.shape, y_cv.shape)\n",
    "print(\"The shape of the test data is:\", x_test_avgw2v.shape, y_test.shape)"
   ]
  },
  {
   "cell_type": "code",
   "execution_count": null,
   "metadata": {},
   "outputs": [],
   "source": [
    "# Find the optimal value of K\n",
    "# This may take several minutes(even hour/s) to run\n",
    "\n",
    "knn_train(x_train_avgw2v, x_cv_avgw2v, y_train, y_cv, algo='kd_tree')"
   ]
  },
  {
   "cell_type": "markdown",
   "metadata": {},
   "source": [
    "This cell was left unexecuted because it took quite long to execute in my machine. However, the code is completely good to go with."
   ]
  },
  {
   "cell_type": "markdown",
   "metadata": {},
   "source": [
    "##### 7.3.2 Avg W2V KNN KD Tree on Test Data"
   ]
  },
  {
   "cell_type": "code",
   "execution_count": null,
   "metadata": {},
   "outputs": [],
   "source": [
    "# Testing the final model\n",
    "\n",
    "knn_test(x_train_avgw2v, y_train, x_test_avgw2v, y_test, algo='kd_tree', optimal_k=k)"
   ]
  },
  {
   "cell_type": "markdown",
   "metadata": {},
   "source": [
    "This cell was left unexecuted because it took quite long to execute in my machine. However, the code is completely good to go with."
   ]
  },
  {
   "cell_type": "markdown",
   "metadata": {},
   "source": [
    "### 7.4 TF-IDF Weighed Word2Vec"
   ]
  },
  {
   "cell_type": "markdown",
   "metadata": {},
   "source": [
    "##### 7.4.1 TF-IDF Weighed W2V KNN KD Tree on Train Data"
   ]
  },
  {
   "cell_type": "code",
   "execution_count": 47,
   "metadata": {},
   "outputs": [
    {
     "data": {
      "text/plain": [
       "Text(0, 0.5, 'Cumulative Explained Variance')"
      ]
     },
     "execution_count": 47,
     "metadata": {},
     "output_type": "execute_result"
    },
    {
     "data": {
      "image/png": "[encoded data removed]",
      "text/plain": [
       "<Figure size 432x288 with 1 Axes>"
      ]
     },
     "metadata": {
      "needs_background": "light"
     },
     "output_type": "display_data"
    }
   ],
   "source": [
    "tsvd_plot = TruncatedSVD(n_components=49).fit(x_train_tfidfw2v)\n",
    "plt.plot(np.cumsum(tsvd_plot.explained_variance_ratio_))\n",
    "plt.xlim(0, 50, 5)\n",
    "plt.xlabel('Number of Components/Features')\n",
    "plt.ylabel('Cumulative Explained Variance')"
   ]
  },
  {
   "cell_type": "code",
   "execution_count": 48,
   "metadata": {},
   "outputs": [],
   "source": [
    "tsvd = TruncatedSVD(n_components=49)"
   ]
  },
  {
   "cell_type": "code",
   "execution_count": 49,
   "metadata": {},
   "outputs": [],
   "source": [
    "# KD_Tree algorithm does not work well with sparse metrix.\n",
    "# So, to make the metrix dense(i.e. to reduce dimension of the metrix) we use TruncatedSVD.\n",
    "# Here we are using TruncatedSVD with 1000 features.\n",
    "\n",
    "x_train_tfidfw2v = tsvd.fit_transform(x_train_tfidfw2v)\n",
    "x_cv_tfidfw2v = tsvd.fit_transform(x_cv_tfidfw2v)\n",
    "x_test_tfidfw2v = tsvd.fit_transform(x_test_tfidfw2v)"
   ]
  },
  {
   "cell_type": "code",
   "execution_count": 50,
   "metadata": {},
   "outputs": [
    {
     "name": "stdout",
     "output_type": "stream",
     "text": [
      "The shape of the training data is: (191168, 49) (191168,)\n",
      "The shape of the CV data is: (81930, 49) (81930,)\n",
      "The shape of the test data is: (91033, 49) (91033,)\n"
     ]
    }
   ],
   "source": [
    "print(\"The shape of the training data is:\", x_train_tfidfw2v.shape, y_train.shape)\n",
    "print(\"The shape of the CV data is:\", x_cv_tfidfw2v.shape, y_cv.shape)\n",
    "print(\"The shape of the test data is:\", x_test_tfidfw2v.shape, y_test.shape)"
   ]
  },
  {
   "cell_type": "code",
   "execution_count": null,
   "metadata": {},
   "outputs": [],
   "source": [
    "# Find the optimal value of K\n",
    "# This may take several minutes(even hour/s) to run\n",
    "\n",
    "knn_train(x_train_tfidfw2v, x_cv_tfidfw2v, y_train, y_cv, algo='kd_tree')"
   ]
  },
  {
   "cell_type": "markdown",
   "metadata": {},
   "source": [
    "This cell was left unexecuted because it took quite long to execute in my machine. However, the code is completely good to go with."
   ]
  },
  {
   "cell_type": "markdown",
   "metadata": {},
   "source": [
    "##### 7.4.2 TF-IDF Weighed W2V KNN KD Tree on Test Data"
   ]
  },
  {
   "cell_type": "code",
   "execution_count": null,
   "metadata": {},
   "outputs": [],
   "source": [
    "# Testing the final model\n",
    "\n",
    "knn_test(x_train_tfidfw2v, y_train, x_test_tfidfw2v, y_test, algo='kd_tree', optimal_k=k)"
   ]
  },
  {
   "cell_type": "markdown",
   "metadata": {},
   "source": [
    "This cell was left unexecuted because it took quite long to execute in my machine. However, the code is completely good to go with."
   ]
  },
  {
   "cell_type": "code",
   "execution_count": null,
   "metadata": {},
   "outputs": [],
   "source": []
  }
 ],
 "metadata": {
  "kernelspec": {
   "display_name": "Python 3.7 (Intel® oneAPI)",
   "language": "python",
   "name": "c009-intel_distribution_of_python_3_oneapi-beta05-python"
  },
  "language_info": {
   "codemirror_mode": {
    "name": "ipython",
    "version": 3
   },
   "file_extension": ".py",
   "mimetype": "text/x-python",
   "name": "python",
   "nbconvert_exporter": "python",
   "pygments_lexer": "ipython3",
   "version": "3.7.7"
  }
 },
 "nbformat": 4,
 "nbformat_minor": 4
}
